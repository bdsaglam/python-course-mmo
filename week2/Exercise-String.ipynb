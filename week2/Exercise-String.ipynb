{
 "cells": [
  {
   "cell_type": "markdown",
   "metadata": {},
   "source": [
    "#### Exercise\n",
    "\n",
    "Write a Python program that takes a word and converts it to a list with its characters with removing spaces if existing.\n",
    "\n",
    "Input: \"P yt hon\"   \n",
    "Expected result: ['P', 'y', 't', 'h', 'o', 'n']\n",
    "\n",
    "Do not use list(\"P yt hon\"), use for loop or list comprehension"
   ]
  },
  {
   "cell_type": "code",
   "execution_count": 3,
   "metadata": {},
   "outputs": [
    {
     "data": {
      "text/plain": [
       "['P', 'y', 't', 'h', 'o', 'n']"
      ]
     },
     "execution_count": 3,
     "metadata": {},
     "output_type": "execute_result"
    }
   ],
   "source": [
    "s = \"Python\"\n",
    "[c for c in s if c!=' ']"
   ]
  },
  {
   "cell_type": "markdown",
   "metadata": {},
   "source": [
    "#### Exercise\n",
    "Given a string, return a new string made of 3 copies of the last 2 chars of the original string. The string length will be at least 2.\n",
    "\n",
    "Input: \"Hello\"   \n",
    "Expected result: \"lololo\"\n",
    "\n",
    "Input: \"ab\"   \n",
    "Expected result: \"ababab\""
   ]
  },
  {
   "cell_type": "code",
   "execution_count": 4,
   "metadata": {},
   "outputs": [
    {
     "data": {
      "text/plain": [
       "'lololo'"
      ]
     },
     "execution_count": 4,
     "metadata": {},
     "output_type": "execute_result"
    }
   ],
   "source": [
    "s = \"Hello\"\n",
    "\n",
    "s[-2:]*3"
   ]
  },
  {
   "cell_type": "markdown",
   "metadata": {},
   "source": [
    "#### Exercise\n",
    "\n",
    "Given an \"out\" string having even number of characters, such as \"<<>>\", and a word, return a new string where the word is in the middle of the out string, e.g. \"<<word>>\".\n",
    "\n",
    "\n",
    "Input: \"##++\", \"python\"  \n",
    "Expected result: \"##python++\""
   ]
  },
  {
   "cell_type": "code",
   "execution_count": 9,
   "metadata": {},
   "outputs": [
    {
     "data": {
      "text/plain": [
       "'##python++'"
      ]
     },
     "execution_count": 9,
     "metadata": {},
     "output_type": "execute_result"
    }
   ],
   "source": [
    "s = \"python\"\n",
    "out = \"##++\"\n",
    "\n",
    "N = len(out)\n",
    "out[0:(N//2)] + s + out[-(N//2):] # or N//2"
   ]
  },
  {
   "cell_type": "markdown",
   "metadata": {},
   "source": [
    "#### Exercise\n",
    "Take a string and replace Turkish characters with Latin ones.\n",
    "\n",
    "turkish_characters = ['ç','ğ','ı', 'ö', 'ü', 'ş']   \n",
    "latin_characters = ['c', 'g', 'i', 'o', 'u', 's']\n",
    "\n",
    "Input: \"değişken\"\n",
    "Expected result: \"degisken\"\n",
    "\n",
    "Input: \"türkçe\"\n",
    "Expected result: \"turkce\"\n",
    "\n",
    "Hint: Iterate over two list of characters simultaneously and use str.replace one by one"
   ]
  },
  {
   "cell_type": "code",
   "execution_count": 10,
   "metadata": {},
   "outputs": [
    {
     "name": "stdout",
     "output_type": "stream",
     "text": [
      "degisken\n"
     ]
    }
   ],
   "source": [
    "turkish_characters = ['ç','ğ','ı', 'ö', 'ü', 'ş']\n",
    "latin_characters = ['c', 'g', 'i', 'o', 'u', 's']\n",
    "\n",
    "s = \"değişken\"\n",
    "for turc, latc in zip(turkish_characters, latin_characters):\n",
    "    s = s.replace(turc, latc)\n",
    "    \n",
    "print(s)"
   ]
  },
  {
   "cell_type": "markdown",
   "metadata": {},
   "source": [
    "#### Exercise\n",
    "\n",
    "Take a string and if it contains  \",\", then split it two new string according to index of last \",\"\n",
    "\n",
    "Input: \"Monty,Python\"   \n",
    "Expected result: \"Monty\", \"Python\"\n",
    "\n",
    "\n",
    "Input: \"Monty,Python,Flying,Circus\"   \n",
    "Expected result: \"Monty,Python,Flying\", \"Circus\""
   ]
  },
  {
   "cell_type": "code",
   "execution_count": 16,
   "metadata": {},
   "outputs": [
    {
     "name": "stdout",
     "output_type": "stream",
     "text": [
      "Monty,Python,Flying Circus\n"
     ]
    }
   ],
   "source": [
    "s = \"Monty,Python,Flying,Circus\"\n",
    "\n",
    "i = s.rfind(',')\n",
    "\n",
    "if i>-1:\n",
    "    print(s[:i], s[i+1:])#### Exercise\n",
    "Take a string consisting of multiple email adresses separated by space and extract all usernames.\n",
    "\n",
    "Input: emails = ['aliveli@gmail.com ahmetmehmet@gmail.com,crazy8@yahoo.com excalibur04@hotmail.com']   \n",
    "Expected result: \n",
    "\n",
    "\n",
    "emails = 'aliveli@gmail.com ahmetmehmet@gmail.com crazy8@yahoo.com excalibur02@hotmail.com'\n",
    "for e in emails.split(' '):\n",
    "    u, d = e.split('@')\n",
    "    print(u)"
   ]
  },
  {
   "cell_type": "markdown",
   "metadata": {},
   "source": [
    "#### Exercise\n",
    "Write a Python program to find the first appearance of the substring 'not' and 'poor' from a given string, if 'not' follows the 'poor', replace the whole 'not'...'poor' substring with 'good'. Return the resulting string. \n",
    "\n",
    "Input: 'The lyrics is not that poor!'   \n",
    "Expected Result: 'The lyrics is good!'\n",
    "\n",
    "Input: 'This movie is not very very very poor!'   \n",
    "Expected Result: 'This movie is good!'\n",
    "\n",
    "\n",
    "Hint: Find index of not and poor and use them to replace the appropriate substring"
   ]
  },
  {
   "cell_type": "code",
   "execution_count": null,
   "metadata": {
    "collapsed": true
   },
   "outputs": [],
   "source": [
    "s = \"'The lyrics is not that poor!'\"\n",
    "ind1 = s.find('not')\n",
    "ind2 = s.find('poor')\n",
    "\n",
    "if ind2 > ind1:\n",
    "    s = s.replace(s[ind1:(ind2+4)], 'good')\n",
    "\n",
    "print(s)"
   ]
  },
  {
   "cell_type": "markdown",
   "metadata": {},
   "source": [
    "#### Exercise\n",
    "Take a string consisting of multiple email adresses separated by space and extract all usernames.\n",
    "\n",
    "Input: 'aliveli@gmail.com crazy8@yahoo.com excalibur04@hotmail.com'   \n",
    "Expected result: ['aliveli', 'crazy8', 'excalibur02']\n",
    "\n",
    "Better if you can do it with list comprehension"
   ]
  },
  {
   "cell_type": "code",
   "execution_count": 17,
   "metadata": {
    "scrolled": true
   },
   "outputs": [
    {
     "name": "stdout",
     "output_type": "stream",
     "text": [
      "['aliveli', 'crazy8', 'excalibur02']\n"
     ]
    }
   ],
   "source": [
    "emails = 'aliveli@gmail.com crazy8@yahoo.com excalibur02@hotmail.com'\n",
    "a = []\n",
    "for e in emails.split(' '):\n",
    "    u, d = e.split('@')\n",
    "    a.append(u)\n",
    "print(a)"
   ]
  },
  {
   "cell_type": "code",
   "execution_count": 18,
   "metadata": {},
   "outputs": [
    {
     "data": {
      "text/plain": [
       "['aliveli', 'crazy8', 'excalibur02']"
      ]
     },
     "execution_count": 18,
     "metadata": {},
     "output_type": "execute_result"
    }
   ],
   "source": [
    "emails = 'aliveli@gmail.com crazy8@yahoo.com excalibur02@hotmail.com'\n",
    "[e.split('@')[0] for e in emails.split(' ')]"
   ]
  },
  {
   "cell_type": "markdown",
   "metadata": {},
   "source": [
    "#### Exercise\n",
    "\n",
    "Take string with a name and phone number, extrach phonenumber.\n",
    "\n",
    "Input: \"Guido van Rossum 0 532 123 45 67\"   \n",
    "Expected Result: \"05321234567\"\n",
    "\n",
    "Input: \"Hedy Lamarr +01 (222) 123 45 67\"   \n",
    "Expected Result: \"012221234567\""
   ]
  },
  {
   "cell_type": "code",
   "execution_count": 19,
   "metadata": {},
   "outputs": [
    {
     "name": "stdout",
     "output_type": "stream",
     "text": [
      "012221234567\n"
     ]
    }
   ],
   "source": [
    "s = \"Hedy Lamarr +01 (222) 123 45 67\"\n",
    "\n",
    "phone = []\n",
    "for c in s:\n",
    "    if c.isdigit():\n",
    "        phone.append(c)\n",
    "        \n",
    "print(''.join(phone))"
   ]
  },
  {
   "cell_type": "markdown",
   "metadata": {},
   "source": [
    "#### Exercise\n",
    "\n",
    "Take string evaluate whether only the first character of all words are upper.\n",
    "\n",
    "Input: \"monty python's flying circus\"  \n",
    "Expected Result: False\n",
    "\n",
    "Input: \"MOnthy PYTHON Flying CircuS\"   \n",
    "Expected Result: False\n",
    "\n",
    "Input: \"Monty Python's Flying Circus\"    \n",
    "Expected Result: True"
   ]
  },
  {
   "cell_type": "code",
   "execution_count": 20,
   "metadata": {},
   "outputs": [
    {
     "name": "stdout",
     "output_type": "stream",
     "text": [
      "True\n"
     ]
    }
   ],
   "source": [
    "s = \"Monty Python's Flying Circus\"\n",
    "\n",
    "words = s.split(' ')\n",
    "is_ok = True\n",
    "for w in words:\n",
    "    if not w[0].isupper():\n",
    "        is_ok = False\n",
    "        break\n",
    "    for c in w[1:]:\n",
    "        if c.isupper():\n",
    "            is_ok = False\n",
    "            break\n",
    "            \n",
    "print(is_ok)"
   ]
  },
  {
   "cell_type": "code",
   "execution_count": null,
   "metadata": {
    "collapsed": true
   },
   "outputs": [],
   "source": []
  }
 ],
 "metadata": {
  "kernelspec": {
   "display_name": "Python 3",
   "language": "python",
   "name": "python3"
  },
  "language_info": {
   "codemirror_mode": {
    "name": "ipython",
    "version": 3
   },
   "file_extension": ".py",
   "mimetype": "text/x-python",
   "name": "python",
   "nbconvert_exporter": "python",
   "pygments_lexer": "ipython3",
   "version": "3.6.3"
  }
 },
 "nbformat": 4,
 "nbformat_minor": 2
}
