{
 "cells": [
  {
   "cell_type": "markdown",
   "metadata": {},
   "source": [
    "### easy\n",
    "Write a Python program to count the number of characters (character frequency) in a string."
   ]
  },
  {
   "cell_type": "code",
   "execution_count": 2,
   "metadata": {},
   "outputs": [
    {
     "name": "stdout",
     "output_type": "stream",
     "text": [
      "{'e': 1, 'y': 4, 'a': 3, 'f': 1, 'l': 4, 'ö': 1, 'k': 1, 'ü': 1}\n"
     ]
    }
   ],
   "source": [
    "s = 'eyyafyallayöküll'\n",
    "d = {}\n",
    "for n in s:\n",
    "    if n in d:\n",
    "        d[n] += 1\n",
    "    else:\n",
    "        d[n] = 1\n",
    "print(d)"
   ]
  },
  {
   "cell_type": "code",
   "execution_count": 4,
   "metadata": {},
   "outputs": [
    {
     "name": "stdout",
     "output_type": "stream",
     "text": [
      "{'e': 1, 'y': 4, 'a': 3, 'f': 1, 'l': 4, 'ö': 1, 'k': 1, 'ü': 1}\n"
     ]
    }
   ],
   "source": [
    "s = 'eyyafyallayöküll'\n",
    "d = {}\n",
    "for c in s:\n",
    "    d[c] = d.get(c, 0) + 1\n",
    "print(d)"
   ]
  },
  {
   "cell_type": "code",
   "execution_count": null,
   "metadata": {
    "collapsed": true
   },
   "outputs": [],
   "source": []
  }
 ],
 "metadata": {
  "kernelspec": {
   "display_name": "Python 3",
   "language": "python",
   "name": "python3"
  },
  "language_info": {
   "codemirror_mode": {
    "name": "ipython",
    "version": 3
   },
   "file_extension": ".py",
   "mimetype": "text/x-python",
   "name": "python",
   "nbconvert_exporter": "python",
   "pygments_lexer": "ipython3",
   "version": "3.6.3"
  }
 },
 "nbformat": 4,
 "nbformat_minor": 2
}
