{
 "cells": [
  {
   "cell_type": "markdown",
   "metadata": {},
   "source": [
    "#### Exercise\n",
    "\n",
    "Merge three dicts into one.\n",
    "\n",
    "Input :    \n",
    "d1={1:10, 2:20}    \n",
    "d2={3:30, 4:40}    \n",
    "d3={5:50,6:60}   \n",
    "Expected Result : {1: 10, 2: 20, 3: 30, 4: 40, 5: 50, 6: 60}"
   ]
  },
  {
   "cell_type": "code",
   "execution_count": 1,
   "metadata": {},
   "outputs": [
    {
     "name": "stdout",
     "output_type": "stream",
     "text": [
      "{1: 10, 2: 20, 3: 30, 4: 40, 5: 50, 6: 60}\n"
     ]
    }
   ],
   "source": [
    "merged = {}\n",
    "d1={1:10, 2:20}\n",
    "d2={3:30, 4:40}\n",
    "d3={5:50,6:60}\n",
    "\n",
    "for d in [d1, d2, d3]:\n",
    "    merged.update(d)\n",
    "    \n",
    "print(merged)"
   ]
  },
  {
   "cell_type": "markdown",
   "metadata": {},
   "source": [
    "#### Exercise\n",
    "Write a Python script to generate and print a dictionary that contains a number (between 1 and 10) in the form (x, x**2).\n",
    "\n",
    "Input: n=10   \n",
    "Expected Output : {1: 1, 2: 4, 3: 9, 4: 16, 5: 25, 6: 36, 7: 49, 8: 64, 9: 81}"
   ]
  },
  {
   "cell_type": "code",
   "execution_count": 7,
   "metadata": {},
   "outputs": [
    {
     "name": "stdout",
     "output_type": "stream",
     "text": [
      "{1: 1, 2: 4, 3: 9, 4: 16, 5: 25, 6: 36, 7: 49, 8: 64, 9: 81}\n"
     ]
    }
   ],
   "source": [
    "n = 10\n",
    "d={}\n",
    "for i in range(1,n):\n",
    "    d[i] = i**2\n",
    "\n",
    "print(d)"
   ]
  },
  {
   "cell_type": "markdown",
   "metadata": {},
   "source": [
    "#### Exercise\n",
    "\n",
    "Sort a dictionary according to lenght of values.\n",
    "\n",
    "Input: {'Turkey':'Ankara', 'US': 'Washington D.C.', 'Scotland': 'Edinburgh'}   \n",
    "Expected Output : {2: 4, 4: 16, 6: 36, 8: 64}"
   ]
  },
  {
   "cell_type": "code",
   "execution_count": 26,
   "metadata": {},
   "outputs": [
    {
     "data": {
      "text/plain": [
       "[('Turkey', 'Ankara'), ('Scotland', 'Edinburgh'), ('US', 'Washington D.C.')]"
      ]
     },
     "execution_count": 26,
     "metadata": {},
     "output_type": "execute_result"
    }
   ],
   "source": [
    "d = {'Turkey':'Ankara', 'US': 'Washington D.C.', 'Scotland': 'Edinburgh'}\n",
    "\n",
    "sorted(d.items(), key=lambda item: len(item[1]))"
   ]
  },
  {
   "cell_type": "markdown",
   "metadata": {},
   "source": [
    "#### Exercise\n",
    "Write a Python program to combine two dictionary adding values for common keys.\n",
    "\n",
    "d1 = {'a': 100, 'b': 200, 'c':300}    \n",
    "d2 = {'a': 300, 'b': 200, 'd':400}    \n",
    "\n",
    "Sample output: {'a': 400, 'b': 400, 'd': 400, 'c': 300}    "
   ]
  },
  {
   "cell_type": "code",
   "execution_count": 27,
   "metadata": {},
   "outputs": [
    {
     "name": "stdout",
     "output_type": "stream",
     "text": [
      "{'d': 100, 'c': 300, 'a': 400, 'b': 900}\n"
     ]
    }
   ],
   "source": [
    "d1 = {'a': 100, 'b': 700, 'c':300}    \n",
    "d2 = {'a': 300, 'b': 200, 'd':100} \n",
    "\n",
    "all_keys = set(d1.keys()) | set(d2.keys())\n",
    "\n",
    "total = {}\n",
    "for k in all_keys:\n",
    "    total[k] = d1.get(k,0) + d2.get(k,0)\n",
    "    \n",
    "print(total)"
   ]
  },
  {
   "cell_type": "markdown",
   "metadata": {},
   "source": [
    "#### Exercise\n",
    "Write a program to write identical keys and identical items present in two dictionaries.\n",
    "\n",
    "Input:    \n",
    "x = {'key1': 1, 'key2': 3, 'key3': 2}   \n",
    "y = {'key1': 1, 'key2': 2}  \n",
    "\n",
    "Expected output:      \n",
    "Keys: key1, key2 is present in both x and y   \n",
    "Items: (key1: 1) is present in both x and y"
   ]
  },
  {
   "cell_type": "code",
   "execution_count": 25,
   "metadata": {},
   "outputs": [
    {
     "name": "stdout",
     "output_type": "stream",
     "text": [
      "{'key2', 'key1'}\n",
      "{('key1', 1)}\n"
     ]
    }
   ],
   "source": [
    "x,y = {'key1': 1, 'key2': 3, 'key3': 2}, {'key1': 1, 'key2': 2}\n",
    "\n",
    "print(set(x.keys()) & set(y.keys()))\n",
    "print(set(x.items()) & set(y.items()))"
   ]
  },
  {
   "cell_type": "code",
   "execution_count": null,
   "metadata": {
    "collapsed": true
   },
   "outputs": [],
   "source": []
  },
  {
   "cell_type": "markdown",
   "metadata": {},
   "source": [
    "#### Exercise\n",
    "Write a Python program to count the number of characters (character frequency) in a string.\n",
    "\n",
    "Input: \"eyyafyallayöküll\"    \n",
    "Expected Output: {'e': 1, 'y': 4, 'a': 3, 'f': 1, 'l': 4, 'ö': 1, 'k': 1, 'ü': 1}    "
   ]
  },
  {
   "cell_type": "code",
   "execution_count": 2,
   "metadata": {},
   "outputs": [
    {
     "name": "stdout",
     "output_type": "stream",
     "text": [
      "{'e': 1, 'y': 4, 'a': 3, 'f': 1, 'l': 4, 'ö': 1, 'k': 1, 'ü': 1}\n"
     ]
    }
   ],
   "source": [
    "s = 'eyyafyallayöküll'\n",
    "d = {}\n",
    "for n in s:\n",
    "    if n in d:\n",
    "        d[n] += 1\n",
    "    else:\n",
    "        d[n] = 1\n",
    "print(d)"
   ]
  },
  {
   "cell_type": "code",
   "execution_count": 4,
   "metadata": {
    "scrolled": true
   },
   "outputs": [
    {
     "name": "stdout",
     "output_type": "stream",
     "text": [
      "{'e': 1, 'y': 4, 'a': 3, 'f': 1, 'l': 4, 'ö': 1, 'k': 1, 'ü': 1}\n"
     ]
    }
   ],
   "source": [
    "s = 'eyyafyallayöküll'\n",
    "d = {}\n",
    "for c in s:\n",
    "    d[c] = d.get(c, 0) + 1\n",
    "print(d)"
   ]
  },
  {
   "cell_type": "markdown",
   "metadata": {},
   "source": [
    "#### Exercise\n",
    "Filter even keys of dictionary.\n",
    "\n",
    "Input: {1: 1, 2: 4, 3: 9, 4: 16, 5: 25, 6: 36, 7: 49, 8: 64, 9: 81}\n",
    "Expected Output : {2: 4, 4: 16, 6: 36, 8: 64}"
   ]
  },
  {
   "cell_type": "code",
   "execution_count": 8,
   "metadata": {
    "scrolled": true
   },
   "outputs": [
    {
     "data": {
      "text/plain": [
       "{2: 4, 4: 16, 6: 36, 8: 64}"
      ]
     },
     "execution_count": 8,
     "metadata": {},
     "output_type": "execute_result"
    }
   ],
   "source": [
    "{i:i**2 for i in range(2,9,2)}"
   ]
  },
  {
   "cell_type": "code",
   "execution_count": null,
   "metadata": {
    "collapsed": true
   },
   "outputs": [],
   "source": []
  }
 ],
 "metadata": {
  "kernelspec": {
   "display_name": "Python 3",
   "language": "python",
   "name": "python3"
  },
  "language_info": {
   "codemirror_mode": {
    "name": "ipython",
    "version": 3
   },
   "file_extension": ".py",
   "mimetype": "text/x-python",
   "name": "python",
   "nbconvert_exporter": "python",
   "pygments_lexer": "ipython3",
   "version": "3.6.5"
  }
 },
 "nbformat": 4,
 "nbformat_minor": 2
}
