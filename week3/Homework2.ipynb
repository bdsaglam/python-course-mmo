{
 "cells": [
  {
   "cell_type": "markdown",
   "metadata": {},
   "source": [
    "# Question 1\n",
    "\n",
    "Write a program that takes a string as input and prints a string such that all the 'a's after an occurrence of a 'c' are turned to 'x'. For instance, \"abcd\" yields \"abcd\", \"acbcdada\" yields \"acbcdxdx\", \"axax\" yields \"axax\", and so on."
   ]
  },
  {
   "cell_type": "code",
   "execution_count": null,
   "metadata": {
    "collapsed": true
   },
   "outputs": [],
   "source": []
  },
  {
   "cell_type": "markdown",
   "metadata": {},
   "source": [
    "## Question 2\n",
    "Write a Python program that takes a word and removes vowels.\n",
    "\n",
    "Bir stringdeki sesli harfleri çıkartan bir program yazın.\n",
    "\n",
    "\n",
    "```\n",
    "vowels = {'a','e','ı','i','o','ö','u','ü'}\n",
    "\n",
    "Input: \"cem yılmaz\"\n",
    "\n",
    "Expected output: \"cm ylmz\"\n",
    "```"
   ]
  },
  {
   "cell_type": "code",
   "execution_count": null,
   "metadata": {
    "collapsed": true
   },
   "outputs": [],
   "source": []
  },
  {
   "cell_type": "markdown",
   "metadata": {
    "collapsed": true
   },
   "source": [
    "# Question 1\n",
    "\n",
    "Take a string and replace some characters with an appropriate number.\n",
    "\n",
    "Bir string alıp, bazı karakterleri karşılık gelen sayı karakteriyle değiştirin.\n",
    "\n",
    "characters = ['E','I','A', 'O', 'B', 'Z']\n",
    "numliterals = ['3', '1', '4', '0', '8', '7']\n",
    "\n",
    "```\n",
    "Input: \"CEM YILMAZ\"\n",
    "Expected result: \"C3M Y1LM47\"\n",
    "```\n",
    "Hint: Iterate over two list of characters simultaneously and use str.replace one by one"
   ]
  },
  {
   "cell_type": "code",
   "execution_count": null,
   "metadata": {
    "collapsed": true
   },
   "outputs": [],
   "source": []
  },
  {
   "cell_type": "markdown",
   "metadata": {
    "collapsed": true
   },
   "source": [
    "# Question 1\n",
    "\n",
    "Take a string representing name and surname, split it into name and surname.\n",
    "\n",
    "İsim ve soyismi temsil eden bir string alıp, isim ve soyisim olarak 2 ayrı string olarak ayırın.\n",
    "\n",
    "characters = ['E','I','A', 'O', 'B', 'Z']\n",
    "numliterals = ['3', '1', '4', '0', '8', '7']\n",
    "\n",
    "```\n",
    "Input: \"Raymond Hettinger\"\n",
    "Expected result: (\"Raymond\", \"Hettinger\")\n",
    "\n",
    "Input: \"Barış Deniz Sağlam\"\n",
    "Expected result: (\"Barış Deniz\", \"Sağlam\")\n",
    "```"
   ]
  },
  {
   "cell_type": "code",
   "execution_count": null,
   "metadata": {
    "collapsed": true
   },
   "outputs": [],
   "source": []
  },
  {
   "cell_type": "markdown",
   "metadata": {},
   "source": [
    "# Question\n",
    "Take a string consisting of multiple website adresses separated by space and extract all domain names.\n",
    "\n",
    "Websitelerinin aralarında virgül karakteriyle sıralandığı bir string alıp domain isimlerini çıkarın.\n",
    "\n",
    "```\n",
    "Input: \"https://www.python.org, www.metu.edu.tr, comind.ai, https://edevlet.turkiye.gov.tr\"\n",
    "Expected result: (\"python\", \"metu\", \"comind\", \"turkiye\")\n",
    "```"
   ]
  },
  {
   "cell_type": "code",
   "execution_count": null,
   "metadata": {
    "collapsed": true
   },
   "outputs": [],
   "source": []
  },
  {
   "cell_type": "markdown",
   "metadata": {},
   "source": [
    "# Question\n",
    "\n",
    "Remove all characters repeating.\n",
    "Bir stringdeki tekrar eden karakterleri silen bir program yazın.\n",
    "\n",
    "aaabccddd → abcd   \n",
    "aaabccbddad → abcbdad   "
   ]
  },
  {
   "cell_type": "code",
   "execution_count": 31,
   "metadata": {},
   "outputs": [
    {
     "name": "stdout",
     "output_type": "stream",
     "text": [
      "abcbdad\n"
     ]
    }
   ],
   "source": [
    "s = 'aaabccbddad'\n",
    "slist = list(s)\n",
    "\n",
    "toberemoved = []\n",
    "previous = s[0]\n",
    "for i in range(1,len(s)):\n",
    "    c = s[i]\n",
    "    if c==previous:\n",
    "        toberemoved.append(i)\n",
    "    previous = c\n",
    "\n",
    "for j in sorted(toberemoved, reverse=True):\n",
    "    slist.pop(j)\n",
    "    \n",
    "print(''.join(slist))\n",
    "        "
   ]
  },
  {
   "cell_type": "code",
   "execution_count": null,
   "metadata": {
    "collapsed": true
   },
   "outputs": [],
   "source": []
  },
  {
   "cell_type": "code",
   "execution_count": null,
   "metadata": {
    "collapsed": true
   },
   "outputs": [],
   "source": []
  },
  {
   "cell_type": "code",
   "execution_count": null,
   "metadata": {
    "collapsed": true
   },
   "outputs": [],
   "source": []
  },
  {
   "cell_type": "code",
   "execution_count": null,
   "metadata": {
    "collapsed": true
   },
   "outputs": [],
   "source": []
  },
  {
   "cell_type": "code",
   "execution_count": null,
   "metadata": {
    "collapsed": true
   },
   "outputs": [],
   "source": []
  },
  {
   "cell_type": "code",
   "execution_count": null,
   "metadata": {
    "collapsed": true
   },
   "outputs": [],
   "source": []
  }
 ],
 "metadata": {
  "kernelspec": {
   "display_name": "Python 3",
   "language": "python",
   "name": "python3"
  },
  "language_info": {
   "codemirror_mode": {
    "name": "ipython",
    "version": 3
   },
   "file_extension": ".py",
   "mimetype": "text/x-python",
   "name": "python",
   "nbconvert_exporter": "python",
   "pygments_lexer": "ipython3",
   "version": "3.6.3"
  }
 },
 "nbformat": 4,
 "nbformat_minor": 2
}
