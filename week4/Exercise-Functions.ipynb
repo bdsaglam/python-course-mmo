{
 "cells": [
  {
   "cell_type": "markdown",
   "metadata": {},
   "source": [
    "#### Exercise\n",
    "Write a Python function to multiply all the numbers in a list.\n",
    "Input : [8, 2, 3, -1, 7]    \n",
    "Expected Output : -336 "
   ]
  },
  {
   "cell_type": "code",
   "execution_count": 2,
   "metadata": {
    "collapsed": true
   },
   "outputs": [],
   "source": [
    "def f(seq):\n",
    "    result = 1\n",
    "    for i in seq:\n",
    "        result *= i\n",
    "    return result"
   ]
  },
  {
   "cell_type": "code",
   "execution_count": 3,
   "metadata": {
    "scrolled": true
   },
   "outputs": [
    {
     "data": {
      "text/plain": [
       "-24"
      ]
     },
     "execution_count": 3,
     "metadata": {},
     "output_type": "execute_result"
    }
   ],
   "source": [
    "f([1,2,3,4,-1])"
   ]
  },
  {
   "cell_type": "markdown",
   "metadata": {},
   "source": [
    "#### Exercise\n",
    "\n",
    "Write a factorial function\n",
    "\n",
    "Input: factorial(5)   \n",
    "Expected Output: 120"
   ]
  },
  {
   "cell_type": "code",
   "execution_count": 1,
   "metadata": {
    "collapsed": true
   },
   "outputs": [],
   "source": [
    "def factorial(n):\n",
    "    v=1\n",
    "    for i in range(1,n+1):\n",
    "        v = v*i\n",
    "    return v"
   ]
  },
  {
   "cell_type": "code",
   "execution_count": null,
   "metadata": {
    "collapsed": true
   },
   "outputs": [],
   "source": [
    "def factorial_recursive(n):\n",
    "    if n<1:\n",
    "        return 1\n",
    "    return factorial(n-1)*n"
   ]
  },
  {
   "cell_type": "code",
   "execution_count": null,
   "metadata": {
    "collapsed": true
   },
   "outputs": [],
   "source": [
    "from functools import reduce\n",
    "from operator import mul"
   ]
  },
  {
   "cell_type": "code",
   "execution_count": null,
   "metadata": {
    "collapsed": true
   },
   "outputs": [],
   "source": [
    "def factorial_functional(n):\n",
    "    return reduce(mul, range(1,n+1))"
   ]
  },
  {
   "cell_type": "markdown",
   "metadata": {},
   "source": [
    "#### Exercise\n",
    "Write a function to that takes an integer, and for each number between 1 and that integer write whether it is square of a number.\n",
    "\n",
    "Input: n=20    \n",
    "Expected Output:   \n",
    "1 is a square number    \n",
    "2 is not a square number    \n",
    "3 is not a square number    \n",
    "4 is a square number    \n",
    "5 is not a square number    \n",
    "6 is not a square number    \n",
    "7 is not a square number    \n",
    "8 is not a square number    \n",
    "9 is a square number    \n",
    "10 is not a square number    \n",
    "11 is not a square number    \n",
    "12 is not a square number    \n",
    "13 is not a square number    \n",
    "14 is not a square number    \n",
    "15 is not a square number    \n",
    "16 is a square number    \n",
    "17 is not a square number    \n",
    "18 is not a square number    \n",
    "19 is not a square number    "
   ]
  },
  {
   "cell_type": "code",
   "execution_count": 5,
   "metadata": {
    "collapsed": true
   },
   "outputs": [],
   "source": [
    "def is_square(n):\n",
    "\n",
    "    numbers = list(range(1,n))\n",
    "    squares = [i*i for i in range(1,n) if i*i<n]\n",
    "\n",
    "    for n in numbers:\n",
    "        if n in squares:\n",
    "            print(n, 'is a square number')\n",
    "        else:\n",
    "            print(n, 'is not a square number')\n",
    "\n"
   ]
  },
  {
   "cell_type": "code",
   "execution_count": 6,
   "metadata": {},
   "outputs": [
    {
     "name": "stdout",
     "output_type": "stream",
     "text": [
      "1 is a square number\n",
      "2 is not a square number\n",
      "3 is not a square number\n",
      "4 is a square number\n",
      "5 is not a square number\n",
      "6 is not a square number\n",
      "7 is not a square number\n",
      "8 is not a square number\n",
      "9 is a square number\n",
      "10 is not a square number\n",
      "11 is not a square number\n",
      "12 is not a square number\n",
      "13 is not a square number\n",
      "14 is not a square number\n"
     ]
    }
   ],
   "source": [
    "is_square(15)"
   ]
  },
  {
   "cell_type": "code",
   "execution_count": 1,
   "metadata": {},
   "outputs": [
    {
     "name": "stdout",
     "output_type": "stream",
     "text": [
      "1 is a square number\n",
      "2 is not a square number\n",
      "3 is not a square number\n",
      "4 is a square number\n",
      "5 is not a square number\n",
      "6 is not a square number\n",
      "7 is not a square number\n",
      "8 is not a square number\n",
      "9 is a square number\n",
      "10 is not a square number\n",
      "11 is not a square number\n",
      "12 is not a square number\n",
      "13 is not a square number\n",
      "14 is not a square number\n",
      "15 is not a square number\n",
      "16 is a square number\n",
      "17 is not a square number\n",
      "18 is not a square number\n",
      "19 is not a square number\n",
      "20 is not a square number\n",
      "21 is not a square number\n",
      "22 is not a square number\n",
      "23 is not a square number\n",
      "24 is not a square number\n",
      "25 is a square number\n",
      "26 is not a square number\n",
      "27 is not a square number\n",
      "28 is not a square number\n",
      "29 is not a square number\n"
     ]
    }
   ],
   "source": [
    "n = 30 \n",
    "\n",
    "numbers = list(range(1,n))\n",
    "squares = [i*i for i in range(1,n) if i*i<n]\n",
    "\n",
    "for n in numbers:\n",
    "    if n in squares:\n",
    "        print(n, 'is a square number')\n",
    "    else:\n",
    "        print(n, 'is not a square number')\n",
    "        \n"
   ]
  },
  {
   "cell_type": "markdown",
   "metadata": {},
   "source": [
    "#### Exercise\n",
    "Write a Python function that accepts a string and calculate the number of upper case letters and lower case letters. \n",
    "\n",
    "Input: 'The quick Brown Fox'\n",
    "\n",
    "Expected Output:     \n",
    "No. of Upper case characters : 3    \n",
    "No. of Lower case Characters : 13    "
   ]
  },
  {
   "cell_type": "code",
   "execution_count": 6,
   "metadata": {},
   "outputs": [
    {
     "name": "stdout",
     "output_type": "stream",
     "text": [
      "3\n",
      "13\n"
     ]
    }
   ],
   "source": [
    "s = 'The quick Brown Fox'\n",
    "print(len([c for c in s if c.isupper()]))\n",
    "print(len([c for c in s if c.islower()]))"
   ]
  },
  {
   "cell_type": "markdown",
   "metadata": {},
   "source": [
    "#### Exercise\n",
    "Write a function that takes a list of string and concatenate them by a separator of which default value is empty string and can be determined by user.\n",
    "\n",
    "Input: concat(['a', 'b', 'c'])    \n",
    "Expected Output: 'abc'    \n",
    "\n",
    "Input: concat(['a', 'b', 'c'], sep='.')    \n",
    "Expected Output: 'a.b.c'   "
   ]
  },
  {
   "cell_type": "code",
   "execution_count": 48,
   "metadata": {
    "collapsed": true
   },
   "outputs": [],
   "source": [
    "def concat(seq, sep=''):\n",
    "    return sep.join(seq)"
   ]
  },
  {
   "cell_type": "markdown",
   "metadata": {},
   "source": [
    "#### Exercise\n",
    "\n",
    "Write a function that takes arbitrary number of numeric arguments and returns summation of them.\n",
    "\n",
    "summ(1) ---> 1\n",
    "\n",
    "summ(1,2,3) ---> 6\n",
    "\n",
    "summ(1,2,3,4,5,6,7) ---> 28"
   ]
  },
  {
   "cell_type": "code",
   "execution_count": 84,
   "metadata": {
    "collapsed": true
   },
   "outputs": [],
   "source": [
    "def summ(*args):\n",
    "    result = 0\n",
    "    for i in args:\n",
    "        result += i\n",
    "    return result"
   ]
  },
  {
   "cell_type": "code",
   "execution_count": 85,
   "metadata": {},
   "outputs": [
    {
     "data": {
      "text/plain": [
       "1"
      ]
     },
     "execution_count": 85,
     "metadata": {},
     "output_type": "execute_result"
    }
   ],
   "source": [
    "summ(1)"
   ]
  },
  {
   "cell_type": "code",
   "execution_count": 86,
   "metadata": {},
   "outputs": [
    {
     "data": {
      "text/plain": [
       "10"
      ]
     },
     "execution_count": 86,
     "metadata": {},
     "output_type": "execute_result"
    }
   ],
   "source": [
    "summ(1,2,3,4,)"
   ]
  },
  {
   "cell_type": "markdown",
   "metadata": {},
   "source": [
    "#### Exercise\n",
    "Sort list of tuples according to the modulo of 4 of first element of tuple.   \n",
    "\n",
    "Input: [(52, 'Guido'),(43, 'Raymond'), (28, 'Greg'), (37, 'Brandon')]    \n",
    "Expected Output: [(28, 'Greg'), (37, 'Brandon'), (62, 'Guido'), (43, 'Raymond')]    \n"
   ]
  },
  {
   "cell_type": "code",
   "execution_count": 50,
   "metadata": {},
   "outputs": [
    {
     "data": {
      "text/plain": [
       "[(28, 'Greg'), (37, 'Brandon'), (62, 'Guido'), (43, 'Raymond')]"
      ]
     },
     "execution_count": 50,
     "metadata": {},
     "output_type": "execute_result"
    }
   ],
   "source": [
    "pairs = [(62, 'Guido'),(43, 'Raymond'), (28, 'Greg'), (37, 'Brandon')]\n",
    "pairs.sort(key=lambda pair: pair[0]%4)\n",
    "pairs"
   ]
  },
  {
   "cell_type": "markdown",
   "metadata": {},
   "source": [
    "#### Exercise\n",
    "Write partial functions such as square, cube with the power function defined below.\n",
    "\n",
    "```\n",
    "def power(base, exponent):\n",
    "    return base ** exponent\n",
    "```"
   ]
  },
  {
   "cell_type": "code",
   "execution_count": 62,
   "metadata": {},
   "outputs": [
    {
     "name": "stdout",
     "output_type": "stream",
     "text": [
      "25\n",
      "64\n"
     ]
    }
   ],
   "source": [
    "from functools import partial\n",
    "\n",
    "def power(base, exponent):\n",
    "    return base ** exponent\n",
    "\n",
    "square = partial(power, exponent=2)\n",
    "cube = partial(power, exponent=3)\n",
    "\n",
    "\n",
    "print(square(5))\n",
    "print(cube(4))"
   ]
  },
  {
   "cell_type": "markdown",
   "metadata": {},
   "source": [
    "#### Exercise\n",
    "\n",
    "Write a power function which takes an integer argument and returns functions such as square, cube, etc.\n",
    "\n",
    "square = power(2)    \n",
    "square(5) --> 25\n",
    "\n",
    "cube = power(3)    \n",
    "cube(4) ---> 64\n"
   ]
  },
  {
   "cell_type": "code",
   "execution_count": 57,
   "metadata": {
    "collapsed": true
   },
   "outputs": [],
   "source": [
    "def power(n):\n",
    "    def f(x):\n",
    "        return x**n\n",
    "    return f"
   ]
  },
  {
   "cell_type": "code",
   "execution_count": 59,
   "metadata": {},
   "outputs": [
    {
     "name": "stdout",
     "output_type": "stream",
     "text": [
      "25\n",
      "64\n"
     ]
    }
   ],
   "source": [
    "square = power(2)\n",
    "print(square(5))\n",
    "\n",
    "cube = power(3)\n",
    "print(cube(4))"
   ]
  },
  {
   "cell_type": "markdown",
   "metadata": {},
   "source": [
    "#### Exercise\n",
    "Write a Python function to check whether a number is perfect or not.\n",
    "\n",
    "According to Wikipedia : In number theory, a perfect number is a positive integer that is equal to the sum of its proper positive divisors, that is, the sum of its positive divisors excluding the number itself (also known as its aliquot sum). Equivalently, a perfect number is a number that is half the sum of all of its positive divisors (including itself).\n",
    "\n",
    "Example : The first perfect number is 6, because 1, 2, and 3 are its proper positive divisors, and 1 + 2 + 3 = 6. Equivalently, the number 6 is equal to half the sum of all its positive divisors: ( 1 + 2 + 3 + 6 ) / 2 = 6. The next perfect number is 28 = 1 + 2 + 4 + 7 + 14. This is followed by the perfect numbers 496 and 8128. \n",
    "\n",
    "Input: 6\n",
    "\n",
    "Expected Output: True"
   ]
  },
  {
   "cell_type": "code",
   "execution_count": 11,
   "metadata": {
    "collapsed": true
   },
   "outputs": [],
   "source": [
    "def get_divisors(n):\n",
    "    divisors = []\n",
    "    for i in range(1,n):\n",
    "        if n%i==0:\n",
    "            divisors.append(i)\n",
    "    return divisors\n",
    "    \n",
    "\n",
    "def isperfect(n):\n",
    "    if sum(get_divisors(n))==n:\n",
    "        return True\n",
    "    return False"
   ]
  },
  {
   "cell_type": "code",
   "execution_count": 12,
   "metadata": {},
   "outputs": [
    {
     "data": {
      "text/plain": [
       "True"
      ]
     },
     "execution_count": 12,
     "metadata": {},
     "output_type": "execute_result"
    }
   ],
   "source": [
    "isperfect(28)"
   ]
  },
  {
   "cell_type": "markdown",
   "metadata": {},
   "source": [
    "#### Exercise \n",
    "\n",
    "Built pascal triangle and write it in a triangle shape format."
   ]
  },
  {
   "cell_type": "code",
   "execution_count": 2,
   "metadata": {},
   "outputs": [
    {
     "name": "stdout",
     "output_type": "stream",
     "text": [
      "[1]\n",
      "[1, 1]\n",
      "[1, 2, 1]\n",
      "[1, 3, 3, 1]\n",
      "[1, 4, 6, 4, 1]\n",
      "[1, 5, 10, 10, 5, 1]\n"
     ]
    }
   ],
   "source": [
    "def pascal_triangle(n):\n",
    "    trow = [1]\n",
    "    y = [0]\n",
    "    for x in range(max(n,0)):\n",
    "        print(trow)\n",
    "        trow=[l+r for l,r in zip(trow+y, y+trow)]\n",
    "    \n",
    "pascal_triangle(6) "
   ]
  },
  {
   "cell_type": "code",
   "execution_count": 8,
   "metadata": {
    "collapsed": true
   },
   "outputs": [],
   "source": [
    "def pascal(n):\n",
    "    b = [1]\n",
    "    triangle = []\n",
    "    for i in range(n):\n",
    "        print(i)\n",
    "        triangle.append(b)\n",
    "        c = [1]\n",
    "        for j in range(len(b)-1):\n",
    "            print('--',j)\n",
    "            c.append(b[j] + b[j+1])\n",
    "        c.append(1)\n",
    "        b = c\n",
    "    return triangle"
   ]
  },
  {
   "cell_type": "code",
   "execution_count": 9,
   "metadata": {},
   "outputs": [
    {
     "name": "stdout",
     "output_type": "stream",
     "text": [
      "0\n",
      "1\n",
      "-- 0\n",
      "2\n",
      "-- 0\n",
      "-- 1\n",
      "3\n",
      "-- 0\n",
      "-- 1\n",
      "-- 2\n",
      "4\n",
      "-- 0\n",
      "-- 1\n",
      "-- 2\n",
      "-- 3\n"
     ]
    },
    {
     "data": {
      "text/plain": [
       "[[1], [1, 1], [1, 2, 1], [1, 3, 3, 1], [1, 4, 6, 4, 1]]"
      ]
     },
     "execution_count": 9,
     "metadata": {},
     "output_type": "execute_result"
    }
   ],
   "source": [
    "pascal(5)"
   ]
  },
  {
   "cell_type": "code",
   "execution_count": 41,
   "metadata": {
    "collapsed": true
   },
   "outputs": [],
   "source": [
    "def print_pascal2(triangle):\n",
    "    for layer in triangle:\n",
    "        s = '  '.join([str(i) for i in layer])\n",
    "        print('{:^32}'.format(s))\n",
    "    "
   ]
  },
  {
   "cell_type": "code",
   "execution_count": 47,
   "metadata": {
    "scrolled": true
   },
   "outputs": [
    {
     "name": "stdout",
     "output_type": "stream",
     "text": [
      "               1                \n",
      "              1  1              \n",
      "            1  2  1             \n",
      "           1  3  3  1           \n",
      "         1  4  6  4  1          \n",
      "       1  5  10  10  5  1       \n",
      "     1  6  15  20  15  6  1     \n",
      "   1  7  21  35  35  21  7  1   \n"
     ]
    }
   ],
   "source": [
    "print_pascal2(pascal(8))"
   ]
  },
  {
   "cell_type": "code",
   "execution_count": 52,
   "metadata": {},
   "outputs": [
    {
     "data": {
      "text/plain": [
       "[[1],\n",
       " [1, 1],\n",
       " [1, 2, 1],\n",
       " [1, 3, 3, 1],\n",
       " [1, 4, 6, 4, 1],\n",
       " [1, 5, 10, 10, 5, 1],\n",
       " [1, 6, 15, 20, 15, 6, 1],\n",
       " [1, 7, 21, 35, 35, 21, 7, 1]]"
      ]
     },
     "execution_count": 52,
     "metadata": {},
     "output_type": "execute_result"
    }
   ],
   "source": [
    "pascal(8)"
   ]
  },
  {
   "cell_type": "markdown",
   "metadata": {},
   "source": [
    "#### Exercise\n",
    "\n",
    "Implement partial function."
   ]
  },
  {
   "cell_type": "code",
   "execution_count": 2,
   "metadata": {
    "collapsed": true
   },
   "outputs": [],
   "source": [
    "def mypartial(func, *pargs, **pkwargs):\n",
    "    pargs = list(pargs)\n",
    "    def wrapper(*args, **kwargs):\n",
    "        pargs.extend(args)\n",
    "        pkwargs.update(kwargs)\n",
    "        return func(*pargs, **pkwargs)\n",
    "    return wrapper"
   ]
  },
  {
   "cell_type": "code",
   "execution_count": 3,
   "metadata": {},
   "outputs": [
    {
     "name": "stdout",
     "output_type": "stream",
     "text": [
      "25\n",
      "81\n"
     ]
    }
   ],
   "source": [
    "def power(base, exponent):\n",
    "    return base ** exponent\n",
    "\n",
    "square = mypartial(power, exponent=2)\n",
    "print(square(5))\n",
    "\n",
    "po3 = mypartial(power, 3) # base=3\n",
    "print(po3(4))"
   ]
  },
  {
   "cell_type": "code",
   "execution_count": null,
   "metadata": {
    "collapsed": true
   },
   "outputs": [],
   "source": []
  }
 ],
 "metadata": {
  "kernelspec": {
   "display_name": "Python 3",
   "language": "python",
   "name": "python3"
  },
  "language_info": {
   "codemirror_mode": {
    "name": "ipython",
    "version": 3
   },
   "file_extension": ".py",
   "mimetype": "text/x-python",
   "name": "python",
   "nbconvert_exporter": "python",
   "pygments_lexer": "ipython3",
   "version": "3.6.5"
  }
 },
 "nbformat": 4,
 "nbformat_minor": 2
}
