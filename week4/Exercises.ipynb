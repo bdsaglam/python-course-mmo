{
 "cells": [
  {
   "cell_type": "code",
   "execution_count": 39,
   "metadata": {
    "collapsed": true
   },
   "outputs": [],
   "source": [
    "def mrange(start, stop, step):\n",
    "    if step>0:\n",
    "        checker = lambda start,stop: start<stop\n",
    "    else:\n",
    "        checker = lambda start,stop: start>stop\n",
    "    \n",
    "    seq = []\n",
    "        \n",
    "    while checker(start,stop):\n",
    "        seq.append(start)\n",
    "        start += step\n",
    "        \n",
    "    return seq"
   ]
  },
  {
   "cell_type": "code",
   "execution_count": 40,
   "metadata": {},
   "outputs": [
    {
     "data": {
      "text/plain": [
       "[10, 9, 8, 7, 6, 5, 4, 3, 2]"
      ]
     },
     "execution_count": 40,
     "metadata": {},
     "output_type": "execute_result"
    }
   ],
   "source": [
    "mrange(10,1,-1)"
   ]
  },
  {
   "cell_type": "code",
   "execution_count": 11,
   "metadata": {},
   "outputs": [
    {
     "name": "stdout",
     "output_type": "stream",
     "text": [
      "1.46 ms ± 129 µs per loop (mean ± std. dev. of 7 runs, 10 loops each)\n"
     ]
    }
   ],
   "source": [
    "%%timeit -n 10\n",
    "mrange(0, 10000, 1)"
   ]
  },
  {
   "cell_type": "code",
   "execution_count": 12,
   "metadata": {},
   "outputs": [
    {
     "name": "stdout",
     "output_type": "stream",
     "text": [
      "381 µs ± 55.3 µs per loop (mean ± std. dev. of 7 runs, 10 loops each)\n"
     ]
    }
   ],
   "source": [
    "%%timeit -n 10\n",
    "list(range(0, 10000, 1))"
   ]
  },
  {
   "cell_type": "code",
   "execution_count": null,
   "metadata": {
    "collapsed": true
   },
   "outputs": [],
   "source": []
  },
  {
   "cell_type": "code",
   "execution_count": 45,
   "metadata": {
    "collapsed": true
   },
   "outputs": [],
   "source": [
    "def mrange2(start, stop=None, step=1):\n",
    "    if stop is None:\n",
    "        stop = start\n",
    "        start = 0\n",
    "    \n",
    "    if step>0:\n",
    "        checker = lambda start,stop: start<stop\n",
    "    else:\n",
    "        checker = lambda start,stop: start>stop\n",
    "        \n",
    "    seq = []\n",
    "    \n",
    "    while checker(start,stop):\n",
    "        seq.append(start)\n",
    "        start += step\n",
    "        \n",
    "    return seq"
   ]
  },
  {
   "cell_type": "code",
   "execution_count": 52,
   "metadata": {},
   "outputs": [
    {
     "data": {
      "text/plain": [
       "[0, 2, 4, 6, 8]"
      ]
     },
     "execution_count": 52,
     "metadata": {},
     "output_type": "execute_result"
    }
   ],
   "source": [
    "mrange2(start=0, stop=10, step=2)"
   ]
  },
  {
   "cell_type": "code",
   "execution_count": 46,
   "metadata": {
    "collapsed": true
   },
   "outputs": [],
   "source": [
    "def test(args):\n",
    "    return mrange2(*args)==list(range(*args))"
   ]
  },
  {
   "cell_type": "code",
   "execution_count": 47,
   "metadata": {
    "collapsed": true
   },
   "outputs": [],
   "source": [
    "test_cases = [\n",
    "    (0,10,1),\n",
    "    (0, 10, 3),\n",
    "    (5, 20, 3),\n",
    "    (10, 1, -2),\n",
    "    (10, 10, 1),\n",
    "    (0,10),\n",
    "    (10,10),\n",
    "    (10,),\n",
    "    (0,),\n",
    "    \n",
    "]"
   ]
  },
  {
   "cell_type": "code",
   "execution_count": 48,
   "metadata": {},
   "outputs": [
    {
     "name": "stdout",
     "output_type": "stream",
     "text": [
      "(0, 10, 1)\n",
      "                 True\n",
      "(0, 10, 3)\n",
      "                 True\n",
      "(5, 20, 3)\n",
      "                 True\n",
      "(10, 1, -2)\n",
      "                 True\n",
      "(10, 10, 1)\n",
      "                 True\n",
      "(0, 10)\n",
      "                 True\n",
      "(10, 10)\n",
      "                 True\n",
      "(10,)\n",
      "                 True\n",
      "(0,)\n",
      "                 True\n"
     ]
    }
   ],
   "source": [
    "for tc in test_cases:\n",
    "    print(tc)\n",
    "    print(' '*16, test(tc))"
   ]
  },
  {
   "cell_type": "code",
   "execution_count": null,
   "metadata": {
    "collapsed": true
   },
   "outputs": [],
   "source": []
  },
  {
   "cell_type": "code",
   "execution_count": null,
   "metadata": {
    "collapsed": true
   },
   "outputs": [],
   "source": []
  }
 ],
 "metadata": {
  "kernelspec": {
   "display_name": "Python 3",
   "language": "python",
   "name": "python3"
  },
  "language_info": {
   "codemirror_mode": {
    "name": "ipython",
    "version": 3
   },
   "file_extension": ".py",
   "mimetype": "text/x-python",
   "name": "python",
   "nbconvert_exporter": "python",
   "pygments_lexer": "ipython3",
   "version": "3.6.5"
  }
 },
 "nbformat": 4,
 "nbformat_minor": 2
}
