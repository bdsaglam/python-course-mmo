{
 "cells": [
  {
   "cell_type": "markdown",
   "metadata": {
    "collapsed": true
   },
   "source": [
    "#### Exercise\n",
    "\n",
    "Take a string with Turkish characters and replace them with Latin ones.\n",
    "\n",
    "turkish_characters = ['ç','ğ','ı', 'ö', 'ü', 'ş']\n",
    "\n",
    "latin_characters = ['c', 'g', 'i', 'o', 'u', 's']\n",
    "\n",
    "greek_characters = ['τζ', 'γ', 'ή', 'ώ', 'υ', 'σ']\n",
    "\n",
    "Input: \"çağ ömür iş\"\n",
    "\n",
    "Expected result: \"τζaγ ώmυr ήσ\", \"cag is omur\"\n",
    "\n",
    "Hint: Iterate over two list of characters simultaneously and use str.replace one by one"
   ]
  },
  {
   "cell_type": "code",
   "execution_count": 1,
   "metadata": {
    "collapsed": true
   },
   "outputs": [],
   "source": [
    "class Compat:\n",
    "    turkish_characters = ['ç','ğ','ı', 'ö', 'ü', 'ş']\n",
    "    latin_characters = ['c', 'g', 'i', 'o', 'u', 's']\n",
    "    greek_characters = ['τζ', 'γ', 'ή', 'ώ', 'υ', 'σ']\n",
    "\n",
    "    def latinify(self, s):\n",
    "        for turc, latc in zip(self.turkish_characters, self.latin_characters):\n",
    "            s = s.replace(turc, latc)\n",
    "        \n",
    "        return s\n",
    "    \n",
    "    def greekify(self, s):\n",
    "        for turc, latc in zip(self.turkish_characters, self.greek_characters):\n",
    "            s = s.replace(turc, latc)\n",
    "        \n",
    "        return s"
   ]
  },
  {
   "cell_type": "code",
   "execution_count": 2,
   "metadata": {},
   "outputs": [
    {
     "name": "stdout",
     "output_type": "stream",
     "text": [
      "cag is omur\n",
      "τζaγ iσ ώmυr\n"
     ]
    }
   ],
   "source": [
    "converter = Compat()\n",
    "\n",
    "print(converter.latinify(\"çağ iş ömür\"))\n",
    "print(converter.greekify(\"çağ iş ömür\"))"
   ]
  },
  {
   "cell_type": "markdown",
   "metadata": {},
   "source": [
    "#### Exercise\n",
    "Write a class that parses a string consisting parantheses and evaluate its validity.\n",
    "\n",
    "```\n",
    "Input: \"[ ( 1, 2, 3, (, ), [] ) ]\" \n",
    "Expected output: True\n",
    "\n",
    "Input: \"[[]\" \n",
    "Expected output: False\n",
    "\n",
    "Input: \"(\" \n",
    "Expected output: False\n",
    "```"
   ]
  },
  {
   "cell_type": "code",
   "execution_count": 3,
   "metadata": {
    "collapsed": true
   },
   "outputs": [],
   "source": [
    "class Parser:\n",
    "    characters = {\"(\": \")\", \n",
    "                  \"{\": \"}\", \n",
    "                  \"[\": \"]\"}\n",
    "    \n",
    "    def is_valid_parenthese(self, s):\n",
    "        stack = []\n",
    "        for parenthese in s:\n",
    "            if parenthese in self.characters:\n",
    "                stack.append(parenthese)\n",
    "            elif len(stack) == 0 or self.characters[stack.pop()] != parenthese:\n",
    "                return False\n",
    "        return len(stack) == 0"
   ]
  },
  {
   "cell_type": "code",
   "execution_count": 4,
   "metadata": {
    "collapsed": true
   },
   "outputs": [],
   "source": [
    "class Parser:\n",
    "    characters = {\"(\": \")\", \n",
    "                  \"{\": \"}\", \n",
    "                  \"[\": \"]\"}\n",
    "    \n",
    "    def isvalid(self, s):\n",
    "        stack = []\n",
    "        for c in s:\n",
    "            if c in self.characters.keys():\n",
    "                stack.append(c)\n",
    "            elif c in self.characters.values() and len(stack)>0:\n",
    "                stack.pop()\n",
    "            else:\n",
    "                continue\n",
    "        return len(stack) == 0"
   ]
  },
  {
   "cell_type": "code",
   "execution_count": 5,
   "metadata": {
    "collapsed": true
   },
   "outputs": [],
   "source": [
    "p = Parser()"
   ]
  },
  {
   "cell_type": "code",
   "execution_count": 6,
   "metadata": {},
   "outputs": [
    {
     "data": {
      "text/plain": [
       "True"
      ]
     },
     "execution_count": 6,
     "metadata": {},
     "output_type": "execute_result"
    }
   ],
   "source": [
    "p.isvalid(\"[(asd)]\")"
   ]
  },
  {
   "cell_type": "markdown",
   "metadata": {},
   "source": [
    "#### Exercise\n",
    "Write a Person class with age and birthdate fields. The age field can only be get. The birthdate can be get and set. The birthdate can't be set before 1900 and after 2018. After birthdate is set, the age field must be updated. Use private fields.\n",
    "\n",
    "```\n",
    "valar = Person()\n",
    "valar.birthdate = datetime.date(1992, 3, 12)\n",
    "print(valar.age)\n",
    "25\n",
    "```"
   ]
  },
  {
   "cell_type": "code",
   "execution_count": 7,
   "metadata": {},
   "outputs": [
    {
     "name": "stdout",
     "output_type": "stream",
     "text": [
      "Jane\n",
      "1992-03-12\n",
      "25\n",
      "1982-03-12\n",
      "35\n",
      "1982-03-12\n",
      "35\n"
     ]
    }
   ],
   "source": [
    "import datetime # we will use this for date objects\n",
    "\n",
    "class Person:\n",
    "\n",
    "    def __init__(self, name, surname, birthdate):\n",
    "        self.name = name\n",
    "        self.surname = surname\n",
    "        self.__birthdate = birthdate\n",
    "    \n",
    "    @property\n",
    "    def age(self):\n",
    "        today = datetime.date.today()\n",
    "        age = today.year - self.birthdate.year\n",
    "\n",
    "        if today < datetime.date(today.year, self.birthdate.month, self.birthdate.day):\n",
    "            age -= 1\n",
    "\n",
    "        return age\n",
    "    \n",
    "    @property\n",
    "    def birthdate(self):\n",
    "        return self.__birthdate\n",
    "\n",
    "    @birthdate.setter\n",
    "    def birthdate(self, d):\n",
    "        today = datetime.date.today()\n",
    "        \n",
    "        if d.year > 1900 and d <= today:\n",
    "            self.__birthdate = d\n",
    "        \n",
    "\n",
    "person = Person(\n",
    "    \"Jane\",\n",
    "    \"Doe\",\n",
    "    datetime.date(1992, 3, 12), # year, month, day\n",
    ")\n",
    "\n",
    "print(person.name)\n",
    "print(person.birthdate)\n",
    "print(person.age)\n",
    "\n",
    "person.birthdate = datetime.date(1982, 3, 12)\n",
    "print(person.birthdate)\n",
    "print(person.age)\n",
    "\n",
    "person.birthdate = datetime.date(1900, 3, 12)\n",
    "print(person.birthdate)\n",
    "print(person.age)"
   ]
  },
  {
   "cell_type": "markdown",
   "metadata": {},
   "source": [
    "#### Exercise\n",
    "Take two lists of fields and values, set each field with the given value on an empty object. After setting all fields, take some fields from the user and get values of those fields if existing.\n",
    "\n",
    "```\n",
    "fields = [\"name\", \"surname\", \"birthdate\", \"address\", \"phonenumber\"]\n",
    "values = [\"Albert\", \"Einstein\", datetime.date(1879, 3, 14), \"US\", \"299792458\"]\n",
    "\n",
    "obj = EmptyObject()\n",
    "set_fields(obj, fields, values)\n",
    "query_fields = get_from_user()\n",
    "get_fields(obj, [\"name\", \"phonenumber\", \"mediocrity\"])\n",
    ">>> \"Albert\", \"299792458\", None\n",
    "```"
   ]
  },
  {
   "cell_type": "code",
   "execution_count": 8,
   "metadata": {
    "collapsed": true
   },
   "outputs": [],
   "source": [
    "class EmptyObject:\n",
    "    pass\n",
    "\n",
    "def set_fields(obj, fields, values):\n",
    "    for f,v in zip(fields, values):\n",
    "        setattr(obj, f, v)\n",
    "        \n",
    "def get_fields(obj, fields):\n",
    "    values = []\n",
    "    for f in fields:\n",
    "        v = None\n",
    "        if hasattr(obj, f):\n",
    "            v = getattr(obj, f)\n",
    "        values.append(v)\n",
    "    return values\n",
    " "
   ]
  },
  {
   "cell_type": "code",
   "execution_count": 9,
   "metadata": {
    "collapsed": true
   },
   "outputs": [],
   "source": [
    "fields = [\"name\", \"surname\", \"birthdate\", \"address\", \"phonenumber\"]\n",
    "values = [\"Albert\", \"Einstein\", datetime.date(1879, 3, 14), \"US\", \"299792458\"]\n",
    "\n",
    "obj = EmptyObject()\n",
    "set_fields(obj, fields, values)"
   ]
  },
  {
   "cell_type": "code",
   "execution_count": 10,
   "metadata": {},
   "outputs": [
    {
     "data": {
      "text/plain": [
       "['Albert', '299792458', None]"
      ]
     },
     "execution_count": 10,
     "metadata": {},
     "output_type": "execute_result"
    }
   ],
   "source": [
    "get_fields(obj, [\"name\", \"phonenumber\", \"mediocrity\"])"
   ]
  },
  {
   "cell_type": "markdown",
   "metadata": {},
   "source": [
    "#### Exercise\n"
   ]
  },
  {
   "cell_type": "code",
   "execution_count": 2,
   "metadata": {
    "collapsed": true
   },
   "outputs": [],
   "source": [
    "from math import pi\n",
    "    \n",
    "class Circle:\n",
    "    def __init__(self, radius):\n",
    "        self.radius = radius\n",
    "        \n",
    "    @property\n",
    "    def perimeter(self):\n",
    "        return 2*pi*self.radius\n",
    "    \n",
    "    @property\n",
    "    def area(self):\n",
    "        return pi*self.radius**2\n",
    "    \n",
    "\n",
    "class Tire(Circle):\n",
    "    pass"
   ]
  },
  {
   "cell_type": "code",
   "execution_count": 4,
   "metadata": {
    "collapsed": true
   },
   "outputs": [],
   "source": [
    "t = Tire(5)"
   ]
  },
  {
   "cell_type": "code",
   "execution_count": 6,
   "metadata": {},
   "outputs": [
    {
     "data": {
      "text/plain": [
       "31.41592653589793"
      ]
     },
     "execution_count": 6,
     "metadata": {},
     "output_type": "execute_result"
    }
   ],
   "source": [
    "t.perimeter"
   ]
  },
  {
   "cell_type": "code",
   "execution_count": 7,
   "metadata": {},
   "outputs": [
    {
     "data": {
      "text/plain": [
       "78.53981633974483"
      ]
     },
     "execution_count": 7,
     "metadata": {},
     "output_type": "execute_result"
    }
   ],
   "source": [
    "t.area"
   ]
  },
  {
   "cell_type": "markdown",
   "metadata": {
    "collapsed": true
   },
   "source": [
    "#### Exercise\n",
    "Write a Fraction class that can add, subtract, multiply and divide by keeping it in lowest terms."
   ]
  },
  {
   "cell_type": "code",
   "execution_count": 38,
   "metadata": {
    "collapsed": true
   },
   "outputs": [],
   "source": [
    "def gcd(m,n):\n",
    "    while m%n != 0:\n",
    "        oldm = m\n",
    "        oldn = n\n",
    "\n",
    "        m = oldn\n",
    "        n = oldm%oldn\n",
    "    return n\n",
    "\n",
    "class Fraction:\n",
    "    def __init__(self,top,bottom):\n",
    "        common = gcd(abs(top), abs(bottom))\n",
    "        self.num = top // common\n",
    "        self.den = bottom // common\n",
    "        \n",
    "    def __str__(self):\n",
    "        return str(self.num)+\"/\"+str(self.den)\n",
    "    \n",
    "    def __repr__(self):\n",
    "        return str(self.num)+\"/\"+str(self.den)\n",
    "    \n",
    "    def __neg__(self):\n",
    "        return Fraction(-1*self.num, self.den)\n",
    "    \n",
    "    def __pos__(self):\n",
    "        return self\n",
    "    \n",
    "    def __abs__(self):\n",
    "        return Fraction(abs(self.num),abs(self.den))\n",
    "    \n",
    "    def __invert__(self):\n",
    "        return Fraction(self.den, self.num)\n",
    "    \n",
    "    def __float__(self):\n",
    "        return self.num / self.den\n",
    "    \n",
    "    def __int__(self):\n",
    "        return self.num // self.den\n",
    "    \n",
    "    def __add__(self, other):\n",
    "        newnum = self.num * other.den + self.den * other.num\n",
    "        newden = self.den * other.den\n",
    "        return Fraction(newnum,newden)\n",
    "    \n",
    "    def __radd__(self, other):\n",
    "        return self + other\n",
    "    \n",
    "    def __sub__(self, other):\n",
    "        newnum = self.num * other.den - self.den * other.num\n",
    "        newden = self.den * other.den\n",
    "        return Fraction(newnum,newden)\n",
    "    \n",
    "    def __rsub__(self, other):\n",
    "        return -1*self + other\n",
    "    \n",
    "    def __mul__(self, other):\n",
    "        newnum = self.num * other.num\n",
    "        newden = self.den * other.den\n",
    "        return Fraction(newnum,newden)\n",
    "    \n",
    "    def __rmul__(self, other):\n",
    "        return self + other\n",
    "    \n",
    "    def __truediv__(self, other):\n",
    "        newnum = self.num * other.den\n",
    "        newden = self.den * other.num\n",
    "        return Fraction(newnum,newden)\n",
    "    \n",
    "    def __pow__(self, n):\n",
    "        newnum = self.num ** n\n",
    "        newden = self.den ** n\n",
    "        return Fraction(newnum,newden)\n",
    "    \n",
    "    def __eq__(self, other):\n",
    "        firstnum = self.num * other.den\n",
    "        secondnum = other.num * self.den\n",
    "        return firstnum == secondnum\n",
    "    \n",
    "    def __ne__(self, other):\n",
    "        firstnum = self.num * other.den\n",
    "        secondnum = other.num * self.den\n",
    "        return firstnum != secondnum\n",
    "    \n",
    "    def __lt__(self, other):\n",
    "        firstnum = self.num * other.den\n",
    "        secondnum = other.num * self.den\n",
    "        return firstnum < secondnum\n",
    "    \n",
    "    def __le__(self, other):\n",
    "        firstnum = self.num * other.den\n",
    "        secondnum = other.num * self.den\n",
    "        return firstnum <= secondnum\n",
    "    \n",
    "    def __gt__(self, other):\n",
    "        firstnum = self.num * other.den\n",
    "        secondnum = other.num * self.den\n",
    "        return firstnum > secondnum\n",
    "    \n",
    "    def __ge__(self, other):\n",
    "        firstnum = self.num * other.den\n",
    "        secondnum = other.num * self.den\n",
    "        return firstnum >= secondnum\n",
    "\n",
    "    def __iadd__(self, other):\n",
    "        return self + other\n",
    "    \n",
    "    def __isub__(self, other):\n",
    "        return self - other\n",
    "    \n",
    "    def __imul__(self, other):\n",
    "        return self * other\n",
    "    \n",
    "    def __idiv__(self, other):\n",
    "        return self / other\n",
    "    \n",
    "    def __ipow__(self, other):\n",
    "        return self ** other"
   ]
  },
  {
   "cell_type": "code",
   "execution_count": null,
   "metadata": {
    "collapsed": true
   },
   "outputs": [],
   "source": []
  },
  {
   "cell_type": "code",
   "execution_count": null,
   "metadata": {
    "collapsed": true
   },
   "outputs": [],
   "source": []
  }
 ],
 "metadata": {
  "kernelspec": {
   "display_name": "Python 3",
   "language": "python",
   "name": "python3"
  },
  "language_info": {
   "codemirror_mode": {
    "name": "ipython",
    "version": 3
   },
   "file_extension": ".py",
   "mimetype": "text/x-python",
   "name": "python",
   "nbconvert_exporter": "python",
   "pygments_lexer": "ipython3",
   "version": "3.6.3"
  }
 },
 "nbformat": 4,
 "nbformat_minor": 2
}
