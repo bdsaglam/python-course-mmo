{
 "cells": [
  {
   "cell_type": "markdown",
   "metadata": {},
   "source": [
    "# Object Oriented Programming"
   ]
  },
  {
   "cell_type": "markdown",
   "metadata": {},
   "source": [
    "TODO\n",
    "\n",
    "* What is OOP?\n",
    "* Subclassing example and exercise"
   ]
  },
  {
   "cell_type": "markdown",
   "metadata": {},
   "source": [
    "## Encapsulation"
   ]
  },
  {
   "cell_type": "code",
   "execution_count": null,
   "metadata": {
    "collapsed": true
   },
   "outputs": [],
   "source": []
  },
  {
   "cell_type": "markdown",
   "metadata": {},
   "source": [
    "## Polymorphism"
   ]
  },
  {
   "cell_type": "code",
   "execution_count": null,
   "metadata": {
    "collapsed": true
   },
   "outputs": [],
   "source": []
  },
  {
   "cell_type": "markdown",
   "metadata": {},
   "source": [
    "## Inheritance"
   ]
  },
  {
   "cell_type": "code",
   "execution_count": null,
   "metadata": {
    "collapsed": true
   },
   "outputs": [],
   "source": []
  },
  {
   "cell_type": "markdown",
   "metadata": {},
   "source": [
    "## Classes"
   ]
  },
  {
   "cell_type": "code",
   "execution_count": 1,
   "metadata": {
    "collapsed": true
   },
   "outputs": [],
   "source": [
    "class SimplestClass:\n",
    "    pass"
   ]
  },
  {
   "cell_type": "code",
   "execution_count": 2,
   "metadata": {
    "collapsed": true
   },
   "outputs": [],
   "source": [
    "class MyClass:\n",
    "    \"\"\"A simple example class\"\"\"\n",
    "    field = 12345\n",
    "\n",
    "    def method1(self):\n",
    "        return 'hello world'\n",
    "    \n",
    "    def method2(self, parameter):\n",
    "        return self.field*parameter"
   ]
  },
  {
   "cell_type": "code",
   "execution_count": 3,
   "metadata": {
    "collapsed": true
   },
   "outputs": [],
   "source": [
    "my_instance = MyClass()"
   ]
  },
  {
   "cell_type": "code",
   "execution_count": 4,
   "metadata": {},
   "outputs": [
    {
     "data": {
      "text/plain": [
       "12345"
      ]
     },
     "execution_count": 4,
     "metadata": {},
     "output_type": "execute_result"
    }
   ],
   "source": [
    "my_instance.field"
   ]
  },
  {
   "cell_type": "code",
   "execution_count": 5,
   "metadata": {},
   "outputs": [
    {
     "data": {
      "text/plain": [
       "'hello world'"
      ]
     },
     "execution_count": 5,
     "metadata": {},
     "output_type": "execute_result"
    }
   ],
   "source": [
    "my_instance.method1()"
   ]
  },
  {
   "cell_type": "code",
   "execution_count": 6,
   "metadata": {},
   "outputs": [
    {
     "data": {
      "text/plain": [
       "12345"
      ]
     },
     "execution_count": 6,
     "metadata": {},
     "output_type": "execute_result"
    }
   ],
   "source": [
    "MyClass.field"
   ]
  },
  {
   "cell_type": "code",
   "execution_count": 7,
   "metadata": {
    "collapsed": true
   },
   "outputs": [],
   "source": [
    "my_instance.counter = 0"
   ]
  },
  {
   "cell_type": "code",
   "execution_count": 8,
   "metadata": {},
   "outputs": [
    {
     "data": {
      "text/plain": [
       "0"
      ]
     },
     "execution_count": 8,
     "metadata": {},
     "output_type": "execute_result"
    }
   ],
   "source": [
    "my_instance.counter"
   ]
  },
  {
   "cell_type": "code",
   "execution_count": 9,
   "metadata": {},
   "outputs": [
    {
     "data": {
      "text/plain": [
       "'hello world'"
      ]
     },
     "execution_count": 9,
     "metadata": {},
     "output_type": "execute_result"
    }
   ],
   "source": [
    "MyClass.method1(my_instance)"
   ]
  },
  {
   "cell_type": "code",
   "execution_count": 10,
   "metadata": {
    "collapsed": true
   },
   "outputs": [],
   "source": [
    "fun = my_instance.method1"
   ]
  },
  {
   "cell_type": "code",
   "execution_count": 12,
   "metadata": {},
   "outputs": [
    {
     "data": {
      "text/plain": [
       "method"
      ]
     },
     "execution_count": 12,
     "metadata": {},
     "output_type": "execute_result"
    }
   ],
   "source": [
    "type(fun)"
   ]
  },
  {
   "cell_type": "code",
   "execution_count": 13,
   "metadata": {},
   "outputs": [
    {
     "data": {
      "text/plain": [
       "function"
      ]
     },
     "execution_count": 13,
     "metadata": {},
     "output_type": "execute_result"
    }
   ],
   "source": [
    "type(MyClass.method1)"
   ]
  },
  {
   "cell_type": "code",
   "execution_count": 15,
   "metadata": {},
   "outputs": [
    {
     "data": {
      "text/plain": [
       "method"
      ]
     },
     "execution_count": 15,
     "metadata": {},
     "output_type": "execute_result"
    }
   ],
   "source": [
    "type(my_instance.method1)"
   ]
  },
  {
   "cell_type": "code",
   "execution_count": 21,
   "metadata": {
    "collapsed": true
   },
   "outputs": [],
   "source": [
    "def methodify(obj_instance):\n",
    "    def fonk():\n",
    "        return MyClass.method1(obj_instance)\n",
    "    return fonk"
   ]
  },
  {
   "cell_type": "code",
   "execution_count": 22,
   "metadata": {
    "collapsed": true
   },
   "outputs": [],
   "source": [
    "f = methodify(my_instance)"
   ]
  },
  {
   "cell_type": "code",
   "execution_count": 23,
   "metadata": {},
   "outputs": [
    {
     "data": {
      "text/plain": [
       "'hello world'"
      ]
     },
     "execution_count": 23,
     "metadata": {},
     "output_type": "execute_result"
    }
   ],
   "source": [
    "f()"
   ]
  },
  {
   "cell_type": "code",
   "execution_count": 24,
   "metadata": {},
   "outputs": [
    {
     "data": {
      "text/plain": [
       "function"
      ]
     },
     "execution_count": 24,
     "metadata": {},
     "output_type": "execute_result"
    }
   ],
   "source": [
    "type(f)"
   ]
  },
  {
   "cell_type": "code",
   "execution_count": 25,
   "metadata": {
    "collapsed": true
   },
   "outputs": [],
   "source": [
    "class Complex:\n",
    "    def __init__(self, realpart, imagpart):\n",
    "        self.r = realpart\n",
    "        self.i = imagpart"
   ]
  },
  {
   "cell_type": "code",
   "execution_count": 26,
   "metadata": {
    "collapsed": true
   },
   "outputs": [],
   "source": [
    "c = Complex(3,4)"
   ]
  },
  {
   "cell_type": "code",
   "execution_count": 27,
   "metadata": {},
   "outputs": [
    {
     "data": {
      "text/plain": [
       "(3, 4)"
      ]
     },
     "execution_count": 27,
     "metadata": {},
     "output_type": "execute_result"
    }
   ],
   "source": [
    "c.r, c.i"
   ]
  },
  {
   "cell_type": "code",
   "execution_count": 28,
   "metadata": {
    "collapsed": true
   },
   "outputs": [],
   "source": [
    "class Dog:\n",
    "    kind = 'canine'         # class variable shared by all instances\n",
    "\n",
    "    def __init__(self, name):\n",
    "        self.name = name    # instance variable unique to each instance"
   ]
  },
  {
   "cell_type": "code",
   "execution_count": 43,
   "metadata": {
    "collapsed": true
   },
   "outputs": [],
   "source": [
    "# Function defined outside the class\n",
    "def stmethod(parameter):\n",
    "    print(parameter)\n",
    "\n",
    "def insmethod(self, x, y):\n",
    "    print(self, x,y )\n",
    "    return x**y\n",
    "\n",
    "class C:\n",
    "    instance_method = insmethod\n",
    "    static_method = stmethod\n",
    "\n",
    "    def method1(self):\n",
    "        return 'hello world'\n",
    "\n",
    "    meth = method1"
   ]
  },
  {
   "cell_type": "code",
   "execution_count": 44,
   "metadata": {},
   "outputs": [
    {
     "ename": "TypeError",
     "evalue": "insmethod() missing 1 required positional argument: 'y'",
     "output_type": "error",
     "traceback": [
      "\u001b[0;31m---------------------------------------------------------------------------\u001b[0m",
      "\u001b[0;31mTypeError\u001b[0m                                 Traceback (most recent call last)",
      "\u001b[0;32m<ipython-input-44-2a46cfc1d650>\u001b[0m in \u001b[0;36m<module>\u001b[0;34m()\u001b[0m\n\u001b[0;32m----> 1\u001b[0;31m \u001b[0mC\u001b[0m\u001b[0;34m.\u001b[0m\u001b[0minstance_method\u001b[0m\u001b[0;34m(\u001b[0m\u001b[0;36m1\u001b[0m\u001b[0;34m,\u001b[0m\u001b[0;36m2\u001b[0m\u001b[0;34m)\u001b[0m\u001b[0;34m\u001b[0m\u001b[0m\n\u001b[0m",
      "\u001b[0;31mTypeError\u001b[0m: insmethod() missing 1 required positional argument: 'y'"
     ]
    }
   ],
   "source": [
    "C.instance_method(1,2)"
   ]
  },
  {
   "cell_type": "code",
   "execution_count": 45,
   "metadata": {},
   "outputs": [
    {
     "name": "stdout",
     "output_type": "stream",
     "text": [
      "in static method\n"
     ]
    }
   ],
   "source": [
    "C.static_method(\"in static method\")"
   ]
  },
  {
   "cell_type": "code",
   "execution_count": 46,
   "metadata": {
    "collapsed": true
   },
   "outputs": [],
   "source": [
    "c = C()"
   ]
  },
  {
   "cell_type": "code",
   "execution_count": 48,
   "metadata": {},
   "outputs": [
    {
     "name": "stdout",
     "output_type": "stream",
     "text": [
      "<__main__.C object at 0x10e4feba8> 1 2\n"
     ]
    },
    {
     "data": {
      "text/plain": [
       "1"
      ]
     },
     "execution_count": 48,
     "metadata": {},
     "output_type": "execute_result"
    }
   ],
   "source": [
    "c.instance_method(1,2)"
   ]
  },
  {
   "cell_type": "code",
   "execution_count": 49,
   "metadata": {},
   "outputs": [
    {
     "data": {
      "text/plain": [
       "'hello world'"
      ]
     },
     "execution_count": 49,
     "metadata": {},
     "output_type": "execute_result"
    }
   ],
   "source": [
    "c.meth()"
   ]
  },
  {
   "cell_type": "code",
   "execution_count": 51,
   "metadata": {},
   "outputs": [
    {
     "ename": "TypeError",
     "evalue": "method1() missing 1 required positional argument: 'self'",
     "output_type": "error",
     "traceback": [
      "\u001b[0;31m---------------------------------------------------------------------------\u001b[0m",
      "\u001b[0;31mTypeError\u001b[0m                                 Traceback (most recent call last)",
      "\u001b[0;32m<ipython-input-51-31e701011e70>\u001b[0m in \u001b[0;36m<module>\u001b[0;34m()\u001b[0m\n\u001b[0;32m----> 1\u001b[0;31m \u001b[0mC\u001b[0m\u001b[0;34m.\u001b[0m\u001b[0mmeth\u001b[0m\u001b[0;34m(\u001b[0m\u001b[0;34m)\u001b[0m\u001b[0;34m\u001b[0m\u001b[0m\n\u001b[0m",
      "\u001b[0;31mTypeError\u001b[0m: method1() missing 1 required positional argument: 'self'"
     ]
    }
   ],
   "source": [
    "C.meth()"
   ]
  },
  {
   "cell_type": "markdown",
   "metadata": {},
   "source": [
    "#### Exercise\n",
    "\n",
    "Take a string with Turkish characters and replace them with Latin ones.\n",
    "\n",
    "turkish_characters = ['ç','ğ','ı', 'ö', 'ü', 'ş']\n",
    "\n",
    "latin_characters = ['c', 'g', 'i', 'o', 'u', 's']\n",
    "\n",
    "greek_characters = ['τζ', 'γ', 'ή', 'ώ', 'υ', 'σ']\n",
    "\n",
    "Input: \"çağ ömür iş\"\n",
    "\n",
    "Expected result: \"τζaγ ώmυr ήσ\", \"cag is omur\"\n",
    "\n",
    "Hint: Iterate over two list of characters simultaneously and use str.replace one by one"
   ]
  },
  {
   "cell_type": "code",
   "execution_count": null,
   "metadata": {
    "collapsed": true
   },
   "outputs": [],
   "source": []
  },
  {
   "cell_type": "markdown",
   "metadata": {},
   "source": [
    "#### Exercise\n",
    "Write a class that parses a string consisting parantheses and evaluate its validity.\n",
    "\n",
    "```\n",
    "Input: \"[ ( 1, 2, 3, (, ), [] ) ]\" \n",
    "Expected output: True\n",
    "\n",
    "Input: \"[[]\" \n",
    "Expected output: False\n",
    "\n",
    "Input: \"(\" \n",
    "Expected output: False\n",
    "```"
   ]
  },
  {
   "cell_type": "code",
   "execution_count": null,
   "metadata": {
    "collapsed": true
   },
   "outputs": [],
   "source": []
  },
  {
   "cell_type": "markdown",
   "metadata": {},
   "source": [
    "## Public and private"
   ]
  },
  {
   "cell_type": "code",
   "execution_count": null,
   "metadata": {
    "collapsed": true
   },
   "outputs": [],
   "source": [
    "class Secretive:\n",
    "    def __inaccessible(self):\n",
    "        print(\"Bet you can't see me...\")\n",
    "        \n",
    "    def accessible(self):\n",
    "        print(\"The secret message is:\")\n",
    "        self.__inaccessible()"
   ]
  },
  {
   "cell_type": "code",
   "execution_count": null,
   "metadata": {
    "collapsed": true
   },
   "outputs": [],
   "source": [
    "s = Secretive()"
   ]
  },
  {
   "cell_type": "code",
   "execution_count": null,
   "metadata": {
    "collapsed": true
   },
   "outputs": [],
   "source": [
    "s.accessible()"
   ]
  },
  {
   "cell_type": "code",
   "execution_count": null,
   "metadata": {
    "collapsed": true
   },
   "outputs": [],
   "source": [
    "s.__inaccessible()"
   ]
  },
  {
   "cell_type": "code",
   "execution_count": null,
   "metadata": {
    "collapsed": true
   },
   "outputs": [],
   "source": [
    "s._Secretive__inaccessible()"
   ]
  },
  {
   "cell_type": "markdown",
   "metadata": {},
   "source": [
    "## Properties"
   ]
  },
  {
   "cell_type": "code",
   "execution_count": 29,
   "metadata": {
    "collapsed": true
   },
   "outputs": [],
   "source": [
    "class P:\n",
    "    def __init__(self,x):\n",
    "        self.__x = x # usually a property field is made private to be able to control set behaviour\n",
    "\n",
    "    def get_x(self):\n",
    "        return self.__x\n",
    "\n",
    "    def set_x(self, x):\n",
    "        self.__x = x"
   ]
  },
  {
   "cell_type": "code",
   "execution_count": 2,
   "metadata": {
    "collapsed": true
   },
   "outputs": [],
   "source": [
    "class ProP:\n",
    "    def __init__(self,x):\n",
    "        self.x = x\n",
    "\n",
    "    @property\n",
    "    def x(self):\n",
    "        return self.__x\n",
    "\n",
    "    @x.setter\n",
    "    def x(self, x):\n",
    "        if x < 0:\n",
    "            self.__x = 0\n",
    "        elif x > 1000:\n",
    "            self.__x = 1000\n",
    "        else:\n",
    "            self.__x = x"
   ]
  },
  {
   "cell_type": "code",
   "execution_count": 5,
   "metadata": {
    "collapsed": true
   },
   "outputs": [],
   "source": [
    "p = ProP(5)\n"
   ]
  },
  {
   "cell_type": "code",
   "execution_count": 6,
   "metadata": {},
   "outputs": [
    {
     "data": {
      "text/plain": [
       "5"
      ]
     },
     "execution_count": 6,
     "metadata": {},
     "output_type": "execute_result"
    }
   ],
   "source": [
    "p.x"
   ]
  },
  {
   "cell_type": "code",
   "execution_count": 8,
   "metadata": {
    "collapsed": true
   },
   "outputs": [],
   "source": [
    "p.x = -10"
   ]
  },
  {
   "cell_type": "code",
   "execution_count": 9,
   "metadata": {},
   "outputs": [
    {
     "data": {
      "text/plain": [
       "0"
      ]
     },
     "execution_count": 9,
     "metadata": {},
     "output_type": "execute_result"
    }
   ],
   "source": [
    "p.x"
   ]
  },
  {
   "cell_type": "code",
   "execution_count": 10,
   "metadata": {
    "collapsed": true
   },
   "outputs": [],
   "source": [
    "p.x = 10000"
   ]
  },
  {
   "cell_type": "code",
   "execution_count": 11,
   "metadata": {},
   "outputs": [
    {
     "data": {
      "text/plain": [
       "1000"
      ]
     },
     "execution_count": 11,
     "metadata": {},
     "output_type": "execute_result"
    }
   ],
   "source": [
    "p.x"
   ]
  },
  {
   "cell_type": "markdown",
   "metadata": {},
   "source": [
    "#### Exercise\n",
    "Write a Person class with age and birthdate fields. The age field can only be get. The birthdate can be get and set. The birthdate can't be set before 1900 and after 2018. After birthdate is set, the age field must be updated. Use private fields.\n",
    "\n",
    "```\n",
    "valar = Person()\n",
    "valar.birthdate = datetime.date(1992, 3, 12)\n",
    "print(valar.age)\n",
    "25\n",
    "```"
   ]
  },
  {
   "cell_type": "code",
   "execution_count": null,
   "metadata": {
    "collapsed": true
   },
   "outputs": [],
   "source": []
  },
  {
   "cell_type": "markdown",
   "metadata": {},
   "source": [
    "## getattr, setattr and hasattr"
   ]
  },
  {
   "cell_type": "code",
   "execution_count": 1,
   "metadata": {
    "collapsed": true
   },
   "outputs": [],
   "source": [
    "class Employee:\n",
    "    def __init__(self, name, surname, department):\n",
    "        self.name = name\n",
    "        self.surname = surname\n",
    "        self.department = department"
   ]
  },
  {
   "cell_type": "code",
   "execution_count": 2,
   "metadata": {
    "collapsed": true
   },
   "outputs": [],
   "source": [
    "e = Employee(\"Barış\", \"Sağlam\", \"Board\")"
   ]
  },
  {
   "cell_type": "code",
   "execution_count": 5,
   "metadata": {},
   "outputs": [
    {
     "name": "stdout",
     "output_type": "stream",
     "text": [
      "False\n"
     ]
    }
   ],
   "source": [
    "print(hasattr(Employee, \"name\"))"
   ]
  },
  {
   "cell_type": "code",
   "execution_count": 3,
   "metadata": {},
   "outputs": [
    {
     "name": "stdout",
     "output_type": "stream",
     "text": [
      "True\n",
      "True\n",
      "False\n"
     ]
    }
   ],
   "source": [
    "print(hasattr(e, \"name\"))\n",
    "print(hasattr(e, \"department\"))\n",
    "print(hasattr(e, \"salary\"))"
   ]
  },
  {
   "cell_type": "code",
   "execution_count": 4,
   "metadata": {},
   "outputs": [
    {
     "name": "stdout",
     "output_type": "stream",
     "text": [
      "Barış\n",
      "Board\n"
     ]
    }
   ],
   "source": [
    "print(getattr(e, \"name\")) # e.name\n",
    "print(getattr(e, \"department\")) # e.department"
   ]
  },
  {
   "cell_type": "code",
   "execution_count": 38,
   "metadata": {},
   "outputs": [
    {
     "ename": "AttributeError",
     "evalue": "'Employee' object has no attribute 'salary'",
     "output_type": "error",
     "traceback": [
      "\u001b[0;31m---------------------------------------------------------------------------\u001b[0m",
      "\u001b[0;31mAttributeError\u001b[0m                            Traceback (most recent call last)",
      "\u001b[0;32m<ipython-input-38-be75f271f27a>\u001b[0m in \u001b[0;36m<module>\u001b[0;34m()\u001b[0m\n\u001b[0;32m----> 1\u001b[0;31m \u001b[0mprint\u001b[0m\u001b[0;34m(\u001b[0m\u001b[0mgetattr\u001b[0m\u001b[0;34m(\u001b[0m\u001b[0me\u001b[0m\u001b[0;34m,\u001b[0m \u001b[0;34m\"salary\"\u001b[0m\u001b[0;34m)\u001b[0m\u001b[0;34m)\u001b[0m\u001b[0;34m\u001b[0m\u001b[0m\n\u001b[0m",
      "\u001b[0;31mAttributeError\u001b[0m: 'Employee' object has no attribute 'salary'"
     ]
    }
   ],
   "source": [
    "print(getattr(e, \"salary\")) "
   ]
  },
  {
   "cell_type": "code",
   "execution_count": 43,
   "metadata": {},
   "outputs": [
    {
     "name": "stdout",
     "output_type": "stream",
     "text": [
      "Deniz\n"
     ]
    }
   ],
   "source": [
    "setattr(e, \"name\", \"Deniz\") # e.name = \"Deniz\"\n",
    "print(getattr(e, \"name\"))"
   ]
  },
  {
   "cell_type": "code",
   "execution_count": 41,
   "metadata": {
    "collapsed": true
   },
   "outputs": [],
   "source": [
    "setattr(e, \"salary\", float(\"inf\"))"
   ]
  },
  {
   "cell_type": "code",
   "execution_count": 42,
   "metadata": {},
   "outputs": [
    {
     "name": "stdout",
     "output_type": "stream",
     "text": [
      "inf\n"
     ]
    }
   ],
   "source": [
    "print(getattr(e, \"salary\"))"
   ]
  },
  {
   "cell_type": "markdown",
   "metadata": {},
   "source": [
    "#### Exercise\n",
    "Take two lists of fields and values, set each field with the given value on an empty object. After setting all fields, take some fields from the user and get values of those fields if existing.\n",
    "\n",
    "```\n",
    "fields = [\"name\", \"surname\", \"birthdate\", \"address\", \"phonenumber\"]\n",
    "values = [\"Albert\", \"Einstein\", datetime.date(1879, 3, 14), \"US\", \"299792458\"]\n",
    "\n",
    "obj = EmptyObject()\n",
    "set_fields(obj, fields, values)\n",
    "query_fields = get_from_user()\n",
    "get_fields(obj, [\"name\", \"phonenumber\", \"mediocrity\"])\n",
    ">>> \"Albert\", \"299792458\", None\n",
    "```"
   ]
  },
  {
   "cell_type": "code",
   "execution_count": null,
   "metadata": {
    "collapsed": true
   },
   "outputs": [],
   "source": []
  },
  {
   "cell_type": "markdown",
   "metadata": {},
   "source": [
    "## staticmethod classmethod"
   ]
  },
  {
   "cell_type": "code",
   "execution_count": 72,
   "metadata": {},
   "outputs": [
    {
     "name": "stdout",
     "output_type": "stream",
     "text": [
      "Jane Smith\n",
      "['Mr', 'Mrs', 'Ms']\n",
      "['Dr']\n",
      "Barış Deniz Sağlam\n",
      "Barış Deniz\n",
      "Sağlam\n"
     ]
    }
   ],
   "source": [
    "class Person:\n",
    "    TITLES = ('Dr', 'Mr', 'Mrs', 'Ms')\n",
    "\n",
    "    def __init__(self, name, surname):\n",
    "        self.name = name\n",
    "        self.surname = surname\n",
    "\n",
    "    def fullname(self): # instance method\n",
    "        # instance object accessible through self\n",
    "        return \"%s %s\" % (self.name, self.surname)\n",
    "    \n",
    "    @staticmethod\n",
    "    def allowed_titles_starting_with(start): # static method\n",
    "        # no parameter for class or instance object\n",
    "        # we have to use Person directly\n",
    "        return [t for t in Person.TITLES if t.startswith(start)]\n",
    "    \n",
    "    # a factory method\n",
    "    @classmethod\n",
    "    def from_string(cls, s): # class method\n",
    "        name, surname = s.rsplit(' ', 1)\n",
    "        print(name, surname)\n",
    "        return cls(name, surname)\n",
    "\n",
    "\n",
    "jane = Person(\"Jane\", \"Smith\")\n",
    "\n",
    "print(jane.fullname())\n",
    "\n",
    "# static methods can be called from instance or class\n",
    "print(jane.allowed_titles_starting_with(\"M\"))\n",
    "print(Person.allowed_titles_starting_with(\"D\"))\n",
    "\n",
    "bds = Person.from_string(\"Barış Deniz Sağlam\")\n",
    "print(bds.name)\n",
    "print(bds.surname)"
   ]
  },
  {
   "cell_type": "code",
   "execution_count": null,
   "metadata": {
    "collapsed": true
   },
   "outputs": [],
   "source": []
  },
  {
   "cell_type": "markdown",
   "metadata": {},
   "source": [
    "## Inheritance and Polymorphism"
   ]
  },
  {
   "cell_type": "code",
   "execution_count": 73,
   "metadata": {
    "collapsed": true
   },
   "outputs": [],
   "source": [
    "class Filter:\n",
    "    def check(self, element):\n",
    "        return True\n",
    "    \n",
    "    def filtre(self, sequence):\n",
    "        return [x for x in sequence if self.check(x)]"
   ]
  },
  {
   "cell_type": "code",
   "execution_count": 74,
   "metadata": {
    "collapsed": true
   },
   "outputs": [],
   "source": [
    "class SPAMFilter(Filter): # SPAMFilter is a subclass of Filter\n",
    "    def check(self, element):\n",
    "        if element=='SPAM':\n",
    "            return False\n",
    "        return True"
   ]
  },
  {
   "cell_type": "code",
   "execution_count": 75,
   "metadata": {
    "collapsed": true
   },
   "outputs": [],
   "source": [
    "class NumberFilter(Filter): #\n",
    "    def check(self, element):\n",
    "        if isinstance(element, (int, float)):\n",
    "            return False\n",
    "        return True"
   ]
  },
  {
   "cell_type": "code",
   "execution_count": 76,
   "metadata": {
    "collapsed": true
   },
   "outputs": [],
   "source": [
    "seq = [1, 2, 3.0, 'SPAM', 'EGGS']"
   ]
  },
  {
   "cell_type": "code",
   "execution_count": 77,
   "metadata": {},
   "outputs": [
    {
     "data": {
      "text/plain": [
       "[1, 2, 3.0, 'SPAM', 'EGGS']"
      ]
     },
     "execution_count": 77,
     "metadata": {},
     "output_type": "execute_result"
    }
   ],
   "source": [
    "f = Filter()\n",
    "f.filtre(seq)"
   ]
  },
  {
   "cell_type": "code",
   "execution_count": 78,
   "metadata": {
    "scrolled": true
   },
   "outputs": [
    {
     "data": {
      "text/plain": [
       "[1, 2, 3.0, 'EGGS']"
      ]
     },
     "execution_count": 78,
     "metadata": {},
     "output_type": "execute_result"
    }
   ],
   "source": [
    "sf = SPAMFilter()\n",
    "sf.filtre(seq)"
   ]
  },
  {
   "cell_type": "code",
   "execution_count": 79,
   "metadata": {},
   "outputs": [
    {
     "data": {
      "text/plain": [
       "['SPAM', 'EGGS']"
      ]
     },
     "execution_count": 79,
     "metadata": {},
     "output_type": "execute_result"
    }
   ],
   "source": [
    "nf = NumberFilter()\n",
    "nf.filtre(seq)"
   ]
  },
  {
   "cell_type": "code",
   "execution_count": 80,
   "metadata": {},
   "outputs": [
    {
     "data": {
      "text/plain": [
       "True"
      ]
     },
     "execution_count": 80,
     "metadata": {},
     "output_type": "execute_result"
    }
   ],
   "source": [
    "issubclass(NumberFilter, Filter)"
   ]
  },
  {
   "cell_type": "code",
   "execution_count": 81,
   "metadata": {},
   "outputs": [
    {
     "data": {
      "text/plain": [
       "True"
      ]
     },
     "execution_count": 81,
     "metadata": {},
     "output_type": "execute_result"
    }
   ],
   "source": [
    "isinstance(nf, NumberFilter)"
   ]
  },
  {
   "cell_type": "code",
   "execution_count": 82,
   "metadata": {},
   "outputs": [
    {
     "data": {
      "text/plain": [
       "True"
      ]
     },
     "execution_count": 82,
     "metadata": {},
     "output_type": "execute_result"
    }
   ],
   "source": [
    "isinstance(nf, Filter)"
   ]
  },
  {
   "cell_type": "markdown",
   "metadata": {},
   "source": [
    "### super"
   ]
  },
  {
   "cell_type": "code",
   "execution_count": 2,
   "metadata": {
    "scrolled": true
   },
   "outputs": [
    {
     "name": "stdout",
     "output_type": "stream",
     "text": [
      "Marge Simpson, 36\n",
      "Homer Simpson, 28, 1007\n"
     ]
    }
   ],
   "source": [
    "class Person:\n",
    "\n",
    "    def __init__(self, first, last, age):\n",
    "        self.firstname = first\n",
    "        self.lastname = last\n",
    "        self.age = age\n",
    "\n",
    "    def __str__(self):\n",
    "        return self.firstname + \" \" + self.lastname + \", \" + str(self.age)\n",
    "\n",
    "class Employee(Person):\n",
    "\n",
    "    def __init__(self, first, last, age, staffnum):\n",
    "        super().__init__(first, last, age)\n",
    "        self.staffnumber = staffnum\n",
    "\n",
    "    def __str__(self):\n",
    "        return super().__str__() + \", \" +  self.staffnumber\n",
    "\n",
    "\n",
    "x = Person(\"Marge\", \"Simpson\", 36)\n",
    "y = Employee(\"Homer\", \"Simpson\", 28, \"1007\")\n",
    "\n",
    "print(x)\n",
    "print(y)"
   ]
  },
  {
   "cell_type": "markdown",
   "metadata": {},
   "source": [
    "## Operator Overloading"
   ]
  },
  {
   "cell_type": "code",
   "execution_count": null,
   "metadata": {
    "collapsed": true
   },
   "outputs": [],
   "source": [
    "class Complex(object):\n",
    "    def __init__(self,real,imag=0):\n",
    "        self.real = float(real)\n",
    "        self.imag = float(imag) \n",
    "    \n",
    "    def __repr__(self):\n",
    "        return \"Complex(%s,%s)\" % (self.real, self.imag) \n",
    "    \n",
    "    def __str__(self):\n",
    "        return \"(%g+%gj)\" % (self.real, self.imag)\n",
    "    \n",
    "    # self + other\n",
    "    def __add__(self,other):\n",
    "        return Complex(self.real + other.real, self.imag + other.imag)\n",
    "    \n",
    "    # self - other\n",
    "    def __sub__(self,other):\n",
    "        return Complex(self.real - other.real, self.imag - other.imag)"
   ]
  },
  {
   "cell_type": "code",
   "execution_count": null,
   "metadata": {
    "collapsed": true
   },
   "outputs": [],
   "source": [
    "c = Complex(2,3)\n",
    "c"
   ]
  },
  {
   "cell_type": "code",
   "execution_count": null,
   "metadata": {
    "collapsed": true
   },
   "outputs": [],
   "source": [
    "c + Complex(4,5)"
   ]
  },
  {
   "cell_type": "code",
   "execution_count": null,
   "metadata": {
    "collapsed": true
   },
   "outputs": [],
   "source": [
    "c - 4.0"
   ]
  },
  {
   "cell_type": "code",
   "execution_count": null,
   "metadata": {
    "collapsed": true
   },
   "outputs": [],
   "source": [
    "4.0 + c"
   ]
  },
  {
   "cell_type": "code",
   "execution_count": null,
   "metadata": {
    "collapsed": true
   },
   "outputs": [],
   "source": [
    "class Complex(object):\n",
    "    def __init__(self,real,imag=0):\n",
    "        self.real = float(real)\n",
    "        self.imag = float(imag) \n",
    "    \n",
    "    def __repr__(self):\n",
    "        return \"Complex(%s,%s)\" % (self.real, self.imag) \n",
    "    \n",
    "    def __str__(self):\n",
    "        return \"(%g+%gj)\" % (self.real, self.imag)\n",
    "    \n",
    "    # self + other\n",
    "    def __add__(self,other):\n",
    "        return Complex(self.real + other.real, self.imag + other.imag)\n",
    "    \n",
    "    # other + self\n",
    "    def __radd__(self, other):\n",
    "        return self + other\n",
    "        \n",
    "    # self - other\n",
    "    def __sub__(self,other):\n",
    "        return Complex(self.real - other.real, self.imag - other.imag)\n",
    "    \n",
    "    # other - self\n",
    "    def __rsub__(self,other):\n",
    "        return Complex(other.real - self.real, other.imag - self.imag)\n",
    "    "
   ]
  },
  {
   "cell_type": "code",
   "execution_count": null,
   "metadata": {
    "collapsed": true
   },
   "outputs": [],
   "source": [
    "4.0 + Complex(2,3)"
   ]
  },
  {
   "cell_type": "code",
   "execution_count": null,
   "metadata": {
    "collapsed": true
   },
   "outputs": [],
   "source": [
    "4.0 - Complex(2,3)"
   ]
  },
  {
   "cell_type": "markdown",
   "metadata": {
    "collapsed": true
   },
   "source": [
    "#### Exercise\n",
    "Write a Fraction class that can add, subtract, multiply and divide by keeping it in lowest terms."
   ]
  },
  {
   "cell_type": "code",
   "execution_count": 6,
   "metadata": {
    "collapsed": true
   },
   "outputs": [],
   "source": [
    "class Fraction:\n",
    "    def __init__(self,top,bottom):\n",
    "        common = self.gcd(abs(top), abs(bottom))\n",
    "        self.num = top // common\n",
    "        self.den = bottom // common\n",
    "        \n",
    "    def __str__(self):\n",
    "        return str(self.num)+\"/\"+str(self.den)\n",
    "    \n",
    "    def __repr__(self):\n",
    "        return 'Fraction({},{})'.format(self.num, self.den)\n",
    "    \n",
    "    def __neg__(self):\n",
    "        return Fraction(-1*self.num, self.den)\n",
    "    \n",
    "    def __pos__(self):\n",
    "        return self\n",
    "    \n",
    "    def __abs__(self):\n",
    "        return Fraction(abs(self.num),abs(self.den))\n",
    "    \n",
    "    def __invert__(self):\n",
    "        return Fraction(self.den, self.num)\n",
    "    \n",
    "    def __float__(self):\n",
    "        return self.num / self.den\n",
    "    \n",
    "    def __int__(self):\n",
    "        return self.num // self.den\n",
    "    \n",
    "    def __add__(self, other):\n",
    "        newnum = self.num * other.den + self.den * other.num\n",
    "        newden = self.den * other.den\n",
    "        return Fraction(newnum,newden)\n",
    "    \n",
    "    def __radd__(self, other):\n",
    "        return self + other\n",
    "    \n",
    "    def __sub__(self, other):\n",
    "        newnum = self.num * other.den - self.den * other.num\n",
    "        newden = self.den * other.den\n",
    "        return Fraction(newnum,newden)\n",
    "    \n",
    "    def __rsub__(self, other):\n",
    "        return -1*self + other\n",
    "    \n",
    "    def __mul__(self, other):\n",
    "        newnum = self.num * other.num\n",
    "        newden = self.den * other.den\n",
    "        return Fraction(newnum,newden)\n",
    "    \n",
    "    def __rmul__(self, other):\n",
    "        return self + other\n",
    "    \n",
    "    def __truediv__(self, other):\n",
    "        newnum = self.num * other.den\n",
    "        newden = self.den * other.num\n",
    "        return Fraction(newnum,newden)\n",
    "    \n",
    "    def __pow__(self, n):\n",
    "        newnum = self.num ** n\n",
    "        newden = self.den ** n\n",
    "        return Fraction(newnum,newden)\n",
    "    \n",
    "    def __eq__(self, other):\n",
    "        firstnum = self.num * other.den\n",
    "        secondnum = other.num * self.den\n",
    "        return firstnum == secondnum\n",
    "    \n",
    "    def __ne__(self, other):\n",
    "        firstnum = self.num * other.den\n",
    "        secondnum = other.num * self.den\n",
    "        return firstnum != secondnum\n",
    "    \n",
    "    def __lt__(self, other):\n",
    "        firstnum = self.num * other.den\n",
    "        secondnum = other.num * self.den\n",
    "        return firstnum < secondnum\n",
    "    \n",
    "    def __le__(self, other):\n",
    "        firstnum = self.num * other.den\n",
    "        secondnum = other.num * self.den\n",
    "        return firstnum <= secondnum\n",
    "    \n",
    "    def __gt__(self, other):\n",
    "        firstnum = self.num * other.den\n",
    "        secondnum = other.num * self.den\n",
    "        return firstnum > secondnum\n",
    "    \n",
    "    def __ge__(self, other):\n",
    "        firstnum = self.num * other.den\n",
    "        secondnum = other.num * self.den\n",
    "        return firstnum >= secondnum\n",
    "\n",
    "    def __iadd__(self, other):\n",
    "        return self + other\n",
    "    \n",
    "    def __isub__(self, other):\n",
    "        return self - other\n",
    "    \n",
    "    def __imul__(self, other):\n",
    "        return self * other\n",
    "    \n",
    "    def __idiv__(self, other):\n",
    "        return self / other\n",
    "    \n",
    "    def __ipow__(self, other):\n",
    "        return self ** other\n",
    "    \n",
    "    @staticmethod\n",
    "    def gcd(m,n):\n",
    "        while m%n != 0:\n",
    "            oldm = m\n",
    "            oldn = n\n",
    "\n",
    "            m = oldn\n",
    "            n = oldm%oldn\n",
    "        return n"
   ]
  },
  {
   "cell_type": "code",
   "execution_count": 7,
   "metadata": {
    "scrolled": true
   },
   "outputs": [
    {
     "data": {
      "text/plain": [
       "Fraction(1,4)"
      ]
     },
     "execution_count": 7,
     "metadata": {},
     "output_type": "execute_result"
    }
   ],
   "source": [
    "Fraction(4,8)**2"
   ]
  },
  {
   "cell_type": "code",
   "execution_count": 40,
   "metadata": {
    "scrolled": true
   },
   "outputs": [
    {
     "data": {
      "text/plain": [
       "4/9"
      ]
     },
     "execution_count": 40,
     "metadata": {},
     "output_type": "execute_result"
    }
   ],
   "source": [
    "y**2"
   ]
  },
  {
   "cell_type": "code",
   "execution_count": 41,
   "metadata": {},
   "outputs": [
    {
     "name": "stdout",
     "output_type": "stream",
     "text": [
      "7/6\n",
      "False\n"
     ]
    }
   ],
   "source": [
    "x = Fraction(1,2)\n",
    "y = Fraction(2,3)\n",
    "print(x+y)\n",
    "print(x == y)"
   ]
  },
  {
   "cell_type": "code",
   "execution_count": 48,
   "metadata": {},
   "outputs": [
    {
     "data": {
      "text/plain": [
       "1/1"
      ]
     },
     "execution_count": 48,
     "metadata": {},
     "output_type": "execute_result"
    }
   ],
   "source": [
    "Fraction(1,2) / Fraction(2,4)"
   ]
  },
  {
   "cell_type": "code",
   "execution_count": 49,
   "metadata": {
    "collapsed": true
   },
   "outputs": [],
   "source": [
    "x += y"
   ]
  },
  {
   "cell_type": "code",
   "execution_count": 50,
   "metadata": {},
   "outputs": [
    {
     "data": {
      "text/plain": [
       "7/6"
      ]
     },
     "execution_count": 50,
     "metadata": {},
     "output_type": "execute_result"
    }
   ],
   "source": [
    "x"
   ]
  },
  {
   "cell_type": "code",
   "execution_count": 43,
   "metadata": {
    "scrolled": false
   },
   "outputs": [
    {
     "data": {
      "text/plain": [
       "True"
      ]
     },
     "execution_count": 43,
     "metadata": {},
     "output_type": "execute_result"
    }
   ],
   "source": [
    "x <= y"
   ]
  },
  {
   "cell_type": "code",
   "execution_count": 16,
   "metadata": {},
   "outputs": [
    {
     "data": {
      "text/plain": [
       "3/4"
      ]
     },
     "execution_count": 16,
     "metadata": {},
     "output_type": "execute_result"
    }
   ],
   "source": [
    "x/y"
   ]
  },
  {
   "cell_type": "code",
   "execution_count": null,
   "metadata": {
    "collapsed": true
   },
   "outputs": [],
   "source": []
  }
 ],
 "metadata": {
  "kernelspec": {
   "display_name": "Python 3",
   "language": "python",
   "name": "python3"
  },
  "language_info": {
   "codemirror_mode": {
    "name": "ipython",
    "version": 3
   },
   "file_extension": ".py",
   "mimetype": "text/x-python",
   "name": "python",
   "nbconvert_exporter": "python",
   "pygments_lexer": "ipython3",
   "version": "3.6.3"
  }
 },
 "nbformat": 4,
 "nbformat_minor": 2
}
