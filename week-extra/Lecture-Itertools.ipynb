{
 "cells": [
  {
   "cell_type": "markdown",
   "metadata": {},
   "source": [
    "# itertools\n",
    "\n",
    "https://docs.python.org/3.6/library/itertools.html"
   ]
  },
  {
   "cell_type": "code",
   "execution_count": 1,
   "metadata": {
    "collapsed": true
   },
   "outputs": [],
   "source": [
    "import itertools"
   ]
  },
  {
   "cell_type": "markdown",
   "metadata": {},
   "source": [
    "### accumulate\n",
    "itertools.accumulate(iterable[, func])"
   ]
  },
  {
   "cell_type": "code",
   "execution_count": 2,
   "metadata": {
    "collapsed": true
   },
   "outputs": [],
   "source": [
    "import operator"
   ]
  },
  {
   "cell_type": "code",
   "execution_count": 3,
   "metadata": {},
   "outputs": [
    {
     "data": {
      "text/plain": [
       "[3, 12, 72, 144, 144, 1296, 0, 0, 0, 0]"
      ]
     },
     "execution_count": 3,
     "metadata": {},
     "output_type": "execute_result"
    }
   ],
   "source": [
    "data = [3, 4, 6, 2, 1, 9, 0, 7, 5, 8]\n",
    "list(itertools.accumulate(data, operator.mul))     # running product"
   ]
  },
  {
   "cell_type": "code",
   "execution_count": 4,
   "metadata": {},
   "outputs": [
    {
     "data": {
      "text/plain": [
       "[0, 1, 3, 6, 10, 15, 21, 28, 36, 45]"
      ]
     },
     "execution_count": 4,
     "metadata": {},
     "output_type": "execute_result"
    }
   ],
   "source": [
    "data = range(10)\n",
    "list(itertools.accumulate(data, operator.add))     # running product"
   ]
  },
  {
   "cell_type": "markdown",
   "metadata": {},
   "source": [
    "### chain\n",
    "itertools.chain(*iterables)"
   ]
  },
  {
   "cell_type": "code",
   "execution_count": 5,
   "metadata": {
    "collapsed": true
   },
   "outputs": [],
   "source": [
    "it1 = iter([1, 2, 3])\n",
    "it2 = iter([4, 5, 6])\n",
    "itchain = itertools.chain(it1, it2)"
   ]
  },
  {
   "cell_type": "code",
   "execution_count": 6,
   "metadata": {
    "collapsed": true
   },
   "outputs": [],
   "source": [
    "it1 = [1, 2, 3]\n",
    "it2 = ('a','b','c')\n",
    "it3 = dict(language='python', city='Ankara')\n",
    "itchain = itertools.chain(it1, it2, it3)"
   ]
  },
  {
   "cell_type": "code",
   "execution_count": 7,
   "metadata": {},
   "outputs": [
    {
     "name": "stdout",
     "output_type": "stream",
     "text": [
      "1\n",
      "2\n",
      "3\n",
      "a\n",
      "b\n",
      "c\n",
      "language\n",
      "city\n"
     ]
    }
   ],
   "source": [
    "for i in itchain:\n",
    "    print(i)"
   ]
  },
  {
   "cell_type": "code",
   "execution_count": 8,
   "metadata": {
    "collapsed": true
   },
   "outputs": [],
   "source": [
    "it1 = [1, 2, 3]\n",
    "it2 = ('a','b','c')\n",
    "it3 = dict(language='python', city='Ankara')\n",
    "itchain = itertools.chain(it1, it2, it3.items())"
   ]
  },
  {
   "cell_type": "code",
   "execution_count": 9,
   "metadata": {},
   "outputs": [
    {
     "name": "stdout",
     "output_type": "stream",
     "text": [
      "1\n",
      "2\n",
      "3\n",
      "a\n",
      "b\n",
      "c\n",
      "('language', 'python')\n",
      "('city', 'Ankara')\n"
     ]
    }
   ],
   "source": [
    "for i in itchain:\n",
    "    print(i)"
   ]
  },
  {
   "cell_type": "markdown",
   "metadata": {},
   "source": [
    "### combinations\n",
    "itertools.combinations(iterable, r)\n",
    "itertools.combinations_with_replacement(iterable, r)"
   ]
  },
  {
   "cell_type": "code",
   "execution_count": 10,
   "metadata": {},
   "outputs": [
    {
     "data": {
      "text/plain": [
       "[('A', 'B'), ('A', 'C'), ('A', 'D'), ('B', 'C'), ('B', 'D'), ('C', 'D')]"
      ]
     },
     "execution_count": 10,
     "metadata": {},
     "output_type": "execute_result"
    }
   ],
   "source": [
    "list(itertools.combinations('ABCD', 2))"
   ]
  },
  {
   "cell_type": "code",
   "execution_count": 11,
   "metadata": {},
   "outputs": [
    {
     "data": {
      "text/plain": [
       "[('A', 'A'),\n",
       " ('A', 'B'),\n",
       " ('A', 'C'),\n",
       " ('A', 'D'),\n",
       " ('B', 'B'),\n",
       " ('B', 'C'),\n",
       " ('B', 'D'),\n",
       " ('C', 'C'),\n",
       " ('C', 'D'),\n",
       " ('D', 'D')]"
      ]
     },
     "execution_count": 11,
     "metadata": {},
     "output_type": "execute_result"
    }
   ],
   "source": [
    "# element can be repeated\n",
    "list(itertools.combinations_with_replacement('ABCD', 2))"
   ]
  },
  {
   "cell_type": "markdown",
   "metadata": {},
   "source": [
    "### cycle\n",
    "itertools.cycle(iterable)"
   ]
  },
  {
   "cell_type": "code",
   "execution_count": 12,
   "metadata": {},
   "outputs": [
    {
     "name": "stdout",
     "output_type": "stream",
     "text": [
      "X\n",
      "Y\n",
      "Z\n",
      "X\n",
      "Y\n",
      "Z\n",
      "X\n",
      "Y\n"
     ]
    }
   ],
   "source": [
    "count = 0\n",
    "for item in itertools.cycle('XYZ'):\n",
    "    if count > 7:\n",
    "        break\n",
    "    print(item)\n",
    "    count += 1"
   ]
  },
  {
   "cell_type": "code",
   "execution_count": 13,
   "metadata": {
    "collapsed": true
   },
   "outputs": [],
   "source": [
    "polys = ['triangle', 'square', 'pentagon', 'rectangle']\n",
    "cyclic_iterator = itertools.cycle(polys)"
   ]
  },
  {
   "cell_type": "code",
   "execution_count": 14,
   "metadata": {},
   "outputs": [
    {
     "data": {
      "text/plain": [
       "'triangle'"
      ]
     },
     "execution_count": 14,
     "metadata": {},
     "output_type": "execute_result"
    }
   ],
   "source": [
    "next(cyclic_iterator)"
   ]
  },
  {
   "cell_type": "markdown",
   "metadata": {},
   "source": [
    "### dropwhile\n",
    "itertools.dropwhile(predicate, iterable)"
   ]
  },
  {
   "cell_type": "code",
   "execution_count": 15,
   "metadata": {
    "scrolled": true
   },
   "outputs": [
    {
     "data": {
      "text/plain": [
       "[5, 6, 7, 8, 9]"
      ]
     },
     "execution_count": 15,
     "metadata": {},
     "output_type": "execute_result"
    }
   ],
   "source": [
    "list(itertools.dropwhile(lambda x: x<5, list(range(10))))\n"
   ]
  },
  {
   "cell_type": "markdown",
   "metadata": {},
   "source": [
    "### takewhile\n",
    "itertools.takewhile(predicate, iterable)"
   ]
  },
  {
   "cell_type": "code",
   "execution_count": 16,
   "metadata": {},
   "outputs": [
    {
     "data": {
      "text/plain": [
       "[1, 4]"
      ]
     },
     "execution_count": 16,
     "metadata": {},
     "output_type": "execute_result"
    }
   ],
   "source": [
    "list(itertools.takewhile(lambda x: x<5, [1,4,6,4,1]))"
   ]
  },
  {
   "cell_type": "markdown",
   "metadata": {},
   "source": [
    "### filter_false\n",
    "itertools.filterfalse(predicate, iterable)"
   ]
  },
  {
   "cell_type": "code",
   "execution_count": 17,
   "metadata": {
    "collapsed": true
   },
   "outputs": [],
   "source": [
    "def greater_than_five(x):\n",
    "    return x > 5 "
   ]
  },
  {
   "cell_type": "code",
   "execution_count": 18,
   "metadata": {},
   "outputs": [
    {
     "data": {
      "text/plain": [
       "[1, 2, 3]"
      ]
     },
     "execution_count": 18,
     "metadata": {},
     "output_type": "execute_result"
    }
   ],
   "source": [
    "list(itertools.filterfalse(greater_than_five, [6, 7, 8, 9, 1, 2, 3, 10]))"
   ]
  },
  {
   "cell_type": "code",
   "execution_count": 19,
   "metadata": {},
   "outputs": [
    {
     "data": {
      "text/plain": [
       "[1, 2, 3]"
      ]
     },
     "execution_count": 19,
     "metadata": {},
     "output_type": "execute_result"
    }
   ],
   "source": [
    "[i for i in [6, 7, 8, 9, 1, 2, 3, 10] if i<5]"
   ]
  },
  {
   "cell_type": "markdown",
   "metadata": {},
   "source": [
    "### groupby\n",
    "itertools.groupby(iterable, key=None)"
   ]
  },
  {
   "cell_type": "code",
   "execution_count": 20,
   "metadata": {},
   "outputs": [
    {
     "name": "stdout",
     "output_type": "stream",
     "text": [
      "GROUP:  Chevrolet\n",
      "------------------------\n",
      "Cobalt is made by Chevrolet\n",
      "========================\n",
      "\n",
      "GROUP:  Dodge\n",
      "------------------------\n",
      "Charger is made by Dodge\n",
      "Durango is made by Dodge\n",
      "========================\n",
      "\n",
      "GROUP:  Ford\n",
      "------------------------\n",
      "F150 is made by Ford\n",
      "GT is made by Ford\n",
      "Taurus is made by Ford\n",
      "========================\n",
      "\n"
     ]
    }
   ],
   "source": [
    "vehicles = [('Ford', 'Taurus'), \n",
    "            ('Dodge', 'Durango'),\n",
    "            ('Chevrolet', 'Cobalt'), \n",
    "            ('Ford', 'F150'),\n",
    "            ('Dodge', 'Charger'), \n",
    "            ('Ford', 'GT')]\n",
    " \n",
    "sorted_vehicles = sorted(vehicles)\n",
    " \n",
    "for key, group in itertools.groupby(sorted_vehicles, lambda make: make[0]):\n",
    "    print('GROUP: ',key)\n",
    "    print (\"------------------------\")\n",
    "    for make, model in group:\n",
    "        print('{model} is made by {make}'.format(model=model,\n",
    "                                                 make=make))\n",
    "    print (\"========================\\n\")"
   ]
  },
  {
   "cell_type": "markdown",
   "metadata": {},
   "source": [
    "### islice\n",
    "itertools.islice(iterable, stop)   \n",
    "itertools.islice(iterable, start, stop[, step])"
   ]
  },
  {
   "cell_type": "code",
   "execution_count": 21,
   "metadata": {
    "collapsed": true
   },
   "outputs": [],
   "source": [
    "slice_iter = itertools.islice('0123456', 2, 5, 2)"
   ]
  },
  {
   "cell_type": "code",
   "execution_count": 22,
   "metadata": {},
   "outputs": [
    {
     "data": {
      "text/plain": [
       "'2'"
      ]
     },
     "execution_count": 22,
     "metadata": {},
     "output_type": "execute_result"
    }
   ],
   "source": [
    "next(slice_iter)"
   ]
  },
  {
   "cell_type": "markdown",
   "metadata": {},
   "source": [
    "### permutations\n",
    "itertools.permutations(iterable, r=None)"
   ]
  },
  {
   "cell_type": "code",
   "execution_count": 23,
   "metadata": {},
   "outputs": [
    {
     "name": "stdout",
     "output_type": "stream",
     "text": [
      "WX\n",
      "WY\n",
      "WZ\n",
      "XW\n",
      "XY\n",
      "XZ\n",
      "YW\n",
      "YX\n",
      "YZ\n",
      "ZW\n",
      "ZX\n",
      "ZY\n"
     ]
    }
   ],
   "source": [
    "for item in itertools.permutations('WXYZ', 2):\n",
    "    print(''.join(item))"
   ]
  },
  {
   "cell_type": "markdown",
   "metadata": {},
   "source": [
    "### product\n",
    "itertools.product(*iterables, repeat=1)"
   ]
  },
  {
   "cell_type": "code",
   "execution_count": 24,
   "metadata": {},
   "outputs": [
    {
     "data": {
      "text/plain": [
       "[(0, 0),\n",
       " (0, 0.5),\n",
       " (0, 1),\n",
       " (0, 1.5),\n",
       " (0, 2),\n",
       " (1, 0),\n",
       " (1, 0.5),\n",
       " (1, 1),\n",
       " (1, 1.5),\n",
       " (1, 2),\n",
       " (2, 0),\n",
       " (2, 0.5),\n",
       " (2, 1),\n",
       " (2, 1.5),\n",
       " (2, 2),\n",
       " (3, 0),\n",
       " (3, 0.5),\n",
       " (3, 1),\n",
       " (3, 1.5),\n",
       " (3, 2)]"
      ]
     },
     "execution_count": 24,
     "metadata": {},
     "output_type": "execute_result"
    }
   ],
   "source": [
    "x = [0,1,2,3]\n",
    "y = [0, 0.5, 1, 1.5, 2]\n",
    "cp = list(itertools.product(x,y))\n",
    "cp"
   ]
  },
  {
   "cell_type": "markdown",
   "metadata": {},
   "source": [
    "### repeat\n",
    "itertools.repeat(object[, times])"
   ]
  },
  {
   "cell_type": "code",
   "execution_count": 25,
   "metadata": {},
   "outputs": [
    {
     "data": {
      "text/plain": [
       "8"
      ]
     },
     "execution_count": 25,
     "metadata": {},
     "output_type": "execute_result"
    }
   ],
   "source": [
    "pow(2,3)"
   ]
  },
  {
   "cell_type": "code",
   "execution_count": 26,
   "metadata": {},
   "outputs": [
    {
     "data": {
      "text/plain": [
       "[1, 16, 81]"
      ]
     },
     "execution_count": 26,
     "metadata": {},
     "output_type": "execute_result"
    }
   ],
   "source": [
    "list(map(pow, [1,2,3], [4, 4, 4]))"
   ]
  },
  {
   "cell_type": "code",
   "execution_count": 27,
   "metadata": {},
   "outputs": [
    {
     "data": {
      "text/plain": [
       "[0, 1, 8, 27, 64, 125, 216, 343, 512, 729]"
      ]
     },
     "execution_count": 27,
     "metadata": {},
     "output_type": "execute_result"
    }
   ],
   "source": [
    "list(map(pow, range(10), itertools.repeat(3)))"
   ]
  },
  {
   "cell_type": "code",
   "execution_count": 28,
   "metadata": {
    "collapsed": true
   },
   "outputs": [],
   "source": [
    "g = itertools.repeat(3)"
   ]
  },
  {
   "cell_type": "code",
   "execution_count": 29,
   "metadata": {},
   "outputs": [
    {
     "data": {
      "text/plain": [
       "3"
      ]
     },
     "execution_count": 29,
     "metadata": {},
     "output_type": "execute_result"
    }
   ],
   "source": [
    "next(g)"
   ]
  },
  {
   "cell_type": "markdown",
   "metadata": {},
   "source": [
    "### starmap\n",
    "itertools.starmap(function, iterable)"
   ]
  },
  {
   "cell_type": "code",
   "execution_count": 30,
   "metadata": {
    "collapsed": true
   },
   "outputs": [],
   "source": [
    "import operator"
   ]
  },
  {
   "cell_type": "code",
   "execution_count": 31,
   "metadata": {},
   "outputs": [
    {
     "data": {
      "text/plain": [
       "[5, 9]"
      ]
     },
     "execution_count": 31,
     "metadata": {},
     "output_type": "execute_result"
    }
   ],
   "source": [
    "list(itertools.starmap(operator.add, [(2,3), (4,5)]))"
   ]
  },
  {
   "cell_type": "code",
   "execution_count": 32,
   "metadata": {},
   "outputs": [
    {
     "data": {
      "text/plain": [
       "[5, 9]"
      ]
     },
     "execution_count": 32,
     "metadata": {},
     "output_type": "execute_result"
    }
   ],
   "source": [
    "list(map(operator.add, (2,4), (3,5)))"
   ]
  },
  {
   "cell_type": "markdown",
   "metadata": {},
   "source": [
    "### zip_longest\n",
    "itertools.zip_longest(*iterables, fillvalue=None)"
   ]
  },
  {
   "cell_type": "code",
   "execution_count": 34,
   "metadata": {},
   "outputs": [
    {
     "name": "stdout",
     "output_type": "stream",
     "text": [
      "('A', 'x')\n",
      "('B', 'y')\n",
      "('C', 'BLANK')\n",
      "('D', 'BLANK')\n"
     ]
    }
   ],
   "source": [
    "for item in itertools.zip_longest('ABCD', 'xy', fillvalue='BLANK'):\n",
    "    print(item)"
   ]
  },
  {
   "cell_type": "markdown",
   "metadata": {},
   "source": [
    "## Recipes"
   ]
  },
  {
   "cell_type": "code",
   "execution_count": null,
   "metadata": {
    "collapsed": true
   },
   "outputs": [],
   "source": [
    "def take(n, iterable):\n",
    "    \"Return first n items of the iterable as a list\"\n",
    "    return list(islice(iterable, n))\n",
    "\n",
    "def tabulate(function, start=0):\n",
    "    \"Return function(0), function(1), ...\"\n",
    "    return map(function, count(start))\n",
    "\n",
    "def tail(n, iterable):\n",
    "    \"Return an iterator over the last n items\"\n",
    "    # tail(3, 'ABCDEFG') --> E F G\n",
    "    return iter(collections.deque(iterable, maxlen=n))\n",
    "\n",
    "def consume(iterator, n):\n",
    "    \"Advance the iterator n-steps ahead. If n is none, consume entirely.\"\n",
    "    # Use functions that consume iterators at C speed.\n",
    "    if n is None:\n",
    "        # feed the entire iterator into a zero-length deque\n",
    "        collections.deque(iterator, maxlen=0)\n",
    "    else:\n",
    "        # advance to the empty slice starting at position n\n",
    "        next(islice(iterator, n, n), None)\n",
    "\n",
    "def nth(iterable, n, default=None):\n",
    "    \"Returns the nth item or a default value\"\n",
    "    return next(islice(iterable, n, None), default)\n",
    "\n",
    "def all_equal(iterable):\n",
    "    \"Returns True if all the elements are equal to each other\"\n",
    "    g = groupby(iterable)\n",
    "    return next(g, True) and not next(g, False)\n",
    "\n",
    "def quantify(iterable, pred=bool):\n",
    "    \"Count how many times the predicate is true\"\n",
    "    return sum(map(pred, iterable))\n",
    "\n",
    "def padnone(iterable):\n",
    "    \"\"\"Returns the sequence elements and then returns None indefinitely.\n",
    "\n",
    "    Useful for emulating the behavior of the built-in map() function.\n",
    "    \"\"\"\n",
    "    return chain(iterable, repeat(None))\n",
    "\n",
    "def ncycles(iterable, n):\n",
    "    \"Returns the sequence elements n times\"\n",
    "    return chain.from_iterable(repeat(tuple(iterable), n))\n",
    "\n",
    "def dotproduct(vec1, vec2):\n",
    "    return sum(map(operator.mul, vec1, vec2))\n",
    "\n",
    "def flatten(listOfLists):\n",
    "    \"Flatten one level of nesting\"\n",
    "    return chain.from_iterable(listOfLists)\n",
    "\n",
    "def repeatfunc(func, times=None, *args):\n",
    "    \"\"\"Repeat calls to func with specified arguments.\n",
    "\n",
    "    Example:  repeatfunc(random.random)\n",
    "    \"\"\"\n",
    "    if times is None:\n",
    "        return starmap(func, repeat(args))\n",
    "    return starmap(func, repeat(args, times))\n",
    "\n",
    "def pairwise(iterable):\n",
    "    \"s -> (s0,s1), (s1,s2), (s2, s3), ...\"\n",
    "    a, b = tee(iterable)\n",
    "    next(b, None)\n",
    "    return zip(a, b)\n",
    "\n",
    "def grouper(iterable, n, fillvalue=None):\n",
    "    \"Collect data into fixed-length chunks or blocks\"\n",
    "    # grouper('ABCDEFG', 3, 'x') --> ABC DEF Gxx\"\n",
    "    args = [iter(iterable)] * n\n",
    "    return zip_longest(*args, fillvalue=fillvalue)\n",
    "\n",
    "def roundrobin(*iterables):\n",
    "    \"roundrobin('ABC', 'D', 'EF') --> A D E B F C\"\n",
    "    # Recipe credited to George Sakkis\n",
    "    num_active = len(iterables)\n",
    "    nexts = cycle(iter(it).__next__ for it in iterables)\n",
    "    while num_active:\n",
    "        try:\n",
    "            for next in nexts:\n",
    "                yield next()\n",
    "        except StopIteration:\n",
    "            # Remove the iterator we just exhausted from the cycle.\n",
    "            num_active -= 1\n",
    "            nexts = cycle(islice(nexts, num_active))\n",
    "\n",
    "def partition(pred, iterable):\n",
    "    'Use a predicate to partition entries into false entries and true entries'\n",
    "    # partition(is_odd, range(10)) --> 0 2 4 6 8   and  1 3 5 7 9\n",
    "    t1, t2 = tee(iterable)\n",
    "    return filterfalse(pred, t1), filter(pred, t2)\n",
    "\n",
    "def powerset(iterable):\n",
    "    \"powerset([1,2,3]) --> () (1,) (2,) (3,) (1,2) (1,3) (2,3) (1,2,3)\"\n",
    "    s = list(iterable)\n",
    "    return chain.from_iterable(combinations(s, r) for r in range(len(s)+1))\n",
    "\n",
    "def unique_everseen(iterable, key=None):\n",
    "    \"List unique elements, preserving order. Remember all elements ever seen.\"\n",
    "    # unique_everseen('AAAABBBCCDAABBB') --> A B C D\n",
    "    # unique_everseen('ABBCcAD', str.lower) --> A B C D\n",
    "    seen = set()\n",
    "    seen_add = seen.add\n",
    "    if key is None:\n",
    "        for element in filterfalse(seen.__contains__, iterable):\n",
    "            seen_add(element)\n",
    "            yield element\n",
    "    else:\n",
    "        for element in iterable:\n",
    "            k = key(element)\n",
    "            if k not in seen:\n",
    "                seen_add(k)\n",
    "                yield element\n",
    "\n",
    "def unique_justseen(iterable, key=None):\n",
    "    \"List unique elements, preserving order. Remember only the element just seen.\"\n",
    "    # unique_justseen('AAAABBBCCDAABBB') --> A B C D A B\n",
    "    # unique_justseen('ABBCcAD', str.lower) --> A B C A D\n",
    "    return map(next, map(itemgetter(1), groupby(iterable, key)))\n",
    "\n",
    "def iter_except(func, exception, first=None):\n",
    "    \"\"\" Call a function repeatedly until an exception is raised.\n",
    "\n",
    "    Converts a call-until-exception interface to an iterator interface.\n",
    "    Like builtins.iter(func, sentinel) but uses an exception instead\n",
    "    of a sentinel to end the loop.\n",
    "\n",
    "    Examples:\n",
    "        iter_except(functools.partial(heappop, h), IndexError)   # priority queue iterator\n",
    "        iter_except(d.popitem, KeyError)                         # non-blocking dict iterator\n",
    "        iter_except(d.popleft, IndexError)                       # non-blocking deque iterator\n",
    "        iter_except(q.get_nowait, Queue.Empty)                   # loop over a producer Queue\n",
    "        iter_except(s.pop, KeyError)                             # non-blocking set iterator\n",
    "\n",
    "    \"\"\"\n",
    "    try:\n",
    "        if first is not None:\n",
    "            yield first()            # For database APIs needing an initial cast to db.first()\n",
    "        while True:\n",
    "            yield func()\n",
    "    except exception:\n",
    "        pass\n",
    "\n",
    "def first_true(iterable, default=False, pred=None):\n",
    "    \"\"\"Returns the first true value in the iterable.\n",
    "\n",
    "    If no true value is found, returns *default*\n",
    "\n",
    "    If *pred* is not None, returns the first item\n",
    "    for which pred(item) is true.\n",
    "\n",
    "    \"\"\"\n",
    "    # first_true([a,b,c], x) --> a or b or c or x\n",
    "    # first_true([a,b], x, f) --> a if f(a) else b if f(b) else x\n",
    "    return next(filter(pred, iterable), default)\n",
    "\n",
    "def random_product(*args, repeat=1):\n",
    "    \"Random selection from itertools.product(*args, **kwds)\"\n",
    "    pools = [tuple(pool) for pool in args] * repeat\n",
    "    return tuple(random.choice(pool) for pool in pools)\n",
    "\n",
    "def random_permutation(iterable, r=None):\n",
    "    \"Random selection from itertools.permutations(iterable, r)\"\n",
    "    pool = tuple(iterable)\n",
    "    r = len(pool) if r is None else r\n",
    "    return tuple(random.sample(pool, r))\n",
    "\n",
    "def random_combination(iterable, r):\n",
    "    \"Random selection from itertools.combinations(iterable, r)\"\n",
    "    pool = tuple(iterable)\n",
    "    n = len(pool)\n",
    "    indices = sorted(random.sample(range(n), r))\n",
    "    return tuple(pool[i] for i in indices)\n",
    "\n",
    "def random_combination_with_replacement(iterable, r):\n",
    "    \"Random selection from itertools.combinations_with_replacement(iterable, r)\"\n",
    "    pool = tuple(iterable)\n",
    "    n = len(pool)\n",
    "    indices = sorted(random.randrange(n) for i in range(r))\n",
    "    return tuple(pool[i] for i in indices)\n",
    "\n",
    "def nth_combination(iterable, r, index):\n",
    "    'Equivalent to list(combinations(iterable, r))[index]'\n",
    "    pool = tuple(iterable)\n",
    "    n = len(pool)\n",
    "    if r < 0 or r > n:\n",
    "        raise ValueError\n",
    "    c = 1\n",
    "    k = min(r, n-r)\n",
    "    for i in range(1, k+1):\n",
    "        c = c * (n - k + i) // i\n",
    "    if index < 0:\n",
    "        index += c\n",
    "    if index < 0 or index >= c:\n",
    "        raise IndexError\n",
    "    result = []\n",
    "    while r:\n",
    "        c, n, r = c*r//n, n-1, r-1\n",
    "        while index >= c:\n",
    "            index -= c\n",
    "            c, n = c*(n-r)//n, n-1\n",
    "        result.append(pool[-1-n])\n",
    "    return tuple(result)"
   ]
  },
  {
   "cell_type": "code",
   "execution_count": null,
   "metadata": {
    "collapsed": true
   },
   "outputs": [],
   "source": []
  }
 ],
 "metadata": {
  "kernelspec": {
   "display_name": "Python 3",
   "language": "python",
   "name": "python3"
  },
  "language_info": {
   "codemirror_mode": {
    "name": "ipython",
    "version": 3
   },
   "file_extension": ".py",
   "mimetype": "text/x-python",
   "name": "python",
   "nbconvert_exporter": "python",
   "pygments_lexer": "ipython3",
   "version": "3.6.3"
  }
 },
 "nbformat": 4,
 "nbformat_minor": 2
}
