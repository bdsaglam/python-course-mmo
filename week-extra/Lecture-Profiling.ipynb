{
 "cells": [
  {
   "cell_type": "markdown",
   "metadata": {},
   "source": [
    "# Code Profiling"
   ]
  },
  {
   "cell_type": "code",
   "execution_count": 1,
   "metadata": {
    "collapsed": true
   },
   "outputs": [],
   "source": [
    "%timeit?"
   ]
  },
  {
   "cell_type": "code",
   "execution_count": 2,
   "metadata": {
    "collapsed": true
   },
   "outputs": [],
   "source": [
    "%precision 2\n",
    "import numpy as np"
   ]
  },
  {
   "cell_type": "code",
   "execution_count": 3,
   "metadata": {},
   "outputs": [
    {
     "data": {
      "text/plain": [
       "(100, 3)"
      ]
     },
     "execution_count": 3,
     "metadata": {},
     "output_type": "execute_result"
    }
   ],
   "source": [
    "xs = np.random.random((100, 3))\n",
    "xs.shape"
   ]
  },
  {
   "cell_type": "markdown",
   "metadata": {},
   "source": [
    "## Python"
   ]
  },
  {
   "cell_type": "markdown",
   "metadata": {},
   "source": [
    "This is the pure python version of the algorithm.  Used as a baseline for comparison."
   ]
  },
  {
   "cell_type": "code",
   "execution_count": 4,
   "metadata": {
    "collapsed": true
   },
   "outputs": [],
   "source": [
    "def pdist_python(xs):\n",
    "    n, p = xs.shape\n",
    "    D = np.empty((n, n), np.float)\n",
    "    for i in range(n):\n",
    "        for j in range(n):\n",
    "            s = 0.0\n",
    "            for k in range(p):\n",
    "                tmp = xs[i,k] - xs[j,k]\n",
    "                s += tmp * tmp\n",
    "            D[i, j] = s**0.5\n",
    "    return D"
   ]
  },
  {
   "cell_type": "code",
   "execution_count": 5,
   "metadata": {},
   "outputs": [
    {
     "name": "stdout",
     "output_type": "stream",
     "text": [
      "18.8 ms ± 744 µs per loop (mean ± std. dev. of 7 runs, 10 loops each)\n"
     ]
    }
   ],
   "source": [
    "%timeit -n 10 pdist_python(xs)"
   ]
  },
  {
   "cell_type": "markdown",
   "metadata": {},
   "source": [
    "## Numpy"
   ]
  },
  {
   "cell_type": "markdown",
   "metadata": {},
   "source": [
    "NumPy is the fundamental package for scientific computing with Python. It contains among other things:\n",
    "\n",
    "* a powerful N-dimensional array object\n",
    "* sophisticated (broadcasting) functions\n",
    "* tools for integrating C/C++ and Fortran code\n",
    "* useful linear algebra, Fourier transform, and random number capabilities\n",
    "\n",
    "Besides its obvious scientific uses, NumPy can also be used as an efficient multi-dimensional container of generic data. Arbitrary data-types can be defined. This allows NumPy to seamlessly and speedily integrate with a wide variety of databases.\n",
    "\n",
    "Library documentation: <a>http://www.numpy.org/</a>"
   ]
  },
  {
   "cell_type": "code",
   "execution_count": 6,
   "metadata": {},
   "outputs": [
    {
     "data": {
      "text/plain": [
       "(100, 3)"
      ]
     },
     "execution_count": 6,
     "metadata": {},
     "output_type": "execute_result"
    }
   ],
   "source": [
    "xs.shape"
   ]
  },
  {
   "cell_type": "code",
   "execution_count": 7,
   "metadata": {},
   "outputs": [
    {
     "data": {
      "text/plain": [
       "(100, 1, 3)"
      ]
     },
     "execution_count": 7,
     "metadata": {},
     "output_type": "execute_result"
    }
   ],
   "source": [
    "xs[:,None,:].shape"
   ]
  },
  {
   "cell_type": "code",
   "execution_count": 8,
   "metadata": {},
   "outputs": [
    {
     "data": {
      "text/plain": [
       "array([[[0.31691408, 0.74244154, 0.56672335]],\n",
       "\n",
       "       [[0.56662394, 0.91014581, 0.6839585 ]],\n",
       "\n",
       "       [[0.44994134, 0.54354207, 0.11295344]],\n",
       "\n",
       "       [[0.64492003, 0.20768939, 0.27253749]],\n",
       "\n",
       "       [[0.70859284, 0.59400732, 0.81042795]],\n",
       "\n",
       "       [[0.10238763, 0.8035753 , 0.21941442]],\n",
       "\n",
       "       [[0.98736928, 0.49052423, 0.4450996 ]],\n",
       "\n",
       "       [[0.7459654 , 0.70470419, 0.19042533]],\n",
       "\n",
       "       [[0.5021321 , 0.6282557 , 0.93828969]],\n",
       "\n",
       "       [[0.4393962 , 0.65462171, 0.53491603]],\n",
       "\n",
       "       [[0.56187778, 0.41245932, 0.77147384]],\n",
       "\n",
       "       [[0.46578837, 0.01216176, 0.62208487]],\n",
       "\n",
       "       [[0.70201558, 0.14030758, 0.80925654]],\n",
       "\n",
       "       [[0.12465823, 0.16871562, 0.71509509]],\n",
       "\n",
       "       [[0.32102529, 0.0560303 , 0.6110412 ]],\n",
       "\n",
       "       [[0.17075534, 0.5419526 , 0.38497229]],\n",
       "\n",
       "       [[0.84968706, 0.53000113, 0.46459742]],\n",
       "\n",
       "       [[0.33692002, 0.31991016, 0.62092417]],\n",
       "\n",
       "       [[0.8759269 , 0.67116763, 0.5096927 ]],\n",
       "\n",
       "       [[0.71310248, 0.94621033, 0.14259924]],\n",
       "\n",
       "       [[0.99833409, 0.31377444, 0.47012538]],\n",
       "\n",
       "       [[0.84961826, 0.74209088, 0.49904003]],\n",
       "\n",
       "       [[0.82779922, 0.86146755, 0.51161015]],\n",
       "\n",
       "       [[0.52626744, 0.68821949, 0.97034837]],\n",
       "\n",
       "       [[0.74929415, 0.28175921, 0.3185085 ]],\n",
       "\n",
       "       [[0.77200887, 0.47305758, 0.86383712]],\n",
       "\n",
       "       [[0.31191685, 0.70465847, 0.59827376]],\n",
       "\n",
       "       [[0.30279516, 0.35615363, 0.03072912]],\n",
       "\n",
       "       [[0.65538266, 0.60085871, 0.12184433]],\n",
       "\n",
       "       [[0.34528604, 0.15502548, 0.89125116]],\n",
       "\n",
       "       [[0.18899093, 0.938093  , 0.34194717]],\n",
       "\n",
       "       [[0.34039308, 0.94566432, 0.2374676 ]],\n",
       "\n",
       "       [[0.48456787, 0.88895066, 0.71832028]],\n",
       "\n",
       "       [[0.57491486, 0.51195828, 0.10578975]],\n",
       "\n",
       "       [[0.46697343, 0.47659741, 0.49309257]],\n",
       "\n",
       "       [[0.18878504, 0.12514981, 0.90900721]],\n",
       "\n",
       "       [[0.17490136, 0.75075611, 0.91233769]],\n",
       "\n",
       "       [[0.06471821, 0.68850021, 0.5801513 ]],\n",
       "\n",
       "       [[0.63535545, 0.73732598, 0.61404248]],\n",
       "\n",
       "       [[0.36310005, 0.05226076, 0.09736409]],\n",
       "\n",
       "       [[0.17947652, 0.92790267, 0.17581199]],\n",
       "\n",
       "       [[0.08484936, 0.05299698, 0.86076917]],\n",
       "\n",
       "       [[0.39363382, 0.49185483, 0.46759265]],\n",
       "\n",
       "       [[0.07180532, 0.06372982, 0.67320668]],\n",
       "\n",
       "       [[0.88897447, 0.87912235, 0.85610857]],\n",
       "\n",
       "       [[0.18340798, 0.77160459, 0.19685007]],\n",
       "\n",
       "       [[0.17411624, 0.00608285, 0.42043178]],\n",
       "\n",
       "       [[0.68871704, 0.35607196, 0.34774957]],\n",
       "\n",
       "       [[0.27981773, 0.33886746, 0.71498301]],\n",
       "\n",
       "       [[0.55837841, 0.60117868, 0.70191289]],\n",
       "\n",
       "       [[0.33200273, 0.34037824, 0.77698821]],\n",
       "\n",
       "       [[0.52467667, 0.00812754, 0.80119987]],\n",
       "\n",
       "       [[0.05771679, 0.90238085, 0.21093358]],\n",
       "\n",
       "       [[0.61417523, 0.87396328, 0.73847531]],\n",
       "\n",
       "       [[0.80391955, 0.35274744, 0.25831324]],\n",
       "\n",
       "       [[0.39996411, 0.46297911, 0.65197732]],\n",
       "\n",
       "       [[0.90473413, 0.05679846, 0.48156118]],\n",
       "\n",
       "       [[0.72762691, 0.89328973, 0.18145884]],\n",
       "\n",
       "       [[0.05647489, 0.57826108, 0.33730477]],\n",
       "\n",
       "       [[0.56659088, 0.86148871, 0.09955899]],\n",
       "\n",
       "       [[0.80154707, 0.15963164, 0.51132706]],\n",
       "\n",
       "       [[0.22050787, 0.30013671, 0.47953575]],\n",
       "\n",
       "       [[0.00677065, 0.88296421, 0.02887704]],\n",
       "\n",
       "       [[0.55857445, 0.80933567, 0.67732374]],\n",
       "\n",
       "       [[0.92425668, 0.82780651, 0.31835234]],\n",
       "\n",
       "       [[0.02799903, 0.01050904, 0.25174741]],\n",
       "\n",
       "       [[0.07051037, 0.88489652, 0.64263459]],\n",
       "\n",
       "       [[0.15629827, 0.4329748 , 0.8618565 ]],\n",
       "\n",
       "       [[0.6802257 , 0.53029611, 0.79779228]],\n",
       "\n",
       "       [[0.29829917, 0.35194026, 0.31733943]],\n",
       "\n",
       "       [[0.87567713, 0.57642977, 0.54439595]],\n",
       "\n",
       "       [[0.58506019, 0.76275893, 0.33821278]],\n",
       "\n",
       "       [[0.45458225, 0.86387344, 0.50093565]],\n",
       "\n",
       "       [[0.40198692, 0.93391725, 0.52043746]],\n",
       "\n",
       "       [[0.86965578, 0.15239086, 0.17298464]],\n",
       "\n",
       "       [[0.49360752, 0.73765705, 0.42209841]],\n",
       "\n",
       "       [[0.5977342 , 0.47581058, 0.23300051]],\n",
       "\n",
       "       [[0.45034866, 0.76471018, 0.31656403]],\n",
       "\n",
       "       [[0.75370111, 0.90313266, 0.28879647]],\n",
       "\n",
       "       [[0.05978075, 0.97411303, 0.16601358]],\n",
       "\n",
       "       [[0.68476799, 0.04541097, 0.80550067]],\n",
       "\n",
       "       [[0.14172657, 0.79562631, 0.24760877]],\n",
       "\n",
       "       [[0.60777722, 0.87249409, 0.4399386 ]],\n",
       "\n",
       "       [[0.12617184, 0.64779526, 0.09499724]],\n",
       "\n",
       "       [[0.92210796, 0.0589033 , 0.23607989]],\n",
       "\n",
       "       [[0.82014979, 0.13291322, 0.27439134]],\n",
       "\n",
       "       [[0.64161209, 0.21904946, 0.01434381]],\n",
       "\n",
       "       [[0.13798105, 0.05412922, 0.06980663]],\n",
       "\n",
       "       [[0.89711774, 0.43740079, 0.06941695]],\n",
       "\n",
       "       [[0.45563849, 0.9772251 , 0.06008495]],\n",
       "\n",
       "       [[0.53007412, 0.4473125 , 0.32923056]],\n",
       "\n",
       "       [[0.16303388, 0.90679353, 0.55205876]],\n",
       "\n",
       "       [[0.93417371, 0.73362244, 0.75831829]],\n",
       "\n",
       "       [[0.76644084, 0.89585318, 0.24912115]],\n",
       "\n",
       "       [[0.39138632, 0.86895847, 0.61014013]],\n",
       "\n",
       "       [[0.59412232, 0.62617096, 0.3106095 ]],\n",
       "\n",
       "       [[0.26520884, 0.10898643, 0.68189084]],\n",
       "\n",
       "       [[0.14628405, 0.28649292, 0.59471336]],\n",
       "\n",
       "       [[0.01443317, 0.61077951, 0.40644698]],\n",
       "\n",
       "       [[0.13313447, 0.72204368, 0.86847777]]])"
      ]
     },
     "execution_count": 8,
     "metadata": {},
     "output_type": "execute_result"
    }
   ],
   "source": [
    "xs[:,None,:]"
   ]
  },
  {
   "cell_type": "code",
   "execution_count": 9,
   "metadata": {
    "collapsed": true
   },
   "outputs": [],
   "source": [
    "def pdist_numpy(xs):\n",
    "    return np.sqrt(((xs[:,None,:] - xs)**2).sum(-1))"
   ]
  },
  {
   "cell_type": "code",
   "execution_count": 10,
   "metadata": {},
   "outputs": [
    {
     "name": "stdout",
     "output_type": "stream",
     "text": [
      "309 µs ± 30.3 µs per loop (mean ± std. dev. of 7 runs, 100 loops each)\n"
     ]
    }
   ],
   "source": [
    "%timeit -n 100 pdist_numpy(xs)"
   ]
  },
  {
   "cell_type": "code",
   "execution_count": 11,
   "metadata": {},
   "outputs": [
    {
     "data": {
      "text/plain": [
       "array([[[-10., -20., -30.],\n",
       "        [-10., -20., -30.]]])"
      ]
     },
     "execution_count": 11,
     "metadata": {},
     "output_type": "execute_result"
    }
   ],
   "source": [
    "np.zeros((1,2,1)) + np.array([-10, -20 ,-30]).reshape((1,1,3))"
   ]
  },
  {
   "cell_type": "markdown",
   "metadata": {},
   "source": [
    "## Scipy"
   ]
  },
  {
   "cell_type": "markdown",
   "metadata": {},
   "source": [
    "Scipy has an optimized version of this particular function already built in.  It exploits symmetry in the problem that we're not taking advantage of it in the \"naive\" implementations above.\n",
    "\n",
    "Library documentation: <a>http://www.scipy.org/</a>"
   ]
  },
  {
   "cell_type": "code",
   "execution_count": 12,
   "metadata": {
    "collapsed": true
   },
   "outputs": [],
   "source": [
    "from scipy.spatial.distance import pdist as pdist_scipy"
   ]
  },
  {
   "cell_type": "code",
   "execution_count": 13,
   "metadata": {},
   "outputs": [
    {
     "name": "stdout",
     "output_type": "stream",
     "text": [
      "33.3 µs ± 11.4 µs per loop (mean ± std. dev. of 7 runs, 100 loops each)\n"
     ]
    }
   ],
   "source": [
    "%timeit -n 100 pdist_scipy(xs)"
   ]
  },
  {
   "cell_type": "markdown",
   "metadata": {},
   "source": [
    "## Summary"
   ]
  },
  {
   "cell_type": "markdown",
   "metadata": {},
   "source": [
    "Here's all of them together."
   ]
  },
  {
   "cell_type": "code",
   "execution_count": 14,
   "metadata": {},
   "outputs": [
    {
     "name": "stdout",
     "output_type": "stream",
     "text": [
      "Python\n",
      "19.5 ms ± 890 µs per loop (mean ± std. dev. of 7 runs, 10 loops each)\n",
      "Numpy\n",
      "315 µs ± 27.7 µs per loop (mean ± std. dev. of 7 runs, 100 loops each)\n",
      "Scipy\n",
      "33.6 µs ± 7.2 µs per loop (mean ± std. dev. of 7 runs, 100 loops each)\n"
     ]
    }
   ],
   "source": [
    "print('Python')\n",
    "%timeit -n 10 pdist_python(xs)\n",
    "print('Numpy')\n",
    "%timeit -n 100 pdist_numpy(xs)\n",
    "print('Scipy')\n",
    "%timeit -n 100 pdist_scipy(xs)"
   ]
  },
  {
   "cell_type": "markdown",
   "metadata": {},
   "source": [
    "Some observations:\n",
    "\n",
    "* Pure python is much, much slower than all of the other methods (close to 1000x difference!)\n",
    "* Simply using Numpy where possible results in a huge speed-up\n",
    "* Algorithm optimizations (such as those employed in the Scipy implementation) can easily trump other methods"
   ]
  }
 ],
 "metadata": {
  "kernelspec": {
   "display_name": "Python 3",
   "language": "python",
   "name": "python3"
  },
  "language_info": {
   "codemirror_mode": {
    "name": "ipython",
    "version": 3
   },
   "file_extension": ".py",
   "mimetype": "text/x-python",
   "name": "python",
   "nbconvert_exporter": "python",
   "pygments_lexer": "ipython3",
   "version": "3.6.3"
  }
 },
 "nbformat": 4,
 "nbformat_minor": 1
}
