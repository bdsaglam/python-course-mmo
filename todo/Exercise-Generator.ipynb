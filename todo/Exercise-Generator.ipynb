{
 "cells": [
  {
   "cell_type": "markdown",
   "metadata": {},
   "source": [
    "#### Exercise\n",
    "\n",
    "Write a generator that produces prime numbers up to a given number.\n",
    "\n",
    "Input: g(20)\n",
    "\n",
    "Expected output: [2, 3, 5, 7, 11, 13, 17, 19]"
   ]
  },
  {
   "cell_type": "code",
   "execution_count": 1,
   "metadata": {
    "collapsed": true
   },
   "outputs": [],
   "source": [
    "def gprimes(m):\n",
    "    # Find prime numbers\n",
    "    for n in range(2, m):\n",
    "        for x in range(2, n):\n",
    "            if n % x == 0:\n",
    "                break\n",
    "        else:\n",
    "            # loop fell through without finding a factor\n",
    "            yield n"
   ]
  },
  {
   "cell_type": "code",
   "execution_count": 5,
   "metadata": {},
   "outputs": [
    {
     "data": {
      "text/plain": [
       "[2, 3, 5, 7, 11, 13, 17, 19]"
      ]
     },
     "execution_count": 5,
     "metadata": {},
     "output_type": "execute_result"
    }
   ],
   "source": [
    "list(gprimes(20))"
   ]
  },
  {
   "cell_type": "markdown",
   "metadata": {},
   "source": [
    "#### Exercise\n",
    "\n",
    "Write a countdown generator that takes an integer and counts down to 0.\n",
    "\n",
    "Input: countdown(3)\n",
    "Expected output:    \n",
    "Time left  3    \n",
    "Time left  2    \n",
    "Time left  1   "
   ]
  },
  {
   "cell_type": "code",
   "execution_count": 6,
   "metadata": {
    "collapsed": true
   },
   "outputs": [],
   "source": [
    "def countdown(n):\n",
    "     while n > 0:\n",
    "        yield n \n",
    "        n -= 1"
   ]
  },
  {
   "cell_type": "code",
   "execution_count": 8,
   "metadata": {},
   "outputs": [
    {
     "name": "stdout",
     "output_type": "stream",
     "text": [
      "Time left  10\n",
      "Time left  9\n",
      "Time left  8\n",
      "Time left  7\n",
      "Time left  6\n",
      "Time left  5\n",
      "Time left  4\n",
      "Time left  3\n",
      "Time left  2\n",
      "Time left  1\n"
     ]
    }
   ],
   "source": [
    "for t in countdown(10):\n",
    "    print('Time left ', t)"
   ]
  },
  {
   "cell_type": "markdown",
   "metadata": {},
   "source": [
    "#### Exercise\n",
    "Write a generator that takes a sequence and divide it into chunks by size"
   ]
  },
  {
   "cell_type": "code",
   "execution_count": null,
   "metadata": {
    "collapsed": true
   },
   "outputs": [],
   "source": [
    "def chunk_by_size(sequence, chunk_size):\n",
    "    \"\"\"\n",
    "    Parameters\n",
    "    ----------\n",
    "    sequence : Sequence, to be splitted into chunks with specified size\n",
    "    chunk_size: int, size of each chunk\n",
    "    \"\"\"\n",
    "\n",
    "    for i in range(0, len(sequence), chunk_size):\n",
    "        yield sequence[i:i + chunk_size]"
   ]
  },
  {
   "cell_type": "markdown",
   "metadata": {},
   "source": [
    "#### Exercise\n",
    "Write a generator that takes a sequence and divide it into chunks by number of parts."
   ]
  },
  {
   "cell_type": "code",
   "execution_count": 15,
   "metadata": {
    "collapsed": true
   },
   "outputs": [],
   "source": [
    "def chunk_to_parts(sequence, numchunk):\n",
    "    \"\"\"\n",
    "    Parameters\n",
    "    ----------\n",
    "    sequence : Sequence, to be splitted into specified number of chunks\n",
    "    numchunk : int, number of chunks\n",
    "    \"\"\"\n",
    "\n",
    "    seq_len = len(sequence)\n",
    "    numchunk = min(seq_len, numchunk)\n",
    "    chunk_size = int(seq_len // numchunk)\n",
    "    remainder = int(seq_len % numchunk)\n",
    "    first_end = (chunk_size + remainder)\n",
    "    yield sequence[0:first_end]\n",
    "    for i in range(first_end, len(sequence), chunk_size):\n",
    "        yield sequence[i:i + chunk_size]"
   ]
  },
  {
   "cell_type": "markdown",
   "metadata": {},
   "source": [
    "#### Exercise\n",
    "Write a windowing generator that takes a sequence and window size and produce chunks.\n",
    "\n",
    "Input: [1,3,5,7,9]\n",
    "\n",
    "Expected output: [[1, 3, 5], [3, 5, 7], [5, 7, 9]]"
   ]
  },
  {
   "cell_type": "code",
   "execution_count": 14,
   "metadata": {
    "collapsed": true
   },
   "outputs": [],
   "source": [
    "def window(seq, w):\n",
    "    N = len(seq)\n",
    "    for i in range(0, N-w+1):\n",
    "        yield seq[i:i+w]"
   ]
  },
  {
   "cell_type": "code",
   "execution_count": 13,
   "metadata": {
    "scrolled": true
   },
   "outputs": [
    {
     "data": {
      "text/plain": [
       "[[1, 3, 5], [3, 5, 7], [5, 7, 9]]"
      ]
     },
     "execution_count": 13,
     "metadata": {},
     "output_type": "execute_result"
    }
   ],
   "source": [
    "list(window([1,3,5,7,9],3))"
   ]
  },
  {
   "cell_type": "markdown",
   "metadata": {},
   "source": [
    "#### Exercise\n",
    "\n",
    "Write three generators work as a pipeline that takes a list of number, filters the even numbers, multiply each with 3 and convert them into strings.\n",
    "\n",
    "Input: [1,2,3,4,5,6]\n",
    "\n",
    "Output: ['6','12','18']\n"
   ]
  },
  {
   "cell_type": "code",
   "execution_count": 2,
   "metadata": {},
   "outputs": [
    {
     "name": "stdout",
     "output_type": "stream",
     "text": [
      "The Number: 6\n",
      "The Number: 12\n",
      "The Number: 18\n",
      "The Number: 24\n",
      "The Number: 30\n"
     ]
    }
   ],
   "source": [
    "def even_filter(nums):\n",
    "    for num in nums:\n",
    "        if num % 2 == 0:\n",
    "            yield num\n",
    "\n",
    "def multiply_by_three(nums):\n",
    "    for num in nums:\n",
    "        yield num * 3\n",
    "        \n",
    "def convert_to_string(nums):\n",
    "    for num in nums:\n",
    "        yield 'The Number: %s' % num\n",
    "\n",
    "nums = [1, 2, 3, 4, 5, 6, 7, 8, 9, 10]\n",
    "pipeline = convert_to_string(multiply_by_three(even_filter(nums)))\n",
    "\n",
    "for num in pipeline:\n",
    "    print(num)"
   ]
  },
  {
   "cell_type": "markdown",
   "metadata": {},
   "source": [
    "#### Exercise\n",
    "Write a function that flattens a nested list"
   ]
  },
  {
   "cell_type": "code",
   "execution_count": null,
   "metadata": {
    "collapsed": true
   },
   "outputs": [],
   "source": [
    "def flatten(nested):\n",
    "    try:\n",
    "        for sublist in nested:\n",
    "            for element in flatten(sublist):\n",
    "                yield element\n",
    "    except TypeError:\n",
    "        yield nested"
   ]
  },
  {
   "cell_type": "code",
   "execution_count": null,
   "metadata": {
    "collapsed": true
   },
   "outputs": [],
   "source": []
  }
 ],
 "metadata": {
  "kernelspec": {
   "display_name": "Python 3",
   "language": "python",
   "name": "python3"
  },
  "language_info": {
   "codemirror_mode": {
    "name": "ipython",
    "version": 3
   },
   "file_extension": ".py",
   "mimetype": "text/x-python",
   "name": "python",
   "nbconvert_exporter": "python",
   "pygments_lexer": "ipython3",
   "version": "3.6.3"
  }
 },
 "nbformat": 4,
 "nbformat_minor": 2
}
