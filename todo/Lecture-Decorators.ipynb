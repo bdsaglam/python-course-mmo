{
 "cells": [
  {
   "cell_type": "markdown",
   "metadata": {},
   "source": [
    "# Decorators"
   ]
  },
  {
   "cell_type": "markdown",
   "metadata": {},
   "source": [
    "A decorator is a function whose primary purpose is to wrap another function or class. The primary purpose of this wrapping is to transparently alter or enhance the behavior of the object being wrapped."
   ]
  },
  {
   "cell_type": "code",
   "execution_count": 1,
   "metadata": {
    "collapsed": true
   },
   "outputs": [],
   "source": [
    "def f(n):\n",
    "    return list(range(n))"
   ]
  },
  {
   "cell_type": "code",
   "execution_count": 2,
   "metadata": {
    "collapsed": true
   },
   "outputs": [],
   "source": [
    "# decorator function takes a function, modifies its behaviour and returns another function\n",
    "def verbose(func):\n",
    "    def tempfunc(*args, **kwargs):\n",
    "        print('args: ', args)\n",
    "        print('kwargs: ', kwargs)\n",
    "        result = func(*args, **kwargs)\n",
    "        return result\n",
    "    return tempfunc"
   ]
  },
  {
   "cell_type": "code",
   "execution_count": 3,
   "metadata": {
    "collapsed": true
   },
   "outputs": [],
   "source": [
    "g = verbose(f)"
   ]
  },
  {
   "cell_type": "code",
   "execution_count": 4,
   "metadata": {},
   "outputs": [
    {
     "data": {
      "text/plain": [
       "[0, 1, 2, 3, 4, 5, 6, 7, 8, 9]"
      ]
     },
     "execution_count": 4,
     "metadata": {},
     "output_type": "execute_result"
    }
   ],
   "source": [
    "f(10)"
   ]
  },
  {
   "cell_type": "code",
   "execution_count": 5,
   "metadata": {},
   "outputs": [
    {
     "name": "stdout",
     "output_type": "stream",
     "text": [
      "args:  (10,)\n",
      "kwargs:  {}\n"
     ]
    },
    {
     "data": {
      "text/plain": [
       "[0, 1, 2, 3, 4, 5, 6, 7, 8, 9]"
      ]
     },
     "execution_count": 5,
     "metadata": {},
     "output_type": "execute_result"
    }
   ],
   "source": [
    "g(10)"
   ]
  },
  {
   "cell_type": "code",
   "execution_count": 6,
   "metadata": {
    "collapsed": true
   },
   "outputs": [],
   "source": [
    "@verbose\n",
    "def h(x, y):\n",
    "    return \"something\""
   ]
  },
  {
   "cell_type": "code",
   "execution_count": 7,
   "metadata": {
    "scrolled": true
   },
   "outputs": [
    {
     "name": "stdout",
     "output_type": "stream",
     "text": [
      "args:  (1,)\n",
      "kwargs:  {'y': 'anything'}\n"
     ]
    },
    {
     "data": {
      "text/plain": [
       "'something'"
      ]
     },
     "execution_count": 7,
     "metadata": {},
     "output_type": "execute_result"
    }
   ],
   "source": [
    "h(1, y=\"anything\")"
   ]
  },
  {
   "cell_type": "markdown",
   "metadata": {
    "collapsed": true
   },
   "source": [
    "## Function decorators w/o arguments"
   ]
  },
  {
   "cell_type": "code",
   "execution_count": 8,
   "metadata": {
    "collapsed": true
   },
   "outputs": [],
   "source": [
    "def licensed(func):\n",
    "    from datetime import datetime\n",
    "    end_date = datetime(2018,1,1,0,0)\n",
    "    def wrapper(*args, **kwargs):\n",
    "        if datetime.now() < end_date:\n",
    "            return func(*args, **kwargs)\n",
    "        else:\n",
    "            print(end_date.strftime(\"Your license has expired since %d %b %Y %H:%M\"))\n",
    "            return None\n",
    "    return wrapper"
   ]
  },
  {
   "cell_type": "markdown",
   "metadata": {},
   "source": [
    "```\n",
    "@decorator_function\n",
    "def f():\n",
    "    return\n",
    "\n",
    "f = decorator_function(f) # f is not the same f anymore\n",
    "f(n)\n",
    "\n",
    "```"
   ]
  },
  {
   "cell_type": "code",
   "execution_count": 9,
   "metadata": {
    "collapsed": true
   },
   "outputs": [],
   "source": [
    "@licensed\n",
    "def hello(name):\n",
    "    return 'hello ' + name"
   ]
  },
  {
   "cell_type": "code",
   "execution_count": 10,
   "metadata": {},
   "outputs": [
    {
     "name": "stdout",
     "output_type": "stream",
     "text": [
      "Your license has expired since 01 Jan 2018 00:00\n"
     ]
    }
   ],
   "source": [
    "hello(\"World\")"
   ]
  },
  {
   "cell_type": "code",
   "execution_count": 11,
   "metadata": {
    "collapsed": true
   },
   "outputs": [],
   "source": [
    "import functools # use functools.wraps to inject function's properties\n",
    "\n",
    "def licensed2(func):\n",
    "    from datetime import datetime\n",
    "    end_date = datetime(2015,11,13,12,00)\n",
    "    \n",
    "    @functools.wraps(func)\n",
    "    def wrapper(*args, **kwargs):\n",
    "        if datetime.now() < end_date:\n",
    "            return func(*args, **kwargs)\n",
    "        else:\n",
    "            print(end_date.strftime(\"Your license has expired since %d %b %Y %H:%M\"))\n",
    "            return None\n",
    "    return wrapper"
   ]
  },
  {
   "cell_type": "code",
   "execution_count": 12,
   "metadata": {
    "collapsed": true
   },
   "outputs": [],
   "source": [
    "@licensed2\n",
    "def hello2(name):\n",
    "    return 'hello ' + name"
   ]
  },
  {
   "cell_type": "code",
   "execution_count": 13,
   "metadata": {
    "scrolled": true
   },
   "outputs": [
    {
     "name": "stdout",
     "output_type": "stream",
     "text": [
      "wrapper\n",
      "hello2\n"
     ]
    }
   ],
   "source": [
    "print(hello.__name__)\n",
    "print(hello2.__name__)"
   ]
  },
  {
   "cell_type": "markdown",
   "metadata": {},
   "source": [
    "## Function decorators with arguments"
   ]
  },
  {
   "cell_type": "code",
   "execution_count": 14,
   "metadata": {
    "collapsed": true
   },
   "outputs": [],
   "source": [
    "import functools\n",
    "\n",
    "def licensed(end_date):\n",
    "    def decorator(func):      \n",
    "        @functools.wraps(func)\n",
    "        def wrapper(*args, **kwargs):\n",
    "            from datetime import datetime\n",
    "            if datetime.now() < end_date:\n",
    "                return func(*args, **kwargs)\n",
    "            else:\n",
    "                print(end_date.strftime(\"Your license has expired since %d %b %Y %H:%M\"))\n",
    "                return None\n",
    "        return wrapper\n",
    "    return decorator"
   ]
  },
  {
   "cell_type": "code",
   "execution_count": 15,
   "metadata": {
    "collapsed": true
   },
   "outputs": [],
   "source": [
    "from datetime import datetime\n",
    "\n",
    "@licensed(datetime(2015,11,13,12,0))\n",
    "def hola(name):\n",
    "    return 'hola ' + name"
   ]
  },
  {
   "cell_type": "markdown",
   "metadata": {},
   "source": [
    "```\n",
    "@decorator_function(arg1)\n",
    "def f():\n",
    "    return\n",
    "\n",
    "real_decorator_function = decorator_function(arg1)\n",
    "f = real_decorator_function(f) # modify f\n",
    "\n",
    "f(n)\n",
    "\n",
    "```"
   ]
  },
  {
   "cell_type": "markdown",
   "metadata": {},
   "source": [
    "### A function decorator to create decorators (ultimate example)"
   ]
  },
  {
   "cell_type": "code",
   "execution_count": 17,
   "metadata": {
    "collapsed": true
   },
   "outputs": [],
   "source": [
    "def decorator(declared_decorator):\n",
    "    \"\"\"Create a decorator out of a function, which will be used as a wrapper.\"\"\"\n",
    " \n",
    "    @functools.wraps(declared_decorator)\n",
    "    def final_decorator(func=None, **kwargs):\n",
    "        # This will be exposed to the rest\n",
    "        # of your application as a decorator\n",
    " \n",
    "        def decorated(func):\n",
    "            # This will be exposed to the rest\n",
    "            # of your application as a decorated\n",
    "            # function, regardless how it was called\n",
    "            @functools.wraps(func)\n",
    "            def wrapper(*a, **kw):\n",
    "                # This is used when actually executing\n",
    "                # the function that was decorated\n",
    "                return declared_decorator(func, a, kw, **kwargs)\n",
    "            return wrapper\n",
    " \n",
    "        if func is None:\n",
    "            # The decorator was called with arguments,\n",
    "            # rather than a function to decorate\n",
    "            return decorated\n",
    "        else:\n",
    "            # The decorator was called without arguments,\n",
    "            # so the function should be decorated immediately\n",
    "            return decorated(func)\n",
    "    return final_decorator"
   ]
  },
  {
   "cell_type": "code",
   "execution_count": 18,
   "metadata": {
    "collapsed": true
   },
   "outputs": [],
   "source": [
    "@decorator\n",
    "def suppress_errors(func, args, kwargs, log_func=None):\n",
    "    try:\n",
    "        return func(*args, **kwargs)\n",
    "    except Exception as e:\n",
    "        if log_func is not None:\n",
    "             log_func(str(e))\n",
    "        else:\n",
    "            print('suppressed error: ', e)"
   ]
  },
  {
   "cell_type": "code",
   "execution_count": 19,
   "metadata": {
    "collapsed": true
   },
   "outputs": [],
   "source": [
    "@suppress_errors\n",
    "def example():\n",
    "    return variable_which_does_not_exist"
   ]
  },
  {
   "cell_type": "code",
   "execution_count": 20,
   "metadata": {
    "collapsed": true
   },
   "outputs": [],
   "source": [
    "@suppress_errors\n",
    "def example2(a,b=2):\n",
    "    print(a,b)\n",
    "    return variable_which_does_not_exist"
   ]
  },
  {
   "cell_type": "code",
   "execution_count": 21,
   "metadata": {},
   "outputs": [
    {
     "name": "stdout",
     "output_type": "stream",
     "text": [
      "suppressed error:  name 'variable_which_does_not_exist' is not defined\n"
     ]
    }
   ],
   "source": [
    "example()"
   ]
  },
  {
   "cell_type": "code",
   "execution_count": 22,
   "metadata": {
    "scrolled": true
   },
   "outputs": [
    {
     "name": "stdout",
     "output_type": "stream",
     "text": [
      "1 3\n",
      "suppressed error:  name 'variable_which_does_not_exist' is not defined\n"
     ]
    }
   ],
   "source": [
    "example2(1,b=3)"
   ]
  },
  {
   "cell_type": "markdown",
   "metadata": {},
   "source": [
    "## Class decorators without arguments\n",
    "The mechanism for class decorators without arguments is quite simple. The expression is actually:\n",
    "<br>\n",
    "decorated_func = decorator_wo_arguments(func)\n",
    "\n",
    "which means \"__init__\" method is fired when the decorator is implemented."
   ]
  },
  {
   "cell_type": "code",
   "execution_count": 23,
   "metadata": {
    "collapsed": true
   },
   "outputs": [],
   "source": [
    "class memoize:\n",
    "    def __init__(self,f):\n",
    "        self.fn = f\n",
    "        self.memo = {}\n",
    "        \n",
    "    def __call__(self,*args):\n",
    "        if args not in self.memo:\n",
    "            self.memo[args] = self.fn(*args)\n",
    "        return self.memo[args]   "
   ]
  },
  {
   "cell_type": "code",
   "execution_count": 24,
   "metadata": {
    "collapsed": true
   },
   "outputs": [],
   "source": [
    "def fibo(n):\n",
    "    if n==0:\n",
    "        return 0\n",
    "    if n==1:\n",
    "        return 1\n",
    "    else:\n",
    "        return fibo(n-1) + fibo(n-2)"
   ]
  },
  {
   "cell_type": "code",
   "execution_count": 25,
   "metadata": {
    "collapsed": true
   },
   "outputs": [],
   "source": [
    "@memoize\n",
    "def fiboM(n):\n",
    "    if n==0:\n",
    "        return 0\n",
    "    if n==1:\n",
    "        return 1\n",
    "    else:\n",
    "        return fibo(n-1) + fibo(n-2)"
   ]
  },
  {
   "cell_type": "code",
   "execution_count": 28,
   "metadata": {},
   "outputs": [
    {
     "name": "stdout",
     "output_type": "stream",
     "text": [
      "2.8 ms ± 53.5 µs per loop (mean ± std. dev. of 7 runs, 100 loops each)\n"
     ]
    }
   ],
   "source": [
    "%timeit fibo(20)"
   ]
  },
  {
   "cell_type": "code",
   "execution_count": 32,
   "metadata": {},
   "outputs": [
    {
     "name": "stdout",
     "output_type": "stream",
     "text": [
      "289 ns ± 5.21 ns per loop (mean ± std. dev. of 7 runs, 1000000 loops each)\n"
     ]
    }
   ],
   "source": [
    "%timeit fiboM(20)"
   ]
  },
  {
   "cell_type": "markdown",
   "metadata": {},
   "source": [
    "```\n",
    "@decorator_class \n",
    "def f():\n",
    "    return\n",
    "    \n",
    "f = decorator_class.__init__(f) # f is not a function anymore but a callable object\n",
    "f(n) --> f.__call__(arguments)\n",
    "\n",
    "```"
   ]
  },
  {
   "cell_type": "markdown",
   "metadata": {},
   "source": [
    "## Class decorators with arguments\n",
    "The mechanism for class decorators with arguments is slightly different. Since it takes arguments, the expression becomes:\n",
    "<br>\n",
    "decorated_func = decorator_w_arguments(*args)(func)\n",
    "\n",
    "So for this case, \"__call__\" method is fired when the decorator is implemented not \"__init__\" as in decorators with arguments"
   ]
  },
  {
   "cell_type": "code",
   "execution_count": 29,
   "metadata": {
    "collapsed": true
   },
   "outputs": [],
   "source": [
    "class delay:\n",
    "    def __init__(self,t):\n",
    "        self.t = t\n",
    "        \n",
    "    def __call__(self,f):\n",
    "        print('inside __call__')\n",
    "        print('this is printed once when decorator is created/implemented')\n",
    "        def wrapper(*args):\n",
    "            print('inside wrapper')\n",
    "            print('this is printed whenever the decorated function is called')\n",
    "            return f(*args)\n",
    "        \n",
    "        return wrapper"
   ]
  },
  {
   "cell_type": "code",
   "execution_count": 30,
   "metadata": {},
   "outputs": [
    {
     "name": "stdout",
     "output_type": "stream",
     "text": [
      "inside __call__\n",
      "this is printed once when decorator is created/implemented\n"
     ]
    }
   ],
   "source": [
    "@delay(10)\n",
    "def pw2(a):\n",
    "    return a**2"
   ]
  },
  {
   "cell_type": "code",
   "execution_count": 31,
   "metadata": {
    "scrolled": true
   },
   "outputs": [
    {
     "name": "stdout",
     "output_type": "stream",
     "text": [
      "inside wrapper\n",
      "this is printed whenever the decorated function is called\n"
     ]
    },
    {
     "data": {
      "text/plain": [
       "25"
      ]
     },
     "execution_count": 31,
     "metadata": {},
     "output_type": "execute_result"
    }
   ],
   "source": [
    "pw2(5)"
   ]
  },
  {
   "cell_type": "markdown",
   "metadata": {},
   "source": [
    "```\n",
    "@decorator_class(arg1)\n",
    "def f():\n",
    "    return\n",
    "\n",
    "decorator_instance = decorator_class.__init__(arg1) # decorator class is instantiated\n",
    "f = decorator_instance.__call__(f) # decorator instance is a callable object\n",
    "f(n) --> f.__call__(arguments)\n",
    "\n",
    "```"
   ]
  },
  {
   "cell_type": "code",
   "execution_count": null,
   "metadata": {
    "collapsed": true
   },
   "outputs": [],
   "source": []
  }
 ],
 "metadata": {
  "kernelspec": {
   "display_name": "Python 3",
   "language": "python",
   "name": "python3"
  },
  "language_info": {
   "codemirror_mode": {
    "name": "ipython",
    "version": 3
   },
   "file_extension": ".py",
   "mimetype": "text/x-python",
   "name": "python",
   "nbconvert_exporter": "python",
   "pygments_lexer": "ipython3",
   "version": "3.6.3"
  }
 },
 "nbformat": 4,
 "nbformat_minor": 1
}
