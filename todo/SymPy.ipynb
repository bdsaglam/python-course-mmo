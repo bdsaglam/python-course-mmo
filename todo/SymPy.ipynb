{
 "cells": [
  {
   "cell_type": "markdown",
   "metadata": {},
   "source": [
    "# SymPy: Open Source Symbolic Mathematics\n",
    "\n",
    "This notebook uses the [SymPy](http://sympy.org) package to perform symbolic manipulations,\n",
    "and combined with numpy and matplotlib, also displays numerical visualizations of symbolically\n",
    "constructed expressions.\n",
    "\n",
    "We first load sympy printing extensions, as well as all of sympy:"
   ]
  },
  {
   "cell_type": "code",
   "execution_count": 1,
   "metadata": {
    "collapsed": true
   },
   "outputs": [],
   "source": [
    "from IPython.display import display\n",
    "\n",
    "from sympy.interactive import printing\n",
    "printing.init_printing(use_latex='mathjax')\n",
    "\n",
    "import sympy as sym\n",
    "from sympy import *\n"
   ]
  },
  {
   "cell_type": "code",
   "execution_count": 2,
   "metadata": {},
   "outputs": [],
   "source": [
    "x, y, z = symbols(\"x y z\")\n",
    "k, m, n = symbols(\"k m n\", integer=True)\n",
    "f, g, h = map(Function, 'fgh')"
   ]
  },
  {
   "cell_type": "markdown",
   "metadata": {},
   "source": [
    "<h2>Elementary operations</h2>"
   ]
  },
  {
   "cell_type": "code",
   "execution_count": 3,
   "metadata": {},
   "outputs": [
    {
     "data": {
      "text/latex": [
       "$$\\frac{3 \\pi}{2} + \\frac{e^{i x}}{x^{2} + y}$$"
      ],
      "text/plain": [
       "        ⅈ⋅x \n",
       "3⋅π    ℯ    \n",
       "─── + ──────\n",
       " 2     2    \n",
       "      x  + y"
      ]
     },
     "execution_count": 3,
     "metadata": {},
     "output_type": "execute_result"
    }
   ],
   "source": [
    "Rational(3,2)*pi + exp(I*x) / (x**2 + y)"
   ]
  },
  {
   "cell_type": "code",
   "execution_count": 4,
   "metadata": {},
   "outputs": [
    {
     "data": {
      "text/latex": [
       "$$-1.0$$"
      ],
      "text/plain": [
       "-1.00000000000000"
      ]
     },
     "execution_count": 4,
     "metadata": {},
     "output_type": "execute_result"
    }
   ],
   "source": [
    "exp(I*x).subs(x,pi).evalf()"
   ]
  },
  {
   "cell_type": "code",
   "execution_count": 5,
   "metadata": {
    "collapsed": true
   },
   "outputs": [],
   "source": [
    "e = x + 2*y"
   ]
  },
  {
   "cell_type": "code",
   "execution_count": 6,
   "metadata": {},
   "outputs": [
    {
     "data": {
      "text/plain": [
       "\"Add(Symbol('x'), Mul(Integer(2), Symbol('y')))\""
      ]
     },
     "execution_count": 6,
     "metadata": {},
     "output_type": "execute_result"
    }
   ],
   "source": [
    "srepr(e)"
   ]
  },
  {
   "cell_type": "code",
   "execution_count": 7,
   "metadata": {},
   "outputs": [
    {
     "data": {
      "text/latex": [
       "$$262537412640768743.99999999999925007259719818568888$$"
      ],
      "text/plain": [
       "262537412640768743.99999999999925007259719818568888"
      ]
     },
     "execution_count": 7,
     "metadata": {},
     "output_type": "execute_result"
    }
   ],
   "source": [
    "exp(pi * sqrt(163)).evalf(50)"
   ]
  },
  {
   "cell_type": "markdown",
   "metadata": {},
   "source": [
    "<h2>Algebra<h2>"
   ]
  },
  {
   "cell_type": "code",
   "execution_count": 8,
   "metadata": {},
   "outputs": [
    {
     "data": {
      "text/latex": [
       "$$\\left(x + 1\\right) \\left(x + y\\right)^{2}$$"
      ],
      "text/plain": [
       "               2\n",
       "(x + 1)⋅(x + y) "
      ]
     },
     "execution_count": 8,
     "metadata": {},
     "output_type": "execute_result"
    }
   ],
   "source": [
    "eq = ((x+y)**2 * (x+1))\n",
    "eq"
   ]
  },
  {
   "cell_type": "code",
   "execution_count": 9,
   "metadata": {},
   "outputs": [
    {
     "data": {
      "text/latex": [
       "$$x^{3} + 2 x^{2} y + x^{2} + x y^{2} + 2 x y + y^{2}$$"
      ],
      "text/plain": [
       " 3      2      2      2            2\n",
       "x  + 2⋅x ⋅y + x  + x⋅y  + 2⋅x⋅y + y "
      ]
     },
     "execution_count": 9,
     "metadata": {},
     "output_type": "execute_result"
    }
   ],
   "source": [
    "expand(eq)"
   ]
  },
  {
   "cell_type": "code",
   "execution_count": 10,
   "metadata": {},
   "outputs": [
    {
     "data": {
      "text/latex": [
       "$$\\frac{1}{x} \\left(x \\sin{\\left (x \\right )} - 1\\right) + \\frac{1}{x}$$"
      ],
      "text/plain": [
       "x⋅sin(x) - 1   1\n",
       "──────────── + ─\n",
       "     x         x"
      ]
     },
     "execution_count": 10,
     "metadata": {},
     "output_type": "execute_result"
    }
   ],
   "source": [
    "a = 1/x + (x*sin(x) - 1)/x\n",
    "a"
   ]
  },
  {
   "cell_type": "code",
   "execution_count": 11,
   "metadata": {},
   "outputs": [
    {
     "data": {
      "text/latex": [
       "$$\\sin{\\left (x \\right )}$$"
      ],
      "text/plain": [
       "sin(x)"
      ]
     },
     "execution_count": 11,
     "metadata": {},
     "output_type": "execute_result"
    }
   ],
   "source": [
    "simplify(a)"
   ]
  },
  {
   "cell_type": "code",
   "execution_count": 12,
   "metadata": {},
   "outputs": [
    {
     "data": {
      "text/latex": [
       "$$x^{3} + 2 x^{2} + 4 x + 8 = 0$$"
      ],
      "text/plain": [
       " 3      2              \n",
       "x  + 2⋅x  + 4⋅x + 8 = 0"
      ]
     },
     "execution_count": 12,
     "metadata": {},
     "output_type": "execute_result"
    }
   ],
   "source": [
    "eq = Eq(x**3 + 2*x**2 + 4*x + 8, 0)\n",
    "eq"
   ]
  },
  {
   "cell_type": "code",
   "execution_count": 13,
   "metadata": {},
   "outputs": [
    {
     "data": {
      "text/latex": [
       "$$\\left [ -2, \\quad - 2 i, \\quad 2 i\\right ]$$"
      ],
      "text/plain": [
       "[-2, -2⋅ⅈ, 2⋅ⅈ]"
      ]
     },
     "execution_count": 13,
     "metadata": {},
     "output_type": "execute_result"
    }
   ],
   "source": [
    "solve(eq, x)"
   ]
  },
  {
   "cell_type": "code",
   "execution_count": 14,
   "metadata": {
    "scrolled": true
   },
   "outputs": [
    {
     "data": {
      "text/latex": [
       "$$\\sum_{n=a}^{b} \\left(2^{n} + 6 n^{2}\\right)$$"
      ],
      "text/plain": [
       "  b              \n",
       " ___             \n",
       " ╲               \n",
       "  ╲   ⎛ n      2⎞\n",
       "  ╱   ⎝2  + 6⋅n ⎠\n",
       " ╱               \n",
       " ‾‾‾             \n",
       "n = a            "
      ]
     },
     "execution_count": 14,
     "metadata": {},
     "output_type": "execute_result"
    }
   ],
   "source": [
    "a, b = symbols('a b')\n",
    "Sum(6*n**2 + 2**n, (n, a, b))"
   ]
  },
  {
   "cell_type": "markdown",
   "metadata": {},
   "source": [
    "<h2>Calculus</h2>"
   ]
  },
  {
   "cell_type": "code",
   "execution_count": 15,
   "metadata": {},
   "outputs": [
    {
     "data": {
      "text/latex": [
       "$$- \\frac{1}{6}$$"
      ],
      "text/plain": [
       "-1/6"
      ]
     },
     "execution_count": 15,
     "metadata": {},
     "output_type": "execute_result"
    }
   ],
   "source": [
    "limit((sin(x)-x)/x**3, x, 0)"
   ]
  },
  {
   "cell_type": "code",
   "execution_count": 16,
   "metadata": {},
   "outputs": [
    {
     "data": {
      "text/latex": [
       "$$1 + \\frac{x^{2}}{2} + \\frac{5 x^{4}}{24} + \\mathcal{O}\\left(x^{6}\\right)$$"
      ],
      "text/plain": [
       "     2      4        \n",
       "    x    5⋅x     ⎛ 6⎞\n",
       "1 + ── + ──── + O⎝x ⎠\n",
       "    2     24         "
      ]
     },
     "execution_count": 16,
     "metadata": {},
     "output_type": "execute_result"
    }
   ],
   "source": [
    "(1/cos(x)).series(x, 0, 6)"
   ]
  },
  {
   "cell_type": "code",
   "execution_count": 17,
   "metadata": {},
   "outputs": [
    {
     "data": {
      "text/latex": [
       "$$- \\frac{4 x \\cos{\\left (x^{2} \\right )}}{x + 1} \\sin{\\left (x^{2} \\right )} - \\frac{\\cos^{2}{\\left (x^{2} \\right )}}{\\left(x + 1\\right)^{2}}$$"
      ],
      "text/plain": [
       "         ⎛ 2⎞    ⎛ 2⎞      2⎛ 2⎞\n",
       "  4⋅x⋅sin⎝x ⎠⋅cos⎝x ⎠   cos ⎝x ⎠\n",
       "- ─────────────────── - ────────\n",
       "         x + 1                 2\n",
       "                        (x + 1) "
      ]
     },
     "execution_count": 17,
     "metadata": {},
     "output_type": "execute_result"
    }
   ],
   "source": [
    "diff(cos(x**2)**2 / (1+x), x)"
   ]
  },
  {
   "cell_type": "code",
   "execution_count": 18,
   "metadata": {
    "scrolled": true
   },
   "outputs": [
    {
     "data": {
      "text/latex": [
       "$$-2 + \\frac{\\pi^{2}}{4}$$"
      ],
      "text/plain": [
       "      2\n",
       "     π \n",
       "-2 + ──\n",
       "     4 "
      ]
     },
     "execution_count": 18,
     "metadata": {},
     "output_type": "execute_result"
    }
   ],
   "source": [
    "integrate(x**2 * cos(x), (x, 0, pi/2))"
   ]
  },
  {
   "cell_type": "code",
   "execution_count": 19,
   "metadata": {},
   "outputs": [
    {
     "data": {
      "text/latex": [
       "$$9 f{\\left (x \\right )} + \\frac{d^{2}}{d x^{2}}  f{\\left (x \\right )} = 1$$"
      ],
      "text/plain": [
       "           2          \n",
       "          d           \n",
       "9⋅f(x) + ───(f(x)) = 1\n",
       "           2          \n",
       "         dx           "
      ]
     },
     "metadata": {},
     "output_type": "display_data"
    },
    {
     "data": {
      "text/latex": [
       "$$f{\\left (x \\right )} = C_{1} \\sin{\\left (3 x \\right )} + C_{2} \\cos{\\left (3 x \\right )} + \\frac{1}{9}$$"
      ],
      "text/plain": [
       "f(x) = C₁⋅sin(3⋅x) + C₂⋅cos(3⋅x) + 1/9"
      ]
     },
     "execution_count": 19,
     "metadata": {},
     "output_type": "execute_result"
    }
   ],
   "source": [
    "eqn = Eq(Derivative(f(x),x,x) + 9*f(x), 1)\n",
    "display(eqn)\n",
    "dsolve(eqn, f(x))"
   ]
  },
  {
   "cell_type": "markdown",
   "metadata": {},
   "source": [
    "# Illustrating Taylor series\n",
    "\n",
    "We will define a function to compute the Taylor series expansions of a symbolically defined expression at\n",
    "various orders and visualize all the approximations together with the original function"
   ]
  },
  {
   "cell_type": "code",
   "execution_count": 20,
   "metadata": {
    "collapsed": true
   },
   "outputs": [],
   "source": [
    "%matplotlib inline\n",
    "import numpy as np\n",
    "import matplotlib.pyplot as plt"
   ]
  },
  {
   "cell_type": "code",
   "execution_count": 21,
   "metadata": {
    "collapsed": true
   },
   "outputs": [],
   "source": [
    "# You can change the default figure size to be a bit larger if you want,\n",
    "# uncomment the next line for that:\n",
    "#plt.rc('figure', figsize=(10, 6))"
   ]
  },
  {
   "cell_type": "code",
   "execution_count": 22,
   "metadata": {
    "collapsed": true
   },
   "outputs": [],
   "source": [
    "def plot_taylor_approximations(func, x0=None, orders=(2, 4), xrange=(0,1), yrange=None, npts=200):\n",
    "    \"\"\"Plot the Taylor series approximations to a function at various orders.\n",
    "\n",
    "    Parameters\n",
    "    ----------\n",
    "    func : a sympy function\n",
    "    x0 : float\n",
    "      Origin of the Taylor series expansion.  If not given, x0=xrange[0].\n",
    "    orders : list\n",
    "      List of integers with the orders of Taylor series to show.  Default is (2, 4).\n",
    "    xrange : 2-tuple or array.\n",
    "      Either an (xmin, xmax) tuple indicating the x range for the plot (default is (0, 1)),\n",
    "      or the actual array of values to use.\n",
    "    yrange : 2-tuple\n",
    "      (ymin, ymax) tuple indicating the y range for the plot.  If not given,\n",
    "      the full range of values will be automatically used. \n",
    "    npts : int\n",
    "      Number of points to sample the x range with.  Default is 200.\n",
    "    \"\"\"\n",
    "    if not callable(func):\n",
    "        raise ValueError('func must be callable')\n",
    "    if isinstance(xrange, (list, tuple)):\n",
    "        x = np.linspace(float(xrange[0]), float(xrange[1]), npts)\n",
    "    else:\n",
    "        x = xrange\n",
    "    if x0 is None: x0 = x[0]\n",
    "    xs = sym.Symbol('x')\n",
    "    # Make a numpy-callable form of the original function for plotting\n",
    "    fx = func(xs)\n",
    "    f = sym.lambdify(xs, fx, modules=['numpy'])\n",
    "    # We could use latex(fx) instead of str(), but matploblib gets confused\n",
    "    # with some of the (valid) latex constructs sympy emits.  So we play it safe.\n",
    "    plt.plot(x, f(x), label=str(fx), lw=2)\n",
    "    # Build the Taylor approximations, plotting as we go\n",
    "    apps = {}\n",
    "    for order in orders:\n",
    "        app = fx.series(xs, x0, n=order).removeO()\n",
    "        apps[order] = app\n",
    "        # Must be careful here: if the approximation is a constant, we can't\n",
    "        # blindly use lambdify as it won't do the right thing.  In that case, \n",
    "        # evaluate the number as a float and fill the y array with that value.\n",
    "        if isinstance(app, sym.numbers.Number):\n",
    "            y = np.zeros_like(x)\n",
    "            y.fill(app.evalf())\n",
    "        else:\n",
    "            fa = sym.lambdify(xs, app, modules=['numpy'])\n",
    "            y = fa(x)\n",
    "        tex = sym.latex(app).replace('$', '')\n",
    "        plt.plot(x, y, label=r'$n=%s:\\, %s$' % (order, tex) )\n",
    "        \n",
    "    # Plot refinements\n",
    "    if yrange is not None:\n",
    "        plt.ylim(*yrange)\n",
    "    plt.grid()\n",
    "    plt.legend(loc='best').get_frame().set_alpha(0.8)"
   ]
  },
  {
   "cell_type": "markdown",
   "metadata": {},
   "source": [
    "With this function defined, we can now use it for any sympy function or expression"
   ]
  },
  {
   "cell_type": "code",
   "execution_count": 23,
   "metadata": {},
   "outputs": [
    {
     "data": {
      "image/png": "[encoded data removed]",
      "text/plain": [
       "<matplotlib.figure.Figure at 0x10b0c9860>"
      ]
     },
     "metadata": {},
     "output_type": "display_data"
    }
   ],
   "source": [
    "plot_taylor_approximations(sin, 0, [2, 4, 6], (0, 2*pi), (-2,2))"
   ]
  },
  {
   "cell_type": "code",
   "execution_count": 24,
   "metadata": {},
   "outputs": [
    {
     "data": {
      "image/png": "[encoded data removed]",
      "text/plain": [
       "<matplotlib.figure.Figure at 0x10b169668>"
      ]
     },
     "metadata": {},
     "output_type": "display_data"
    }
   ],
   "source": [
    "plot_taylor_approximations(cos, 0, [2, 4, 6], (0, 2*pi), (-2,2))"
   ]
  },
  {
   "cell_type": "markdown",
   "metadata": {},
   "source": [
    "This shows easily how a Taylor series is useless beyond its convergence radius, illustrated by \n",
    "a simple function that has singularities on the real axis:"
   ]
  },
  {
   "cell_type": "code",
   "execution_count": 25,
   "metadata": {},
   "outputs": [
    {
     "data": {
      "image/png": "[encoded data removed]",
      "text/plain": [
       "<matplotlib.figure.Figure at 0x10bc0b8d0>"
      ]
     },
     "metadata": {},
     "output_type": "display_data"
    }
   ],
   "source": [
    "# For an expression made from elementary functions, we must first make it into\n",
    "# a callable function, the simplest way is to use the Python lambda construct.\n",
    "plot_taylor_approximations(lambda x: 1/cos(x), 0, [2,4,6], (0, 2*pi), (-5,5))"
   ]
  }
 ],
 "metadata": {
  "kernelspec": {
   "display_name": "Python 3",
   "language": "python",
   "name": "python3"
  },
  "language_info": {
   "codemirror_mode": {
    "name": "ipython",
    "version": 3
   },
   "file_extension": ".py",
   "mimetype": "text/x-python",
   "name": "python",
   "nbconvert_exporter": "python",
   "pygments_lexer": "ipython3",
   "version": "3.6.3"
  }
 },
 "nbformat": 4,
 "nbformat_minor": 1
}
