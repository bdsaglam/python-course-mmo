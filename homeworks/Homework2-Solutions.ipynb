{
 "cells": [
  {
   "cell_type": "markdown",
   "metadata": {},
   "source": [
    "# Python for engineers\n",
    "\n",
    "## Homework 2\n",
    "\n",
    "#### Topics: String\n",
    "\n",
    "Write your solutions to the cell below each question."
   ]
  },
  {
   "cell_type": "markdown",
   "metadata": {},
   "source": [
    "## Question 1\n",
    "\n",
    "Write a program that takes a string and prints a string such that all the 'a's after an occurrence of a 'c' are turned to 'x'.\n",
    "\n",
    "Bir string alıp, bu stringde eğer c'den sonraki a'ları x'e çeviren bir program yazın.\n",
    "\n",
    "```\n",
    "Input: \"abcd\"\n",
    "Expected output: \"abcd\"\n",
    "\n",
    "Input: \"acbcdada\"\n",
    "Expected output: \"acbcdxdx\"\n",
    "\n",
    "Input: \"ababcabac\"\n",
    "Expected output: \"ababcxbxc\"\n",
    "```"
   ]
  },
  {
   "cell_type": "code",
   "execution_count": 26,
   "metadata": {
    "collapsed": true
   },
   "outputs": [],
   "source": [
    "def xify(s):\n",
    "    seq = list(s)\n",
    "    flag = False\n",
    "    for i,element in enumerate(seq):\n",
    "        if element=='c':\n",
    "            flag = True\n",
    "            continue\n",
    "        if element=='a' and flag:\n",
    "            seq[i]='x'\n",
    "    \n",
    "    return ''.join(seq)"
   ]
  },
  {
   "cell_type": "code",
   "execution_count": 30,
   "metadata": {},
   "outputs": [
    {
     "data": {
      "text/plain": [
       "'ababcxbxc'"
      ]
     },
     "execution_count": 30,
     "metadata": {},
     "output_type": "execute_result"
    }
   ],
   "source": [
    "xify('ababcxbxc')"
   ]
  },
  {
   "cell_type": "markdown",
   "metadata": {},
   "source": [
    "## Question 2\n",
    "\n",
    "Write a Python program that takes a word and removes vowels.\n",
    "\n",
    "Bir stringdeki sesli harfleri çıkartan bir program yazın.\n",
    "\n",
    "\n",
    "```\n",
    "vowels = {'a','e','ı','i','o','ö','u','ü'}\n",
    "\n",
    "Input: \"cem Yılmaz\"\n",
    "\n",
    "Expected output: \"cm Ylmz\"\n",
    "```"
   ]
  },
  {
   "cell_type": "code",
   "execution_count": 25,
   "metadata": {},
   "outputs": [
    {
     "data": {
      "text/plain": [
       "'cm Ylmz'"
      ]
     },
     "execution_count": 25,
     "metadata": {},
     "output_type": "execute_result"
    }
   ],
   "source": [
    "vowels = {'a','e','ı','i','o','ö','u','ü'}\n",
    "\n",
    "s = \"cem Yılmaz\"\n",
    "\n",
    "''.join(c for c in s if c not in vowels)"
   ]
  },
  {
   "cell_type": "markdown",
   "metadata": {
    "collapsed": true
   },
   "source": [
    "## Question 3\n",
    "\n",
    "Take a string and replace some characters with an appropriate number.\n",
    "\n",
    "Bir string alıp, bazı karakterleri karşılık gelen sayı karakteriyle değiştirin.\n",
    "\n",
    "```\n",
    "characters = ['E','I','A', 'O', 'B', 'Z']\n",
    "numliterals = ['3', '1', '4', '0', '8', '7']\n",
    "\n",
    "Input: \"CEM YILMAZ\"\n",
    "Expected result: \"C3M Y1LM47\"\n",
    "```\n",
    "Hint: Iterate over two list of characters simultaneously and use str.replace one by one"
   ]
  },
  {
   "cell_type": "code",
   "execution_count": 20,
   "metadata": {},
   "outputs": [
    {
     "name": "stdout",
     "output_type": "stream",
     "text": [
      "C3M Y1LM47\n"
     ]
    }
   ],
   "source": [
    "characters = ['E','I','A', 'O', 'B', 'Z']\n",
    "numliterals = ['3', '1', '4', '0', '8', '7']\n",
    "\n",
    "s = \"CEM YILMAZ\"\n",
    "for c, n in zip(characters, numliterals):\n",
    "    s = s.replace(c, n)\n",
    "    \n",
    "print(s)"
   ]
  },
  {
   "cell_type": "markdown",
   "metadata": {},
   "source": [
    "## Question 4\n",
    "\n",
    "Take a string representing name and surname, split it into name and surname.\n",
    "\n",
    "İsim ve soyismi temsil eden bir string alıp, isim ve soyisim olarak 2 ayrı string olarak ayırın.\n",
    "\n",
    "```\n",
    "Input: \"Raymond Hettinger\"\n",
    "Expected result: [\"Raymond\", \"Hettinger\"]\n",
    "\n",
    "Input: \"Barış Deniz Sağlam\"\n",
    "Expected result: [\"Barış Deniz\", \"Sağlam\"]\n",
    "```"
   ]
  },
  {
   "cell_type": "code",
   "execution_count": 23,
   "metadata": {},
   "outputs": [
    {
     "name": "stdout",
     "output_type": "stream",
     "text": [
      "['Raymond', 'Hettinger']\n",
      "['Barış Deniz', 'Sağlam']\n"
     ]
    }
   ],
   "source": [
    "print(\"Raymond Hettinger\".rsplit(' ', 1))\n",
    "print(\"Barış Deniz Sağlam\".rsplit(' ', 1))"
   ]
  },
  {
   "cell_type": "markdown",
   "metadata": {},
   "source": [
    "## Question 5\n",
    "Take a string consisting of multiple website adresses separated by space and extract all domain names.\n",
    "\n",
    "Websitelerinin aralarında virgül karakteriyle sıralandığı bir string alıp domain isimlerini çıkarın.\n",
    "\n",
    "```\n",
    "Input: \"https://www.python.org, www.metu.edu.tr, comind.ai, edevlet.turkiye.gov.tr, https://jupyter.org\"\n",
    "Expected result: [\"python\", \"metu\", \"comind\", \"turkiye\", \"jupyter\"]\n",
    "```"
   ]
  },
  {
   "cell_type": "code",
   "execution_count": 19,
   "metadata": {},
   "outputs": [
    {
     "name": "stdout",
     "output_type": "stream",
     "text": [
      "['python', 'metu', 'comind', 'turkiye', 'jupyter']\n"
     ]
    }
   ],
   "source": [
    "s = \"http://www.python.org, www.metu.edu.tr, comind.ai, edevlet.turkiye.gov.tr, https://jupyter.org\"\n",
    "\n",
    "domains = []\n",
    "for w in s.split():\n",
    "    w = w.split('//')[-1]\n",
    "    seq = w.split('.')\n",
    "    if len(seq)==2:\n",
    "        domains.append(seq[0])\n",
    "    else:\n",
    "        domains.append(seq[1])\n",
    "        \n",
    "print(domains)"
   ]
  },
  {
   "cell_type": "markdown",
   "metadata": {},
   "source": [
    "## Question 6\n",
    "\n",
    "Remove all characters repeating.\n",
    "\n",
    "Bir stringdeki tekrar eden karakterleri silen bir program yazın.\n",
    "\n",
    "```\n",
    "Input: \"aaabccddd\"\n",
    "Expected result: \"abcd\"\n",
    "\n",
    "Input: \"aaabccbddad\"\n",
    "Expected result: \"abcbdad\"\n",
    "```"
   ]
  },
  {
   "cell_type": "code",
   "execution_count": null,
   "metadata": {
    "collapsed": true
   },
   "outputs": [],
   "source": [
    "s = 'aaabccbddad'\n",
    "slist = list(s)\n",
    "\n",
    "toberemoved = []\n",
    "previous = s[0]\n",
    "for i in range(1,len(s)):\n",
    "    c = s[i]\n",
    "    if c==previous:\n",
    "        toberemoved.append(i)\n",
    "    previous = c\n",
    "\n",
    "for j in sorted(toberemoved, reverse=True):\n",
    "    slist.pop(j)\n",
    "    \n",
    "print(''.join(slist))\n",
    "        "
   ]
  },
  {
   "cell_type": "markdown",
   "metadata": {},
   "source": [
    "## Question 7\n",
    "\n",
    "Write a Python program to reverse words in a string.\n",
    "\n",
    "Bir stringdeki kelimeleri ters çeviren bir program yazın.\n",
    "\n",
    "```\n",
    "Input: \"Raymond Hettinger\"\n",
    "Expected result: 'dnomyaR regnitteH'\n",
    "\n",
    "Input: 'odiuG nav mussoR'\n",
    "Expected result: \"odiuG \"\n",
    "```"
   ]
  },
  {
   "cell_type": "code",
   "execution_count": 10,
   "metadata": {},
   "outputs": [
    {
     "data": {
      "text/plain": [
       "'dnomyaR regnitteH'"
      ]
     },
     "execution_count": 10,
     "metadata": {},
     "output_type": "execute_result"
    }
   ],
   "source": [
    "s = \"Raymond Hettinger\"\n",
    "' '.join(''.join(reversed(w)) for w in s.split())"
   ]
  },
  {
   "cell_type": "markdown",
   "metadata": {},
   "source": [
    "## Question 8\n",
    "\n",
    "Write a Python program to concatenate the each of the floating numbers listed upto 2 decimal places with a sign, centered in 8 character width. Concatenate those 8 character strings.\n",
    "\n",
    "Bir dizi sayıyı 2 ondalık basamaklı, işaretli, 8 karakter genişlikte ortalanmış olarak birleştirin.\n",
    "\n",
    "```\n",
    "Input: [-3.1416, 2.71, -2, 6.62607004, 2.99]\n",
    "Expected output: ' -3.14    +2.71    -2.00    +6.63    +2.99  '\n",
    "\n",
    "```"
   ]
  },
  {
   "cell_type": "code",
   "execution_count": 2,
   "metadata": {},
   "outputs": [
    {
     "data": {
      "text/plain": [
       "' -3.14    +2.71    -2.00    +6.63    +2.99  '"
      ]
     },
     "execution_count": 2,
     "metadata": {},
     "output_type": "execute_result"
    }
   ],
   "source": [
    "seq = [-3.1416, 2.71, -2, 6.62607004, 2.99]\n",
    "\n",
    "' '.join('{:^+8.2f}'.format(i) for i in seq)"
   ]
  },
  {
   "cell_type": "markdown",
   "metadata": {},
   "source": [
    "## Question 9\n",
    "\n",
    "Write a program to print each string in a list to newline with width of 20. \n",
    "\n",
    "If the string is a number like 123, align it to right, \n",
    "\n",
    "if the string is a float number like 3.14, align it to center,\n",
    "\n",
    "otherwise, align it to left.\n",
    "\n",
    "Input: \n",
    "```\n",
    "s = [\"python\", \"123\", \"3.14\", \"PyCon2017\"]\n",
    "```\n",
    "\n",
    "Expected Output:\n",
    "```\n",
    "python              \n",
    "               12312\n",
    "        3.14        \n",
    "PyCon2017                \n",
    "```  "
   ]
  },
  {
   "cell_type": "code",
   "execution_count": 52,
   "metadata": {},
   "outputs": [
    {
     "name": "stdout",
     "output_type": "stream",
     "text": [
      "python              \n",
      "               12312\n",
      "        3.14        \n",
      "PyCon2017           \n"
     ]
    }
   ],
   "source": [
    "s = [\"python\", \"12312\", \"3.14\", \"PyCon2017\"]\n",
    "for w in s:\n",
    "    alignment = ''\n",
    "    if w.isalpha():\n",
    "        alignment = '<'\n",
    "    elif w.isnumeric():\n",
    "        alignment = '>'\n",
    "    elif w.replace('.','').isnumeric():\n",
    "        alignment = '^'\n",
    "    \n",
    "    print('{:{}20}'.format(w, alignment))"
   ]
  },
  {
   "cell_type": "markdown",
   "metadata": {},
   "source": [
    "## Question 10\n",
    "\n",
    "Write a program to print each number in a list to newline with width of 20. \n",
    "\n",
    "If the number is less than 1, write it with 2 precision, align it to center,\n",
    "\n",
    "if the number is greater than or equal to 1 and less than 10, write it and align it to left,\n",
    "\n",
    "if the number is greater than or equal to 10, write it in scientific format with 3 precision and align it to right.\n",
    "\n",
    "\n",
    "Input: \n",
    "```\n",
    "seq = [-4, 0.7, 1, 10, 222323]\n",
    "```\n",
    "\n",
    "Expected Output:\n",
    "```\n",
    "       -4.00        \n",
    "        0.70        \n",
    "1                   \n",
    "           1.000E+01\n",
    "           2.223E+05         \n",
    "```  "
   ]
  },
  {
   "cell_type": "code",
   "execution_count": 64,
   "metadata": {},
   "outputs": [
    {
     "name": "stdout",
     "output_type": "stream",
     "text": [
      "       -4.00        \n",
      "        0.70        \n",
      "1                   \n",
      "           1.000E+01\n",
      "           2.223E+05\n"
     ]
    }
   ],
   "source": [
    "seq = [-4, 0.7, 1, 10, 222323]\n",
    "\n",
    "for n in seq:\n",
    "    if n<1:\n",
    "        fs = '{:^20.2f}'\n",
    "    elif n<10:\n",
    "        fs = '{:<20d}'\n",
    "    else:\n",
    "        fs = '{:>20.3E}'\n",
    "    \n",
    "    print(fs.format(n))"
   ]
  },
  {
   "cell_type": "code",
   "execution_count": null,
   "metadata": {
    "collapsed": true
   },
   "outputs": [],
   "source": []
  }
 ],
 "metadata": {
  "kernelspec": {
   "display_name": "Python 3",
   "language": "python",
   "name": "python3"
  },
  "language_info": {
   "codemirror_mode": {
    "name": "ipython",
    "version": 3
   },
   "file_extension": ".py",
   "mimetype": "text/x-python",
   "name": "python",
   "nbconvert_exporter": "python",
   "pygments_lexer": "ipython3",
   "version": "3.6.5"
  }
 },
 "nbformat": 4,
 "nbformat_minor": 2
}
