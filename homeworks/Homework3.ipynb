{
 "cells": [
  {
   "cell_type": "markdown",
   "metadata": {},
   "source": [
    "# Python for engineers\n",
    "\n",
    "## Homework 3\n",
    "\n",
    "#### Topics: Dictionary, Function, Decorator, Generator\n",
    "\n",
    "Write your solutions to the cell below each question."
   ]
  },
  {
   "cell_type": "markdown",
   "metadata": {},
   "source": [
    "## Question 1\n",
    "\n",
    "Write a function that takes a dictionary and arbitrary number of keyword arguments. Among the keyword arguments, the function only the key/value pairs that the dictionary does not have. \n",
    "\n",
    "Bir dictionary ve değişken sayıda keyword argüman alan bir fonksiyon yazın. Fonksiyon, dictionary'de bulunmayan key/value ikililerini eklesin ama mevcutları değiştirmesin. \n",
    "\n",
    "```\n",
    "d = {'Turkey':90, 'US':1, 'UK':44}\n",
    "safe_add(d, Greece=30, Germany=49, Turkey=89)\n",
    "print(d)\n",
    "\n",
    "Expected output: \n",
    "{'Turkey': 90, 'US': 1, 'UK': 44, 'Greece': 30, 'Germany': 49}\n",
    "\n",
    "```"
   ]
  },
  {
   "cell_type": "code",
   "execution_count": null,
   "metadata": {
    "collapsed": true
   },
   "outputs": [],
   "source": []
  },
  {
   "cell_type": "markdown",
   "metadata": {},
   "source": [
    "## Question 2\n",
    "\n",
    "Write a function to calculate the harmonic sum. The harmonic sum is the sum of reciprocals of the positive integers. Use recursion. \n",
    "\n",
    "Recursion kullanarak, verilen sayının harmonik toplamını bulan bir fonksiyon yazın, harmonik toplamın formulü:\n",
    "\n",
    "```\n",
    "H(n) = 1 + 1/2 + 1/3 + ... + 1/n\n",
    "\n",
    "Input: harmonic_sum(1)\n",
    "Expected output: 1\n",
    "\n",
    "Input: harmonic_sum(2)\n",
    "Expected output: 1.5\n",
    "\n",
    "Input: harmonic_sum(4)\n",
    "Expected output: 2.08333\n",
    "\n",
    "```"
   ]
  },
  {
   "cell_type": "code",
   "execution_count": null,
   "metadata": {
    "collapsed": true
   },
   "outputs": [],
   "source": []
  },
  {
   "cell_type": "markdown",
   "metadata": {},
   "source": [
    "## Question 3\n",
    "\n",
    "By using recursion, write a function that calculates approximate value of the logaritm in base 2 of a number tha is greater than 1.\n",
    "\n",
    "Recursion kullanarak, birden büyük olan bir sayının 2 tabanında logaritmasını yaklaşık olarak hesaplayan bir fonksiyon yazın. Fonksiyon verilen sayının gerçek logaritmasının sadece tam sayı kısmını hesaplamalı.\n",
    "\n",
    "örneğin, math.log2(9) sonuç olarak 3.16 verirken, sizin yazacağınız fonksiyon sonuç olarak 3 vermeli.\n",
    "\n",
    "```\n",
    "Input: log_app(2)\n",
    "Expected output: 1\n",
    "\n",
    "Input: log_app(4)\n",
    "Expected output: 2\n",
    "\n",
    "Input: log_app(9)\n",
    "Expected output: 3\n",
    "\n",
    "Input: log_app(100)\n",
    "Expected output: 6\n",
    "\n",
    "```"
   ]
  },
  {
   "cell_type": "code",
   "execution_count": null,
   "metadata": {
    "collapsed": true
   },
   "outputs": [],
   "source": []
  },
  {
   "cell_type": "markdown",
   "metadata": {},
   "source": [
    "## Question 4\n",
    "\n",
    "Write your range function without using Python's range.\n",
    "\n",
    "Python'un range fonksiyonunu kullanmadan kendi range fonksiyonunuzu yazın. Fonksiyon, max. 3 argüman almalı; start, stop, step. \n",
    "\n",
    "Fonksiyona \n",
    "\n",
    "1 argüman verilmişse, start=0, stop=argument1, step=1\n",
    "\n",
    "2 argüman verilmişse, start=argument1, stop=argument2, step=1\n",
    "\n",
    "3 argüman verilmişse, start=argument1, stop=argument2, step=argument3\n",
    "\n",
    "olur.\n",
    "\n",
    "Fonksiyon sonucu bir liste olarak döndürmeli.\n",
    "```\n",
    "Input: myrange(3)\n",
    "Expected output: [0,1,2]\n",
    "\n",
    "Input: myrange(1,5)\n",
    "Expected output: [1,2,3,4]\n",
    "\n",
    "Input: myrange(1,5,2)\n",
    "Expected output: [1,3]\n",
    "\n",
    "Input: myrange(0)\n",
    "Expected output: []\n",
    "\n",
    "```"
   ]
  },
  {
   "cell_type": "code",
   "execution_count": null,
   "metadata": {
    "collapsed": true
   },
   "outputs": [],
   "source": []
  },
  {
   "cell_type": "markdown",
   "metadata": {},
   "source": [
    "## Question 5\n",
    "\n",
    "Convert the range function you write in Question 4 into a generator. \n",
    "\n",
    "Dördüncü soruda yazdığınız fonksiyonu generator olarak yazın.\n",
    "\n",
    "```\n",
    "Input: myrangegen(8)\n",
    "Expected output: <generator object myrangegen at ....>\n",
    "\n",
    "Input: \n",
    "g = myrangegen(3)\n",
    "list(g)\n",
    "Expected output: [0,1,2]\n",
    "\n",
    "Input: \n",
    "g = myrangegen(1,5)\n",
    "list(g)\n",
    "Expected output: [1,2,3,4]\n",
    "\n",
    "Input:\n",
    "g = myrangegen(1,5,2)\n",
    "list(g)\n",
    "Expected output: [1,3]\n",
    "\n",
    "Input:\n",
    "g = myrangegen(0)\n",
    "list(g)\n",
    "Expected output: []\n",
    "\n",
    "```"
   ]
  },
  {
   "cell_type": "code",
   "execution_count": null,
   "metadata": {
    "collapsed": true
   },
   "outputs": [],
   "source": []
  },
  {
   "cell_type": "markdown",
   "metadata": {},
   "source": [
    "## Question 6\n",
    "\n",
    "Modify the range function you write in Question 4 so that it only accepts keyword arguments.\n",
    "\n",
    "Dördüncü soruda yazdığınız fonksiyonu sadece keyword argüman alacak şekilde değiştirin.\n",
    "\n",
    "```\n",
    "Input: myrangekw(stop=3)\n",
    "Expected output: [0,1,2]\n",
    "\n",
    "Input: myrangekw(start=1,stop=5)\n",
    "Expected output: [1,2,3,4]\n",
    "\n",
    "Input: myrangekw(start=1,stop=5,step=2)\n",
    "Expected output: [1,3]\n",
    "\n",
    "Input: \n",
    "myrangekw(3)\n",
    "myrangekw(1,5) \n",
    "myrangekw(1,5,2)\n",
    "\n",
    "Expected output: \n",
    "TypeError: myrangekw() takes 0 positional arguments ...\n",
    "\n",
    "```"
   ]
  },
  {
   "cell_type": "code",
   "execution_count": null,
   "metadata": {
    "collapsed": true
   },
   "outputs": [],
   "source": []
  },
  {
   "cell_type": "markdown",
   "metadata": {},
   "source": [
    "## Question 6\n",
    "\n",
    "Write a Python program that sort three lists representing names, prices and sales of fruits according to the total revenue. The revenue of a fruit is price*sale.\n",
    "\n",
    "Meyvelerin isim, fiyat ve satış sayılarını temsil eden 3 listeyi alıp ciroya göre sıralayın ve sıralanmış üç listeyi 8 karakter genişliğinde ortalayarak yazdırın. ciro=fiyat*satış\n",
    "\n",
    "```\n",
    "Input: \n",
    "names = ['orange', 'carrot', 'apple']\n",
    "prices = [1, 2, 5]\n",
    "sales = [9, 4 ,3]\n",
    "\n",
    "Expected output: \n",
    "     carrot          orange          apple      \n",
    "       2               1               5        \n",
    "       4               9               3        \n",
    "```"
   ]
  },
  {
   "cell_type": "code",
   "execution_count": null,
   "metadata": {
    "collapsed": true
   },
   "outputs": [],
   "source": []
  },
  {
   "cell_type": "markdown",
   "metadata": {},
   "source": [
    "## Question 7\n",
    "\n",
    "Write a function that takes an argument representing base and creates the logarithmic function with that base. Return the logaritm function you write in Question 3 after appropriately modifying it.\n",
    "\n",
    "Verilen taban sayısına göre bir logaritma fonksiyonu yaratan ve döndüren bir fonksiyon yazın. Üçüncü sorudaki logaritma fonksiyonundan yararlanın.\n",
    "\n",
    "```\n",
    "Input: \n",
    "mylog2 = log_builder(2)\n",
    "mylog2(9)\n",
    "Expected output: 3\n",
    "\n",
    "Input:\n",
    "mylog5 = log_builder(5)\n",
    "mylog5(100)\n",
    "Expected output: 2\n",
    "\n",
    "Input:\n",
    "mylog10 = log_builder(10)\n",
    "mylog5(1000)\n",
    "Expected output: 3\n",
    "\n",
    "```"
   ]
  },
  {
   "cell_type": "code",
   "execution_count": null,
   "metadata": {
    "collapsed": true
   },
   "outputs": [],
   "source": []
  },
  {
   "cell_type": "markdown",
   "metadata": {},
   "source": [
    "## Question 7\n",
    "\n",
    "Write a decorator that randomly decides whether a function be executed. Use random.choice((True, False))\n",
    "\n",
    "Önüne yazıldığı fonksiyonun çalışıp çalışmayacağına rastgele karar veren bir decorator yazın. random.choice((True,False)) ile rastgeleliliği yapabilirsiniz. Eğer False gelirse, fonksiyonu çalıştırmak yerine \"Bad luck, try again later\" döndürsün.\n",
    "\n",
    "```\n",
    "import random\n",
    "\n",
    "@by_chance\n",
    "def func():\n",
    "    return 'I executed'\n",
    "    \n",
    "\n",
    "Input: func()\n",
    "Output: I executed\n",
    "\n",
    "Input: func()\n",
    "Output: Bad luck, try again later\n",
    "\n",
    "Input: func()\n",
    "Output: I executed\n",
    "\n",
    ".\n",
    ".\n",
    ".\n",
    "```"
   ]
  },
  {
   "cell_type": "code",
   "execution_count": null,
   "metadata": {
    "collapsed": true
   },
   "outputs": [],
   "source": []
  },
  {
   "cell_type": "markdown",
   "metadata": {},
   "source": [
    "## Question 8\n",
    "\n",
    "Write a decorator with two arguments that make a function execute only in the time interval specified. Use datetime.datetime.now().hour for the hour of execution time.\n",
    "\n",
    "Önüne yazıldığı fonksiyonun çalışıp çalışmayacağına, verilen zaman aralığını dikkate alarak karar veren iki argümanlı bir decorator yazın. Fonksiyonun çalıştırıldığı zaman verilen zaman aralığının dışındaysa, fonksiyonu çalıştırmak yerine \"Time off\" döndürsün. Şu anki saati datetime.datetime.now().hour şeklinde bulabilirsiniz.\n",
    "\n",
    "```\n",
    "import datetime\n",
    "\n",
    "def only_execute_between(hour1, hour2):\n",
    "    pass # your decorator's code here\n",
    "\n",
    "@only_execute_between(8,17)\n",
    "def working_class_hero():\n",
    "    return \"I work at daytime\"\n",
    "    \n",
    "@only_execute_between(0,7)\n",
    "def nightwatcher():\n",
    "    return \"... for this night and all the nights to come.\"\n",
    "    \n",
    "\n",
    "print(datetime.datetime.now().hour) # örneğin şu anki saat 14 ise\n",
    "\n",
    "Input: working_class_hero()\n",
    "Output: \"I work at daytime\"\n",
    "\n",
    "Input: nightwatcher()\n",
    "Output: \"Time off\"\n",
    "```"
   ]
  },
  {
   "cell_type": "code",
   "execution_count": null,
   "metadata": {
    "collapsed": true
   },
   "outputs": [],
   "source": []
  },
  {
   "cell_type": "markdown",
   "metadata": {},
   "source": [
    "## Question 8\n",
    "\n",
    "Write a generator function that flattens a nested list. Use isinstance(element, list) to check whether an element of the given list is list or not.\n",
    "\n",
    "İç içe bir listeyi düzleştiren bir generator fonksiyonu yazın. Listenin elemanlarının liste olup olmadığını isinstance(element, list) ile kontrol edebilirsiniz. Örneğin,\n",
    "\n",
    "```\n",
    "isinstance(1, list)\n",
    ">>> False\n",
    "\n",
    "isinstance([1,2,3], list)\n",
    ">>> True\n",
    "\n",
    "isinstance([], list)\n",
    ">>> True\n",
    "\n",
    "```\n",
    "\n",
    "Your generator function flatten:\n",
    "\n",
    "```\n",
    "Input:\n",
    "seq = [1,2,3,[3,2,1,[0,-1,-2]]]\n",
    "list(flatten(seq))\n",
    "\n",
    "Output: \n",
    "[1, 2, 3, 3, 2, 1, 0, -1, -2]\n",
    "\n",
    "```"
   ]
  },
  {
   "cell_type": "code",
   "execution_count": null,
   "metadata": {
    "collapsed": true
   },
   "outputs": [],
   "source": []
  }
 ],
 "metadata": {
  "kernelspec": {
   "display_name": "Python 3",
   "language": "python",
   "name": "python3"
  },
  "language_info": {
   "codemirror_mode": {
    "name": "ipython",
    "version": 3
   },
   "file_extension": ".py",
   "mimetype": "text/x-python",
   "name": "python",
   "nbconvert_exporter": "python",
   "pygments_lexer": "ipython3",
   "version": "3.6.3"
  }
 },
 "nbformat": 4,
 "nbformat_minor": 2
}
