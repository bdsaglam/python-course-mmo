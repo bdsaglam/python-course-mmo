{
 "cells": [
  {
   "cell_type": "markdown",
   "metadata": {},
   "source": [
    "## Question 1\n",
    "Write a windowing function that takes a sequence and window size and produce chunks.\n",
    "\n",
    "Bir liste ve genişlik parametreleri alan ve listenin başından başlayıp birer eleman kaydırarak genişlik parametresi kadar elemanı alıp yeni alt listeler olarak döndüren bir fonksiyon yazın.\n",
    "\n",
    "```\n",
    "Usage:\n",
    "window([1,3,5,7,9], width=3)\n",
    "\n",
    ">>> [[1, 3, 5], [3, 5, 7], [5, 7, 9]]\n",
    "```"
   ]
  },
  {
   "cell_type": "code",
   "execution_count": null,
   "metadata": {
    "collapsed": true
   },
   "outputs": [],
   "source": []
  },
  {
   "cell_type": "markdown",
   "metadata": {},
   "source": [
    "## Question 2\n",
    "Write a windowing generator that takes a sequence and window size and produce chunks.\n",
    "\n",
    "İlk sorudaki fonksiyonu generator olarak yazın. \n",
    "```\n",
    "Usage:\n",
    "g = window_gen([1,3,5,7,9], width=3)\n",
    "list(g)\n",
    "\n",
    ">>> [[1, 3, 5], [3, 5, 7], [5, 7, 9]]\n",
    "```"
   ]
  },
  {
   "cell_type": "code",
   "execution_count": null,
   "metadata": {
    "collapsed": true
   },
   "outputs": [],
   "source": []
  },
  {
   "cell_type": "markdown",
   "metadata": {},
   "source": [
    "## Question 3\n",
    "\n",
    "Write a function to calculate the harmonic sum. The harmonic sum is the sum of reciprocals of the positive integers. Use recursion. \n",
    "\n",
    "Recursion kullanarak, verilen sayının harmonik toplamını bulan bir fonksiyon yazın, harmonik toplamın formulü:\n",
    "\n",
    "```\n",
    "H(n) = 1 + 1/2 + 1/3 + ... + 1/(n-1) + 1/n\n",
    "\n",
    "Input: harmonic_sum(1)\n",
    "Expected output: 1\n",
    "\n",
    "Input: harmonic_sum(2)\n",
    "Expected output: 1.5\n",
    "\n",
    "Input: harmonic_sum(4)\n",
    "Expected output: 2.08333\n",
    "\n",
    "```"
   ]
  },
  {
   "cell_type": "code",
   "execution_count": null,
   "metadata": {
    "collapsed": true
   },
   "outputs": [],
   "source": []
  },
  {
   "cell_type": "markdown",
   "metadata": {},
   "source": [
    "## Question 4\n",
    "\n",
    "Write a Python program that computes greatest common divisor of two numbers.\n",
    "\n",
    "Verilen iki sayının en büyük ortak bölenini bulan bir program yazın.\n",
    "\n",
    "```\n",
    "Input: 0, 1\n",
    "Expected output: 1\n",
    "\n",
    "Input: 1, 2\n",
    "Expected output: 1\n",
    "\n",
    "Input: 2, 5\n",
    "Expected output: 1 \n",
    "\n",
    "Input: 2, 4\n",
    "Expected output: 2\n",
    "\n",
    "Input: 12, 18\n",
    "Expected output: 6\n",
    "\n",
    "```"
   ]
  },
  {
   "cell_type": "code",
   "execution_count": null,
   "metadata": {
    "collapsed": true
   },
   "outputs": [],
   "source": []
  },
  {
   "cell_type": "markdown",
   "metadata": {
    "collapsed": true
   },
   "source": [
    "# Question 5\n",
    "\n",
    "Built Pascal triangle and write it in a triangle shape format.\n",
    "\n",
    "Verilen basamak sayısı parametresi kadar basamağa sahip bir Pascal üçgeni oluşturan bir fonksiyon ya da generator yazın.\n",
    "\n",
    "```\n",
    "Usage:\n",
    "\n",
    "pascal(5)\n",
    "\n",
    ">>> [[1], [1, 1], [1, 2, 1], [1, 3, 3, 1], [1, 4, 6, 4, 1]]\n",
    "```\n"
   ]
  },
  {
   "cell_type": "code",
   "execution_count": null,
   "metadata": {
    "collapsed": true
   },
   "outputs": [],
   "source": []
  }
 ],
 "metadata": {
  "kernelspec": {
   "display_name": "Python 3",
   "language": "python",
   "name": "python3"
  },
  "language_info": {
   "codemirror_mode": {
    "name": "ipython",
    "version": 3
   },
   "file_extension": ".py",
   "mimetype": "text/x-python",
   "name": "python",
   "nbconvert_exporter": "python",
   "pygments_lexer": "ipython3",
   "version": "3.6.5"
  }
 },
 "nbformat": 4,
 "nbformat_minor": 2
}
