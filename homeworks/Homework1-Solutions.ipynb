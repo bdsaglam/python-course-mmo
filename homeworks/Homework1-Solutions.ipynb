{
 "cells": [
  {
   "cell_type": "markdown",
   "metadata": {},
   "source": [
    "# Python for engineers\n",
    "\n",
    "## Homework 1\n",
    "\n",
    "#### Topics covered: syntax, if-else, loops, list, set, tuple, list comprehension\n",
    "\n",
    "Write your solutions to the cell belove each question."
   ]
  },
  {
   "cell_type": "markdown",
   "metadata": {},
   "source": [
    "## Question 1\n",
    "\n",
    "Write a Python program by using list comprehension that gives all the numbers up to n that are divisible to 6, but not to 12. \n",
    "\n",
    "List comprehension kullarak verilen bir n sayısına kadar kadar 6'ya bölünüp 12'ye bölünmeyen sayıları veren bir program yazın.\n",
    "\n",
    "```\n",
    "Input: n=100\n",
    "Expected output: [6, 18, 30, 42, 54, 66, 78, 90]\n",
    "```"
   ]
  },
  {
   "cell_type": "code",
   "execution_count": 2,
   "metadata": {},
   "outputs": [
    {
     "data": {
      "text/plain": [
       "[6, 18, 30, 42, 54, 66, 78, 90]"
      ]
     },
     "execution_count": 2,
     "metadata": {},
     "output_type": "execute_result"
    }
   ],
   "source": [
    "[i for i in range(100) if i%6==0 and i%12!=0]"
   ]
  },
  {
   "cell_type": "markdown",
   "metadata": {},
   "source": [
    "## Question 2\n",
    "Write a Python program to find common items from two lists.\n",
    "\n",
    "Verilen iki listedeki ortak elemanları bulan bir program yazın.\n",
    "```\n",
    "Input: [\"Red\", \"Green\", \"Orange\", \"White\"] and [\"Black\", \"Green\", \"White\", \"Pink\"]\n",
    "\n",
    "Expected output: {'Green', 'White'} \n",
    "```"
   ]
  },
  {
   "cell_type": "code",
   "execution_count": 4,
   "metadata": {},
   "outputs": [
    {
     "data": {
      "text/plain": [
       "{'Green', 'White'}"
      ]
     },
     "execution_count": 4,
     "metadata": {},
     "output_type": "execute_result"
    }
   ],
   "source": [
    "{\"Red\", \"Green\", \"Orange\", \"White\"} & {\"Black\", \"Green\", \"White\", \"Pink\"}"
   ]
  },
  {
   "cell_type": "markdown",
   "metadata": {},
   "source": [
    "## Question 3\n",
    "\n",
    "Write a Python program that computes factorial of a given integer.\n",
    "\n",
    "Verilen bir sayının faktöryelini hesaplayan bir program yazın.\n",
    "\n",
    "```\n",
    "Input: 0\n",
    "Expected output: 1\n",
    "\n",
    "Input: 1\n",
    "Expected output: 1 \n",
    "\n",
    "Input: 5\n",
    "Expected output: 120 \n",
    "```"
   ]
  },
  {
   "cell_type": "code",
   "execution_count": 10,
   "metadata": {},
   "outputs": [
    {
     "name": "stdout",
     "output_type": "stream",
     "text": [
      "120\n"
     ]
    }
   ],
   "source": [
    "n = 5\n",
    "fac = 1\n",
    "for i in range(1,n+1):\n",
    "    fac *= i\n",
    "print(fac)"
   ]
  },
  {
   "cell_type": "markdown",
   "metadata": {},
   "source": [
    "## Question 4\n",
    "\n",
    "Write a Python function to check whether a number is perfect or not. Use sum function already defined in Python. A perfect number is a positive integer that is equal to the sum of its proper positive divisors except itself. \n",
    "\n",
    "Verilen bir sayının mükemmel sayı olup olmadığı bulan bir program yazın. Python'un sum fonksiyonunu kullanabilirsiniz. Mükemmel sayı kendisi dışında pozitif bölenlerinin toplamı kendisine eşit olan sayıdır.\n",
    "\n",
    "```\n",
    "Input: 1\n",
    "Expected output: False \n",
    "since no divisor except itself\n",
    "\n",
    "Input: 6\n",
    "Expected output: True \n",
    "since 1+2+3 = 6\n",
    "\n",
    "Input: 28\n",
    "Expected output: True \n",
    "since 1+2+4+7+14 = 28\n",
    "\n",
    "Input: 18\n",
    "Expected output: False\n",
    "since 1+2+3+6+9 = 21\n",
    "\n",
    "```\n"
   ]
  },
  {
   "cell_type": "code",
   "execution_count": 20,
   "metadata": {
    "scrolled": true
   },
   "outputs": [
    {
     "data": {
      "text/plain": [
       "6"
      ]
     },
     "execution_count": 20,
     "metadata": {},
     "output_type": "execute_result"
    }
   ],
   "source": [
    "# Example use of sum\n",
    "sum([1,2,3])"
   ]
  },
  {
   "cell_type": "code",
   "execution_count": 12,
   "metadata": {},
   "outputs": [
    {
     "name": "stdout",
     "output_type": "stream",
     "text": [
      "[1, 2, 4, 7, 14]\n",
      "True\n"
     ]
    }
   ],
   "source": [
    "n = 28\n",
    "\n",
    "divs = [i for i in range(1,n) if n%i==0]\n",
    "print(divs)\n",
    "print(sum(divs)==n)"
   ]
  },
  {
   "cell_type": "markdown",
   "metadata": {},
   "source": [
    "## Question 5\n",
    "Write a Python program to get next day of a given date. Do not forget to take leap years and number of days in each month into account. \n",
    "\n",
    "Kullanıcın verdiği günden bir sonrakini verecek bir program yazın. Artık yıl ve her ayın kaç gün olduğunu da hesaba katmanız gerekiyor.\n",
    "```\n",
    "Input a year: 2016    \n",
    "Input a month: 8    \n",
    "Input a day: 23    \n",
    "Expected Output: 2016-8-24    \n",
    "\n",
    "Input a year: 2016    \n",
    "Input a month: 12    \n",
    "Input a day: 31    \n",
    "Expected Output: 2017-1-1    \n",
    "\n",
    "Input a year: 2016    \n",
    "Input a month: 2    \n",
    "Input a day: 28    \n",
    "Expected Output: 2017-2-29    \n",
    "\n",
    "Input a year: 2017    \n",
    "Input a month: 2    \n",
    "Input a day: 28    \n",
    "Expected Output: 2017-3-1\n",
    "```"
   ]
  },
  {
   "cell_type": "code",
   "execution_count": 62,
   "metadata": {
    "collapsed": true
   },
   "outputs": [],
   "source": [
    "def is_leap_greg(year):\n",
    "    if (year % 400)==0:\n",
    "        return True\n",
    "    elif (year % 4)==0 and (year % 100)!=0:\n",
    "        return True\n",
    "    else:\n",
    "        return False"
   ]
  },
  {
   "cell_type": "code",
   "execution_count": 67,
   "metadata": {},
   "outputs": [
    {
     "data": {
      "text/plain": [
       "False"
      ]
     },
     "execution_count": 67,
     "metadata": {},
     "output_type": "execute_result"
    }
   ],
   "source": [
    "is_leap_greg(2100)"
   ]
  },
  {
   "cell_type": "code",
   "execution_count": 49,
   "metadata": {
    "collapsed": true
   },
   "outputs": [],
   "source": [
    "def get_next_day(year, month, day):\n",
    "    mo30 = {4,6,9,11}\n",
    "    mo31 = {1,3,5,7,8,10,12}\n",
    "\n",
    "    if month in mo30:\n",
    "        limit = 30\n",
    "    elif month in mo31:\n",
    "        limit = 31\n",
    "    else:\n",
    "        if is_leap_greg(year):\n",
    "            limit = 29\n",
    "        else:\n",
    "            limit = 28\n",
    "            \n",
    "    day += 1\n",
    "\n",
    "    if day > limit:\n",
    "        day = day % limit\n",
    "        month += 1\n",
    "\n",
    "    if month==13:\n",
    "        month = 1\n",
    "        year += 1\n",
    "        \n",
    "    return year,month,day"
   ]
  },
  {
   "cell_type": "code",
   "execution_count": 61,
   "metadata": {},
   "outputs": [
    {
     "name": "stdout",
     "output_type": "stream",
     "text": [
      "2017 12 31\n",
      "2018 1 1\n"
     ]
    }
   ],
   "source": [
    "year = 2017\n",
    "month = 12\n",
    "day = 31\n",
    "print(year, month, day)\n",
    "print(*get_next_day(year, month, day))"
   ]
  },
  {
   "cell_type": "markdown",
   "metadata": {},
   "source": [
    "## Question 6\n",
    "\n",
    "Take two lists, find the indices where the second is matched in the first.\n",
    "\n",
    "Verilen iki listeden ikincisinin birinci listede hangi indexlerde eşleştiğini yazan bir program yazın. Program eğer hiç eşleşme yoksa boş liste verebilir.\n",
    "\n",
    "```\n",
    "Input: [0,0,1,1,0,1,1,0,1,0,1] and [1,0,1]\n",
    "Expected output: [3,6,8]\n",
    "\n",
    "Input: [0,1,1,0,1,1,0,1,0,1] and [1,1,1]\n",
    "Expected output: []\n",
    "\n",
    "Input: ['t', 'a', 'n', 'z', 'a', 'n', 'i', 'a'] and ['a','n']\n",
    "Expected output: [1, 4]\n",
    "```"
   ]
  },
  {
   "cell_type": "code",
   "execution_count": 17,
   "metadata": {
    "collapsed": true
   },
   "outputs": [],
   "source": [
    "a = [0,0,1,1,0,1,1,0,1,0,1]\n",
    "b = [1,0,1]"
   ]
  },
  {
   "cell_type": "code",
   "execution_count": 15,
   "metadata": {
    "collapsed": true
   },
   "outputs": [],
   "source": [
    "a = ['t', 'a', 'n', 'z', 'a', 'n', 'i', 'a']\n",
    "b = ['a','n']"
   ]
  },
  {
   "cell_type": "code",
   "execution_count": 18,
   "metadata": {},
   "outputs": [
    {
     "name": "stdout",
     "output_type": "stream",
     "text": [
      "[3, 6, 8]\n"
     ]
    }
   ],
   "source": [
    "m = len(a)\n",
    "n = len(b)\n",
    "matches = []\n",
    "for i in range(0, m - n + 1):\n",
    "    if a[i:n+i]==b:\n",
    "        matches.append(i)\n",
    "\n",
    "print(matches)"
   ]
  },
  {
   "cell_type": "markdown",
   "metadata": {},
   "source": [
    "## Question 7\n",
    "\n",
    "Takes a list and an integer n and rotates the list n places. By rotation what we mean is this:\n",
    "Verilen bir liste üzerinde n kere rotasyon yapan bir program yazın. Her rotasyonda elemanlar bir sağa kayacak ve son eleman başa geçecek.\n",
    "\n",
    "```\n",
    "[1,2,3,4] rotated 1 time is [2,3,4,1]\n",
    "\n",
    "[1,2,3,4] rotated 2 times is [3,4,1,2]\n",
    "\n",
    "[1,2,3,4] rotated 5 times is [2,3,4,1]\n",
    "\n",
    "```"
   ]
  },
  {
   "cell_type": "code",
   "execution_count": 23,
   "metadata": {},
   "outputs": [
    {
     "name": "stdout",
     "output_type": "stream",
     "text": [
      "[3, 4, 1, 2]\n"
     ]
    }
   ],
   "source": [
    "seq = [1,2,3,4]\n",
    "n = 2\n",
    "\n",
    "for i in range(n):\n",
    "    seq.append(seq.pop(0))\n",
    "\n",
    "print(seq)"
   ]
  },
  {
   "cell_type": "markdown",
   "metadata": {},
   "source": [
    "## Question 8\n",
    "\n",
    "Extract all consecutive repetitions in a given list.\n",
    "\n",
    "Bir listede ardışık olarak tekrar eden elemanları ayrı bir liste olarak yazan bir program yazın. \n",
    "```\n",
    "Input: [1,2,2,3,3,3,3,2,4,3,5,5,1]\n",
    "Expected output: [[2,2],[3,3,3,3],[5,5]]\n",
    "\n",
    "Input: [1,2,3,4,1,2,3]\n",
    "Expected output: []\n",
    "```"
   ]
  },
  {
   "cell_type": "code",
   "execution_count": 24,
   "metadata": {
    "collapsed": true
   },
   "outputs": [],
   "source": [
    "def repeaters(alist):\n",
    "    final = []\n",
    "    repeated = [alist[0]]\n",
    "    for i in alist[1:]:\n",
    "        if i==repeated[0]:\n",
    "            repeated.append(i)\n",
    "        else:\n",
    "            if len(repeated)>1:\n",
    "                final.append(repeated)\n",
    "            repeated = [i]\n",
    "\n",
    "    if len(repeated)>1:\n",
    "        final.append(repeated)\n",
    "\n",
    "    return final"
   ]
  },
  {
   "cell_type": "code",
   "execution_count": 25,
   "metadata": {},
   "outputs": [
    {
     "name": "stdout",
     "output_type": "stream",
     "text": [
      "[[2, 2], [3, 3, 3, 3], [5, 5]]\n"
     ]
    }
   ],
   "source": [
    "mylist = [1,2,2,3,3,3,3,2,4,3,5,5,1]\n",
    "print(repeaters(mylist))"
   ]
  },
  {
   "cell_type": "markdown",
   "metadata": {},
   "source": [
    "## Question 9\n",
    "\n",
    "Write a Python program that computes greatest common divisor of two numbers.\n",
    "\n",
    "Verilen iki sayının en büyük ortak bölenini bulan bir program yazın.\n",
    "\n",
    "```\n",
    "Input: 0, 1\n",
    "Expected output: 1\n",
    "\n",
    "Input: 1, 2\n",
    "Expected output: 1\n",
    "\n",
    "Input: 2, 5\n",
    "Expected output: 1 \n",
    "\n",
    "Input: 2, 4\n",
    "Expected output: 2\n",
    "\n",
    "Input: 12, 18\n",
    "Expected output: 6\n",
    "\n",
    "```"
   ]
  },
  {
   "cell_type": "code",
   "execution_count": 27,
   "metadata": {
    "collapsed": true
   },
   "outputs": [],
   "source": [
    "from functools import reduce\n",
    "from operator import mul\n",
    "\n",
    "def gcd(a,b):\n",
    "    denom = [1]\n",
    "    i = 2\n",
    "    while a>=i and b>=i:\n",
    "        if not a % i and not b % i:\n",
    "            denom.append(i)\n",
    "            a = a//i\n",
    "            b = b//i\n",
    "        else:\n",
    "            i += 1\n",
    "    return reduce(mul, denom)"
   ]
  },
  {
   "cell_type": "code",
   "execution_count": 29,
   "metadata": {},
   "outputs": [
    {
     "data": {
      "text/plain": [
       "1"
      ]
     },
     "execution_count": 29,
     "metadata": {},
     "output_type": "execute_result"
    }
   ],
   "source": [
    "gcd(0,1)"
   ]
  },
  {
   "cell_type": "code",
   "execution_count": 30,
   "metadata": {},
   "outputs": [
    {
     "data": {
      "text/plain": [
       "2"
      ]
     },
     "execution_count": 30,
     "metadata": {},
     "output_type": "execute_result"
    }
   ],
   "source": [
    "gcd(2,4)"
   ]
  },
  {
   "cell_type": "code",
   "execution_count": 28,
   "metadata": {},
   "outputs": [
    {
     "data": {
      "text/plain": [
       "12"
      ]
     },
     "execution_count": 28,
     "metadata": {},
     "output_type": "execute_result"
    }
   ],
   "source": [
    "gcd(60,24)"
   ]
  },
  {
   "cell_type": "markdown",
   "metadata": {},
   "source": [
    "## Question 10\n",
    "\n",
    "Write a Python program that computest Euclidian distances of points to a reference point. A point is given as a tuple of x and y coordinates. Use sqrt function in math module.\n",
    "\n",
    "Verilen noktaların bir referans noktasına göre Öklit uzaklığını bulan bir program yazın. Bir nokta x ve y koordinatlarından oluşan bir tuple olarak verilecek. Karekök işlemi için math modülündeki sqrt fonksiyonunu kullanabilirsiniz (aşağıdaki örnekte nasıl kullanıldığını görebilirsiniz).\n",
    "\n",
    "euclidian_dist((x, y), (a, b)) = √((x - a)² + (y - b)²)\n",
    "\n",
    "\n",
    "```\n",
    "Input: ref_number = (1,1) and points = [(1,1), (2,3), (4,7)]\n",
    "\n",
    "Expected output: [0.0, 2.23606797749979, 6.708203932499369]\n",
    "```"
   ]
  },
  {
   "cell_type": "code",
   "execution_count": 32,
   "metadata": {},
   "outputs": [
    {
     "name": "stdout",
     "output_type": "stream",
     "text": [
      "1.4142135623730951\n",
      "6.0\n"
     ]
    }
   ],
   "source": [
    "# Example use of sqrt\n",
    "from math import sqrt\n",
    "\n",
    "print(sqrt(2))\n",
    "print(sqrt(36))"
   ]
  },
  {
   "cell_type": "code",
   "execution_count": 68,
   "metadata": {},
   "outputs": [
    {
     "data": {
      "text/plain": [
       "[0.0, 2.23606797749979, 6.708203932499369]"
      ]
     },
     "execution_count": 68,
     "metadata": {},
     "output_type": "execute_result"
    }
   ],
   "source": [
    "ref_point = (1,1)\n",
    "points = [(1,1), (2,3), (4,7)]\n",
    "\n",
    "[sqrt((ref_point[0]-p[0])**2 + (ref_point[1]-p[1])**2) for p in points]"
   ]
  },
  {
   "cell_type": "code",
   "execution_count": null,
   "metadata": {
    "collapsed": true
   },
   "outputs": [],
   "source": []
  }
 ],
 "metadata": {
  "kernelspec": {
   "display_name": "Python 3",
   "language": "python",
   "name": "python3"
  },
  "language_info": {
   "codemirror_mode": {
    "name": "ipython",
    "version": 3
   },
   "file_extension": ".py",
   "mimetype": "text/x-python",
   "name": "python",
   "nbconvert_exporter": "python",
   "pygments_lexer": "ipython3",
   "version": "3.6.3"
  }
 },
 "nbformat": 4,
 "nbformat_minor": 2
}
