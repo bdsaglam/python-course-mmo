{
 "cells": [
  {
   "cell_type": "code",
   "execution_count": null,
   "metadata": {
    "collapsed": true
   },
   "outputs": [],
   "source": [
    "%matplotlib notebook\n",
    "%matplotlib notebook"
   ]
  },
  {
   "cell_type": "code",
   "execution_count": null,
   "metadata": {
    "collapsed": true
   },
   "outputs": [],
   "source": [
    "# Stefan van der Walt <stefan@sun.ac.za>, 2013\n",
    "# License: CC0\n",
    "import numpy as np\n",
    "\n",
    "import matplotlib.pyplot as plt\n",
    "import matplotlib.animation as animation\n",
    "from matplotlib.patches import Circle\n",
    "\n",
    "\n",
    "# Workaround to matplotlib bug in FunctionAnimator that won't allow us\n",
    "# to specify ``itertools.count(step=delta)`` as the frames argument.\n",
    "# Also see ``set_time`` below.\n",
    "delta = 0.02\n",
    "\n",
    "class FreeDamped:\n",
    "    def __init__(self, k, m, c, u0, u0_prime):\n",
    "        self.wn = np.sqrt(k / m)\n",
    "        self.zeta = c/(2*m*self.wn)\n",
    "        \n",
    "        self.B = u0\n",
    "        self.A = u0_prime / self.wn\n",
    "\n",
    "    def __call__(self, t):\n",
    "        A, B, wn, zeta = self.A, self.B, self.wn, self.zeta\n",
    "        return A * np.exp(-zeta*wn*t) * np.sin(wn*t) + B * np.exp(-zeta*wn*t) * np.cos(wn*t)\n",
    "    \n",
    "\n",
    "class Spring:\n",
    "    N = 100\n",
    "    _hist_length = 100\n",
    "\n",
    "    _spring_coords = np.zeros(N)\n",
    "    _spring_coords[30:70] = 0.05 * (-1) ** np.arange(40)\n",
    "\n",
    "    def __init__(self, axis, axis_history, k, m, c, u0, u0_prime):\n",
    "        self._method = FreeDamped(k, m, c, u0, u0_prime)\n",
    "\n",
    "        self._t = 0\n",
    "        self._anchor = axis.vlines([0], -0.1, 0.1, linewidth=5, color='black')\n",
    "        self._pot = Circle((self.u, 0), 0.05, color='black')\n",
    "        self._spring, = axis.plot(*self._spring_xy(), color='black')\n",
    "\n",
    "        axis.vlines([1], -0.1, -0.2)\n",
    "        axis.text(1, -0.25, '$u = 0$', horizontalalignment='center')\n",
    "\n",
    "        self._ax = axis\n",
    "        axis.add_patch(self._pot)\n",
    "        axis.set_xlim([0, 2])\n",
    "        axis.set_ylim([-0.3, 0.2])\n",
    "        axis.set_axis_off()\n",
    "        axis.set_aspect('equal')\n",
    "\n",
    "        self._history = [self.u - 1] * self._hist_length\n",
    "        self._history_plot, = axis_history.plot(np.arange(self._hist_length) *\n",
    "                                                delta, self._history)\n",
    "        axis_history.annotate('Now',\n",
    "                              (self._hist_length * delta, 1.5),\n",
    "                              (self._hist_length * delta, 1.8),\n",
    "                              arrowprops=dict(arrowstyle='->'),\n",
    "                              horizontalalignment='center')\n",
    "        axis_history.set_ylim(-2, 1.5)\n",
    "        axis_history.set_xticks([])\n",
    "        axis_history.set_xlabel(r'$\\mathrm{Time}$')\n",
    "        axis_history.set_ylabel(r'$\\mathrm{Position,\\, u}$')\n",
    "\n",
    "    def _spring_xy(self):\n",
    "        return np.linspace(0, self.u, self.N), self._spring_coords\n",
    "\n",
    "    def set_time(self, t):\n",
    "        self._t = t * delta\n",
    "        self.update()\n",
    "\n",
    "    @property\n",
    "    def u(self):\n",
    "        return 1 + self._method(self._t)\n",
    "\n",
    "    def update(self):\n",
    "        self._pot.center = (self.u, 0)\n",
    "\n",
    "        x, y = self._spring_xy()\n",
    "        self._spring.set_xdata(x)\n",
    "\n",
    "        self._history.append(self.u - 1)\n",
    "        self._history = self._history[-self._hist_length:]\n",
    "\n",
    "        self._history_plot.set_ydata(self._history)"
   ]
  },
  {
   "cell_type": "code",
   "execution_count": null,
   "metadata": {},
   "outputs": [],
   "source": [
    "m = 1\n",
    "k = 100\n",
    "c = 1\n",
    "# set initial conditions\n",
    "u0 = 0.5\n",
    "u0_prime = 0\n",
    "\n",
    "sdof = FreeDamped(m,k,c,u0,u0_prime)\n",
    "\n",
    "print('Natural frequency: ',sdof.wn)\n",
    "print('Damping ratio: ', sdof.zeta)"
   ]
  },
  {
   "cell_type": "code",
   "execution_count": null,
   "metadata": {},
   "outputs": [],
   "source": [
    "fig, (ax0, ax1) = plt.subplots(2, 1)\n",
    "s = Spring(axis=ax0, axis_history=ax1,\n",
    "           k=k, m=m, c=c, u0=u0, u0_prime=u0_prime)\n",
    "\n",
    "anim = animation.FuncAnimation(fig, s.set_time, interval=delta * 1000,\n",
    "                              repeat=False)\n",
    "\n",
    "plt.show()"
   ]
  },
  {
   "cell_type": "code",
   "execution_count": null,
   "metadata": {
    "collapsed": true
   },
   "outputs": [],
   "source": []
  }
 ],
 "metadata": {
  "kernelspec": {
   "display_name": "Python 3",
   "language": "python",
   "name": "python3"
  },
  "language_info": {
   "codemirror_mode": {
    "name": "ipython",
    "version": 3
   },
   "file_extension": ".py",
   "mimetype": "text/x-python",
   "name": "python",
   "nbconvert_exporter": "python",
   "pygments_lexer": "ipython3",
   "version": "3.6.5"
  }
 },
 "nbformat": 4,
 "nbformat_minor": 2
}
