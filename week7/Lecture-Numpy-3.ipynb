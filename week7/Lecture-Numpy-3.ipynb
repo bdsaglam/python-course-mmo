{
 "cells": [
  {
   "cell_type": "markdown",
   "metadata": {},
   "source": [
    "# Numpy"
   ]
  },
  {
   "cell_type": "markdown",
   "metadata": {},
   "source": [
    "# Math Operations IO Advanced "
   ]
  },
  {
   "cell_type": "code",
   "execution_count": 1,
   "metadata": {
    "collapsed": true
   },
   "outputs": [],
   "source": [
    "import numpy as np"
   ]
  },
  {
   "cell_type": "code",
   "execution_count": 2,
   "metadata": {
    "collapsed": true
   },
   "outputs": [],
   "source": [
    "%matplotlib inline\n",
    "import matplotlib.pyplot as plt"
   ]
  },
  {
   "cell_type": "code",
   "execution_count": 3,
   "metadata": {
    "collapsed": true
   },
   "outputs": [],
   "source": [
    "def iprint(seq, sep='--------'):\n",
    "    for item in seq:\n",
    "        print(item)\n",
    "        print(sep)"
   ]
  },
  {
   "cell_type": "markdown",
   "metadata": {},
   "source": [
    "## Basic statistics"
   ]
  },
  {
   "cell_type": "code",
   "execution_count": 4,
   "metadata": {
    "collapsed": true
   },
   "outputs": [],
   "source": [
    "x = np.array([1 , 2 , 3 , 1 ])\n",
    "y = np.array([[1 , 2 , 3 ], [5 , 6 , 1 ]])"
   ]
  },
  {
   "cell_type": "code",
   "execution_count": 5,
   "metadata": {},
   "outputs": [
    {
     "data": {
      "text/plain": [
       "1.75"
      ]
     },
     "execution_count": 5,
     "metadata": {},
     "output_type": "execute_result"
    }
   ],
   "source": [
    "x.mean()"
   ]
  },
  {
   "cell_type": "code",
   "execution_count": 6,
   "metadata": {},
   "outputs": [
    {
     "data": {
      "text/plain": [
       "1.5"
      ]
     },
     "execution_count": 6,
     "metadata": {},
     "output_type": "execute_result"
    }
   ],
   "source": [
    "np.median(x)"
   ]
  },
  {
   "cell_type": "code",
   "execution_count": 7,
   "metadata": {},
   "outputs": [
    {
     "data": {
      "text/plain": [
       "array([ 2.,  5.])"
      ]
     },
     "execution_count": 7,
     "metadata": {},
     "output_type": "execute_result"
    }
   ],
   "source": [
    "np.median(y, axis = - 1 ) # last axis"
   ]
  },
  {
   "cell_type": "code",
   "execution_count": 8,
   "metadata": {
    "scrolled": false
   },
   "outputs": [
    {
     "data": {
      "text/plain": [
       "0.82915619758884995"
      ]
     },
     "execution_count": 8,
     "metadata": {},
     "output_type": "execute_result"
    }
   ],
   "source": [
    "x.std() # full population standard dev."
   ]
  },
  {
   "cell_type": "code",
   "execution_count": 9,
   "metadata": {},
   "outputs": [
    {
     "data": {
      "text/plain": [
       "array([[ 1.        , -0.75592895],\n",
       "       [-0.75592895,  1.        ]])"
      ]
     },
     "execution_count": 9,
     "metadata": {},
     "output_type": "execute_result"
    }
   ],
   "source": [
    "np.corrcoef(y)"
   ]
  },
  {
   "cell_type": "code",
   "execution_count": 10,
   "metadata": {
    "scrolled": true
   },
   "outputs": [
    {
     "data": {
      "text/plain": [
       "array([[ 1., -2.],\n",
       "       [-2.,  7.]])"
      ]
     },
     "execution_count": 10,
     "metadata": {},
     "output_type": "execute_result"
    }
   ],
   "source": [
    "np.cov(y)"
   ]
  },
  {
   "cell_type": "markdown",
   "metadata": {},
   "source": [
    "### Polynomials"
   ]
  },
  {
   "cell_type": "code",
   "execution_count": 11,
   "metadata": {},
   "outputs": [
    {
     "data": {
      "text/plain": [
       "-1"
      ]
     },
     "execution_count": 11,
     "metadata": {},
     "output_type": "execute_result"
    }
   ],
   "source": [
    "p = np.poly1d([3 , 2 , - 1 ])\n",
    "p(0)"
   ]
  },
  {
   "cell_type": "code",
   "execution_count": 12,
   "metadata": {},
   "outputs": [
    {
     "data": {
      "text/plain": [
       "array([-1.        ,  0.33333333])"
      ]
     },
     "execution_count": 12,
     "metadata": {},
     "output_type": "execute_result"
    }
   ],
   "source": [
    "p.roots"
   ]
  },
  {
   "cell_type": "code",
   "execution_count": 13,
   "metadata": {},
   "outputs": [
    {
     "name": "stdout",
     "output_type": "stream",
     "text": [
      "[ 3  2 -1]\n",
      "2\n"
     ]
    }
   ],
   "source": [
    "print(p.coeffs)\n",
    "print(p.order)"
   ]
  },
  {
   "cell_type": "code",
   "execution_count": 14,
   "metadata": {
    "collapsed": true
   },
   "outputs": [],
   "source": [
    "x = np.linspace(- 1 , 1 , 2000)\n",
    "y = np.cos(x) + 0.3 * np.random.rand(2000)\n",
    "p = np.polynomial.Chebyshev.fit(x, y, 90)"
   ]
  },
  {
   "cell_type": "code",
   "execution_count": 15,
   "metadata": {},
   "outputs": [
    {
     "data": {
      "text/plain": [
       "90"
      ]
     },
     "execution_count": 15,
     "metadata": {},
     "output_type": "execute_result"
    }
   ],
   "source": [
    "p.degree()"
   ]
  },
  {
   "cell_type": "markdown",
   "metadata": {},
   "source": [
    "## IO"
   ]
  },
  {
   "cell_type": "markdown",
   "metadata": {},
   "source": [
    "#### Byte file"
   ]
  },
  {
   "cell_type": "code",
   "execution_count": 16,
   "metadata": {
    "collapsed": true,
    "scrolled": true
   },
   "outputs": [],
   "source": [
    "x = np.arange(100).reshape((10,10))"
   ]
  },
  {
   "cell_type": "code",
   "execution_count": 17,
   "metadata": {
    "collapsed": true
   },
   "outputs": [],
   "source": [
    "np.save?"
   ]
  },
  {
   "cell_type": "code",
   "execution_count": 18,
   "metadata": {
    "collapsed": true
   },
   "outputs": [],
   "source": [
    "np.save('../io/x.npy', x)"
   ]
  },
  {
   "cell_type": "code",
   "execution_count": 19,
   "metadata": {
    "collapsed": true
   },
   "outputs": [],
   "source": [
    "y = np.load('../io/x.npy')"
   ]
  },
  {
   "cell_type": "code",
   "execution_count": 20,
   "metadata": {},
   "outputs": [
    {
     "data": {
      "text/plain": [
       "array([[ 0,  1,  2,  3,  4,  5,  6,  7,  8,  9],\n",
       "       [10, 11, 12, 13, 14, 15, 16, 17, 18, 19],\n",
       "       [20, 21, 22, 23, 24, 25, 26, 27, 28, 29],\n",
       "       [30, 31, 32, 33, 34, 35, 36, 37, 38, 39],\n",
       "       [40, 41, 42, 43, 44, 45, 46, 47, 48, 49],\n",
       "       [50, 51, 52, 53, 54, 55, 56, 57, 58, 59],\n",
       "       [60, 61, 62, 63, 64, 65, 66, 67, 68, 69],\n",
       "       [70, 71, 72, 73, 74, 75, 76, 77, 78, 79],\n",
       "       [80, 81, 82, 83, 84, 85, 86, 87, 88, 89],\n",
       "       [90, 91, 92, 93, 94, 95, 96, 97, 98, 99]])"
      ]
     },
     "execution_count": 20,
     "metadata": {},
     "output_type": "execute_result"
    }
   ],
   "source": [
    "y"
   ]
  },
  {
   "cell_type": "code",
   "execution_count": 21,
   "metadata": {},
   "outputs": [
    {
     "data": {
      "text/plain": [
       "True"
      ]
     },
     "execution_count": 21,
     "metadata": {},
     "output_type": "execute_result"
    }
   ],
   "source": [
    "np.all(x==y)"
   ]
  },
  {
   "cell_type": "markdown",
   "metadata": {},
   "source": [
    "#### Text file"
   ]
  },
  {
   "cell_type": "code",
   "execution_count": 22,
   "metadata": {
    "collapsed": true
   },
   "outputs": [],
   "source": [
    "x = np.arange(100).reshape((10,10))"
   ]
  },
  {
   "cell_type": "code",
   "execution_count": 23,
   "metadata": {
    "collapsed": true
   },
   "outputs": [],
   "source": [
    "np.savetxt('../io/x.txt', x)"
   ]
  },
  {
   "cell_type": "code",
   "execution_count": 24,
   "metadata": {
    "collapsed": true
   },
   "outputs": [],
   "source": [
    "y = np.loadtxt('../io/x.txt')"
   ]
  },
  {
   "cell_type": "code",
   "execution_count": 25,
   "metadata": {
    "scrolled": false
   },
   "outputs": [
    {
     "data": {
      "text/plain": [
       "True"
      ]
     },
     "execution_count": 25,
     "metadata": {},
     "output_type": "execute_result"
    }
   ],
   "source": [
    "np.all(x==y)"
   ]
  },
  {
   "cell_type": "code",
   "execution_count": 26,
   "metadata": {
    "collapsed": true
   },
   "outputs": [],
   "source": [
    "np.savetxt('../io/array2D.csv', x, fmt='%.6f', delimiter=';')"
   ]
  },
  {
   "cell_type": "code",
   "execution_count": 27,
   "metadata": {
    "scrolled": true
   },
   "outputs": [
    {
     "data": {
      "text/plain": [
       "array([[  0.,   1.,   2.,   3.,   4.,   5.,   6.,   7.,   8.,   9.],\n",
       "       [ 10.,  11.,  12.,  13.,  14.,  15.,  16.,  17.,  18.,  19.],\n",
       "       [ 20.,  21.,  22.,  23.,  24.,  25.,  26.,  27.,  28.,  29.],\n",
       "       [ 30.,  31.,  32.,  33.,  34.,  35.,  36.,  37.,  38.,  39.],\n",
       "       [ 40.,  41.,  42.,  43.,  44.,  45.,  46.,  47.,  48.,  49.],\n",
       "       [ 50.,  51.,  52.,  53.,  54.,  55.,  56.,  57.,  58.,  59.],\n",
       "       [ 60.,  61.,  62.,  63.,  64.,  65.,  66.,  67.,  68.,  69.],\n",
       "       [ 70.,  71.,  72.,  73.,  74.,  75.,  76.,  77.,  78.,  79.],\n",
       "       [ 80.,  81.,  82.,  83.,  84.,  85.,  86.,  87.,  88.,  89.],\n",
       "       [ 90.,  91.,  92.,  93.,  94.,  95.,  96.,  97.,  98.,  99.]])"
      ]
     },
     "execution_count": 27,
     "metadata": {},
     "output_type": "execute_result"
    }
   ],
   "source": [
    "np.loadtxt('../io/array2D.csv',delimiter=';')"
   ]
  },
  {
   "cell_type": "markdown",
   "metadata": {},
   "source": [
    "## Advanced Operations"
   ]
  },
  {
   "cell_type": "markdown",
   "metadata": {},
   "source": [
    "### Vectorize"
   ]
  },
  {
   "cell_type": "markdown",
   "metadata": {},
   "source": [
    "np.vectorize is just a convenience function. It doesn't actually make code run any faster. If it isn't convenient to use np.vectorize, simply write your own function that works as you wish.\n",
    "\n",
    "The purpose of np.vectorize is to transform functions which are not numpy-aware (e.g. take floats as input and return floats as output) into functions that can operate on (and return) numpy arrays."
   ]
  },
  {
   "cell_type": "code",
   "execution_count": 28,
   "metadata": {
    "collapsed": true
   },
   "outputs": [],
   "source": [
    "def myfunc(a, b):\n",
    "    \"Return a-b if a>b, otherwise return a+b\"\n",
    "    if a > b:\n",
    "        return a - b\n",
    "    else:\n",
    "        return a + b"
   ]
  },
  {
   "cell_type": "code",
   "execution_count": 29,
   "metadata": {
    "collapsed": true
   },
   "outputs": [],
   "source": [
    "vfunc = np.vectorize(myfunc)"
   ]
  },
  {
   "cell_type": "code",
   "execution_count": 30,
   "metadata": {},
   "outputs": [
    {
     "data": {
      "text/plain": [
       "array([3, 4, 1, 2])"
      ]
     },
     "execution_count": 30,
     "metadata": {},
     "output_type": "execute_result"
    }
   ],
   "source": [
    "vfunc([1, 2, 3, 4], 2)"
   ]
  },
  {
   "cell_type": "code",
   "execution_count": 31,
   "metadata": {},
   "outputs": [
    {
     "data": {
      "text/plain": [
       "array([[0, 1],\n",
       "       [2, 3],\n",
       "       [4, 5]])"
      ]
     },
     "execution_count": 31,
     "metadata": {},
     "output_type": "execute_result"
    }
   ],
   "source": [
    "a = np.arange(6).reshape(3,2)\n",
    "a"
   ]
  },
  {
   "cell_type": "code",
   "execution_count": 32,
   "metadata": {},
   "outputs": [
    {
     "data": {
      "text/plain": [
       "array([[2, 3],\n",
       "       [4, 1],\n",
       "       [2, 3]])"
      ]
     },
     "execution_count": 32,
     "metadata": {},
     "output_type": "execute_result"
    }
   ],
   "source": [
    "vfunc(a, 2)"
   ]
  },
  {
   "cell_type": "code",
   "execution_count": 33,
   "metadata": {},
   "outputs": [
    {
     "data": {
      "text/plain": [
       "array([1, 4, 5, 6])"
      ]
     },
     "execution_count": 33,
     "metadata": {},
     "output_type": "execute_result"
    }
   ],
   "source": [
    "vfunc(2, [1, 2, 3, 4])"
   ]
  },
  {
   "cell_type": "code",
   "execution_count": 34,
   "metadata": {},
   "outputs": [
    {
     "data": {
      "text/plain": [
       "array([2, 4, 6, 8])"
      ]
     },
     "execution_count": 34,
     "metadata": {},
     "output_type": "execute_result"
    }
   ],
   "source": [
    "vfunc([1, 2, 3, 4], [1, 2, 3, 4])"
   ]
  },
  {
   "cell_type": "markdown",
   "metadata": {},
   "source": [
    "### Apply along axis"
   ]
  },
  {
   "cell_type": "code",
   "execution_count": 35,
   "metadata": {
    "collapsed": true
   },
   "outputs": [],
   "source": [
    "np.apply_along_axis?"
   ]
  },
  {
   "cell_type": "code",
   "execution_count": 36,
   "metadata": {
    "collapsed": true
   },
   "outputs": [],
   "source": [
    "def my_func(a):\n",
    "    \"\"\"Average first and last element of a 1-D array\"\"\"\n",
    "    return (a[0] + a[-1]) * 0.5"
   ]
  },
  {
   "cell_type": "code",
   "execution_count": 37,
   "metadata": {},
   "outputs": [
    {
     "data": {
      "text/plain": [
       "array([[1, 2, 3],\n",
       "       [4, 5, 6],\n",
       "       [7, 8, 9]])"
      ]
     },
     "execution_count": 37,
     "metadata": {},
     "output_type": "execute_result"
    }
   ],
   "source": [
    "a = np.array([[1,2,3], [4,5,6], [7,8,9]])\n",
    "a"
   ]
  },
  {
   "cell_type": "code",
   "execution_count": 38,
   "metadata": {},
   "outputs": [
    {
     "data": {
      "text/plain": [
       "array([ 4.,  5.,  6.])"
      ]
     },
     "execution_count": 38,
     "metadata": {},
     "output_type": "execute_result"
    }
   ],
   "source": [
    "np.apply_along_axis(my_func, axis=0, arr=a)"
   ]
  },
  {
   "cell_type": "code",
   "execution_count": 39,
   "metadata": {},
   "outputs": [
    {
     "data": {
      "text/plain": [
       "array([ 2.,  5.,  8.])"
      ]
     },
     "execution_count": 39,
     "metadata": {},
     "output_type": "execute_result"
    }
   ],
   "source": [
    "np.apply_along_axis(my_func, axis=1, arr=a)"
   ]
  },
  {
   "cell_type": "code",
   "execution_count": 40,
   "metadata": {
    "collapsed": true
   },
   "outputs": [],
   "source": [
    "np.apply_along_axis?"
   ]
  },
  {
   "cell_type": "markdown",
   "metadata": {},
   "source": [
    "### Apply over axes"
   ]
  },
  {
   "cell_type": "code",
   "execution_count": 41,
   "metadata": {
    "scrolled": true
   },
   "outputs": [],
   "source": [
    "np.apply_over_axes?"
   ]
  },
  {
   "cell_type": "code",
   "execution_count": 42,
   "metadata": {},
   "outputs": [
    {
     "data": {
      "text/plain": [
       "array([[[ 0,  1,  2,  3],\n",
       "        [ 4,  5,  6,  7],\n",
       "        [ 8,  9, 10, 11]],\n",
       "\n",
       "       [[12, 13, 14, 15],\n",
       "        [16, 17, 18, 19],\n",
       "        [20, 21, 22, 23]]])"
      ]
     },
     "execution_count": 42,
     "metadata": {},
     "output_type": "execute_result"
    }
   ],
   "source": [
    "a = np.arange(24).reshape(2,3,4)\n",
    "a"
   ]
  },
  {
   "cell_type": "code",
   "execution_count": 43,
   "metadata": {},
   "outputs": [
    {
     "data": {
      "text/plain": [
       "(2, 3, 4)"
      ]
     },
     "execution_count": 43,
     "metadata": {},
     "output_type": "execute_result"
    }
   ],
   "source": [
    "a.shape"
   ]
  },
  {
   "cell_type": "code",
   "execution_count": 44,
   "metadata": {
    "scrolled": true
   },
   "outputs": [
    {
     "data": {
      "text/plain": [
       "array([[12, 15, 18, 21],\n",
       "       [48, 51, 54, 57]])"
      ]
     },
     "execution_count": 44,
     "metadata": {},
     "output_type": "execute_result"
    }
   ],
   "source": [
    "np.apply_along_axis(np.sum, axis=1, arr=a)"
   ]
  },
  {
   "cell_type": "code",
   "execution_count": 45,
   "metadata": {},
   "outputs": [
    {
     "data": {
      "text/plain": [
       "array([[[12, 15, 18, 21]],\n",
       "\n",
       "       [[48, 51, 54, 57]]])"
      ]
     },
     "execution_count": 45,
     "metadata": {},
     "output_type": "execute_result"
    }
   ],
   "source": [
    "np.apply_over_axes(np.sum, a, [1])"
   ]
  },
  {
   "cell_type": "code",
   "execution_count": 46,
   "metadata": {},
   "outputs": [
    {
     "data": {
      "text/plain": [
       "array([[[ 66]],\n",
       "\n",
       "       [[210]]])"
      ]
     },
     "execution_count": 46,
     "metadata": {},
     "output_type": "execute_result"
    }
   ],
   "source": [
    "b = np.apply_over_axes(np.sum, a, [1,2])\n",
    "b"
   ]
  },
  {
   "cell_type": "code",
   "execution_count": 47,
   "metadata": {},
   "outputs": [
    {
     "data": {
      "text/plain": [
       "(2, 1, 1)"
      ]
     },
     "execution_count": 47,
     "metadata": {},
     "output_type": "execute_result"
    }
   ],
   "source": [
    "b.shape"
   ]
  },
  {
   "cell_type": "code",
   "execution_count": 48,
   "metadata": {},
   "outputs": [
    {
     "data": {
      "text/plain": [
       "array([[[ 66]],\n",
       "\n",
       "       [[210]]])"
      ]
     },
     "execution_count": 48,
     "metadata": {},
     "output_type": "execute_result"
    }
   ],
   "source": [
    "np.sum(a, axis=(1,2), keepdims=True)"
   ]
  },
  {
   "cell_type": "code",
   "execution_count": 49,
   "metadata": {},
   "outputs": [
    {
     "data": {
      "text/plain": [
       "array([[[12, 15, 18, 21]],\n",
       "\n",
       "       [[48, 51, 54, 57]]])"
      ]
     },
     "execution_count": 49,
     "metadata": {},
     "output_type": "execute_result"
    }
   ],
   "source": [
    "b = np.apply_over_axes(np.sum, a, [1])\n",
    "b"
   ]
  },
  {
   "cell_type": "markdown",
   "metadata": {},
   "source": [
    "## Structured data types"
   ]
  },
  {
   "cell_type": "code",
   "execution_count": 50,
   "metadata": {},
   "outputs": [
    {
     "data": {
      "text/plain": [
       "array([[[ 0,  1,  2,  3],\n",
       "        [ 4,  5,  6,  7],\n",
       "        [ 8,  9, 10, 11]],\n",
       "\n",
       "       [[12, 13, 14, 15],\n",
       "        [16, 17, 18, 19],\n",
       "        [20, 21, 22, 23]]])"
      ]
     },
     "execution_count": 50,
     "metadata": {},
     "output_type": "execute_result"
    }
   ],
   "source": [
    "a = np.arange(24).reshape(2,3,4)\n",
    "a"
   ]
  },
  {
   "cell_type": "code",
   "execution_count": 51,
   "metadata": {},
   "outputs": [
    {
     "data": {
      "text/plain": [
       "array([[ 0,  1,  2,  3],\n",
       "       [ 4,  5,  6,  7],\n",
       "       [ 8,  9, 10, 11]])"
      ]
     },
     "execution_count": 51,
     "metadata": {},
     "output_type": "execute_result"
    }
   ],
   "source": [
    "a[0,...]"
   ]
  },
  {
   "cell_type": "code",
   "execution_count": 52,
   "metadata": {
    "scrolled": true
   },
   "outputs": [
    {
     "data": {
      "text/plain": [
       "array([[ 0,  4,  8],\n",
       "       [12, 16, 20]])"
      ]
     },
     "execution_count": 52,
     "metadata": {},
     "output_type": "execute_result"
    }
   ],
   "source": [
    "a[:,:,0]"
   ]
  },
  {
   "cell_type": "code",
   "execution_count": 53,
   "metadata": {
    "collapsed": true
   },
   "outputs": [],
   "source": [
    "samples = np.zeros((6,), dtype= [('sensor_code', 'S4'),\n",
    "                                 ('position', np.float64), \n",
    "                                 ('value', np.float64)])"
   ]
  },
  {
   "cell_type": "code",
   "execution_count": 54,
   "metadata": {
    "collapsed": true
   },
   "outputs": [],
   "source": [
    "samples[:] = [('ALFA', 1, 0.37), \n",
    "              ('BETA', 1, 0.11),\n",
    "              ('TAU', 1, 0.13),\n",
    "              ('ALFA', 1.5, 0.37),\n",
    "              ('ALFA', 3, 0.11),\n",
    "              ('TAU', 1.2, 0.13)]"
   ]
  },
  {
   "cell_type": "code",
   "execution_count": 55,
   "metadata": {},
   "outputs": [
    {
     "data": {
      "text/plain": [
       "array([(b'ALFA',  1. ,  0.37), (b'BETA',  1. ,  0.11),\n",
       "       (b'TAU',  1. ,  0.13), (b'ALFA',  1.5,  0.37),\n",
       "       (b'ALFA',  3. ,  0.11), (b'TAU',  1.2,  0.13)],\n",
       "      dtype=[('sensor_code', 'S4'), ('position', '<f8'), ('value', '<f8')])"
      ]
     },
     "execution_count": 55,
     "metadata": {},
     "output_type": "execute_result"
    }
   ],
   "source": [
    "samples"
   ]
  },
  {
   "cell_type": "code",
   "execution_count": 56,
   "metadata": {},
   "outputs": [
    {
     "name": "stdout",
     "output_type": "stream",
     "text": [
      "1\n",
      "(6,)\n",
      "('sensor_code', 'position', 'value')\n"
     ]
    }
   ],
   "source": [
    "print(samples.ndim)\n",
    "print(samples.shape)\n",
    "print(samples.dtype.names)"
   ]
  },
  {
   "cell_type": "code",
   "execution_count": 57,
   "metadata": {},
   "outputs": [
    {
     "data": {
      "text/plain": [
       "array([b'ALFA', b'BETA', b'TAU', b'ALFA', b'ALFA', b'TAU'],\n",
       "      dtype='|S4')"
      ]
     },
     "execution_count": 57,
     "metadata": {},
     "output_type": "execute_result"
    }
   ],
   "source": [
    "samples['sensor_code']"
   ]
  },
  {
   "cell_type": "code",
   "execution_count": 58,
   "metadata": {},
   "outputs": [
    {
     "data": {
      "text/plain": [
       "array([ 0.37,  0.11,  0.13,  0.37,  0.11,  0.13])"
      ]
     },
     "execution_count": 58,
     "metadata": {},
     "output_type": "execute_result"
    }
   ],
   "source": [
    "samples['value']"
   ]
  },
  {
   "cell_type": "code",
   "execution_count": 59,
   "metadata": {},
   "outputs": [
    {
     "data": {
      "text/plain": [
       "(b'ALFA',  1.,  0.37)"
      ]
     },
     "execution_count": 59,
     "metadata": {},
     "output_type": "execute_result"
    }
   ],
   "source": [
    "samples[0]"
   ]
  },
  {
   "cell_type": "markdown",
   "metadata": {},
   "source": [
    "## Masked arrays"
   ]
  },
  {
   "cell_type": "code",
   "execution_count": 60,
   "metadata": {},
   "outputs": [
    {
     "data": {
      "text/plain": [
       "masked_array(data = [1 -- 3 --],\n",
       "             mask = [False  True False  True],\n",
       "       fill_value = 999999)"
      ]
     },
     "execution_count": 60,
     "metadata": {},
     "output_type": "execute_result"
    }
   ],
   "source": [
    "x = np.ma.array([1 , 2 , 3 , 4 ], mask= [ 0 , 1 , 0 , 1 ])\n",
    "x"
   ]
  },
  {
   "cell_type": "code",
   "execution_count": 61,
   "metadata": {},
   "outputs": [
    {
     "data": {
      "text/plain": [
       "masked_array(data = [1.0 -- 1.4142135623730951 --],\n",
       "             mask = [False  True False  True],\n",
       "       fill_value = 1e+20)"
      ]
     },
     "execution_count": 61,
     "metadata": {},
     "output_type": "execute_result"
    }
   ],
   "source": [
    "np.ma.sqrt([ 1 , - 1 , 2 , - 2 ])"
   ]
  },
  {
   "cell_type": "markdown",
   "metadata": {},
   "source": [
    "### Example"
   ]
  },
  {
   "cell_type": "markdown",
   "metadata": {},
   "source": [
    "#### Vibration Response Spectrum"
   ]
  },
  {
   "cell_type": "code",
   "execution_count": 62,
   "metadata": {
    "collapsed": true
   },
   "outputs": [],
   "source": [
    "def transmissibility(zeta, r): \n",
    "    t = abs((1 + 1j * 2 * zeta * r) / (1 - r ** 2 + 1j * 2 * zeta * r))\n",
    "    return t"
   ]
  },
  {
   "cell_type": "code",
   "execution_count": 63,
   "metadata": {
    "collapsed": true
   },
   "outputs": [],
   "source": [
    "zeta = 0.05"
   ]
  },
  {
   "cell_type": "code",
   "execution_count": 64,
   "metadata": {
    "scrolled": true
   },
   "outputs": [
    {
     "data": {
      "text/plain": [
       "1.002506202773349"
      ]
     },
     "execution_count": 64,
     "metadata": {},
     "output_type": "execute_result"
    }
   ],
   "source": [
    "transmissibility(zeta, 0.05)"
   ]
  },
  {
   "cell_type": "code",
   "execution_count": 65,
   "metadata": {
    "collapsed": true
   },
   "outputs": [],
   "source": [
    "trz = lambda r: transmissibility(0.05, r)"
   ]
  },
  {
   "cell_type": "code",
   "execution_count": 66,
   "metadata": {},
   "outputs": [
    {
     "data": {
      "text/plain": [
       "array([1, 2, 3, 4, 5])"
      ]
     },
     "execution_count": 66,
     "metadata": {},
     "output_type": "execute_result"
    }
   ],
   "source": [
    "frequency = np.arange(1,6)\n",
    "frequency"
   ]
  },
  {
   "cell_type": "code",
   "execution_count": 67,
   "metadata": {},
   "outputs": [
    {
     "data": {
      "text/plain": [
       "array([ 0.18209502,  0.85444631,  0.56346221,  0.61588788,  0.90313907])"
      ]
     },
     "execution_count": 67,
     "metadata": {},
     "output_type": "execute_result"
    }
   ],
   "source": [
    "level = np.random.rand(5)\n",
    "level"
   ]
  },
  {
   "cell_type": "code",
   "execution_count": 68,
   "metadata": {},
   "outputs": [
    {
     "data": {
      "text/plain": [
       "array([[ 1.        ,  0.5       ,  0.33333333,  0.25      ,  0.2       ],\n",
       "       [ 2.        ,  1.        ,  0.66666667,  0.5       ,  0.4       ],\n",
       "       [ 3.        ,  1.5       ,  1.        ,  0.75      ,  0.6       ],\n",
       "       [ 4.        ,  2.        ,  1.33333333,  1.        ,  0.8       ],\n",
       "       [ 5.        ,  2.5       ,  1.66666667,  1.25      ,  1.        ]])"
      ]
     },
     "execution_count": 68,
     "metadata": {},
     "output_type": "execute_result"
    }
   ],
   "source": [
    "ratio_mesh = np.outer(frequency, 1.0 / frequency)\n",
    "ratio_mesh"
   ]
  },
  {
   "cell_type": "code",
   "execution_count": 69,
   "metadata": {
    "collapsed": true
   },
   "outputs": [],
   "source": [
    "trz_vec = np.vectorize(trz)"
   ]
  },
  {
   "cell_type": "code",
   "execution_count": 70,
   "metadata": {},
   "outputs": [
    {
     "data": {
      "text/plain": [
       "array([ 4.30169861,  9.33226989,  7.82170515,  8.34064185,  9.92728074])"
      ]
     },
     "execution_count": 70,
     "metadata": {},
     "output_type": "execute_result"
    }
   ],
   "source": [
    "acceleration_response = np.sqrt(np.dot(level, trz_vec(ratio_mesh) ** 2))\n",
    "acceleration_response"
   ]
  },
  {
   "cell_type": "code",
   "execution_count": 71,
   "metadata": {},
   "outputs": [
    {
     "data": {
      "text/plain": [
       "[<matplotlib.lines.Line2D at 0x1101ab470>]"
      ]
     },
     "execution_count": 71,
     "metadata": {},
     "output_type": "execute_result"
    },
    {
     "data": {
      "image/png": "[encoded data removed]",
      "text/plain": [
       "<matplotlib.figure.Figure at 0x10fcbb2b0>"
      ]
     },
     "metadata": {},
     "output_type": "display_data"
    }
   ],
   "source": [
    "# OO API\n",
    "fig = plt.figure()\n",
    "ax = fig.add_subplot(111)\n",
    "\n",
    "ax.plot(frequency, acceleration_response, linewidth=2)"
   ]
  },
  {
   "cell_type": "code",
   "execution_count": null,
   "metadata": {
    "collapsed": true
   },
   "outputs": [],
   "source": []
  },
  {
   "cell_type": "markdown",
   "metadata": {},
   "source": [
    "#### Simple dataset operations"
   ]
  },
  {
   "cell_type": "code",
   "execution_count": 72,
   "metadata": {
    "collapsed": true
   },
   "outputs": [],
   "source": [
    "data = np.loadtxt('../io/populations_tab.txt', dtype=np.uint32)\n",
    "\n",
    "headers = ('year', 'hares', 'lynxes', 'carrots')\n",
    "year = data[:, 0]\n",
    "populations = data[:, 1:]"
   ]
  },
  {
   "cell_type": "code",
   "execution_count": 73,
   "metadata": {
    "collapsed": true
   },
   "outputs": [],
   "source": [
    "#year, hares, lynxes, carrots = data.T # trick: columns to variables"
   ]
  },
  {
   "cell_type": "code",
   "execution_count": 74,
   "metadata": {
    "scrolled": false
   },
   "outputs": [
    {
     "data": {
      "text/plain": [
       "array([[ 1900, 30000,  4000, 48300],\n",
       "       [ 1901, 47200,  6100, 48200],\n",
       "       [ 1902, 70200,  9800, 41500],\n",
       "       [ 1903, 77400, 35200, 38200],\n",
       "       [ 1904, 36300, 59400, 40600],\n",
       "       [ 1905, 20600, 41700, 39800],\n",
       "       [ 1906, 18100, 19000, 38600],\n",
       "       [ 1907, 21400, 13000, 42300],\n",
       "       [ 1908, 22000,  8300, 44500],\n",
       "       [ 1909, 25400,  9100, 42100],\n",
       "       [ 1910, 27100,  7400, 46000],\n",
       "       [ 1911, 40300,  8000, 46800],\n",
       "       [ 1912, 57000, 12300, 43800],\n",
       "       [ 1913, 76600, 19500, 40900],\n",
       "       [ 1914, 52300, 45700, 39400],\n",
       "       [ 1915, 19500, 51100, 39000],\n",
       "       [ 1916, 11200, 29700, 36700],\n",
       "       [ 1917,  7600, 15800, 41800],\n",
       "       [ 1918, 14600,  9700, 43300],\n",
       "       [ 1919, 16200, 10100, 41300],\n",
       "       [ 1920, 24700,  8600, 47300]], dtype=uint32)"
      ]
     },
     "execution_count": 74,
     "metadata": {},
     "output_type": "execute_result"
    }
   ],
   "source": [
    "data"
   ]
  },
  {
   "cell_type": "code",
   "execution_count": 75,
   "metadata": {},
   "outputs": [
    {
     "data": {
      "text/plain": [
       "<matplotlib.legend.Legend at 0x110f0f160>"
      ]
     },
     "execution_count": 75,
     "metadata": {},
     "output_type": "execute_result"
    },
    {
     "data": {
      "image/png": "[encoded data removed]",
      "text/plain": [
       "<matplotlib.figure.Figure at 0x11016e710>"
      ]
     },
     "metadata": {},
     "output_type": "display_data"
    }
   ],
   "source": [
    "plt.figure(figsize=(12,6))\n",
    "plt.plot(year, populations[:,0])\n",
    "plt.plot(year, populations[:,1])\n",
    "plt.plot(year, populations[:,2])\n",
    "plt.legend(('Hare ', 'Lynx', 'Carrot'), loc=(1.05, 0.5))"
   ]
  },
  {
   "cell_type": "code",
   "execution_count": 76,
   "metadata": {
    "collapsed": true
   },
   "outputs": [],
   "source": [
    "best_years = year[np.argmax(populations, axis=0)]\n",
    "worst_years = year[np.argmin(populations, axis=0)]"
   ]
  },
  {
   "cell_type": "code",
   "execution_count": 77,
   "metadata": {},
   "outputs": [
    {
     "name": "stdout",
     "output_type": "stream",
     "text": [
      "Vegs                   hares          lynxes         carrots\n",
      "============================================================\n",
      "Max                    77400           59400           48300\n",
      "Best Year               1903            1904            1900\n",
      "------------------------------------------------------------\n",
      "Min                     7600            4000           36700\n",
      "Worst Year              1917            1900            1916\n",
      "------------------------------------------------------------\n",
      "Total                 715700          423500          890400\n",
      "Mean                 34081.0         20166.7         42400.0\n",
      "St. Dev.             20897.9         16254.6          3322.5\n"
     ]
    }
   ],
   "source": [
    "print('{:12}{:>16}{:>16}{:>16}'.format('Vegs',*headers[1:]))\n",
    "print('='*60)\n",
    "print('{:12}{:16d}{:16d}{:16d}'.format('Max',*populations.max(axis=0)))\n",
    "print('{:12}{:16d}{:16d}{:16d}'.format('Best Year',*best_years))\n",
    "print('-'*60)\n",
    "print('{:12}{:16d}{:16d}{:16d}'.format('Min',*populations.min(axis=0)))\n",
    "print('{:12}{:16d}{:16d}{:16d}'.format('Worst Year',*worst_years))\n",
    "print('-'*60)\n",
    "print('{:12}{:16d}{:16d}{:16d}'.format('Total',*populations.sum(axis=0)))\n",
    "print('{:12}{:16.1f}{:16.1f}{:16.1f}'.format('Mean',*populations.mean(axis=0)))\n",
    "print('{:12}{:16.1f}{:16.1f}{:16.1f}'.format('St. Dev.',*populations.std(axis=0)))"
   ]
  },
  {
   "cell_type": "markdown",
   "metadata": {},
   "source": [
    "### k-nearest neighbours"
   ]
  },
  {
   "cell_type": "code",
   "execution_count": 78,
   "metadata": {},
   "outputs": [],
   "source": [
    "ref_point = np.array([5,5])\n",
    "neighbors = (np.random.rand(100).reshape((50,2))*10)"
   ]
  },
  {
   "cell_type": "code",
   "execution_count": 79,
   "metadata": {
    "scrolled": true
   },
   "outputs": [
    {
     "data": {
      "text/plain": [
       "array([[ 2.44209481,  6.77779348],\n",
       "       [ 1.05292557,  5.65981539],\n",
       "       [ 5.10641918,  3.93778062],\n",
       "       [ 2.85579721,  8.26087422],\n",
       "       [ 4.77128372,  0.7351646 ],\n",
       "       [ 2.21528334,  5.22926793],\n",
       "       [ 0.26580378,  4.91584248],\n",
       "       [ 4.79418874,  1.85794291],\n",
       "       [ 3.96049407,  7.87652558],\n",
       "       [ 5.38219602,  1.24518045],\n",
       "       [ 2.05791489,  0.04683273],\n",
       "       [ 7.25315378,  7.12395662],\n",
       "       [ 8.48347322,  5.63274065],\n",
       "       [ 6.96246662,  1.6756076 ],\n",
       "       [ 1.16643333,  3.82533616],\n",
       "       [ 2.60946254,  0.25263539],\n",
       "       [ 8.17833666,  9.99651614],\n",
       "       [ 7.55809088,  9.51274944],\n",
       "       [ 4.4168353 ,  2.1490366 ],\n",
       "       [ 3.68784133,  9.68620475],\n",
       "       [ 4.87499402,  4.11716562],\n",
       "       [ 5.05991477,  8.452839  ],\n",
       "       [ 6.2799294 ,  5.24303171],\n",
       "       [ 7.24251505,  2.62865152],\n",
       "       [ 7.90427376,  0.40646199],\n",
       "       [ 9.42004976,  8.4262493 ],\n",
       "       [ 2.57492657,  5.00140457],\n",
       "       [ 3.93646446,  8.36373646],\n",
       "       [ 5.37692398,  6.95669903],\n",
       "       [ 0.96451892,  4.83685313],\n",
       "       [ 2.15472526,  2.42985923],\n",
       "       [ 9.87485628,  4.45272319],\n",
       "       [ 2.64983829,  0.07147242],\n",
       "       [ 8.4832296 ,  6.44279249],\n",
       "       [ 3.30450152,  6.74904322],\n",
       "       [ 1.31287693,  5.61546601],\n",
       "       [ 5.89274247,  8.31347845],\n",
       "       [ 0.50682275,  3.07991907],\n",
       "       [ 8.74434877,  3.65024485],\n",
       "       [ 2.83027838,  3.80174162],\n",
       "       [ 2.0521779 ,  1.5329204 ],\n",
       "       [ 6.52012022,  1.31426829],\n",
       "       [ 5.87579019,  5.03642007],\n",
       "       [ 8.23908408,  2.08294992],\n",
       "       [ 8.8716384 ,  6.29283918],\n",
       "       [ 4.9356378 ,  4.74990138],\n",
       "       [ 0.17788321,  2.64355874],\n",
       "       [ 2.42839012,  2.42729589],\n",
       "       [ 7.02193995,  1.25048457],\n",
       "       [ 1.69505195,  4.45455758]])"
      ]
     },
     "execution_count": 79,
     "metadata": {},
     "output_type": "execute_result"
    }
   ],
   "source": [
    "neighbors"
   ]
  },
  {
   "cell_type": "code",
   "execution_count": 80,
   "metadata": {
    "collapsed": true
   },
   "outputs": [],
   "source": [
    "%matplotlib notebook\n",
    "%matplotlib notebook"
   ]
  },
  {
   "cell_type": "code",
   "execution_count": 81,
   "metadata": {
    "scrolled": false
   },
   "outputs": [
    {
     "data": {
      "application/javascript": [
       "/* Put everything inside the global mpl namespace */\n",
       "window.mpl = {};\n",
       "\n",
       "\n",
       "mpl.get_websocket_type = function() {\n",
       "    if (typeof(WebSocket) !== 'undefined') {\n",
       "        return WebSocket;\n",
       "    } else if (typeof(MozWebSocket) !== 'undefined') {\n",
       "        return MozWebSocket;\n",
       "    } else {\n",
       "        alert('Your browser does not have WebSocket support.' +\n",
       "              'Please try Chrome, Safari or Firefox ≥ 6. ' +\n",
       "              'Firefox 4 and 5 are also supported but you ' +\n",
       "              'have to enable WebSockets in about:config.');\n",
       "    };\n",
       "}\n",
       "\n",
       "mpl.figure = function(figure_id, websocket, ondownload, parent_element) {\n",
       "    this.id = figure_id;\n",
       "\n",
       "    this.ws = websocket;\n",
       "\n",
       "    this.supports_binary = (this.ws.binaryType != undefined);\n",
       "\n",
       "    if (!this.supports_binary) {\n",
       "        var warnings = document.getElementById(\"mpl-warnings\");\n",
       "        if (warnings) {\n",
       "            warnings.style.display = 'block';\n",
       "            warnings.textContent = (\n",
       "                \"This browser does not support binary websocket messages. \" +\n",
       "                    \"Performance may be slow.\");\n",
       "        }\n",
       "    }\n",
       "\n",
       "    this.imageObj = new Image();\n",
       "\n",
       "    this.context = undefined;\n",
       "    this.message = undefined;\n",
       "    this.canvas = undefined;\n",
       "    this.rubberband_canvas = undefined;\n",
       "    this.rubberband_context = undefined;\n",
       "    this.format_dropdown = undefined;\n",
       "\n",
       "    this.image_mode = 'full';\n",
       "\n",
       "    this.root = $('<div/>');\n",
       "    this._root_extra_style(this.root)\n",
       "    this.root.attr('style', 'display: inline-block');\n",
       "\n",
       "    $(parent_element).append(this.root);\n",
       "\n",
       "    this._init_header(this);\n",
       "    this._init_canvas(this);\n",
       "    this._init_toolbar(this);\n",
       "\n",
       "    var fig = this;\n",
       "\n",
       "    this.waiting = false;\n",
       "\n",
       "    this.ws.onopen =  function () {\n",
       "            fig.send_message(\"supports_binary\", {value: fig.supports_binary});\n",
       "            fig.send_message(\"send_image_mode\", {});\n",
       "            if (mpl.ratio != 1) {\n",
       "                fig.send_message(\"set_dpi_ratio\", {'dpi_ratio': mpl.ratio});\n",
       "            }\n",
       "            fig.send_message(\"refresh\", {});\n",
       "        }\n",
       "\n",
       "    this.imageObj.onload = function() {\n",
       "            if (fig.image_mode == 'full') {\n",
       "                // Full images could contain transparency (where diff images\n",
       "                // almost always do), so we need to clear the canvas so that\n",
       "                // there is no ghosting.\n",
       "                fig.context.clearRect(0, 0, fig.canvas.width, fig.canvas.height);\n",
       "            }\n",
       "            fig.context.drawImage(fig.imageObj, 0, 0);\n",
       "        };\n",
       "\n",
       "    this.imageObj.onunload = function() {\n",
       "        this.ws.close();\n",
       "    }\n",
       "\n",
       "    this.ws.onmessage = this._make_on_message_function(this);\n",
       "\n",
       "    this.ondownload = ondownload;\n",
       "}\n",
       "\n",
       "mpl.figure.prototype._init_header = function() {\n",
       "    var titlebar = $(\n",
       "        '<div class=\"ui-dialog-titlebar ui-widget-header ui-corner-all ' +\n",
       "        'ui-helper-clearfix\"/>');\n",
       "    var titletext = $(\n",
       "        '<div class=\"ui-dialog-title\" style=\"width: 100%; ' +\n",
       "        'text-align: center; padding: 3px;\"/>');\n",
       "    titlebar.append(titletext)\n",
       "    this.root.append(titlebar);\n",
       "    this.header = titletext[0];\n",
       "}\n",
       "\n",
       "\n",
       "\n",
       "mpl.figure.prototype._canvas_extra_style = function(canvas_div) {\n",
       "\n",
       "}\n",
       "\n",
       "\n",
       "mpl.figure.prototype._root_extra_style = function(canvas_div) {\n",
       "\n",
       "}\n",
       "\n",
       "mpl.figure.prototype._init_canvas = function() {\n",
       "    var fig = this;\n",
       "\n",
       "    var canvas_div = $('<div/>');\n",
       "\n",
       "    canvas_div.attr('style', 'position: relative; clear: both; outline: 0');\n",
       "\n",
       "    function canvas_keyboard_event(event) {\n",
       "        return fig.key_event(event, event['data']);\n",
       "    }\n",
       "\n",
       "    canvas_div.keydown('key_press', canvas_keyboard_event);\n",
       "    canvas_div.keyup('key_release', canvas_keyboard_event);\n",
       "    this.canvas_div = canvas_div\n",
       "    this._canvas_extra_style(canvas_div)\n",
       "    this.root.append(canvas_div);\n",
       "\n",
       "    var canvas = $('<canvas/>');\n",
       "    canvas.addClass('mpl-canvas');\n",
       "    canvas.attr('style', \"left: 0; top: 0; z-index: 0; outline: 0\")\n",
       "\n",
       "    this.canvas = canvas[0];\n",
       "    this.context = canvas[0].getContext(\"2d\");\n",
       "\n",
       "    var backingStore = this.context.backingStorePixelRatio ||\n",
       "\tthis.context.webkitBackingStorePixelRatio ||\n",
       "\tthis.context.mozBackingStorePixelRatio ||\n",
       "\tthis.context.msBackingStorePixelRatio ||\n",
       "\tthis.context.oBackingStorePixelRatio ||\n",
       "\tthis.context.backingStorePixelRatio || 1;\n",
       "\n",
       "    mpl.ratio = (window.devicePixelRatio || 1) / backingStore;\n",
       "\n",
       "    var rubberband = $('<canvas/>');\n",
       "    rubberband.attr('style', \"position: absolute; left: 0; top: 0; z-index: 1;\")\n",
       "\n",
       "    var pass_mouse_events = true;\n",
       "\n",
       "    canvas_div.resizable({\n",
       "        start: function(event, ui) {\n",
       "            pass_mouse_events = false;\n",
       "        },\n",
       "        resize: function(event, ui) {\n",
       "            fig.request_resize(ui.size.width, ui.size.height);\n",
       "        },\n",
       "        stop: function(event, ui) {\n",
       "            pass_mouse_events = true;\n",
       "            fig.request_resize(ui.size.width, ui.size.height);\n",
       "        },\n",
       "    });\n",
       "\n",
       "    function mouse_event_fn(event) {\n",
       "        if (pass_mouse_events)\n",
       "            return fig.mouse_event(event, event['data']);\n",
       "    }\n",
       "\n",
       "    rubberband.mousedown('button_press', mouse_event_fn);\n",
       "    rubberband.mouseup('button_release', mouse_event_fn);\n",
       "    // Throttle sequential mouse events to 1 every 20ms.\n",
       "    rubberband.mousemove('motion_notify', mouse_event_fn);\n",
       "\n",
       "    rubberband.mouseenter('figure_enter', mouse_event_fn);\n",
       "    rubberband.mouseleave('figure_leave', mouse_event_fn);\n",
       "\n",
       "    canvas_div.on(\"wheel\", function (event) {\n",
       "        event = event.originalEvent;\n",
       "        event['data'] = 'scroll'\n",
       "        if (event.deltaY < 0) {\n",
       "            event.step = 1;\n",
       "        } else {\n",
       "            event.step = -1;\n",
       "        }\n",
       "        mouse_event_fn(event);\n",
       "    });\n",
       "\n",
       "    canvas_div.append(canvas);\n",
       "    canvas_div.append(rubberband);\n",
       "\n",
       "    this.rubberband = rubberband;\n",
       "    this.rubberband_canvas = rubberband[0];\n",
       "    this.rubberband_context = rubberband[0].getContext(\"2d\");\n",
       "    this.rubberband_context.strokeStyle = \"#000000\";\n",
       "\n",
       "    this._resize_canvas = function(width, height) {\n",
       "        // Keep the size of the canvas, canvas container, and rubber band\n",
       "        // canvas in synch.\n",
       "        canvas_div.css('width', width)\n",
       "        canvas_div.css('height', height)\n",
       "\n",
       "        canvas.attr('width', width * mpl.ratio);\n",
       "        canvas.attr('height', height * mpl.ratio);\n",
       "        canvas.attr('style', 'width: ' + width + 'px; height: ' + height + 'px;');\n",
       "\n",
       "        rubberband.attr('width', width);\n",
       "        rubberband.attr('height', height);\n",
       "    }\n",
       "\n",
       "    // Set the figure to an initial 600x600px, this will subsequently be updated\n",
       "    // upon first draw.\n",
       "    this._resize_canvas(600, 600);\n",
       "\n",
       "    // Disable right mouse context menu.\n",
       "    $(this.rubberband_canvas).bind(\"contextmenu\",function(e){\n",
       "        return false;\n",
       "    });\n",
       "\n",
       "    function set_focus () {\n",
       "        canvas.focus();\n",
       "        canvas_div.focus();\n",
       "    }\n",
       "\n",
       "    window.setTimeout(set_focus, 100);\n",
       "}\n",
       "\n",
       "mpl.figure.prototype._init_toolbar = function() {\n",
       "    var fig = this;\n",
       "\n",
       "    var nav_element = $('<div/>')\n",
       "    nav_element.attr('style', 'width: 100%');\n",
       "    this.root.append(nav_element);\n",
       "\n",
       "    // Define a callback function for later on.\n",
       "    function toolbar_event(event) {\n",
       "        return fig.toolbar_button_onclick(event['data']);\n",
       "    }\n",
       "    function toolbar_mouse_event(event) {\n",
       "        return fig.toolbar_button_onmouseover(event['data']);\n",
       "    }\n",
       "\n",
       "    for(var toolbar_ind in mpl.toolbar_items) {\n",
       "        var name = mpl.toolbar_items[toolbar_ind][0];\n",
       "        var tooltip = mpl.toolbar_items[toolbar_ind][1];\n",
       "        var image = mpl.toolbar_items[toolbar_ind][2];\n",
       "        var method_name = mpl.toolbar_items[toolbar_ind][3];\n",
       "\n",
       "        if (!name) {\n",
       "            // put a spacer in here.\n",
       "            continue;\n",
       "        }\n",
       "        var button = $('<button/>');\n",
       "        button.addClass('ui-button ui-widget ui-state-default ui-corner-all ' +\n",
       "                        'ui-button-icon-only');\n",
       "        button.attr('role', 'button');\n",
       "        button.attr('aria-disabled', 'false');\n",
       "        button.click(method_name, toolbar_event);\n",
       "        button.mouseover(tooltip, toolbar_mouse_event);\n",
       "\n",
       "        var icon_img = $('<span/>');\n",
       "        icon_img.addClass('ui-button-icon-primary ui-icon');\n",
       "        icon_img.addClass(image);\n",
       "        icon_img.addClass('ui-corner-all');\n",
       "\n",
       "        var tooltip_span = $('<span/>');\n",
       "        tooltip_span.addClass('ui-button-text');\n",
       "        tooltip_span.html(tooltip);\n",
       "\n",
       "        button.append(icon_img);\n",
       "        button.append(tooltip_span);\n",
       "\n",
       "        nav_element.append(button);\n",
       "    }\n",
       "\n",
       "    var fmt_picker_span = $('<span/>');\n",
       "\n",
       "    var fmt_picker = $('<select/>');\n",
       "    fmt_picker.addClass('mpl-toolbar-option ui-widget ui-widget-content');\n",
       "    fmt_picker_span.append(fmt_picker);\n",
       "    nav_element.append(fmt_picker_span);\n",
       "    this.format_dropdown = fmt_picker[0];\n",
       "\n",
       "    for (var ind in mpl.extensions) {\n",
       "        var fmt = mpl.extensions[ind];\n",
       "        var option = $(\n",
       "            '<option/>', {selected: fmt === mpl.default_extension}).html(fmt);\n",
       "        fmt_picker.append(option)\n",
       "    }\n",
       "\n",
       "    // Add hover states to the ui-buttons\n",
       "    $( \".ui-button\" ).hover(\n",
       "        function() { $(this).addClass(\"ui-state-hover\");},\n",
       "        function() { $(this).removeClass(\"ui-state-hover\");}\n",
       "    );\n",
       "\n",
       "    var status_bar = $('<span class=\"mpl-message\"/>');\n",
       "    nav_element.append(status_bar);\n",
       "    this.message = status_bar[0];\n",
       "}\n",
       "\n",
       "mpl.figure.prototype.request_resize = function(x_pixels, y_pixels) {\n",
       "    // Request matplotlib to resize the figure. Matplotlib will then trigger a resize in the client,\n",
       "    // which will in turn request a refresh of the image.\n",
       "    this.send_message('resize', {'width': x_pixels, 'height': y_pixels});\n",
       "}\n",
       "\n",
       "mpl.figure.prototype.send_message = function(type, properties) {\n",
       "    properties['type'] = type;\n",
       "    properties['figure_id'] = this.id;\n",
       "    this.ws.send(JSON.stringify(properties));\n",
       "}\n",
       "\n",
       "mpl.figure.prototype.send_draw_message = function() {\n",
       "    if (!this.waiting) {\n",
       "        this.waiting = true;\n",
       "        this.ws.send(JSON.stringify({type: \"draw\", figure_id: this.id}));\n",
       "    }\n",
       "}\n",
       "\n",
       "\n",
       "mpl.figure.prototype.handle_save = function(fig, msg) {\n",
       "    var format_dropdown = fig.format_dropdown;\n",
       "    var format = format_dropdown.options[format_dropdown.selectedIndex].value;\n",
       "    fig.ondownload(fig, format);\n",
       "}\n",
       "\n",
       "\n",
       "mpl.figure.prototype.handle_resize = function(fig, msg) {\n",
       "    var size = msg['size'];\n",
       "    if (size[0] != fig.canvas.width || size[1] != fig.canvas.height) {\n",
       "        fig._resize_canvas(size[0], size[1]);\n",
       "        fig.send_message(\"refresh\", {});\n",
       "    };\n",
       "}\n",
       "\n",
       "mpl.figure.prototype.handle_rubberband = function(fig, msg) {\n",
       "    var x0 = msg['x0'] / mpl.ratio;\n",
       "    var y0 = (fig.canvas.height - msg['y0']) / mpl.ratio;\n",
       "    var x1 = msg['x1'] / mpl.ratio;\n",
       "    var y1 = (fig.canvas.height - msg['y1']) / mpl.ratio;\n",
       "    x0 = Math.floor(x0) + 0.5;\n",
       "    y0 = Math.floor(y0) + 0.5;\n",
       "    x1 = Math.floor(x1) + 0.5;\n",
       "    y1 = Math.floor(y1) + 0.5;\n",
       "    var min_x = Math.min(x0, x1);\n",
       "    var min_y = Math.min(y0, y1);\n",
       "    var width = Math.abs(x1 - x0);\n",
       "    var height = Math.abs(y1 - y0);\n",
       "\n",
       "    fig.rubberband_context.clearRect(\n",
       "        0, 0, fig.canvas.width, fig.canvas.height);\n",
       "\n",
       "    fig.rubberband_context.strokeRect(min_x, min_y, width, height);\n",
       "}\n",
       "\n",
       "mpl.figure.prototype.handle_figure_label = function(fig, msg) {\n",
       "    // Updates the figure title.\n",
       "    fig.header.textContent = msg['label'];\n",
       "}\n",
       "\n",
       "mpl.figure.prototype.handle_cursor = function(fig, msg) {\n",
       "    var cursor = msg['cursor'];\n",
       "    switch(cursor)\n",
       "    {\n",
       "    case 0:\n",
       "        cursor = 'pointer';\n",
       "        break;\n",
       "    case 1:\n",
       "        cursor = 'default';\n",
       "        break;\n",
       "    case 2:\n",
       "        cursor = 'crosshair';\n",
       "        break;\n",
       "    case 3:\n",
       "        cursor = 'move';\n",
       "        break;\n",
       "    }\n",
       "    fig.rubberband_canvas.style.cursor = cursor;\n",
       "}\n",
       "\n",
       "mpl.figure.prototype.handle_message = function(fig, msg) {\n",
       "    fig.message.textContent = msg['message'];\n",
       "}\n",
       "\n",
       "mpl.figure.prototype.handle_draw = function(fig, msg) {\n",
       "    // Request the server to send over a new figure.\n",
       "    fig.send_draw_message();\n",
       "}\n",
       "\n",
       "mpl.figure.prototype.handle_image_mode = function(fig, msg) {\n",
       "    fig.image_mode = msg['mode'];\n",
       "}\n",
       "\n",
       "mpl.figure.prototype.updated_canvas_event = function() {\n",
       "    // Called whenever the canvas gets updated.\n",
       "    this.send_message(\"ack\", {});\n",
       "}\n",
       "\n",
       "// A function to construct a web socket function for onmessage handling.\n",
       "// Called in the figure constructor.\n",
       "mpl.figure.prototype._make_on_message_function = function(fig) {\n",
       "    return function socket_on_message(evt) {\n",
       "        if (evt.data instanceof Blob) {\n",
       "            /* FIXME: We get \"Resource interpreted as Image but\n",
       "             * transferred with MIME type text/plain:\" errors on\n",
       "             * Chrome.  But how to set the MIME type?  It doesn't seem\n",
       "             * to be part of the websocket stream */\n",
       "            evt.data.type = \"image/png\";\n",
       "\n",
       "            /* Free the memory for the previous frames */\n",
       "            if (fig.imageObj.src) {\n",
       "                (window.URL || window.webkitURL).revokeObjectURL(\n",
       "                    fig.imageObj.src);\n",
       "            }\n",
       "\n",
       "            fig.imageObj.src = (window.URL || window.webkitURL).createObjectURL(\n",
       "                evt.data);\n",
       "            fig.updated_canvas_event();\n",
       "            fig.waiting = false;\n",
       "            return;\n",
       "        }\n",
       "        else if (typeof evt.data === 'string' && evt.data.slice(0, 21) == \"data:image/png;base64\") {\n",
       "            fig.imageObj.src = evt.data;\n",
       "            fig.updated_canvas_event();\n",
       "            fig.waiting = false;\n",
       "            return;\n",
       "        }\n",
       "\n",
       "        var msg = JSON.parse(evt.data);\n",
       "        var msg_type = msg['type'];\n",
       "\n",
       "        // Call the  \"handle_{type}\" callback, which takes\n",
       "        // the figure and JSON message as its only arguments.\n",
       "        try {\n",
       "            var callback = fig[\"handle_\" + msg_type];\n",
       "        } catch (e) {\n",
       "            console.log(\"No handler for the '\" + msg_type + \"' message type: \", msg);\n",
       "            return;\n",
       "        }\n",
       "\n",
       "        if (callback) {\n",
       "            try {\n",
       "                // console.log(\"Handling '\" + msg_type + \"' message: \", msg);\n",
       "                callback(fig, msg);\n",
       "            } catch (e) {\n",
       "                console.log(\"Exception inside the 'handler_\" + msg_type + \"' callback:\", e, e.stack, msg);\n",
       "            }\n",
       "        }\n",
       "    };\n",
       "}\n",
       "\n",
       "// from http://stackoverflow.com/questions/1114465/getting-mouse-location-in-canvas\n",
       "mpl.findpos = function(e) {\n",
       "    //this section is from http://www.quirksmode.org/js/events_properties.html\n",
       "    var targ;\n",
       "    if (!e)\n",
       "        e = window.event;\n",
       "    if (e.target)\n",
       "        targ = e.target;\n",
       "    else if (e.srcElement)\n",
       "        targ = e.srcElement;\n",
       "    if (targ.nodeType == 3) // defeat Safari bug\n",
       "        targ = targ.parentNode;\n",
       "\n",
       "    // jQuery normalizes the pageX and pageY\n",
       "    // pageX,Y are the mouse positions relative to the document\n",
       "    // offset() returns the position of the element relative to the document\n",
       "    var x = e.pageX - $(targ).offset().left;\n",
       "    var y = e.pageY - $(targ).offset().top;\n",
       "\n",
       "    return {\"x\": x, \"y\": y};\n",
       "};\n",
       "\n",
       "/*\n",
       " * return a copy of an object with only non-object keys\n",
       " * we need this to avoid circular references\n",
       " * http://stackoverflow.com/a/24161582/3208463\n",
       " */\n",
       "function simpleKeys (original) {\n",
       "  return Object.keys(original).reduce(function (obj, key) {\n",
       "    if (typeof original[key] !== 'object')\n",
       "        obj[key] = original[key]\n",
       "    return obj;\n",
       "  }, {});\n",
       "}\n",
       "\n",
       "mpl.figure.prototype.mouse_event = function(event, name) {\n",
       "    var canvas_pos = mpl.findpos(event)\n",
       "\n",
       "    if (name === 'button_press')\n",
       "    {\n",
       "        this.canvas.focus();\n",
       "        this.canvas_div.focus();\n",
       "    }\n",
       "\n",
       "    var x = canvas_pos.x * mpl.ratio;\n",
       "    var y = canvas_pos.y * mpl.ratio;\n",
       "\n",
       "    this.send_message(name, {x: x, y: y, button: event.button,\n",
       "                             step: event.step,\n",
       "                             guiEvent: simpleKeys(event)});\n",
       "\n",
       "    /* This prevents the web browser from automatically changing to\n",
       "     * the text insertion cursor when the button is pressed.  We want\n",
       "     * to control all of the cursor setting manually through the\n",
       "     * 'cursor' event from matplotlib */\n",
       "    event.preventDefault();\n",
       "    return false;\n",
       "}\n",
       "\n",
       "mpl.figure.prototype._key_event_extra = function(event, name) {\n",
       "    // Handle any extra behaviour associated with a key event\n",
       "}\n",
       "\n",
       "mpl.figure.prototype.key_event = function(event, name) {\n",
       "\n",
       "    // Prevent repeat events\n",
       "    if (name == 'key_press')\n",
       "    {\n",
       "        if (event.which === this._key)\n",
       "            return;\n",
       "        else\n",
       "            this._key = event.which;\n",
       "    }\n",
       "    if (name == 'key_release')\n",
       "        this._key = null;\n",
       "\n",
       "    var value = '';\n",
       "    if (event.ctrlKey && event.which != 17)\n",
       "        value += \"ctrl+\";\n",
       "    if (event.altKey && event.which != 18)\n",
       "        value += \"alt+\";\n",
       "    if (event.shiftKey && event.which != 16)\n",
       "        value += \"shift+\";\n",
       "\n",
       "    value += 'k';\n",
       "    value += event.which.toString();\n",
       "\n",
       "    this._key_event_extra(event, name);\n",
       "\n",
       "    this.send_message(name, {key: value,\n",
       "                             guiEvent: simpleKeys(event)});\n",
       "    return false;\n",
       "}\n",
       "\n",
       "mpl.figure.prototype.toolbar_button_onclick = function(name) {\n",
       "    if (name == 'download') {\n",
       "        this.handle_save(this, null);\n",
       "    } else {\n",
       "        this.send_message(\"toolbar_button\", {name: name});\n",
       "    }\n",
       "};\n",
       "\n",
       "mpl.figure.prototype.toolbar_button_onmouseover = function(tooltip) {\n",
       "    this.message.textContent = tooltip;\n",
       "};\n",
       "mpl.toolbar_items = [[\"Home\", \"Reset original view\", \"fa fa-home icon-home\", \"home\"], [\"Back\", \"Back to  previous view\", \"fa fa-arrow-left icon-arrow-left\", \"back\"], [\"Forward\", \"Forward to next view\", \"fa fa-arrow-right icon-arrow-right\", \"forward\"], [\"\", \"\", \"\", \"\"], [\"Pan\", \"Pan axes with left mouse, zoom with right\", \"fa fa-arrows icon-move\", \"pan\"], [\"Zoom\", \"Zoom to rectangle\", \"fa fa-square-o icon-check-empty\", \"zoom\"], [\"\", \"\", \"\", \"\"], [\"Download\", \"Download plot\", \"fa fa-floppy-o icon-save\", \"download\"]];\n",
       "\n",
       "mpl.extensions = [\"eps\", \"jpeg\", \"pdf\", \"png\", \"ps\", \"raw\", \"svg\", \"tif\"];\n",
       "\n",
       "mpl.default_extension = \"png\";var comm_websocket_adapter = function(comm) {\n",
       "    // Create a \"websocket\"-like object which calls the given IPython comm\n",
       "    // object with the appropriate methods. Currently this is a non binary\n",
       "    // socket, so there is still some room for performance tuning.\n",
       "    var ws = {};\n",
       "\n",
       "    ws.close = function() {\n",
       "        comm.close()\n",
       "    };\n",
       "    ws.send = function(m) {\n",
       "        //console.log('sending', m);\n",
       "        comm.send(m);\n",
       "    };\n",
       "    // Register the callback with on_msg.\n",
       "    comm.on_msg(function(msg) {\n",
       "        //console.log('receiving', msg['content']['data'], msg);\n",
       "        // Pass the mpl event to the overriden (by mpl) onmessage function.\n",
       "        ws.onmessage(msg['content']['data'])\n",
       "    });\n",
       "    return ws;\n",
       "}\n",
       "\n",
       "mpl.mpl_figure_comm = function(comm, msg) {\n",
       "    // This is the function which gets called when the mpl process\n",
       "    // starts-up an IPython Comm through the \"matplotlib\" channel.\n",
       "\n",
       "    var id = msg.content.data.id;\n",
       "    // Get hold of the div created by the display call when the Comm\n",
       "    // socket was opened in Python.\n",
       "    var element = $(\"#\" + id);\n",
       "    var ws_proxy = comm_websocket_adapter(comm)\n",
       "\n",
       "    function ondownload(figure, format) {\n",
       "        window.open(figure.imageObj.src);\n",
       "    }\n",
       "\n",
       "    var fig = new mpl.figure(id, ws_proxy,\n",
       "                           ondownload,\n",
       "                           element.get(0));\n",
       "\n",
       "    // Call onopen now - mpl needs it, as it is assuming we've passed it a real\n",
       "    // web socket which is closed, not our websocket->open comm proxy.\n",
       "    ws_proxy.onopen();\n",
       "\n",
       "    fig.parent_element = element.get(0);\n",
       "    fig.cell_info = mpl.find_output_cell(\"<div id='\" + id + \"'></div>\");\n",
       "    if (!fig.cell_info) {\n",
       "        console.error(\"Failed to find cell for figure\", id, fig);\n",
       "        return;\n",
       "    }\n",
       "\n",
       "    var output_index = fig.cell_info[2]\n",
       "    var cell = fig.cell_info[0];\n",
       "\n",
       "};\n",
       "\n",
       "mpl.figure.prototype.handle_close = function(fig, msg) {\n",
       "    var width = fig.canvas.width/mpl.ratio\n",
       "    fig.root.unbind('remove')\n",
       "\n",
       "    // Update the output cell to use the data from the current canvas.\n",
       "    fig.push_to_output();\n",
       "    var dataURL = fig.canvas.toDataURL();\n",
       "    // Re-enable the keyboard manager in IPython - without this line, in FF,\n",
       "    // the notebook keyboard shortcuts fail.\n",
       "    IPython.keyboard_manager.enable()\n",
       "    $(fig.parent_element).html('<img src=\"' + dataURL + '\" width=\"' + width + '\">');\n",
       "    fig.close_ws(fig, msg);\n",
       "}\n",
       "\n",
       "mpl.figure.prototype.close_ws = function(fig, msg){\n",
       "    fig.send_message('closing', msg);\n",
       "    // fig.ws.close()\n",
       "}\n",
       "\n",
       "mpl.figure.prototype.push_to_output = function(remove_interactive) {\n",
       "    // Turn the data on the canvas into data in the output cell.\n",
       "    var width = this.canvas.width/mpl.ratio\n",
       "    var dataURL = this.canvas.toDataURL();\n",
       "    this.cell_info[1]['text/html'] = '<img src=\"' + dataURL + '\" width=\"' + width + '\">';\n",
       "}\n",
       "\n",
       "mpl.figure.prototype.updated_canvas_event = function() {\n",
       "    // Tell IPython that the notebook contents must change.\n",
       "    IPython.notebook.set_dirty(true);\n",
       "    this.send_message(\"ack\", {});\n",
       "    var fig = this;\n",
       "    // Wait a second, then push the new image to the DOM so\n",
       "    // that it is saved nicely (might be nice to debounce this).\n",
       "    setTimeout(function () { fig.push_to_output() }, 1000);\n",
       "}\n",
       "\n",
       "mpl.figure.prototype._init_toolbar = function() {\n",
       "    var fig = this;\n",
       "\n",
       "    var nav_element = $('<div/>')\n",
       "    nav_element.attr('style', 'width: 100%');\n",
       "    this.root.append(nav_element);\n",
       "\n",
       "    // Define a callback function for later on.\n",
       "    function toolbar_event(event) {\n",
       "        return fig.toolbar_button_onclick(event['data']);\n",
       "    }\n",
       "    function toolbar_mouse_event(event) {\n",
       "        return fig.toolbar_button_onmouseover(event['data']);\n",
       "    }\n",
       "\n",
       "    for(var toolbar_ind in mpl.toolbar_items){\n",
       "        var name = mpl.toolbar_items[toolbar_ind][0];\n",
       "        var tooltip = mpl.toolbar_items[toolbar_ind][1];\n",
       "        var image = mpl.toolbar_items[toolbar_ind][2];\n",
       "        var method_name = mpl.toolbar_items[toolbar_ind][3];\n",
       "\n",
       "        if (!name) { continue; };\n",
       "\n",
       "        var button = $('<button class=\"btn btn-default\" href=\"#\" title=\"' + name + '\"><i class=\"fa ' + image + ' fa-lg\"></i></button>');\n",
       "        button.click(method_name, toolbar_event);\n",
       "        button.mouseover(tooltip, toolbar_mouse_event);\n",
       "        nav_element.append(button);\n",
       "    }\n",
       "\n",
       "    // Add the status bar.\n",
       "    var status_bar = $('<span class=\"mpl-message\" style=\"text-align:right; float: right;\"/>');\n",
       "    nav_element.append(status_bar);\n",
       "    this.message = status_bar[0];\n",
       "\n",
       "    // Add the close button to the window.\n",
       "    var buttongrp = $('<div class=\"btn-group inline pull-right\"></div>');\n",
       "    var button = $('<button class=\"btn btn-mini btn-primary\" href=\"#\" title=\"Stop Interaction\"><i class=\"fa fa-power-off icon-remove icon-large\"></i></button>');\n",
       "    button.click(function (evt) { fig.handle_close(fig, {}); } );\n",
       "    button.mouseover('Stop Interaction', toolbar_mouse_event);\n",
       "    buttongrp.append(button);\n",
       "    var titlebar = this.root.find($('.ui-dialog-titlebar'));\n",
       "    titlebar.prepend(buttongrp);\n",
       "}\n",
       "\n",
       "mpl.figure.prototype._root_extra_style = function(el){\n",
       "    var fig = this\n",
       "    el.on(\"remove\", function(){\n",
       "\tfig.close_ws(fig, {});\n",
       "    });\n",
       "}\n",
       "\n",
       "mpl.figure.prototype._canvas_extra_style = function(el){\n",
       "    // this is important to make the div 'focusable\n",
       "    el.attr('tabindex', 0)\n",
       "    // reach out to IPython and tell the keyboard manager to turn it's self\n",
       "    // off when our div gets focus\n",
       "\n",
       "    // location in version 3\n",
       "    if (IPython.notebook.keyboard_manager) {\n",
       "        IPython.notebook.keyboard_manager.register_events(el);\n",
       "    }\n",
       "    else {\n",
       "        // location in version 2\n",
       "        IPython.keyboard_manager.register_events(el);\n",
       "    }\n",
       "\n",
       "}\n",
       "\n",
       "mpl.figure.prototype._key_event_extra = function(event, name) {\n",
       "    var manager = IPython.notebook.keyboard_manager;\n",
       "    if (!manager)\n",
       "        manager = IPython.keyboard_manager;\n",
       "\n",
       "    // Check for shift+enter\n",
       "    if (event.shiftKey && event.which == 13) {\n",
       "        this.canvas_div.blur();\n",
       "        // select the cell after this one\n",
       "        var index = IPython.notebook.find_cell_index(this.cell_info[0]);\n",
       "        IPython.notebook.select(index + 1);\n",
       "    }\n",
       "}\n",
       "\n",
       "mpl.figure.prototype.handle_save = function(fig, msg) {\n",
       "    fig.ondownload(fig, null);\n",
       "}\n",
       "\n",
       "\n",
       "mpl.find_output_cell = function(html_output) {\n",
       "    // Return the cell and output element which can be found *uniquely* in the notebook.\n",
       "    // Note - this is a bit hacky, but it is done because the \"notebook_saving.Notebook\"\n",
       "    // IPython event is triggered only after the cells have been serialised, which for\n",
       "    // our purposes (turning an active figure into a static one), is too late.\n",
       "    var cells = IPython.notebook.get_cells();\n",
       "    var ncells = cells.length;\n",
       "    for (var i=0; i<ncells; i++) {\n",
       "        var cell = cells[i];\n",
       "        if (cell.cell_type === 'code'){\n",
       "            for (var j=0; j<cell.output_area.outputs.length; j++) {\n",
       "                var data = cell.output_area.outputs[j];\n",
       "                if (data.data) {\n",
       "                    // IPython >= 3 moved mimebundle to data attribute of output\n",
       "                    data = data.data;\n",
       "                }\n",
       "                if (data['text/html'] == html_output) {\n",
       "                    return [cell, data, j];\n",
       "                }\n",
       "            }\n",
       "        }\n",
       "    }\n",
       "}\n",
       "\n",
       "// Register the function which deals with the matplotlib target/channel.\n",
       "// The kernel may be null if the page has been refreshed.\n",
       "if (IPython.notebook.kernel != null) {\n",
       "    IPython.notebook.kernel.comm_manager.register_target('matplotlib', mpl.mpl_figure_comm);\n",
       "}\n"
      ],
      "text/plain": [
       "<IPython.core.display.Javascript object>"
      ]
     },
     "metadata": {},
     "output_type": "display_data"
    },
    {
     "data": {
      "text/html": [
       "<img src=\"data:image/png;base64,iVBORw0KGgoAAAANSUhEUgAABsAAAANgCAYAAACSna03AAAgAElEQVR4XuzdDdCedX0n+i8JT0ie8BICygaDLYgr1iAuGHlJt7GegyhqxeruBNui9Wjdxo4VXZ2eddXjOPZltXB0j3G0WpVak85Ul1bFF7bU2A2CMSoSj7RiaCWSRSE8vOT1IXDm3pO0Sp4n93Pfz3Pd13X9r09mnM40/5ff7/P7d2Znv165j4o/BAgQIECAAAECBAgQIECAAAECBAgQIECAAAECBAoSOKqgXrRCgAABAgQIECBAgAABAgQIECBAgAABAgQIECBAIAIwj4AAAQIECBAgQIAAAQIECBAgQIAAAQIECBAgQKAoAQFYUePUDAECBAgQIECAAAECBAgQIECAAAECBAgQIECAgADMGyBAgAABAgQIECBAgAABAgQIECBAgAABAgQIEChKQABW1Dg1Q4AAAQIECBAgQIAAAQIECBAgQIAAAQIECBAgIADzBggQIECAAAECBAgQIECAAAECBAgQIECAAAECBIoSEIAVNU7NECBAgAABAgQIECBAgAABAgQIECBAgAABAgQICMC8AQIECBAgQIAAAQIECBAgQIAAAQIECBAgQIAAgaIEBGBFjVMzBAgQIECAAAECBAgQIECAAAECBAgQIECAAAECAjBvgAABAgQIECBAgAABAgQIECBAgAABAgQIECBAoCgBAVhR49QMAQIECBAgQIAAAQIECBAgQIAAAQIECBAgQICAAMwbIECAAAECBAgQIECAAAECBAgQIECAAAECBAgQKEpAAFbUODVDgAABAgQIECBAgAABAgQIECBAgAABAgQIECAgAPMGCBAgQIAAAQIECBAgQIAAAQIECBAgQIAAAQIEihIQgBU1Ts0QIECAAAECBAgQIECAAAECBAgQIECAAAECBAgIwLwBAgQIECBAgAABAgQIECBAgAABAgQIECBAgACBogQEYEWNUzMECBAgQIAAAQIECBAgQIAAAQIECBAgQIAAAQICMG+AAAECBAgQIECAAAECBAgQIECAAAECBAgQIECgKAEBWFHj1AwBAgQIECBAgAABAgQIECBAgAABAgQIECBAgIAAzBsgQIAAAQIECBAgQIAAAQIECBAgQIAAAQIECBAoSkAAVtQ4NUOAAAECBAgQIECAAAECBAgQIECAAAECBAgQICAA8wYIECBAgAABAgQIECBAgAABAgQIECBAgAABAgSKEhCAFTVOzRAgQIAAAQIECBAgQIAAAQIECBAgQIAAAQIECAjAvAECBAgQIECAAAECBAgQIECAAAECBAgQIECAAIGiBARgRY1TMwQIECBAgAABAgQIECBAgAABAgQIECBAgAABAgIwb4AAAQIECBAgQIAAAQIECBAgQIAAAQIECBAgQKAoAQFYUePUDAECBAgQIECAAAECBAgQIECAAAECBAgQIECAgADMGyBAgAABAgQIECBAgAABAgQIECBAgAABAgQIEChKQABW1Dg1Q4AAAQIECBAgQIAAAQIECBAgQIAAAQIECBAgIADzBggQIECAAAECBAgQIECAAAECBAgQIECAAAECBIoSEIAVNU7NECBAgAABAgQIECBAgAABAgQIECBAgAABAgQICMC8AQIECBAgQIAAAQIECBAgQIAAAQIECBAgQIAAgaIEBGBFjVMzBAgQIECAAAECBAgQIECAAAECBAgQIECAAAECAjBvgAABAgQIECBAgAABAgQIECBAgAABAgQIECBAoCgBAVhR49QMAQIECBAgQIAAAQIECBAgQIAAAQIECBAgQICAAMwbIECAAAECBAgQIECAAAECBAgQIECAAAECBAgQKEpAAFbUODVDgAABAgQIECBAgAABAgQIECBAgAABAgQIECAgAPMGCBAgQIAAAQIECBAgQIAAAQIECBAgQIAAAQIEihIQgBU1Ts0QIECAAAECBAgQIECAAAECBAgQIECAAAECBAgIwLwBAgQIECBAgAABAgQIECBAgAABAgQIECBAgACBogQEYEWNUzMECBAgQIAAAQIECBAgQIAAAQIECBAgQIAAAQICMG+AAAECBAgQIECAAAECBAgQIECAAAECBAgQIECgKAEBWFHj1AwBAgQIECBAgAABAgQIECBAgAABAgQIECBAgIAAzBsgQIAAAQIECBAgQIAAAQIECBAgQIAAAQIECBAoSkAAVtQ4NUOAAAECBAgQIECAAAECBAgQIECAAAECBAgQICAA8wYIECBAgAABAgQIECBAgAABAgQIECBAgAABAgSKEhCAFTVOzRAgQIAAAQIECBAgQIAAAQIECBAgQIAAAQIECAjAvAECBAgQIECAAAECBAgQIECAAAECBAgQIECAAIGiBARgRY1TMwQIECBAgAABAgQIECBAgAABAgQIECBAgAABAgIwb4AAAQIECBAgQIAAAQIECBAgQIAAAQIECBAgQKAoAQFYUePUDAECBAgQIECAAAECBAgQIECAAAECBAgQIECAgADMGyBAgAABAgQIECBAgAABAgQIECBAgAABAgQIEChKQABW1Dg1Q4AAAQIECBAgQIAAAQIECBAgQIAAAQIECBAgIADzBggQIECAAAECBAgQIECAAAECBAgQIECAAAECBIoSEIAVNU7NECBAgAABAgQIECBAgAABAgQIECBAgAABAgQICMC8AQIECBAgQIAAAQIECBAgQIAAAQIECBAgQIAAgaIEBGBFjVMzBAgQIECAAAECBAgQIECAAAECBAgQIECAAAECAjBvgAABAgQIECBAgAABAgQIECBAgAABAgQIECBAoCgBAVhR49QMAQIECBAgQIAAAQIECBAgQIAAAQIECBAgQICAAMwbIECAAAECBAgQIECAAAECBAgQIECAAAECBAgQKEpAAFbUODVDgAABAgQIECBAgAABAgQIECBAgAABAgQIECAgAPMGCBAgQIAAAQIECBAgQIAAAQIECBAgQIAAAQIEihIQgBU1Ts0QIECAAAECBAgQIECAAAECBAgQIECAAAECBAgIwLwBAgQIECBAgAABAgQIECBAgAABAgQIECBAgACBogQEYEWNUzMECBAgQIAAAQIECBAgQIAAAQIECBAgQIAAAQICMG+AAAECBAgQIECAAAECBAgQIECAAAECBAgQIECgKAEBWFHj1AwBAgQIECBAgAABAgQIECBAgAABAgQIECBAgIAAzBsgQIAAAQIECBAgQIAAAQIECBAgQIAAAQIECBAoSkAAVtQ4NUOAAAECBAgQIECAAAECBAgQIECAAAECBAgQICAA8wYIECBAgAABAgQIECBAgAABAgQIECBAgAABAgSKEhCAFTVOzRAgQIAAAQIECBAgQIAAAQIECBAgQIAAAQIECAjAvAECBAgQIECAAAECBAgQIECAAAECBAgQIECAAIGiBARgRY1TMwQIECBAgAABAgQIECBAgAABAgQIECBAgAABAgIwb4AAAQIECBAgQIAAAQIECBAgQIAAAQIECBAgQKAoAQFYUePUDAECBAgQIECAAAECBAgQIECAAAECBAgQIECAgADMGyBAgAABAgQIECBAgAABAgQIECBAgAABAgQIEChKQABW1Dg1Q4AAAQIECBAgQIAAAQIECBAgQIAAAQIECBAgIADzBggQIECAAAECBAgQIECAAAECBAgQIECAAAECBIoSEIAVNU7NECBAgAABAgQIECBAgAABAgQIECBAgAABAgQICMC8AQIECBAgQIAAAQIECBAgQIAAAQIECBAgQIAAgaIEBGBFjVMzBAgQIECAAAECBAgQIECAAAECBAgQIECAAAECAjBvgAABAgQIECBAgAABAgQIECBAgAABAgQIECBAoCgBAVhR49QMAQIECBAgQIAAAQIECBAgQIAAAQIECBAgQICAAMwbIECAAAECBAgQIECAAAECBAgQIECAAAECBAgQKEpAAFbUODVDgAABAgQIECBAgAABAgQIECBAgAABAgQIECAgAPMGCBAgQIAAAQIECBAgQIAAAQIECBAgQIAAAQIEihIQgBU1Ts0QIECAAAECBAgQIECAAAECBAgQIECAAAECBAgIwLwBAgQIECBAgAABAgQIECBAgAABAgQIECBAgACBogQEYEWNUzMECBAgQIAAAQIECBAgQIAAAQIECBAgQIAAAQICMG+AAAECBAgQIECAAAECBAgQIECAAAECBAgQIECgKAEBWFHj1AwBAgQIECBAgAABAgQIECBAgAABAgQIECBAgIAAzBsgQIAAAQIECBAgQIAAAQIECBAgQIAAAQIECBAoSkAAVtQ4NUOAAAECBAgQIECAAAECBAgQIECAAAECBAgQICAA8wYIECBAgAABAgQIECBAgAABAgQIECBAgAABAgSKEhCAFTVOzRAgQIAAAQIECBAgQIAAAQIECBAgQIAAAQIECAjAvAECBAgQIECAAAECBAgQIECAAAECBAgQIECAAIGiBARgRY1TMwQIECBAgAABAgQIECBAgAABAgQIECBAgAABAgIwb4AAAQIECBAgQIAAAQIECBAgQIAAAQIECBAgQKAoAQFYUePUDAECBAgQIECAAAECBAgQIECAAAECBAgQIECAgADMGyBAgAABAgQIECBAgAABAgQIECBAgAABAgQIEChKQABW1Dg1Q4AAAQIECBAgQIAAAQIECBAgQIAAAQIECBAgIADzBggQIECAAAECBAgQIECAAAECBAgQIECAAAECBIoSEIAVNU7NNEzgjiTHJ/nHhtWlHAIECBAgQIAAAQIECBAgQIAAAQIECAwi8PNJHkhy+iCbrCVQp4AArE59d5cucO+iRYuWPvWpTy29T/0RIECAAAECBAgQIECAAAECBAgQIFCwwPe+973s2bNnZ5KTCm5Ta4UJCMAKG6h2GiWw5dxzzz13y5YtjSpKMQQIECBAgAABAgQIECBAgAABAgQIEBhE4Lzzzss3v/nNbyY5b5B91hKoU0AAVqe+u0sXEICVPmH9ESBAgAABAgQIECBAgAABAgQIEOiAgACsA0MusEUBWIFD1VJjBARgjRmFQggQIECAAAECBAgQIECAAAECBAgQGFZAADasnH11CgjA6tR3d+kCArDSJ6w/AgQIECBAgAABAgQIECBAgAABAh0QEIB1YMgFtigAK3CoWmqMgACsMaNQCAECBAgQIECAAAECBAgQIECAAAECwwoIwIaVs69OAQFYnfruLl1AAFb6hPVHgAABAgQIECBAgAABAgQIECBAoAMCArAODLnAFgVgBQ5VS40REIA1ZhQKIUCAAAECBAgQIECAAAECBAgQIEBgWAEB2LBy9tUpIACrU9/dpQsIwEqfsP4IECBAgAABAgQIECBAgAABAgQIdEBAANaBIRfYogCswKFqqTECArDGjEIhBAgQIECAAAECBAgQIECAAAECBAgMKyAAG1bOvjoFBGB16ru7dAEBWOkT1h8BAgQIECBAgAABAgQIECBAgACBDggIwDow5AJbFIAVOFQtNUZAANaYUSiEAAECBAgQIECAAAECBAgQIECAAIFhBQRgw8rZV6eAAKxOfXeXLiAAK33C+iNAgAABAgQIECBAgAABAgQIECDQAQEBWAeGXGCLArACh6qlxggIwBozCoUQIECAAAECBAgQIECAAAECBAgQIDCsgABsWDn76hQQgNWp7+7SBQRgpU9YfwQIECBAgAABAgQIECBAgAABAgQ6ICAA68CQC2xRAFbgULXUGAEBWGNGoRACBAgQIECAAAECBAgQIECAAAECBIYVEIANK2dfnQICsDr13V26gACs9AnrjwABAgQIECBAgAABAgQIECBAgEAHBARgHRhygS0KwAocqpYaIyAAa8woFEKAAAECBAgQIECAAAECBAgQIECAwLACArBh5eyrU0AAVqe+u0sXEICVPmH9ESBAgAABAgQIECBAgAABAgQIEOiAgACsA0MusEUBWIFD1VJjBARgjRmFQggQIECAAAECBAgQIECAAAECBAgQGFZAADasnH11CgjA6tR3d+kCArDSJ6w/AgQIECBAgAABAgQIECBAgAABAh0QEIB1YMgFtigAK3CoWmqMgACsMaNQCAECBAgQIECAAAECBAgQIECAAAECwwoIwIaVs69OAQFYnfruLl1AAFb6hPVHgAABAgQIECBAgAABAgQIECBAoAMCArAODLnAFgVgBQ5VS40REIA1ZhQKIUCAAAECBAgQIECAAAECBAgQIEBgWAEB2LBy9tUpIACrU9/dpQsIwEqfsP4IECBAgAABAgQIECBAgAABAgQIdEBAANaBIRfYogCswKFqqTECArDGjEIhBAgQIECAAAECBAgQIECAAAECBAgMKyAAG1bOvjoFBGB16rt7rgVelmR1kmckOSfJcUn+PMmvH+Gii5L85yQXJFmU5PtJ/jTJf01yYJYFCsBmCWg7AQIECBAgQIAAAQIECBAgQIAAAQL1CwjA6p+BCgYXEIANbmZHcwW+fTD4eijJ9iRn9QnAXpzk00n2JvmLJDuTvCjJU5L8ZZJ/N8tWBWCzBLSdAAECBAgQIECAAAECBAgQIECAAIH6BQRg9c9ABYMLCMAGN7OjuQK/fDD4uv3gl2B/e4QA7PgkvXUnJFmV5BsH21qY5IYkFya5PMmGWbQrAJsFnq0ECBAgQIAAAQIECBAgQIDAcAIPT+zNQ1/bkT23/CSP7JrMvMVjWXTO43Lshcty9JLe/9eHPwQIEBhMQAA2mJfVzRAQgDVjDqqYe4FnJzlSAPaqJB9Nck2SVzzm+uck+ZskXz0YpA1bnQBsWDn7CBAgQIAAAQIECBAgQIAAgaEE9t4+kXuv+W4e3f/IYfuPWjAvJ13xtCw8c8lQZ9tEgEB3BQRg3Z19mzsXgLV5emo/kkC/AOyTSX4tycuTrH/MQUcnuT/JgiTHJtk3JLUAbEg42wgQIECAAAECBAgQIECAAIHBBXpfft191ZYpw69Dp/VCsFPeeJ4vwQbntYNApwUEYJ0ef2ubF4C1dnQK7yPQLwDbnOSZB/+zZYqztiZ5WpJfSPK9IbUFYEPC2UaAAAECBAgQIECAAAECBAgMLjDxhTvy0Mbez6If+c9xq5fnhOef3m+ZvydAgMA/CwjAPIY2CgjA2jg1Nc9EoF8A9g9JnnzwP73fAnvsn01JLjr4n6/1uXCqAK235axzzz13fMuW6f56Jm1YQ4AAAQIECBAgQIAAAQIECBCYmcCOP/x6Dkz0/4ds5i85Jst+71kzO9QqAgQIJBGAeQZtFBCAtXFqap6JgABsJkrWECBAgAABAgQIECBAgAABAsUI/Ohtm/Lo5OG//fXYBo8am5cnvGtVMX1rhACB6gUEYNUbu2HuBQRgc2/qxGYI9AvA/BOIzZiTKggQIECAAAECBAgQIECAAIE5EvAF2BxBOoYAgcMEBGAeRRsFBGBtnJqaZyLQLwD7ZJJfS/LyJOsfc+DRSe5PsiDJsUn6/9sBU1fkN8BmMilrCBAgQIAAAQIECBAgQIAAgTkR8Btgc8LoEAIEphAQgHkWbRQQgLVxamqeiUC/AOxVST6a5Jokr3jMgc9J8jdJvppk9Uwum2aNAGwWeLYSIECAAAECBAgQIECAAAECgwk8PLE3d1+1JY/un/6fQTxqwbyc8sbzcvSShYMdbjUBAp0WEIB1evytbV4A1trRKbyPQL8A7PgkP0jS+5+9f/T6GwfP6/2//m5IcmGSy5NsmIW0AGwWeLYSIECAAAECBAgQIECAAAECgwvsvX0i917z3SlDsF74ddIVT8vCM5cMfrAdBAh0WkAA1unxt7Z5AVhrR6fwKQQuS9L7T+/Pv0pySZJtSf7u4P/uniT/8af29db+ZZK9B4OunUl+JclTDv7v/32SR2chLQCbBZ6tBAgQIECAAAECBAgQIECAwHACvS/Bdn1tR3bf8pM8smsy8xaPZfycx2Xxhct8+TUcqV0EOi8gAOv8E2glgACslWNT9DQC/1eSdxxB55+S/Pxj/r739ddbD37x1fv66/Ykf5rk/UkOzFJaADZLQNsJECBAgAABAgQIECBAgAABAgQIEKhfQABW/wxUMLiAAGxwMzsIzFRAADZTKesIECBAgAABAgQIECBAgAABAgQIEGisgACssaNR2BEEBGCeB4HqBARg1dk6mQABAgQIECBAgAABAgQIECBAgACBEQkIwEYE7Zo5FRCAzSmnwwj8jIAAzIMgQIAAAQIECBAgQIAAAQIECBAgQKD1AgKw1o+wkw0IwDo5dk2PSEAANiJo1xAgQIAAAQIECBAgQIAAAQIECBAgUJ2AAKw6WydXJyAAq87WyQQEYN4AAQIECBAgQIAAAQIECBAgQIAAAQKtFxCAtX6EnWxAANbJsWt6RAICsBFBu4YAAQIECBAgQIAAAQIECBAgQIAAgeoEBGDV2Tq5OgEBWHW2TiYgAPMGCBAgQIBAAQLb9+7Px350T669+77snDyQpWPzc9kpJ+Y3n3Byli9cUECHWiBAgAABAgQIECBAgMCRBQRgXkgbBQRgbZyamtsiIABry6TUSYAAAQIEphH4H/c9mFfcekd2HXjksBWL58/LJ84+Pb944nH8CBAgQIAAAQIECBAgULSAAKzo8RbbnACs2NFqrAECArAGDEEJBAgQIEBgWIHel1+rv37blOHXoTN7IdjGZ53lS7Bhke0jQIAAAQIECBAgQKAVAgKwVoxJkY8REIB5EgSqExCAVWfrZAIECBAgULnAu35wVz7wwx/3ved3nvj4/Ocnndp3nQUECBAgQIAAAQIECBBoq4AArK2T63bdArBuz1/31QoIwKr1dToBAgQIEKhU4Lwbv5sf7Zvse8cTjhnLloue1nedBQQIECBAgAABAgQIEGirgACsrZPrdt0CsG7PX/fVCgjAqvV1OgECBAgQqFTg9I3fyZ5HDv/tr8deumjevNyx+umV1uJwAgQIECBAgAABAgQI1CkgAKtT393DCgjAhpWzj0B/AQFYfyMrCBAgQIBAYwV8AdbY0SiMAAECBAgQIECAAIERCwjARgzuujkREIDNCaNDCEwpIADzMAgQIECAQIsF/AZYi4endAIECBAgQIAAAQIE5lRAADannA4bkYAAbETQrumkgACsk2PXNAECBAiUIrB97/6s/vpt2XVg+n8GcfH8edn4rLOyfOGCUtrWBwECBAgQIECAAAECBA4TEIB5FG0UEIC1cWpqbouAAKwtk1InAQIECBCYRuB/3PdgXnHrHVOGYL3w6xNnn55fPPE4fgQIECBAgAABAgQIEChaQABW9HiLbU4AVuxoNdYAAQFYA4agBAIECBAgMFuB3pdgH//RPflvd9+XnZMHsnRsfl5yyol55RNO9uXXbHHtJ0CAAAECBAgQIECgFQICsFaMSZGPERCAeRIEqhMQgFVn62QCBAgQIECAAAECBAgQ6IDAxMRENm/enK1bt2b37t0ZHx/PihUrsnLlyixZsqQDAlokQIBAMwQEYM2YgyoGExCADeZlNYFBBARgg2hZS4AAAQIECBAgQIAAAQIEfkpg27Zt2bBhQ/bv33+Yy4IFC7JmzZqcccYZzAgQIEBgBAICsBEgu2LOBQRgc07qQAL/LCAA8xgIECBAgAABAgQIECBAgMAQAr0vv9atWzdl+HXouF4ItnbtWl+CDeFrCwECBAYVEIANKmZ9EwQEYE2YghpKFRCAlTpZfREgQIAAAQIECBAgQIBApQLXX399Nm3a1PeOVatW5eKLL+67zgICBAgQmJ2AAGx2fnbXIyAAq8fdrd0QEIB1Y866JECAAAECBAgQIECAAIE5Frj66qtz//339z31hBNOyJVXXtl3nQUECBAgMDsBAdjs/OyuR0AAVo+7W7shIADrxpx1SYAAAQIECBAgQIAAAQJzLPDud787k5OTfU8dGxvLW9/61r7rLCBAgACB2QkIwGbnZ3c9AgKwetzd2g0BAVg35qxLAgQIECBAgAABAgQIEJhjAV+AzTGo4wgQIDBLAQHYLAFtr0VAAFYLu0s7IiAA68igtUmAAAECBAgQIECAAAECcyvgN8Dm1tNpBAgQmK2AAGy2gvbXISAAq0PdnV0REIB1ZdL6JECAAAECBAgQIECAAIE5FZiYmMi6deuyf//+ac9dsGBB1q5dmyVLlszp3Q4jQIAAgcMFBGBeRRsFBGBtnJqa2yIgAGvLpNRJgAABAgQIECBAgAABAo0T2LZtWzZs2DBlCNYLv9asWZMzzjijcXUriAABAiUKCMBKnGr5PQnAyp+xDusTEIDVZ+9mAgQIECBAgAABAgQIEChAoPcl2ObNm7N169bs3r074+PjWbFiRVauXOnLrwLmqwUCBNojIABrz6xU+i8CAjCvgUB1AgKw6mydTIAAAQIECBAgQIAAAQIECBAgQIDAiAQEYCOCds2cCgjA5pTTYQR+RkAA5kEQIECAAAECBAgQIECAAAECBAgQINB6AQFY60fYyQYEYJ0cu6ZHJCAAGxG0awgQIECAAAECBAgQIECAAAECBAgQqE5AAFadrZOrExCAVWfrZAICMG+AAAECBAgQIECAAAECBAgQIECAAIHWCwjAWj/CTjYgAOvk2DU9IgEB2IigXUOAAAECBAgQIECAAAECBAgQIECAQHUCArDqbJ1cnYAArDpbJxMQgHkDBAgQIECAAAECBAgQIECAAAECBAi0XkAA1voRdrIBAVgnx67pEQkIwEYE7RoCBAgQIECAAAECBAgQIECAAAECBKoTEIBVZ+vk6gQEYNXZOpmAAMwbIECAAAECBAgQIECAAAECBAgQIECg9QICsNaPsJMNCMA6OXZNj0hAADYiaNcQIECAAAECBAgQIECAAAECBAgQIFCdgACsOlsnVycgAKvO1skEBGDeAAECBAgQIECAAAECBAgQIECAAAECrRcQgLV+hJ1sQADWybFrekQCArARQbuGAAECBAgQIECAAAECBAgQIECAAIHqBBza4swAACAASURBVARg1dk6uToBAVh1tk4mIADzBggQIECAAAECBAgQIECAAAECBAgQaL2AAKz1I+xkAwKwTo5d0yMSEICNCNo1BAgQIECAAAECBAgQIECAAAECBAhUJyAAq87WydUJCMCqs3UyAQGYN0CAAAECBAgQIECAAAECBAgQIECAQOsFBGCtH2EnGxCAdXLsmh6RgABsRNCuIUCAAAECBAgQIECAAAECBAgQIECgOgEBWHW2Tq5OQABWna2TCQjAvAECBAgQIECAAAECBAgQIECAAAECBFovIABr/Qg72YAArJNj1/SIBARgI4J2DQECBAgQIECAAAECBAgQIECAAAEC1QkIwKqzdXJ1AgKw6mydTEAA5g0QIECAAAECBAgQIECAAAECBAgQINB6AQFY60fYyQYEYJ0cu6ZHJCAAGxG0awgQIECAAAECBAgQIECAAAECBAgQqE5AAFadrZOrExCAVWfrZAICMG+AAAECBAgQIECAAAECBAgQIECAAIHWCwjAWj/CTjYgAOvk2DU9IgEB2IigXUOAAAECBAgQIECAAAECBAgQIECAQHUCArDqbJ1cnYAArDpbJxMQgHkDBAgQIECAAAECBAgQIECAAAECBAi0XkAA1voRdrIBAVgnx67pEQkIwEYE7RoCBAgQIECAAAECBAgQIECAAAECBKoTEIBVZ+vk6gQEYNXZOpmAAMwbIECAAAECBAgQIECAAAECBAgQIECg9QICsNaPsJMNCMA6OXZNj0hAADYiaNcQIECAAAECBAgQIECAAAECBAgQIFCdgACsOlsnVycgAKvO1skEBGDeAAECBAgQIECAAAECBAgQIECAAAECrRcQgLV+hJ1sQADWybFrekQCArARQbuGAAECBAgQIECAAAECBAgQIECAAIHqBARg1dk6uToBAVh1tk4mIADzBggQIECAAAECBAgQIECAAAECBAgQaL2AAKz1I+xkAwKwTo5d0yMSEICNCNo1BAgQIECAAAECBAgQIECAAAECBAhUJyAAq87WydUJCMCqs3UyAQGYN0CAAAECBAgQIECAAAECBAgQIECAQOsFBGCtH2EnGxCAdXLsmh6RgABsRNCuIUCAAAECBAgQIECAAAECBAgQIECgOgEBWHW2Tq5OQABWna2TCQjAvAECBAgQIECAAAECBAgQIECAAAECBFovIABr/Qg72YAArJNj1/SIBARgI4J2DQECBAgQIECAAAECBAgQIECAAAEC1QkIwKqzdXJ1AgKw6mydTEAA5g0QIECAAAECBAgQIECAAAECBAgQINB6AQFY60fYyQYEYJ0cu6ZHJCAAGxG0awgQIECAAAECBAgQIECAAAECBAgQqE5AAFadrZOrExCAVWfrZAICMG+AAAECBAgQIECAAAECBAgQIECAAIHWCwjAWj/CTjYgAOvk2DU9IgEB2IigXUOAAAECBAgQIECAAAECBAgQIECAQHUCArDqbJ1cnYAArDpbJxMQgHkDBAgQIECAAAECBAgQIECAAAECBAi0XkAA1voRdrIBAVgnx67pEQkIwEYE7RoCBAgQIECAAAECBAgQIECAAAECBKoTEIBVZ+vk6gQEYNXZOpmAAMwbIECAAAECBAgQIECAAAECBAgQIECg9QICsNaPsJMNCMA6OXZNj0hAADYiaNcQIECAAAECBAgQIECAAAECBAgQIFCdgACsOlsnVycgAKvO1skEBGDeAAECBAgQIECAAAECBAgQIECAAAECrRcQgLV+hJ1sQADWybFrekQCArARQbuGAAECBAgQIECAAAECBAgQIECAAIHqBARg1dk6uToBAVh1tk4mIADzBggQIECAAAECBAgQIECAAAECBAgQaL2AAKz1I+xkAwKwTo5d0yMSEICNCNo1BAgQIECAAAECBAgQIECAAAECBAhUJyAAq87WydUJCMCqs3UyAQGYN0CAAAECBAgQIECAAAECBAgQIECAQOsFBGCtH2EnGxCAdXLsmh6RgABsRNCuIUCAAAECBAgQIECAAAECBAgQIECgOgEBWHW2Tq5OQABWna2TCQjAvAECBAgQIECAAAECBAgQIECAAAECBFovIABr/Qg72YAArJNj1/SIBARgI4J2DQECBAgQIECAAAECBAgQIECAAAEC1QkIwKqzdXJ1AgKw6mydTEAA5g0QIECAAAECBAgQIECAAAECBAgQINB6AQFY60fYyQYEYJ0cu6ZHJCAAGxG0awgQIECAAAECBAgQIECAAAECBAgQqE5AAFadrZOrExCAVWfrZAICMG+AAAECBAgQIEBgdAITdyab/yTZ+plk973J+EnJil9NVr4mWXLa6OpwEwECBAgQIECAQHECArDiRtqJhgRgnRizJmsSEIDVBO9aAgQIECBAgEDnBLZtTDZcnuzfdXjrCxYna9YnZ6zuHIuGCRAgQIAAgeoEHrjnx/n2lz6f2278avY8+EAWHXd8zrrol/KMS16Q409+fHUXO7kWAQFYLewunaWAAGyWgLYTOIKAAMzzIECAAAECBAgQqF6g9+XXuvOnDr8O3d4Lwdbe7Euw6qfhBgIECBAg0AmBH269Jde+512Z3Lv3sH7HFi7MZW9+W5644pxOWHSlSQFYVyZdVp8CsLLmqZtmCQjAmjUP1RAgQIAAAQIEyhS4/u3Jpvf1723VG5KL39l/nRUECBAgQIAAgSMI9L78+vib1k4Zfh3a1gvBXvnH63wJVtBLEoAVNMwOtSIA69CwtTpyAQHYyMldSIAAAQIECBDooMDVK5L77+zf+AmnJVdu7b/OCgIECBAgQIDAEQS++ucfy+a//nRfo5Uvfll+6eWv7LvOgnYICMDaMSdV/qyAAMyLIFCdgACsOlsnEyBAgACBTghMTExk8+bN2bp1a3bv3p3x8fGsWLEiK1euzJIlSzphoMkZCLx7WTK5u//CsfHkrTv6r7OCAAECBAgQIHAEgQ+/7jfz4D0/6Wt03MmPy2994GN911nQDgEBWDvmpEoBmDdAYFQCArBRSbuHAAECBAgUKLBt27Zs2LAh+/fvP6y7BQsWZM2aNTnjjDMK7FxLAwv4AmxgMhsIECBAgACB4QXed8VL8/C+fX0POPqYY/K71/T/UqzvQRY0QkAA1ogxKGJAAV+ADQhmOYEBBARgA2BZSoAAAQIECPyLQO/Lr3Xr1k0Zfh1a1QvB1q5d60swDyfxG2BeAQECBAgQIDBCAV+AjRC7QVcJwBo0DKXMWEAANmMqCwkMLCAAG5jMBgIECBAgQKAncP3112fTpk19MVatWpWLL7647zoLCheYuDNZd36yf9f0jS5YnKy9OVlyWuEYzW3v4Ym9eehrO7Lnlp/kkV2Tmbd4LIvOeVyOvXBZjl6ysLmFq4wAAQIECDxGwG+AdfNJCMC6Ofe2dy0Aa/sE1d9kAQFYk6ejNgIECBAg0GCBq6++Ovfff3/fCk844YRceeWVfddZ0AGBbRuTDZdPHYL1wq8165MzVncAopkt7r19Ivde8908uv+Rwwo8asG8nHTF07LwTL/r18zpqYoAAQIEHivwwD0/zsfftDaTe/dOizO2cGFe+cfrcvzJjwdYiIAArJBBdqwNAVjHBq7dkQoIwEbK7TICBAgQIFCOwLvf/e5MTk72bWhsbCxvfetb+66zoCMCvS/BNn8k2frpZPe9yfhJyYqXJitf7cuvGp9A78uvu6/aMmX4daisXgh2yhvP8yVYjXNyNQECBAgMJvDDrbfk2ve8a8oQrBd+Xfbmt+WJK84Z7FCrGy0gAGv0eBQ3jYAAzNMgUJ2AAKw6WycTIECgKIHJu+7KfZ/6VO6/7rocuG8i809ckhMuvTQnvvzlGTv11KJ61czMBHwBNjMnqwi0QWDiC3fkoY3b+5Z63OrlOeH5p/ddZwEBAgQIEGiKQO9LsG9/+brctmlj9jz4QBYdd3zOWrU6z3jupb78asqQ5rAOAdgcYjpqZAICsJFRu6iDAgKwDg5dywQIEBhUYNdNN+XOta/Lo7t3H7b1qPHxnLbuA1l8wQWDHmt9ywX8BljLB6h8Aj8lsOMPv54DE/v6msxfckyW/d6z+q6zgAABAgQIECBQh4AArA51d85WQAA2W0H7CUwvIADzOggQIEDgiAK9L79+8MIXTRl+HdrYC8Ge9LnP+hKsY29pYmIi69aty/79+6ftfMGCBVm7dm2WLPG7QR17HtptmcCP3rYpj04e/ttfj23jqLF5ecK7VrWsO+USIECAAAECXREQgHVl0mX1KQAra566aZaAAKxZ81ANAQIEGifw4/e+N/d+5KN96zrpNa/O49/0pr7rLChLYNu2bdmwYcOUIVgv/FqzZk3OOOOMsprWDYECBXwBVuBQtUSAAAECBDooIADr4NALaFkAVsAQtdBYAQFYY0ejMAIECDRD4PvPeU4evmtH32KOPnVZnnzDDX3XWVCeQO9LsM2bN2fr1q3ZvXt3xsfHs2LFiqxcudKXX+WNW0eFCvgNsEIHqy0CBAgQINAxAQFYxwZeSLsCsEIGqY1GCgjAGjkWRREgQKA5Arf9m3Pz6J49fQs6atGinPWtb/ZdZwEBAgQINE/g4Ym9ufuqLXl0//T/DOJRC+bllDeel6OXLGxeAyoiQIAAAQIECCQRgHkGbRQQgLVxampui4AArC2TUicBAgRqEvAFWE3wriVAgMCIBfbePpF7r/nulCFYL/w66YqnZeGZfs9vxGNxHQECBAgQIDCAgABsACxLGyMgAGvMKBRSoIAArMChaokAAQJzKeA3wOZS01kECBBotkDvS7BdX9uR3bf8JI/smsy8xWMZP+dxWXzhMl9+NXt0qiNAgAABAgR8AeYNtFRAANbSwSm7FQICsFaMSZEECBCoT2Dyrrvygxe+KI/u3j1tEUeNj+dJn/tsxk49tb5C3UyAAAECBAgQIECAAAECnRbwBVinx9/a5gVgrR2dwlsgIABrwZCUSIAAgboFdt10U+5c+7opQ7Be+HXaug9k8QUX1F2m+wkQIECAAAECBAgQIECgwwICsA4Pv8WtC8BaPDylN15AANb4ESmQAAECzRDofQl23/r1uf/zn8+B+yYy/8QlOeEFL8iJl1/uy69mjEgVBAgQIECAAAECBAgQ6LSAAKzT429t8wKw1o5O4S0QEIC1YEhKJECAAAECBAgQIECAAAECBAgQIEDgyAICMC+kjQICsDZOTc1tERCAtWVS6iRAgAABAgQIECBAgAABAgQIECBAYFoBAZjH0UYBAVgbp6bmtggIwNoyKXUSIECAAAECBAgQIECAAAECBAgQICAA8waKEhCAFTVOzQwp8IIkv5vkF5KclGRHki1JrkrytSHP7G0TgM0Cz1YCBAgQIECAAAECBAgQIECAAAECBJoh4AuwZsxBFYMJCMAG87K6PIE/SvKWJPcmuTbJPUnOTPIrSY5OckWSTw7ZtgBsSDjbCBAgQIAAAQIECBAgQIAAAQIECBBojoAArDmzUMnMBQRgM7eysjyBf5XkR0l+kuTpSX78Uy3+cpIbktyR5IwhWxeADQlnGwECBAgQIECAAAECBAgQIECAAAECzREQgDVnFiqZuYAAbOZWVpYncH6Sm5L8dZIXT9HeA0l6/zdy3JCtC8CGhLONAAECBAgQIECAAAECBAgQIECAAIHmCAjAmjMLlcxcQAA2cysryxNYevD3vnYmOfvgP394qMtfSrLx4D+L+JIhWxeADQlnGwECBAgQIECAAAECBAgQIECAAAECzREQgDVnFiqZuYAAbOZWVpYp8IYkVx0Mv3q/Adb7LbAnHfwNsK8m+fXH/NOIgygIwAbRspYAAQIECBAgQIAAAQIECBAgQIAAgUYKCMAaORZF9REQgHkiBJLLkvxpkhN/CuP2JO9I8qkZAG2ZZs1Z55577viWLdP99QxOtoQAAQIECBAgQIAAAQIECBAgQIAAAQI1CwjAah6A64cSEIANxWZTQQJvSfL7Sd6f5P9J8j+TnJXkD5I8N8l7kvTWHOmPAKygB6EVAgQIECBAgAABAgQIECBAgAABAgR+VkAA5kW0UUAA1sapqXmuBJ6d5G+T/Lckv/qYQ8eT/EOSZUmenGTbEJf6JxCHQLOFAAECBAgQIECAAAECBAgQIECAAIFmCQjAmjUP1cxMQAA2MyeryhR4b5I3JXl9kv86RYufSfKSJC9L8ukhCARgQ6DZQoAAAQIECEwtsHfvXdm+/c9y992fy/7J+7Jg7MSccsoLs3z5b2ThwlOxESBAgAABAgQIECBAoDIBAVhltA6uUEAAViGuoxsv0Au9fifJu5K8fYpq/y7JLyb5lSSfHaIbAdgQaLYQIECAAAEChwvs3HljvnPra3PgwO7D/nL+/PE8/ewPZenSi9ARIECAAAECBAgQIECgEgEBWCWsDq1YQABWMbDjGy3w75P8RZK7k5yX5Ec/Ve3zk3w+yb4ky5PcO0QnArAh0GwhQIAAAQIEflag9+XXTTdfMmX4dWhlLwS74Pwv+RLM4yFAgAABAgQIECBAoBIBAVglrA6tWEAAVjGw4xstMC/Jl5L870kePPhbYP8zyVOTvDBJ7/8+3pDkfUN2IQAbEs42AgQIECBA4F8Ebr/9j/JPP/xwX5Kfe+Jrc+aZb+m7zgICBAgQIECAAAECBAgMKiAAG1TM+iYICMCaMAU11CkwluR1SdYk+YUk40l2Jvl6kvcn+fIsihOAzQLPVgIECBAgQOD/F9i06d9m7767+nIsPObUrFrV+xec/SFAgAABAgQIECBAgMDcCgjA5tbTaaMREICNxtkt3RQQgHVz7romQIAAAQJzKvC3X1mRRx7Z0/fMefMW5ZefvbXvOgsIECBAgAABAgQIECAwqIAAbFAx65sgIABrwhTUUKqAAKzUyeqLAAECBAiMUMAXYCPEdhUBAgQIECBAgAABAlMKCMA8jDYKCMDaODU1t0VAANaWSamTAAECBAg0WMBvgDV4OEojQIAAAQIECBAg0BEBAVhHBl1YmwKwwgaqnUYJCMAaNQ7FECBAgACBdgrs3XtXbrr5khw4sHvaBubPH88F538pCxee2s4mVU2AAAECBAgQIECAQKMFBGCNHo/iphEQgHkaBKoTEIBVZ+tkAgQIECDQKYGdO2/Md2597ZQhWC/8evrZH8rSpRd1ykSzBAgQIECAAAECBAiMTkAANjprN82dgABs7iydROCxAgIwb4IAAQIECBCYM4Hel2Dbt38yd9/92eyfvC8Lxk7MKae8KMuX/7ovv+ZM2UEECBAgQIAAAQIECEwlIADzLtooIABr49TU3BYBAVhbJqVOAgQIECBAgAABAgQIECBAgAABAgSmFRCAeRxtFBCAtXFqam6LgACsLZNSJwECBAgQIECAAAECBAgQIECAAAECAjBvoCgBAVhR49RMwwQEYA0biHIIECBAgAABAgQIECBAgAABAgQIEBhcwBdgg5vZUb+AAKz+GaigXAEBWLmz1RkBAgQIECBAgAABAgQIECBAgACBzggIwDoz6qIaFYAVNU7NNExAANawgSiHAAECBAgQIECAAAECBAgQIECAAIHBBQRgg5vZUb+AAKz+GaigXAEBWLmz1RkBAgQIECBAgAABAgQIECBAgACBzggIwDoz6qIaFYAVNU7NNExAANawgSiHAAECBAgQIECAAAECBAgQIECAAIHBBQRgg5vZUb+AAKz+GaigXAEBWLmz1RkBAgQIECBAgAABAgQIECBAgACBzggIwDoz6qIaFYAVNU7NNExAANawgSiHAAECBAgQIECAAAECBAgQIECAAIHBBQRgg5vZUb+AAKz+GaigXAEBWLmz1RkBAgQIECBAgAABAgQIECBAgACBzggIwDoz6qIaFYAVNU7NNExAANawgSiHAAECBAgQIECAAAECBAgQIECAAIHBBQRgg5vZUb+AAKz+GaigXAEBWLmz1RkBAgQIECBAgAABAgQIECBAgACBzggIwDoz6qIaFYAVNU7NNExAANawgSiHAAECBAgQIECAAAECBAgQIECAAIHBBQRgg5vZUb+AAKz+GaigXAEBWLmz1RkBAgQIECBAgAABAgQIECBAgACBzggIwDoz6qIaFYAVNU7NNExAANawgSiHAAECBAgQIECAAAECBAgQIECAAIHBBQRgg5vZUb+AAKz+GaigXAEBWLmz1RkBAgQIECBAgAABAgQIECBAgACBzggIwDoz6qIaFYAVNU7NNExAANawgSiHAAECBAgQIECAAAECBAgQIECAAIHBBQRgg5vZUb+AAKz+GaigXAEBWLmz1RkBAgQIECBAgAABAgQIECBAgACBzggIwDoz6qIaFYAVNU7NNExAANawgSiHAAECBAgQIECAAAECBAgQIECAAIHBBQRgg5vZUb+AAKz+GaigXAEBWLmz1RkBAgQIECBAgAABAgQIECBAgACBzggIwDoz6qIaFYAVNU7NNExAANawgSiHAAECBAgQIECAAAECBAgQIECAAIHBBQRgg5vZUb+AAKz+GaigXAEBWLmz1RkBAgQIECBAgAABAgQIECBAgACBzggIwDoz6qIaFYAVNU7NNExAANawgSiHAAECBAgQIECAAAECBAgQIECAAIHBBQRgg5vZUb+AAKz+GaigXAEBWLmz1RkBAgQIECBAgAABAgQIECBAgACBzggIwDoz6qIaFYAVNU7NNExAANawgSiHAAECBAgQIECAAAECBAgQIECAAIHBBQRgg5vZUb+AAKz+GaigXAEBWLmz1RkBAgQIECBAgAABAgQIECBAgACBzggIwDoz6qIaFYAVNU7NNExAANawgSiHAAECBAgQIECAAAECBAgQIECAAIHBBQRgg5vZUb+AAKz+GaigXAEBWLmz1RkBAgQIECBAgAABAgQIECBAgACBzggIwDoz6qIaFYAVNU7NNExAANawgSiHAAECBAgQIECAAAECBAgQIECAAIHBBQRgg5vZUb+AAKz+GaigXAEBWLmz1RkBAgQIECBAgAABAgQIECBAgACBzggIwDoz6qIaFYAVNU7NNExAANawgSiHAAECBAgQIECAAAECBAgQIECAAIHBBQRgg5vZUb+AAKz+GaigXAEBWLmz1RkBAgQIECBAgAABAgQIECBAgACBzggIwDoz6qIaFYAVNU7NNExAANawgSiHAAECBAgQIECAAAECBAgQIECAAIHBBQRgg5vZUb+AAKz+GaigXAEBWLmz1RkBAgQIECBAgAABAgTKEpi4M9n8J8nWzyS7703GT0pW/Gqy8jXJktPK6lU3BAgQIDCwgABsYDIbGiAgAGvAEJRQrIAArNjRaowAAQIECBAgQIAAAQIFCWzbmGy4PNm/6/CmFixO1qxPzlhdUMNaIUCAAIFBBQRgg4pZ3wQBAVgTpqCGUgUEYKVOVl8ECBAgQIAAAQIECBAoRaD35de686cOvw712AvB1t7sS7BSZq4PAgQIDCEgABsCzZbaBQRgtY9AAQULCMAKHq7WCBAgQIAAAQIECBAgUITA9W9PNr2vfyur3pBc/M7+66wgQIAAgSIFBGBFjrX4pgRgxY9YgzUKCMBqxHc1AQIECBAgQIAAAQIECMxA4OoVyf139l94wmnJlVv7r7OCAAECBIoUEIAVOdbimxKAFT9iDdYoIACrEd/VBAgQIECAAAECBAgQIDADgXcvSyZ39184Np68dUf/dVYQIECAQJECArAix1p8UwKw4keswRoFBGA14ruaAAECBAgQIECAAAECBGYg4AuwGSBZQoAAAQICMG+gjQICsDZOTc1tERCAtWVS6iRAgAABAgQIECBAgEBXBfwGWFcnr28CBAgMJCAAG4jL4oYICMAaMghlFCkgACtyrJoiQIAAAQIECBAgQIBAQQITdybrzk/275q+qQWLk7U3J0tOK6hxrRAgQIDAIAICsEG0rG2KgACsKZNQR4kCArASp6onAgQIECBAgAABAgQIlCawbWOy4fKpQ7Be+LVmfXLG6tK61g8BAgQIDCAgABsAy9LGCAjAGjMKhRQoIAArcKhaIkCAAAECBAgQGFxg7967sn37n+Xuuz+X/ZP3ZcHYiTnllBdm+fLfyMKFpw5+oB0ECMy9QO9LsM0fSbZ+Otl9bzJ+UrLipcnKV/vya+61nUiAAIHWCQjAWjcyBScRgHkGBKoTEIBVZ+tkAgQIECBAgACBlgjs3HljvnPra3PgwO7DKp4/fzxPP/tDWbr0opZ0o0wCBAgQIECAQDcFBGDdnHvbuxaAtX2C6m+ygACsydNRGwECBAgQIECAQOUCvS+/brr5kinDr0OX90KwC87/ki/BKp+GCwgQIECAAAECwwsIwIa3s7M+AQFYffZuLl9AAFb+jHVIgAABAgQIECBwBIHbb/+j/NMPP9zX6Oee+NqceeZb+q6zgAABAgQIECBAoB4BAVg97m6dnYAAbHZ+dhM4koAAzPsgQIAAAQIECBDotMCmTf82e/fd1ddg4TGnZtWqv+u7zgICBAgQIECAAIF6BARg9bi7dXYCArDZ+dlNQADmDRAgQIAAAQIECBCYRuBvv7Iijzyyp6/PvHmL8svP3tp3nQUECBAgQIAAAQL1CAjA6nF36+wEBGCz87ObgADMGyBAgAABAgQIECAwjYAvwDwNAgQIECBAgEAZAgKwMubYtS4EYF2buH5HKeCfQByltrsIECBAgAABAgQaJ+A3wBo3EgURIECAAAECBIYSEIANxWZTzQICsJoH4PqiBQRgRY9XcwQIECBAgAABAv0E9u69KzfdfEkOHNg97dL588dzwflfysKFp/Y7zt8TIECAAAECBAjUJCAAqwnetbMSEIDNis9mAkcUEIB5IAQIECBAgAABAp0X2Lnzxnzn1tdOGYL1wq+nn/2hLF16UeedABAgQIAAAQIEmiwgAGvydNQ2nYAAzNsgUJ2AAKw6WycTIECAAAECBAi0SKD3GQMlkgAAIABJREFUJdj27Z/M3Xd/Nvsn78uCsRNzyikvyvLlv+7LrxbNUakECBAgQIBAdwUEYN2dfZs7F4C1eXpqb7qAAKzpE1IfAQKtFvjRxJ5c87V/zOdu2ZGdu/Zn6eIFeeE5y3LFhT+fJyxZ1OreFE+AAAECBAgQIECAAAECBJokIABr0jTUMlMBAdhMpawjMLiAAGxwMzsIECAwI4Ebb78nr77mG9m9/8Bh68cXzM9HrnhmLjrz5BmdZVH1Ag/u3Jtbv7I93//G3dn70GQWHjuWJz/zlJz97OU5bunC6gtwAwECBAgQIECAAAECBAjMSkAANis+m2sSEIDVBO/aTggIwDoxZk0SIDBqgd6XXxdftXHK8OtQLb0Q7Po3rvYl2KiHM8V922/bmes+eGsm9x0eVo4dMz+X/vbZWX7W0gZUqgQCBAgQIECAAAECBAgQmE5AAOZttFFAANbGqam5LQICsLZMSp0ECLRK4A++8L18aOO2vjX/h9VPyu89/6y+6yyoTqD35df6d948Zfh16NZeCHb5O873JVh1Y3AyAQIECBAgQIAAAQIEZi0gAJs1oQNqEBCA1YDuys4ICMA6M2qNEiAwSoFVf3hDel+B9fvT+x2wTb/3nH7L/H2FAjd+5vZ868s/7HvDuZc8MRe+5My+6ywgQIAAAQIECBAgQIAAgXoEBGD1uLt1dgICsNn52U3gSAICMO+DAAECFQg89W1fzJ7Jw/85vcdetWhsfr73rudVUIEjZyrwif+0KQ/t3Nd3+bFLj8krfn9V33UWECBAgAABAgQIECBAgEA9AgKwetzdOjsBAdjs/OwmIADzBggQIDBiAV+AjRh8Ftd96PVfycP7H+l7wtEL5uW1739233UWECBAgAABAgQIECBAgEA9AgKwetzdOjsBAdjs/OwmIADzBggQIDBiAb8BNmLwWVznC7BZ4NlKgAABAgQIECBAgACBBgkIwBo0DKXMWEAANmMqCwkMLOCfQByYzAYCBAj0F+j9/tfFV23M7v3T/zOI4wvm5/o3rk7vd8D8qU/Ab4DVZ+9mAgQIECBAgAABAgQIzKWAAGwuNZ01KgEB2Kik3dNFAQFYF6euZwIERiJw4+335NXXfGPKEKwXfn3kimfmojNPHkktLple4MGde7P+nTdnct/0YeXYMfNz+TvOz3FLF6IkQIAAAQIECBAgQIAAgYYKCMAaOhhlHVFAAOaBEKhOQABWna2TCRAgkN6XYH/2tX/KZ2+5Kzt37c/SxQvyonNOzW9c+HO+/GrQ+9h+285c98FbpwzBeuHXpb99dpaftbRBFSuFAAECBAgQIECAAAECBB4rIADzJtooIABr49TU3BYBAVhbJqVOAgQIEKhUoPcl2NaN2/MPm+/O3ocms/DYsfzrladkxerlvvyqVN7hBAgQIECAAAECBAgQmBsBAdjcODpltAICsNF6u61bAgKwbs1btwQIECBAgAABAgQIECBAgAABAgSKFBCAFTnW4psSgBU/Yg3WKCAAqxHf1QQIECBAgAABAgQIECBAgAABAgQIzI2AAGxuHJ0yWgEB2Gi93dYtAQFYt+atWwIECBAgQIAAAQIECBAgQIAAAQJFCgjAihxr8U0JwIofsQZrFBCA1YjvagIECBAgQIAAAQIECBAgQIAAAQIE5kZAADY3jk4ZrYAAbLTebuuWgACsW/PWLQECBAgQIECAAAECBAgQIECAAIEiBQRgRY61+KYEYMWPWIM1CgjAasR3NQECBAgQIECAAAECBAgQIECAAAECcyMgAJsbR6eMVkAANlpvt3VLQADWrXnrlgABAgQIECBAgAABAgQIECBAgECRAgKwIsdafFMCsOJHrMEaBQRgNeK7mgABAgQIECBAgAABAgQIEGiWwORdd+W+T30q9193XQ7cN5H5Jy7JCZdemhNf/vKMnXpqs4pVDQECPyMgAPMg2iggAGvj1NTcFgEBWFsmpU4CBAgQIECAAAECBAgQIECgUoFdN92UO9e+Lo/u3n3YPUeNj+e0dR/I4gsuqLQGhxMgMLyAAGx4OzvrExCA1Wfv5vIFBGDlz1iHBAgQIECAAAECBAgQIECAQB+B3pdfP3jhi6YMvw5t7YVgT/rcZ30J5jURaKiAAKyhg1HWEQUEYB4IgeoEBGDV2TqZAAECBAgQIECAAAECBAgQaInAj9/73tz7kY/2rfak17w6j3/Tm/qus4AAgdELCMBGb+7G2QsIwGZv6AQC0wkIwLwNAgQIECBAgAABAgQIECBAoPMC33/Oc/LwXTv6Ohx96rI8+YYb+q6zgACB0QsIwEZv7sbZCwjAZm/oBAICMG+AAAECBAgQIECAAAECBAgQIDCNwG3/5tw8umdPX5+jFi3KWd/6Zt91FhAgMHoBAdjozd04ewEB2OwNnUBAAOYNECBAgAABAgQIECBAgAABAgSmEfAFmKdBoP0CArD2z7CLHQjAujh1PY9KwD+BOCpp9xAgQIAAAQIECBAgQIAAAQKNFfAbYI0djcIIzFhAADZjKgsbJCAAa9AwlFKcgACsuJFqiAABAgQIECBAgAABAgQIEBhUYPKuu/KDF74oj+7ePe3Wo8bH86TPfTZjp5466PHWEyAwAgEB2AiQXTHnAgKwOSd1IIF/FhCAeQwECBAgQIAAAQIECBAgQIAAgSS7bropd6593ZQhWC/8Om3dB7L4ggsabfXgzr259Svb8/1v3J29D01m4bFjefIzT8nZz16e45YubHTtiiMwWwEB2GwF7a9DQABWh7o7uyIgAOvKpPVJgAABAgQIECBAgAABAgQI9BXofQl23/r1uf/zn8+B+yYy/8QlOeEFL8iJl1/e+C+/tt+2M9d98NZM7jtwWJ9jx8zPpb99dpaftbSvgQUE2iogAGvr5LpdtwCs2/PXfbUCArBqfZ1OgAABAgQIECBAgAABAgQIEKhcoPfl1/p33jxl+HXo8l4Idvk7zvclWOXTcEFdAgKwuuTdOxsBAdhs9OwlcGQBAZgXQoAAAQIECBAgQIAAAQIECBBoucCNn7k93/ryD/t2ce4lT8yFLzmz7zoLCLRRQADWxqmpWQDmDRCoTkAAVp2tkwkQIECAAAECBAgQIECAAAECIxH4xH/alId27ut717FLj8krfn9V33UWEGijgACsjVNTswDMGyBQnYAArDpbJxMgQIAAAQIECBAgQIAAAQIERiLwodd/JQ/vf6TvXUcvmJfXvv/ZfddZQKCNAgKwNk5NzQIwb4BAdQICsOpsnUyAAAECBAgQIECAAAECBAgQGImAL8BGwuyShgsIwBo+IOVNKSAA8zAIVCcgAKvO1skECBAgQIAAAQIECBAgQIAAgZEI+A2wkTC7pOECArCGD0h5AjBvgMCIBQRgIwZ3HQECBAgQIECAAAECBAgQIEBgrgUe3Lk36995cyb3HZj26LFj5ufyd5yf45YunOvrnUegEQICsEaMQREDCvgCbEAwywkMICAAGwDLUgIECBAgQIAAAQIECBAgQIBAUwW237Yz133w1ilDsF74delvn53lZy1tavnqIjBrAQHYrAkdUIOAAKwGdFd2RkAA1plRa5QAAQIECBAgQIAAAQIECBAoXaD3JdjWjdvzD5vvzt6HJrPw2LH865WnZMXq5b78Kn34+osAzCNoo4AArI1TU3NbBARgbZmUOgkQIECAAAECBAgQIECAAAECBAgQmFZAAOZxtFFAANbGqam5LQICsLZMSp0ECBAgQIAAAQIECBAgQIAAAQIECAjAvIGiBARgRY1TMw0TEIA1bCDKIUCAAAECBAgQIECAAAECBAgQIEBgcAFfgA1uZkf9AgKw+meggnIFBGDlzlZnBAgQIECAAAECBAgQIECAAAECBDojIADrzKiLalQAVtQ4NdMwAQFYwwaiHAIECBAgQIAAAQIECBAgQIAAAQIEBhcQgA1uZkf9AgKw+meggmYI/G9JfifJhUlOTHJvkluTvC/JdUOWKAAbEs42AgQIECBAgAABAgQIECBAgAABAgSaIyAAa84sVDJzAQHYzK2sLFfgvyR5c5LtSb6Q5J4kj0tyXpL/nuQtQ7YuABsSzjYCBAgQIECAAAECBAgQIECAAAECBJojIABrzixUMnMBAdjMrawsU+A1ST6c5BNJfivJ/se0OZZkcsjWBWBDwtlGgAABAgQIECBAgAABAgQIECBAgEBzBARgzZmFSmYuIACbuZWV5Qkck+TOJHuSPHmK8Gu2HQvAZitoPwECBAgQIECAAAECBAgQIECAAAECtQsIwGofgQKGEBCADYFmSzECL0zy2ST/98F/AvGSJCuS7E3y9SRfm2WnArBZAtpOgAABAgQIECBAgAABAgQIECBAgED9AgKw+meggsEFBGCDm9lRjsA7k7w9yR8m6YVhvfDrp/98NcnLkvykT8tbpvn7s84999zxLVum++tyIHVCgAABAgQIECBAgAABAgQIECBAgEC5AgKwcmdbcmcCsJKnq7d+Ah9M8h+SHEjy/yZZm+TbSU5P8t4kz02yMcmzBWD9KP09AQIECBAgQIAAAQIECBAgQIAAAQKlCgjASp1s2X0JwMqer+6OLPChJL+VZF+Ss5L8408tH0/y90mWJ7loyH8O0T+B6AUSIECAAAECBAgQIECAAAECBAgQINB6AQFY60fYyQYEYJ0cu6YPCvxRkrckuSnJhVOofCTJ/5HkDUneN4SaAGwINFsIECBAgAABAgQIECBAgAABAgQIEGiWgACsWfNQzcwEBGAzc7KqTIFXJfloki8mef4ULb4nyX9M8n8e/J2wQRUEYIOKWU+AAAECBAgQIECAAAECBAgQIECAQOMEBGCNG4mCZiAgAJsBkiXFCvxckjuS3Hnwd78eeUynX0jyvCRrkvzFEAoCsCHQbCFAgAABAgQIECBAgAABAgQIECBAoFkCArBmzUM1MxMQgM3MyapyBf4qya8keWOSq3+qzece/DLs/iQ/n6T3Pwf9IwAbVMx6AgQIECBAgAABAgQIECBAgAABAgQaJyAAa9xIFDQDAQHYDJAsKVpgeZIbk5yW5G+SfOvg12CXJXn04Ndfnx5SQAA2JJxtBAgQIECAAAECBAgQIECAAAECBAg0R0AA1pxZqGTmAgKwmVtZWa7A45K8/eCXYMuSPJDk75L8QZKvz6JtAdgs8GwlQIAAAQIECBAgQIAAAQIECBAgQKAZAgKwZsxBFYMJCMAG87KawCACArBBtKwlQIAAAQIECBAgQIAAAQIECBAgQKCRAgKwRo5FUX0EBGCeCIHqBARg1dk6mQABAgQIECBAgAABAgQIECBAgACBEQkIwEYE7Zo5FRCAzSmnwwj8jIAAzIMgQIAAAQIECBAgQIAAAQIECBAgQKD1AgKw1o+wkw0IwDo5dk2PSEAANiJo1xAgQIAAAQIECBAgQIAAAQIECBAgUJ2AAKw6WydXJyAAq87WyQQEYN4AAQIECBAgQIAAAQIECBAgQIAAAQKtFxCAtX6EnWxAANbJsWt6RAICsBFBu4YAAQIECBAgQIAAAQIECBAgQIAAgeoEBGDV2Tq5OgEBWHW2TiYgAPMGCBAgQIAAAQIECBAgQIAAAQIECBBovYAArPUj7GQDArBOjl3TIxIQgI0I2jVzIDBxZ7L5T5Ktn0l235uMn5Ss+NVk5WuSJafNwQWOIECAAAECBAgQIECAAAECBAgQaKuAAKytk+t23QKwbs9f99UKCMCq9XX6XAls25hsuDzZv+vwExcsTtasT85YPVe3OYcAAQIECBAgQIAAAQIECBAgQKBlAgKwlg1Muf9LQADmIRCoTkAAVp2tk+dKoPfl17rzpw6/Dt3RC8HW3uxLsLkydw4BAgQIECBAgAABAgQ6KrDjoR1Z//fr88U7vpiJfRNZcsySPO/05+Xyp1yeZccu66iKtgm0Q0AA1o45qfJnBQRgXgSB6gQEYNXZOnmuBK5/e7Lpff1PW/WG5OJ39l83ixUP3PPjfPtLn89tN341ex58IIuOOz5nXfRLecYlL8jxJz9+FifbSoAAAQIECBAgQIAAAQJ1C9y84+a8/obXZ/fDuw8rZfzo8bz/Oe/P+cvOr7tM9xMgMI2AAMzTaKOAAKyNU1NzWwQEYG2ZVJfrvHpFcv+d/QVOOC25cmv/dUOu+OHWW3Lte96Vyb17DzthbOHCXPbmt+WJK84Z8nTbCBAgQIAAAQIECBAgQKBOgd6XX5f91WVThl+H6uqFYNe++FpfgtU5KHcTOIKAAMzzaKOAAKyNU1NzWwQEYG2ZVJfrfPeyZPLw//bd4SnUePLWHZVI9b78+vib1k4Zfh26sBeCvfKP1/kSrJIJOJQAAQIECBAgQIAAAQLVCly15ap8bOvH+l7yqhWvypXnXdl3nQUECIxeQAA2enM3zl5AADZ7QycQmE5AAOZtNF+gAV+AffXPP5bNf/3pvlYrX/yy/NLLX9l3nQUECBAgQIAAAQIECBAg0CyB5/7lc7NjV///UuWyxcvy5Zd9uVnFq4YAgf8lIADzENooIABr49TU3BYBAVhbJtXlOhvwG2Afft1v5sF7ftJ3Csed/Lj81gf6/zcG+x5kAQECBAgQIECAAAECBAiMVOBZf/6s7Hl4T987Fx29KF//ta/3XWcBAQKjFxCAjd7cjbMXEIDN3tAJBKYTEIB5G80XmLgzWXd+sn/X9LUuWJysvTlZclol/bzvipfm4X37+p599DHH5Hev6f+lWN+DLCBAgAABAgQIECBAgACBkQr4Amyk3C4jUImAAKwSVodWLCAAqxjY8Z0WEIB1evwtan7bxmTD5VOHYL3wa8365IzVlTXkC7DKaB1MgAABAgQIECBAgACBRgj4DbBGjEERBGYlIACbFZ/NNQkIwGqCd20nBARgnRhzIU32vgTb/JFk66eT3fcm4yclK16arHx1ZV9+HZLzG2CFvCFtECBAgAABAgQIECBAYBqBHQ/tyGV/dVl2P7x7WqPxo8dz7YuvzbJjl3EkQKCBAgKwBg5FSX0FBGB9iSwgMLSAAGxoOhu7JPDAPT/Ox9+0NpN7907b9tjChXnlH6/L8Sc/vks0eiVAgAABAgQIECBAgEAxAjfvuDmvv+H1U4ZgvfDr/c95f85fdn4x/WqEQGkCArDSJtqNfgRg3ZizLusREIDV4+7WFgr8cOstufY975oyBOuFX5e9+W154opzWtiZkgkQIECAAAECBAgQIEDgkEDvS7ANf78hX7jjC5nYN5ElxyzJ809/ftY8ZY0vvzwTAg0XEIA1fEDKm1JAAOZhEKhOQABWna2TCxTofQn27S9fl9s2bcyeBx/IouOOz1mrVucZz73Ul18FzltLBAgQIECAAAECBAgQIECAQHsEBGDtmZVK/0VAAOY1EKhOQABWna2TCRAgQIAAAQIECBAgQIAAAQIECBAYkYAAbETQrplTAQHYnHI6jMDPCAjAPAgCBAgQIECAAAECBAgQIECAAAECBFovIABr/Qg72YAArJNj1/SIBARgI4J2DQECBAgQIECAAAECBAgQIECAAAEC1QkIwKqzdXJ1AgKw6mydTEAA5g0QIECAAAECBAgQIECAAAECBAgQINB6AQFY60fYyQYEYJ0cu6ZHJCAAGxG0awgQIECAAAECBAgQIECAAAECBAgQqE5AAFadrZOrExCAVWfrZAICMG+AAAECBAgQIECAAAECBAgQIECAAIHWCwjAWj/CTjYgAOvk2DU9IgEB2IigXUOAAAECBAgQIECAAAECBAgQIECAQHUCArDqbJ1cnYAArDpbJxMQgHkDBAgQIECAAAECBAgQIECAAAECBAi0XkAA1voRdrIBAVgnx67pEQkIwEYE7RoCBAgQIECAAAECBAgQIECAAAECBKoTEIBVZ+vk6gQEYNXZOpmAAMwbIECAAAECBAgQIECAAAECBAgQIECg9QICsNaPsJMNCMA6OXZNj0hAADYiaNcQIECAAAECBAgQIECAAAECBAgQIFCdgACsOlsnVycgAKvO1skEBGDeAAECBAgQIECAAAECRQjseGhH1v/9+nzxji9mYt9ElhyzJM87/Xm5/Cn/H3t3H+RnWd4N/yCb3Ww2RDYhEBMClpfWdAjSAiFAvBtLyzuMofWZCbYiOlg0Vlqg+ji11BsZWvuo8Ig34cbSQbGWPDPVhvIOIzWtCYRAFRMeocWgmBeDIVmEbDa7JDzz60OssLu59uV3Xb/rus4PM53p3JzXeR7H5zj9w37vc38XxawDZ9WiR00QIECAAAECwwsIwNyOKgoIwKo4NTVXRUAAVpVJqZMAgXEL/HzbC/G9B+6Jp1f/a+x6+ecxeepbYu5pvxW/cdZ58ZYZh457fxsQIECAAAECrRNYs2VNXP7w5dH7au+gIromdsWNp98YC2YtaF2BTiZAgAABAgRyFxCA5U7sgBwEBGA5oNqSwOsCAjBXgQCBJASeX/9krPjctTHQ1zeo3/bOzlj88avjiHnHJ2GhSQIECBAgUDeBxsuvxXcuHjL82tdrIwRb8e4VXoLVbfj6IUCAAAECvyQgAHMdqiggAKvi1NRcFQEBWFUmpU4CBMYs0Hj59ZWrlg4Zfu3btBGCXfKFZV6CjVnZhwQIECBAoHUC1z9xfdy2/rbMAj4474NxxYlXZK6zgAABAgQIEKimgACsmnNLvWoBWOo3QP95CgjA8tS1NwECpRD416/fFmv/+RuZtcx/93vit957SeY6CwgQIECAAIFyCZz5j2fGlp1bMouaNWVWPPieBzPXWUCAAAECBAhUU0AAVs25pV61ACz1G6D/PAUEYHnq2psAgVIIfPmjH4iXt/0ss5apMw6JP7op+//3eOZGFhAgQIAAAQKFCpz89ZNj16u7Ms+cPHFyPPYHj2Wus4AAAQIECBCopoAArJpzS71qAVjqN0D/eQoIwPLUtTcBAqUQ+OLFvx+v7t6dWcvESZPiT27PfimWuZEFBAgQIECAQKECXoAVyu0wAgQIECBQWgEBWGlHo7D9CAjAXA8C+QkIwPKztTMBAiUR8AKsJINQBgECBAgQyEnAb4DlBGtbAgQIECBQMQEBWMUGptz/EhCAuQgE8hMQgOVna2cCBEoi4DfASjIIZRAgkITACy+8EI8//ng89dRTsWvXrpg8eXIce+yxcdJJJ8Whhx6ahIEmixfY8sqWWHzn4uh9tXfYw7smdsWKd6+IWQfOKr5AJxIgQIAAAQKFCAjACmF2SJMFBGBNBrUdgV8SEIC5DgQI1F7g59teiK9ctTQG+vqG7bW9szMu+cKyeMsM/8fZ2l8IDRIg0HSB1157Le6999740pe+FA888MCw+5911lnxsY99LM4999w44AD/Na/pg0h8wzVb1sTlD18+ZAjWCL9uPP3GWDBrQeJK2idAgAABAvUWEIDVe7517c5/M6rrZPVVBgEBWBmmoAYCBHIXeH79k7Hic9cOGYI1wq/FH786jph3fO51OIAAAQJ1E/jpT38aH/nIR2LFihUjbm3x4sVx8803x1vf+tYRf2MhgZEINF6CLX9medz33H3Rs7snuid1xzlHnhNL3r7Ey6+RAFpDgAABAgQqLiAAq/gAEy1fAJbo4LVdiIAArBBmhxAgUAaBxkuw7z14bzy9amXsevnnMXnqW2LuwkXxG2ee6+VXGQakBgIEKifwzDPPxO/8zu/Epk2bRl37YYcdFt/61rfi7W9/+6i/9QEBAgQIECBAgACBoQQEYO5FFQUEYFWcmpqrIiAAq8qk1EmAAAECBAgQKJFA4+VX43e9xhJ+7Wtjzpw5sXbtWi/BSjDXxsupO565I+5/7v5fvJw6+8iz46K3X+TlVAnmowQCBAgQIEBgZAICsJE5WVUuAQFYueahmnoJCMDqNU/dECBAgAABAgRyF2j85teFF14Yd95557jPavw5xG9+85t+E2zckmPfwG9njd3OlwQIECBAgEC5BARg5ZqHakYmIAAbmZNVBMYiIAAbi5pvCBAgUJDAqz198cojW2LXkz+LvTsHYsKU9ph8/CFx4KmzYmJ3Z0FVOIYAAQJvFLjnnnvi/PPPbxpLY79zzz23afvZaOQCjZdfi+9cHL2v9g77UdfErljx7hVego2c1UoCBAgQIECgRQICsBbBO3ZcAgKwcfH5mMB+BQRgLggBAgRKKtD3bE+8ePtT8Vr/3kEVHtAxIQ6++NjoPKa7pNUriwCBOgucffbZ8cADDzStxcZ+9913X9P2s9HIBa5/4vq4bf1tmR98cN4H44oTr8hcZwEBAgQIECBAoJUCArBW6jt7rAICsLHK+Y5AtoAALNvICgIECBQu0Hj5tfX6J4YMv/YV0wjBZl55opdghU/HgQTSFnjhhRdi5syZTUdo7HvIIYc0fV8b7l/gzH88M7bs3JLJNGvKrHjwPQ9mrrOAAAECBAgQINBKAQFYK/WdPVYBAdhY5XxHIFtAAJZtZAUBAgQKF+i577l4ZeXGzHOnLpoTB51zZOY6CwgQINAsgXvvvTfOO++8Zm33i30a+55zzjlN39eG+xc4+esnx65Xd2UyTZ44OR77g8cy11lAgAABAgQIEGilgACslfrOHquAAGyscr4jkC0gAMs2soIAAQKFC2z57GOxp2d35rlt3ZNi1idPzlxnAQECBJol8LnPfS4+8YlPNGu7X+zT2PfP/uzPmr6vDfcv4AWYG0KAAAECBAjUSUAAVqdpptOLACydWeu0eAEB2AjMG3+K7JVHtsSuJ38We3cOxIQp7TH5+EPiwFNn+dNjI/CzhACB0QtsunpVvDYw+Le/3rzTAe0T4rBrF47+AF8QIEBgjAKf+cxn4tOf/vQYvx7+s2uuuSb+8i//sun72nD/An4DzA0hQIAAAQIE6iQgAKvTNNPpRQCWzqx1WryAACzDvO/Znnjx9qeG/B2exu/vHHzxsdF5THfxk3MiAQK1FvACrNbj1RyBSgt4AVaANi5AAAAgAElEQVTp8Q0qfssrW2LxnYuj99XeYRvrmtgVK969ImYdOKtezeuGAAECBAgQqJ2AAKx2I02iIQFYEmPWZIsEBGD7gW+8/Np6/RNDhl/7PmuEYDOvPNFLsBZdYMcSqKuA3wCr62T1RaD6An4DrPozfHMHa7asicsfvnzIEKwRft14+o2xYNaC+jWuIwIECBAgQKB2AgKw2o00iYYEYEmMWZMtEhCA7Qfe/wG6RbfSsQQIhADeJSBAoKwCL7zwQsycObPp5TX2PeSQQ5q+rw1HJtB4Cbb8meVx33P3Rc/unuie1B3nHHlOLHn7Ei+/RkZoFQECBAgQIFACAQFYCYaghFELCMBGTeYDAiMWEIDth8qfIBvxPbKQAIEcBPwJ1hxQbUmAQFMEzj777HjggQeasldjk8Z+9913X9P2sxEBAgQIECBAgECaAgKwNOde9a4FYFWfoPrLLCAA2890Nl29Kl4b2Js5vwPaJ8Rh1y7MXGfBYIGNff1x26ZtsWLrjtg+sCemt7fF4pnT4gOHzYg5nR3ICCQv0HgJtvORLdH75M9i786BmDClPbqOPySmnDrLn15N/nYAINA6gXvuuSfOP//8phXQ2O/cc89t2n42IkCAAAECBAgQSFNAAJbm3KvetQCs6hNUf5kFBGD7mY4XYPle3e/seDnev+652LlncMg4pW1CfPW4I+Od06bmW4TdCRAgQIAAgVELvPbaa/F7v/d7sWLFilF/++YPLrzwwvjGN74RBxzgv/aNG9MGBAgQIECAAIHEBQRgiV+AirbvvwlVdHDKroSAAGw/Y/IbYPnd4cbLr0WPPT1k+LXv1EYItvLkuV6C5TcGOxMgQIAAgTEL/PSnP42TTjopNm3aNOY95syZE2vXro23vvWtY97DhwQIECBAgAABAgT2CQjA3IUqCgjAqjg1NVdFQAC2n0k1/vTY1uufiNf6h/8ziAd0TIiZV57oT5GN8sZf+8PNcdPzL2R+9cdHHBp/cfTszHUWECBAgAABAsULPPPMM/G7v/u7sXHjxlEf3gi/vvWtb8Wv/dqvjfpbHxAgQIAAAQIECBAYSkAA5l5UUUAAVsWpqbkqAgKwjEn1PdsTL97+1JAhWCP8OvjiY6PzmO6qzLs0dZ64+qnYtHsgs57DJrXHE6cdm7nOAgIECBAgQKA1Ao2XYB/5yEdG9ecQFy9eHDfffLOXX60ZmVMJECBAgAABArUVEIDVdrS1bkwAVuvxaq7FAgKwEQyg8RJs5yNbovfJn8XenQMxYUp7dB1/SEw5dZaXXyPwG2rJkSu/H7v2Dv+ybt83kydMiOcWvWOMp/iMAAECBAgQaLbAz7e9EN974J54evW/xq6Xfx6Tp74l3n7qb0VPR1f879u+Evfff/+wR5599tnxsY99LM455xy/+dXswdiPAAECBAgQIEAgBGAuQRUFBGBVnJqaqyIgAKvKpGpWpxdgNRuodggQIEAgCYHn1z8ZKz53bQz09Q3qt72zMxZ//OqYPHN2PP744/HUU09Fb29vdHV1xbHHHvtfvxd2yCGHJOGkSQIECBAgQIAAgdYICMBa4+7U8QkIwMbn52sC+xMQgLkfLRHwG2AtYXcoAQIECBAYs0Dj5ddXrlo6ZPi1b9NGCHbJF5bFW2YcOuZzfEiAAAECBAgQIEBgrAICsLHK+a6VAgKwVuo7u+4CArC6T7ik/W3s649Fjz0dO/cM/2cQp7RNiJUnz405nR0l7UJZBAgQIEAgHYF//fptsfafv5HZ8Px3vyd+672XZK6zgAABAgQIECBAgECzBQRgzRa1XxECArAilJ2RqoAALNXJl6Dv7+x4Od6/7rkhQ7BG+PXV446Md06bWoJKlUCAAAECBAh8+aMfiJe3/SwTYuqMQ+KPbrotc50FBAgQIECAAAECBJotIABrtqj9ihAQgBWh7IxUBQRgqU6+JH03XoJ9ZdO2+KetO2L7wJ6Y3t4WF86cFpccNsPLr5LMSBkECBAgQKAh8MWLfz9e3b07E2PipEnxJ7dnvxTL3MgCAgQIECBAgAABAqMUEICNEszyUggIwEoxBkXUVEAAVtPBaosAAQIECBAg0EwBL8CaqWkvAgQIECBAgACBPAQEYHmo2jNvAQFY3sL2T1lAAJby9PVOgAABAgQIEBihgN8AGyGUZQQIECBAgAABAi0TEIC1jN7B4xAQgI0Dz6cEMgQEYK4IAQIECBAgQIBApsDPt70QX7lqaQz09Q27tr2zMy75wrJ4y4xDM/ezgAABAgQIECBAgECzBQRgzRa1XxECArAilJ2RqoAALNXJ65sAAQIECBAgMEqB59c/GSs+d+2QIVgj/Fr88avjiHnHj3JXywkQIECAAAECBAg0R0AA1hxHuxQrIAAr1ttpaQkIwNKat24JECBAgAABAuMSaLwE+96D98bTq1bGrpd/HpOnviXmLlwUv3HmuV5+jUvWxwQIECBAgAABAuMVEICNV9D3rRAQgLVC3ZmpCAjAUpm0PgkQIECAAAECBAgQIECAAAECBAjUWEAAVuPh1rg1AViNh6u1lgsIwFo+AgUQIECAAAECBAgQIECAAAECBAgQIDBeAQHYeAV93woBAVgr1J2ZioAALJVJ65MAAQIECBAgQIAAAQIECBAgQIBAjQUEYDUebo1bE4DVeLhaa7mAAKzlI1AAAQIECBAgQIAAAQIECBAgQIAAAQLjFRCAjVfQ960QEIC1Qt2ZqQgIwFKZtD4JECBAgAABAgQIECBAgAABAgQI1FhAAFbj4da4NQFYjYertZYLCMBaPgIFECBAgAABAgQIECBAgAABAgQIECAwXgEB2HgFfd8KAQFYK9SdmYqAACyVSeszeYGNff1x26ZtsWLrjtg+sCemt7fF4pnT4gOHzYg5nR3J+wAgQIAAAQIECBAgQIAAAQIEqi0gAKv2/FKtXgCW6uT1XYSAAKwIZWcQaLHAd3a8HO9f91zs3LN3UCVT2ibEV487Mt45bWqLq3Q8AQIECBAgQIAAAQIECBAgMGqBnp9ErP3biPXfjOh9MaLr4Ih5vxcx/0MR3YePersqfyAAq/L00q1dAJbu7HWev4AALH9jJxBoqUDj5deix54eMvzaV1gjBFt58lwvwVo6KYcTIECAAAECBAgQIECAAIFRCmxYGbH8ooj+nYM/7JgSseSOiKMWjXLT6i4XgFV3dilXLgBLefp6z1tAAJa3sP0JtFjg2h9ujpuefyGzij8+4tD4i6NnZ66zgAABAgQIECBAgAABAgQIECiBQOPl17IFQ4df+8prhGBL1yTzEkwAVoJ7qYRRCwjARk3mAwIjFhCAjZjKQgLVFDhx9VOxafdAZvGHTWqPJ047NnOdBQQIECBAgAABAgQIECBAgEAJBB76y4hVX8wuZOGfRpxxTfa6GqwQgNVgiAm2IABLcOhaLkxAAFYYtYMItEbgyJXfj117B//215urmTxhQjy36B2tKdKpBAgQIECAAAECBAgQIECAwOgEbpgX8dJPsr856PCIK9Znr6vBCgFYDYaYYAsCsASHruXCBARghVE7iEBrBLwAa427UwkQIECAAAECBAgQIECAQK4C182KGOjNPqK9K+JTW7LX1WCFAKwGQ0ywBQFYgkPXcmECArDCqB1EoDUCfgOsNe5OJUCAAAECBAgQIECAAAECuQp4ATaIVwCW642zeU4CArCcYG1LICIEYK4BgZoLbOzrj0WPPR079wz/ZxCntE2IlSfPjTmdHTXX0B4BAgQIECBAgAABAgQIEKiJgN8AE4DV5Cqn3oYALPUboP88BQRgeeram0BJBL6z4+V4/7rnhgzBGuHXV487Mt45bWpJqlUGAQIECBAgQIAAAQIECBAgkCnQ85OIZQsi+ncOv7RjSsTSNRHdh2duV4cFXoDVYYrp9SAAS2/mOi5OQABWnLWTCLRUoPES7CubtsU/bd0R2wf2xPT2trhw5rS45LAZXn61dDIOJ0CAAAECBAgQIECAAAECYxTYsDJi+UVDh2CN8GvJHRFHLRrj5tX7TABWvZmpOEIA5hYQyE9AAJafrZ0JECBAgAABAgQIECBAgAABAgQI5CvQeAm29taI9d+I6H0xouvgiHm/HzH/0mRefu0DFoDle9Xsno+AACwfV7sSaAgIwNwDAgQIECBAgAABAgQIECBAgAABAgQqLyAAq/wIk2xAAJbk2DVdkIAArCBoxxAgQIAAAQIECBAgQIAAAQIECBAgkJ+AACw/WzvnJyAAy8/WzgQEYO4AAQIECBAgQIAAAQIECBAgQIAAAQKVFxCAVX6ESTYgAEty7JouSEAAVhC0YwgQIECAAAECBAgQIECAAAECBAgQyE9AAJafrZ3zExCA5WdrZwICMHeAAAECBAgQIECAAAECBAgQIECAAIHKCwjAKj/CJBsQgCU5dk0XJCAAKwjaMQQIECBAgAABAgQIECBAgAABAgQI5CcgAMvP1s75CQjA8rO1MwEBmDtAgAABAgQIECBAgAABAgQIECBAgEDlBQRglR9hkg0IwJIcu6YLEhCAFQTtGAIECBAgQIAAAQIECBAgQIAAAQIE8hMQgOVna+f8BARg+dnamYAAzB0gQIAAAQIECBB4g8Cmnl1x+yM/iruf3BLbd/bH9Ckdcf7xs+LiU38lDuueTIsAAQIECBAgQIBAKQUEYKUci6IyBARgrgiB/AQEYPnZ2pkAAQIECBAgUDmB1c9ui0tvfzx6+/cMqr2roy1uvfikOO2YGZXrS8EECBAgQIAAAQL1FxCA1X/GdexQAFbHqeqpLAICsLJMQh0ECBAgQIAAgRYLNF5+nXH9yiHDr32lNUKwh65c5CVYi2fleAIECBAgQIAAgcECAjC3oooCArAqTk3NVREQgFVlUuokQIAAAQIECOQs8Nf3/SBuWbkh85QPLzo6PnnO3Mx1FhAgQIAAAQIECBAoUkAAVqS2s5olIABrlqR9CAwWEIC5FQQIECBAgAABAv8lsPCzD0fjFVjWP43fAVv1ydOzlvn3BAgQIECAAAECBAoVEIAVyu2wJgkIwJoEaRsCQwgIwFwLAgQIECBAgACB/xL49avvj10Dg3/76808k9vb4gfXnk2NAAECBAgQIECAQKkEBGClGodiRiggABshlGXJCPxhRHzt9W4/FBG3jqNzAdg48HxKgAABAgQIEKiTgBdgdZqmXggQIECAAAEC6QkIwNKbeR06FoDVYYp6aJbA4RGxLiLaIuLAiBCANUvWPgQIECBAgACBxAX8BljiF0D7BAgQIECAAIGKCwjAKj7ARMsXgCU6eG0PEmj8Z+GhiDgyIr4ZEX8mAHNLCBAgQIAAAQIEmiXQ+P2vM65fGb39w/8ZxK6OtnjoykXR+B0w/xAgQIAAAQIECBAok4AArEzTUMtIBQRgI5Wyru4CfxIRN0TEuyKi8avjnxaA1X3k+iNAgAABAgQIFCuw+tltcentjw8ZgjXCr1svPilOO2ZGsUU5jQABAgQIECBAgMAIBARgI0CypHQCArDSjURBLRD49Yj494j43xFxRUT8TwFYC6bgSAIECBAgQIBAAgKNl2Bfe+THcdeTm2P7zv6YPqUjLjh+drzv1Ld5+ZXA/LVIgAABAgQIEKiqgACsqpNLu24BWNrz133ExIh4NCKmRsRvRMSuMQRgTwwDOfeEE07oeuKJ4f41fgIECBAgQIAAAQL5C2x5ZUvc8cwdcf9z90fP7p7ontQdZx95dlz09oti1oGz8i/ACQQIECBAgAABApUXEIBVfoRJNiAAS3Lsmv4lgc9ExKci4p0R8cjr/++jfQEmAHOlCBAgQIAAAQIESimwZsuauPzhy6P31d5B9XVN7IobT78xFsxaUMraFUWAAAECBAgQIFAeAQFYeWahkpELCMBGbmVl/QQa/01/VURcHxGf+KX2RhuADSfzxAknnHCCF2D1uzg6IkCAAAECBAhUQaDx8mvxnYuHDL/21d8IwVa8e4WXYFUYqBoJECBAgAABAi0UEIC1EN/RYxYQgI2ZzocVF2j86cOnImJPRPxmROwWgFV8osonQIAAAQIECBB4g8D1T1wft62/LVPlg/M+GFec2PgpXP8QIECAAAECBAgQGFpAAOZmVFFAAFbFqam5GQLdEbFjhBt9MSL+dIRrf3mZF2BjQPMJAQIECBAgQIBAcwTO/MczY8vOLZmbzZoyKx58z4OZ6ywgQIAAAQIECBBIV0AAlu7sq9y5AKzK01P7eAQmR8SXhtnghNdfhX0nIp6JiIci4v8Zw2ECsDGg+YQAAQIECBAgQKA5Aid//eTY9equzM0mT5wcj/3BY5nrLCBAgAABAgQIEEhXQACW7uyr3LkArMrTU3teAn4DLC9Z+9ZS4OXtfbHu2xvjPx/fGn2vDETnge3xqyfNjOPeNSemTu+sZc+aIkCAAAECVRDwAqwKU1IjAQIECBAgQKAaAgKwasxJlW8UEIC5EQQGCwjA3AoCIxTY+PT2uPfmdTGwu/Fzem/8p31SW5z7keNiztzpI9zNMgIECBAgQKCZAn4DrJma9iJAgAABAgQIpC0gAEt7/lXtXgBW1cmpO08BAVieuvaujUDj5dcd16wZMvza12QjBLvo0wu8BKvN1DXSTIGNff1x26ZtsWLrjtg+sCemt7fF4pnT4gOHzYg5nR3NPMpeBAgkKrDllS2x+M7F0ftq77ACXRO7YsW7V8SsA2clqqRtAgQIECBAgACBkQgIwEaiZE3ZBARgZZuIeuok4DfA6jRNvQwSWP3NZ+O7Dz6fKXPCWUfEqRcek7nOAgIpCXxnx8vx/nXPxc49ewe1PaVtQnz1uCPjndOmpkSiVwIEchJYs2VNXP7w5UOGYI3w68bTb4wFsxbkdLptCRAgQIAAAQIE6iIgAKvLJNPqQwCW1rx1W6yAAKxYb6cVLPDVP18Vr2zfnXnqgdMnxfv/amHmOgsIpCLQePm16LGnhwy/9hk0QrCVJ8/1EiyVS6FPAjkLNF6CLX9medz33H3Rs7snuid1xzlHnhNL3r7Ey6+c7W1PgAABAgQIEKiLgACsLpNMqw8BWFrz1m2xAgKwYr2dVrDALZd/O17tH/x65c1lTOyYEJfd+K6Cq3McgfIKXPvDzXHT8y9kFvjHRxwaf3H07Mx1FhAgQIAAAQIECBAgQIAAgbwFBGB5C9s/DwEBWB6q9iTw/wsIwNyEWgt4AVbr8WouR4ETVz8Vm3YPZJ5w2KT2eOK0YzPXWUCAAAECBAgQIECAAAECBPIWEIDlLWz/PAQEYHmo2pOAAMwdSEDAb4AlMGQt5iJw5Mrvx6692a8nJ0+YEM8tekcuNdiUAAECBAgQIECAAAECBAiMRkAANhota8siIAAryyTUUUcBL8DqOFU9/ULg5e19ccc1a2Jg955hVdontcVFn14QU6d3kiNA4HUBL8BcBQIECBAgQIAAAQIECBComoAArGoTU29DQADmHhDIT0AAlp+tnUsisPHp7XHvzeuGDMEa4de5Hzku5sydXpJqlUGgHAJ+A6wcc1AFAQIECBAgQIAAAQIECIxcQAA2cisryyMgACvPLFRSPwEBWP1mqqMhBBovwdav3Bj/sXZr9L0yEJ0HtsevzZ8Z8xbN8fLLjSEwhMDGvv5Y9NjTsXPP8H8GcUrbhFh58tyY09nBkAABAgQIECBAgAABAgQItFxAANbyEShgDAICsDGg+YTACAUEYCOEsowAAQKpCXxnx8vx/nXPDRmCNcKvrx53ZLxz2tTUWPRLgAABAgQIECBAIFeBvr7NsXHj12Lr1rujf2BHdLRPi5kzz485c94XnZ2zcz3b5gSqLiAAq/oE06xfAJbm3HVdjIAArBhnpxAgQKCSAo2XYF/ZtC3+aeuO2D6wJ6a3t8WFM6fFJYfN8PKrkhNVNAECBAgQIECAQJkFtm9fHd9fd1ns2dM7qMy2tq54x3G3xPTpp5W5BbURaKmAAKyl/A4fo4AAbIxwPiMwAgEB2AiQLCFAgAABAgQIECBAgAABAgQI5CnQePn16Jqzhgy/9p3bCMFOWfCAl2B5DsLelRYQgFV6fMkWLwBLdvQaL0BAAFYAsiMIECBAgAABAgQIECBAgAABAvsTePbZv4kfP//lTKS3HXFZHHPMJzLXWUAgRQEBWIpTr37PArDqz1AH5RUQgJV3NiojQIAAAQIECBAgQIAAAQIEEhFYtep/RN/uzZnddk6aHQsX/lvmOgsIpCggAEtx6tXvWQBW/RnqoLwCArDyzkZlBAgQIECAAAECBAgQIECAQCIC//LtebF3767MbidMmBy//a71messIJCigAAsxalXv2cBWPVnqIPyCgjAyjsblREgQIAAAQIECBAgQIAAAQKJCHgBlsigtZmrgAAsV16b5yQgAMsJ1rYEIkIA5hoQIECAAAECBAgQIECAAAECBFos4DfAWjwAx9dCQABWizEm14QALLmRa7hAAQFYgdiOIkCAAAECBAgQIECAAAECBAgMJdDXtzkeXXNW7NnTOyxQW1tXnLLggejsnA2RAIEhBARgrkUVBQRgVZyamqsiIACryqTUSYAAAQIECBAgQIAAAQIECNRaYPv21fH9dZcNGYI1wq93HHdLTJ9+Wq0NNEdgPAICsPHo+bZVAgKwVsk7NwUBAVgKU9YjAQIECBAgQIAAAQIECBAgUAmBxkuwjRv/PrZuvSv6B3ZER/u0mDnzgpgz5w+9/KrEBBXZSgEBWCv1nT1WAQHYWOV8RyBbQACWbWQFAQIECBAgQIAAAQIECBAgQIAAAQIlFxCAlXxAyhtSQADmYhDIT0AAlp+tnQkQIECAAAECBAgQIECAAAECBAgQKEhAAFYQtGOaKiAAayqnzQi8QUAA5kIQIECAAAECBAgQIECAAAECBAgQIFB5AQFY5UeYZAMCsCTHrumCBARgBUE7hgABAgQIECBAgAABAgQIECBAgACB/AQEYPnZ2jk/AQFYfrZ2JiAAcwcIECBAgAABAgQIECBAgAABAgQIEKi8gACs8iNMsgEBWJJj13RBAgKwgqAdQ4AAAQIECBAgQIAAAQIECBAgQIBAfgICsPxs7ZyfgAAsP1s7ExCAuQMECBAgQIAAAQIECBAgQIAAAQIECFReQABW+REm2YAALMmxa7ogAQFYQdCOIUCAAAECBAgQIECAAAECBAgQIEAgPwEBWH62ds5PQACWn62dCQjA3AECBAgQIECAAAECBAgQIECAAAECBCovIACr/AiTbEAAluTYNV2QgACsIGjHECBAgAABAgQIECBAgAABAgQIECCQn4AALD9bO+cnIADLz9bOBARg7gABAgQIECBAgAABAgQIECBAgAABApUXEIBVfoRJNiAAS3Lsmi5IQABWELRjCBAgQIAAAQIECBAgQIAAAQIECBDIT0AAlp+tnfMTEIDlZ2tnAgIwd4AAAQIECBAgQIAAAQIECBAgQIAAgcoLCMAqP8IkGxCAJTl2TRckIAArCNoxBAgQIECAAAECBAgQIECAAAECBAjkJyAAy8/WzvkJCMDys7UzAQGYO0CAAAECBAgQIECAAAECBAgQIECAQOUFBGCVH2GSDQjAkhy7pgsSEIAVBO0YAgQIECBAgAABAgQIECBAgAABAgTyExCA5Wdr5/wEBGD52dqZgADMHSBAgAABAgQIECBAgAABAgQIECBAoPICArDKjzDJBgRgSY5d0wUJCMAKgnYMAQIECBAgQIAAAQIECBAgQIAAAQL5CQjA8rO1c34CArD8bO1MQADmDhAgQIAAAQIECBAgQIAAAQIECBAgUHkBAVjlR5hkAwKwJMeu6YIEBGAFQTuGAAECBAgQIECAAAECBAgQIECAAIH8BARg+dnaOT8BAVh+tnYmIABzBwgQIECAAAECBAgQIECAAAECBAgQqLyAAKzyI0yyAQFYkmPXdEECArCCoB1DgAABAgQIECBAgAABAgQIECBAgEB+AgKw/GztnJ+AACw/WzsTEICV+A709PTE2rVrY/369dHb2xtdXV0xb968mD9/fnR3d5e4cqURIECAAAECBAgQIECAAAECBAgQKFZAAFast9OaIyAAa46jXQgMJSAAK+m92LBhQyxfvjz6+/sHVdjR0RFLliyJo446qqTVK4sAAQIECBAgQIAAAQIECBAgQIBAsQICsGK9ndYcAQFYcxztQkAAVpE70Hj5tWzZsiHDr30tNEKwpUuXeglWkZkqkwABAgQIECBAgAABAgQIECBAIF8BAVi+vnbPR0AAlo+rXQk0BLwAK+E9eOihh2LVqlWZlS1cuDDOOOOMzHUWECBAgAABAgQIECBAgAABAgQIEKi7gACs7hOuZ38CsHrOVVflEBCAlWMOb6jihhtuiJdeeimzsoMOOiiuuOKKzHUWECBAgAABAgQIECBAgAABAgQIEKi7gACs7hOuZ38CsHrOVVflEBCAlWMOb6jiuuuui4GBgczK2tvb41Of+lTmOgsIECBAgAABAgQIECBAgAABAgQI1F1AAFb3CdezPwFYPeeqq3IICMDKMYc3VOEFWAmHoiQCBAgQIECAAAECBAgQIECAAIFSCwjASj0exQ0jIABzNQjkJyAAy892zDv7DbAx0/mQAAECBAgQIECAAAECBAgQIEAgUQEBWKKDr3jbArCKD1D5pRYQgJVwPD09PbFs2bLo7+8ftrqOjo5YunRpdHd3l7ADJREgQIAAAQIECBAgQIAAAQIECBAoVkAAVqy305ojIABrjqNdCAwlIAAr6b3YsGFDLF++fMgQrBF+LVmyJI466qiSVq8sAgQIECBAgAABAgQIECBAgAABAsUKCMCK9XZacwQEYM1xtAsBAVjF7kDjJdjatWtj/fr10dvbG11dXTFv3ryYP3++l18Vm6VyCRAgQIAAAQIECBAgQIAAAQIE8hUQgOXra/d8BARg+bjalUBDwAsw94AAAQIECBAgQIAAAQIECBSy4MgAACAASURBVBAgQIAAgcoLCMAqP8IkGxCAJTl2TRckIAArCNoxBAgQIECAAAECBAgQIECAAAECBAjkJyAAy8/WzvkJCMDys7UzAQGYO0CAAAECBAgQIECAAAECBAgQIECAQOUFBGCVH2GSDQjAkhy7pgsSEIAVBO0YAgQIECBAgAABAgQIECBAgAABAgTyExCA5Wdr5/wEBGD52dqZgADMHSBAgAABAgQIECBAgAABAgQIECBAoPICArDKjzDJBgRgSY5d0wUJCMAKgnYMAQIECBAgQIAAAQIECBAgQIAAAQL5CQjA8rO1c34CArD8bO1MQADmDhAgQIAAAQIECBAgQIAAAQIECBAgUHkBAVjlR5hkAwKwJMeu6YIEBGAFQTuGAAECBAgQIECAAAECBAgQIECAAIH8BARg+dnaOT8BAVh+tnYmIABzBwgQIECAAAECBAgQIECAAAECBAgQqLyAAKzyI0yyAQFYkmPXdEECArCCoB1DgAABAgQIECBAgAABAgQIECBAgEB+AgKw/GztnJ+AACw/WzsTEIC5AwQIECBAgAABAgQIECBAgAABAgQIVF5AAFb5ESbZgAAsybFruiABAVhB0I4hQIAAAQIECBAgQIAAAQIECBAgQCA/AQFYfrZ2zk9AAJafrZ0JCMDcAQIECBAgQIAAAQIECBAgQIAAAQIEKi8gAKv8CJNsQACW5Ng1XZCAAKwgaMcQIECAAAECBAgQIECAAAECBAgQIJCfgAAsP1s75ycgAMvP1s4EBGDuAAECBAgQIECAAAECBAgQIECAAAEClRcQgFV+hEk2IABLcuyaLkgg2QDs1Z6+eOWRLbHryZ/F3p0DMWFKe0w+/pA48NRZMbG7syB+xxAgQIAAAQIECBAgQIAAAQIECBAg0AwBAVgzFO1RtIAArGhx56UkkGQA1vdsT7x4+1PxWv/eQbM+oGNCHHzxsdF5THdK90CvBAgQIECAAAECBAgQKLXAwObNseMf/iFeuvfe2LOjJ9qmdcdB554b09773mifPbvUtSuOAAECBIoREIAV4+yU5goIwJrraTcCvyyQXADWePm19fonhgy/9sE0QrCZV57oJZj/rBAgQIAAAQIECBAgQKAEAjsffTR+svSj8Vpv76BqDujqisOX3RRTTjmlBJUqgQABAgRaKSAAa6W+s8cqIAAbq5zvCGQLJBeA9dz3XLyycmOmzNRFc+Kgc47MXGcBAQIECBAgQIAAAQIECOQn0Hj59cPzLxgy/Np3aiMEO/ruu7wEy28MdiZAgEAlBARglRiTIt8kIABzJQjkJ5BcALbls4/Fnp7dmaJt3ZNi1idPzlxnAQECBAgQIECAAAECBAjkJ/DC5z8fL976d5kHHPyhS+PQq67KXGcBAQIECNRXQABW39nWuTMBWJ2nq7dWCyQXgG26elW8NjD4t7/ePIgD2ifEYdcubPV8nE+AAAECBAgQIECAAIGkBf7z9NPj1c1bMg0mzp4Vv/rww5nrLCBAgACB+goIwOo72zp3JgCr83T11mqB5AIwL8BafeWcT4AAAQIECBAgQIAAgZELPP2bJ8Rru3ZlfnDA5Mkx97v/nrnOAgIECBCor4AArL6zrXNnArA6T1dvrRZILgDzG2CtvnLOJ0CAAAECBAgQIECAwMgFvAAbuZWVBAgQSF1AAJb6Dahm/wKwas5N1dUQSC4Ae7WnL7Ze/0S81j/8n0E8oGNCzLzyxJjY3VmNKaqSAAECBAgQIECAAAECNRXwG2A1Hay2CBAgkIOAACwHVFvmLiAAy53YAQkLJBeANWbd92xPvHj7U0OGYI3w6+CLj43OY7oTvhZaJ0CAAAECBAgQIECAQDkEBjZvjh+ef0G81ts7bEEHdHXF0XffFe2zZ5ejaFUQIECAQEsEBGAtYXfoOAUEYOME9DmB/QgkGYA1PBovwXY+siV6n/xZ7N05EBOmtEfX8YfElFNnefnlPzIECBAgQIAAAQIECBAokcDORx+Nnyz96JAhWCP8OnzZTTHllFNKVLFSCBAgQKAVAgKwVqg7c7wCArDxCvqewPACyQZgLgUBAgQIECBAgAABAgQIVEeg8RJsxx13xEv33BN7dvRE27TuOOi882LaRRd5+VWdMaqUAAECuQoIwHLltXlOAgKwnGBtSyAiBGCuAQECBAgQIECAAAECBAgQIECAAAEClRcQgFV+hEk2IABLcuyaLkhAAFYQtGMIEChGYFPPrrj9kR/F3U9uie07+2P6lI44//hZcfGpvxKHdU8upoiI6OnpibVr18b69eujt7c3urq6Yt68eTF//vzo7vYbg4UNwkEECBAgQIAAAQIECBAgkIyAACyZUdeqUQFYrcapmZIJCMBKNhDlECAwdoHVz26LS29/PHr79wzapKujLW69+KQ47ZgZYz9ghF9u2LAhli9fHv39/YO+6OjoiCVLlsRRRx01wt0sI0CAAAECBAgQIECAAAECBEYiIAAbiZI1ZRMQgJVtIuqpk4AArE7T1AuBhAUaL7/OuH7lkOHXPpZGCPbQlYtyfQnWePm1bNmyIcOvfXU0QrClS5d6CZbwfdU6AQIECBAgQIAAAQIECDRfQADWfFM75i8gAMvf2AnpCgjA0p29zgnUSuCv7/tB3LJyQ2ZPH150dHzynLmZ68a64KGHHopVq1Zlfr5w4cI444wzMtdZQIAAAQIECBAgQIAAAQIECIxMQAA2MieryiUgACvXPFRTLwEBWL3mqRsCyQos/OzD0XgFlvVP43fAVn3y9KxlY/73N9xwQ7z00kuZ3x900EFxxRVXZK6zgAABAgQIECBAgAABAgQIEBiZgABsZE5WlUtAAFaueaimXgICsHrNUzcEkhX49avvj10Dg3/7680gk9vb4gfXnp2b03XXXRcDAwOZ+7e3t8enPvWpzHUWECBAgAABAgQIECBAgAABAiMTEICNzMmqcgkIwMo1D9XUS0AAVq956oZAsgJegCU7eo0TIECAAAECBAgQIECAAIH/EhCAuQhVFBCAVXFqaq6KgACsKpNSJwEC+xXwG2AuCAECBAgQIECAAAECBAgQSFtAAJb2/KvavQCsqpNTdxUEBGBVmJIaCRDIFGj8/tcZ16+M3v7h/wxiV0dbPHTlomj8Dlhe//T09MSyZcuiv79/2CM6Ojpi6dKl0d3dnVcZ9iVAgAABAgQIECBAgAABAskJCMCSG3ktGhaA1WKMmiipgACspINRFgECoxdY/ey2uPT2x4cMwRrh160XnxSnHTNj9BuP8osNGzbE8uXLhwzBGuHXkiVL4qijjhrlrpYTIECAAAECBAgQIECAAAEC+xMQgLkfVRQQgFVxamquioAArCqTUicBAiMSaLwE+9ojP467ntwc23f2x/QpHXHB8bPjfae+LdeXX28urvESbO3atbF+/fro7e2Nrq6umDdvXsyfP9/LrxFN0iICBAgQIECAAAECBAgQIDA6AQHY6LysLoeAAKwcc1BFPQUEYPWcq64IECBAgAABAgQIECBAgAABAgQIJCUgAEtq3LVpVgBWm1FqpIQCArASDkVJBAgQIECAAAECBAgQIECAAAECBAiMTkAANjovq8shIAArxxxUUU8BAVg956orAgQIECBAgAABAgQIECBAgAABAkkJCMCSGndtmhWA1WaUGimhgACshENREgECBAgQIECAAAECBAgQIECAAAECoxMQgI3Oy+pyCAjAyjEHVdRTQABWz7nqigABAgQIECBAgAABAgQIECBAgEBSAgKwpMZdm2YFYLUZpUZKKCAAK+FQlESAAAECBAiUV6Cvb3Ns3Pi12Lr17ugf2BEd7dNi5szzY86c90Vn5+zyFq4yAgQIECBAgAABAjUXEIDVfMA1bU8AVtPBaqsUAgKwUoxBEQQIECBAgEAVBLZvXx3fX3dZ7NnTO6jctraueMdxt8T06adVoRU1EiBAgAABAgQIEKidgACsdiNNoiEBWBJj1mSLBARgLYJ3LAECBAgQIFAtgcbLr0fXnDVk+LWvk0YIdsqCB7wEq9ZoVUuAAAECBAgQIFATAQFYTQaZWBsCsMQGrt1CBQRghXI7jAABAgQIEKiqwLPP/k38+PkvZ5b/tiMui2OO+UTmOgsIECBAgAABAgQIEGiugACsuZ52K0ZAAFaMs1PSFBCApTl3XRMgQIAAAQKjFFi16n9E3+7NmV91TpodCxf+W+Y6CwgQIECAAIHhBQY2b44d//AP8dK998aeHT3RNq07Djr33Jj23vdG+2y/uenuECAwtIAAzM2oooAArIpTU3NVBARgVZmUOgkQIECAAIGWCvzLt+fF3r27MmuYMGFy/Pa71meus4AAAQIECBAYWmDno4/GT5Z+NF7rHfybmwd0dcXhy26KKaecgo8AAQKDBARgLkUVBQRgVZyamqsiIACryqTUSYAAAQIECLRUwAuwlvI7nAABAgQSEWi8/Prh+RcMGX7tI2iEYEfffZeXYIncCW0SGI2AAGw0WtaWRUAAVpZJqKMVAgdHxIURcV5EHBcRh0VEf0Ssi4jbXv+fveMoTAA2DjyfEiBAgAABAukI+A2wdGatUwIECBBoncALn/98vHjr32UWcPCHLo1Dr7oqc50FBAikJSAAS2vedelWAFaXSepjLAIfjoibI2JLRPxLRDwfETMj4vci4qCI+EZE/B8R8dpYNo8IAdgY4XxGgAABAgQIpCXQ17c5Hl1zVuzZM/jPMe2TaGvrilMWPBCdnX6bJK3boVsCBAgQaJbAf55+ery6ufF/Atn/PxNnz4pfffjhrGX+PQECiQkIwBIbeE3aFYDVZJDaGJPA6RExJSLuiYhffun11oh4LCIOj4j3vB6EjeUAAdhY1HxDgAABAgQIJCmwffvq+P66y4YMwRrh1zuOuyWmTz8tSRtNEyBAgACBZgg8/ZsnxGu7sn9z84DJk2Pud/+9GUfagwCBGgkIwGo0zIRaEYAlNGytjkrgzyPiuoj4XxHxsVF9+d+LBWBjhPMZAQIECBAgkKZA4yXYxo1/H1u33hX9Azuio31azJx5QcyZ84defqV5JXRNgAABAk0U8AKsiZi2IpCggAAswaHXoGUBWA2GqIVcBD4eEf9XRPzfEXHFGE8QgI0RzmcECBAgQIAAAQIECBAgQIBAcwX8BlhzPe1GIDUBAVhqE69HvwKwesxRF80VmBgR342IeRFxdkQ8MMbtBWBjhPMZAQIECBAgQIAAAQIECBAg0FyBgc2b44fnXxCv9Q7/m5sHdHXF0XffFe2z/eZmc/XtRqD6AgKw6s8wxQ4EYClOXc9ZAp+PiKsi4t6IOC9rcUQ8McyauSeccELXE08M969HsLMlBAgQIECAAAECBAgQIECAAIEmCex89NH4ydKPDhmCNcKvw5fdFFNOOaVJp9mGAIE6CQjA6jTNdHoRgKUza52OTODyiPhiRDwdEQsjYvsIPhOAjQDJEgIECBAgQIAAAQIECBAgQKD1Ao2XYDvuuCNeuuee2LOjJ9qmdcdB550X0y66yMuv1o9HBQRKKyAAK+1oFLYfAQGY60HgvwX+OCK+FBH/b0T8TkT8dJw4/gTiOAF9ToAAAQIECBAgQIAAAQIECBAgQIBA6wUEYK2fgQpGLyAAG72ZL+op8KcRcUNErH89/HqhCW0KwJqAaAsCBAgQIECAAAECBAgQIECAAAECBForIABrrb/TxyYgABubm6/qJfB/RsRnI+J7EXFGRGxrUnsCsCZB2oYAAQIECBAgUHaBnp6eWLt2baxfvz56e3ujq6sr5s2bF/Pnz4/u7u6yl68+AgQIECBAgAABAvsVEIC5IFUUEIBVcWpqbqbA1RHxmYho/I7XmSP8za+Rni8AG6mUdQQIECBAgACBCgts2LAhli9fHv39/YO66OjoiCVLlsRRRx1V4Q6VToAAAQIECBAgkLqAACz1G1DN/gVg1Zybqpsj8P6I+EpE7Hn9t79eGmLbH72+ZiwnCsDGouYbAgQIECBAgECFBBovv5YtWzZk+LWvjUYItnTpUi/BKjRXpRIgQIAAAQIECLxRQADmRlRRQABWxampuVkC/zMiPp2x2cqIeNcYDxSAjRHOZwQIECBAgACBqgg89NBDsWrVqsxyFy5cGGec0fhr2/4hQIAAAQIECBAgUD0BAVj1ZqbiCAGYW0AgPwEBWH62diZAgAABAgQIlELghhtuiJdeGuoPCbyxvIMOOiiuuOKKUtSsCAIECBAgQIAAAQKjFRCAjVbM+jIICMDKMAU11FVAAFbXyeqLAAECBAgQIPC6wHXXXRcDAwOZHu3t7fGpT30qc50FBAgQIECAAAECBMooIAAr41TUlCUgAMsS8u8JjF1AADZ2O18SIECAAAECBCoh4AVYJcakSAIECBAgQIAAgXEKCMDGCejzlggIwFrC7tBEBARgiQxamwQIECBAgEC6An4DLN3Z65wAAQIECBAgkJKAACyladenVwFYfWapk/IJCMDKNxMVESBAgAABAgSaKtDT0xPLli2L/v7+Yfft6OiIpUuXRnd3d1PPthkBAgQIECBAgACBogQEYEVJO6eZAgKwZmrai8AbBQRgbgQBAgQIECBAIAGBDRs2xPLly4cMwRrh15IlS+Koo45KQEKLBAgQIECAAAECdRUQgNV1svXuSwBW7/nqrrUCArDW+judAAECBAgQIFCYQOMl2Nq1a2P9+vXR29sbXV1dMW/evJg/f76XX4VNwUEECBAgQIAAAQJ5CQjA8pK1b54CArA8de2duoAALPUboH8CBAgQIECAAAECBAgMIzCweXPs+Id/iJfuvTf27OiJtmndcdC558a097432mfP5kaAAAECBEolIAAr1TgUM0IBAdgIoSwjMAYBAdgY0HxCgAABAgQIECBAgACBugvsfPTR+MnSj8Zrvb2DWj2gqysOX3ZTTDnllLoz6I8AAQIEKiQgAKvQsJT6CwEBmMtAID8BAVh+tnYmQIAAAQIECBAgQIBAJQUaL79+eP4FQ4Zf+xpqhGBH332Xl2CVnLCiCRAgUE8BAVg951r3rgRgdZ+w/lopIABrpb6zCRAgQIAAAQIECBAgUEKBFz7/+Xjx1r/LrOzgD10ah151VeY6CwgQIECAQBECArAilJ3RbAEBWLNF7UfgvwUEYG4DAQIECBAgQIAAAQIECLxB4D9PPz1e3bwlU2Xi7Fnxqw8/nLnOAgIECBAgUISAAKwIZWc0W0AA1mxR+xEQgLkDBAgQIECAAAECBAgQIDCMwNO/eUK8tmtXps8BkyfH3O/+e+Y6CwgQIECAQBECArAilJ3RbAEBWLNF7UdAAOYOECBAgAABAgQIECBAgMAwAl6AuRoECBAgUEUBAVgVp6ZmAZg7QCA/AX8CMT9bOxMgQIAAAQIECBAgQKCSAn4DrJJjUzQBAgSSFxCAJX8FKgkgAKvk2BRdEQEBWEUGpUwCKQps6tkVtz/yo7j7yS2xfWd/TJ/SEecfPysuPvVX4rDuySmS6JkAAQIECBAgUIjAwObN8cPzL4jXenuHPe+Arq44+u67on327EJqcggBAgQIEMgSEIBlCfn3ZRQQgJVxKmqqi4AArC6T1AeBmgmsfnZbXHr749Hbv2dQZ10dbXHrxSfFacfMqFnX2iFAgAABAgQIlEdg56OPxk+WfnTIEKwRfh2+7KaYcsop5SlYJQQIECCQvIAALPkrUEkAAVglx6boiggIwCoyKGUSSEmg8fLrjOtXDhl+7XNohGAPXbnIS7CULoZeCRAgQIAAgcIFGi/BdtxxR7x0zz2xZ0dPtE3rjoPOOy+mXXSRl1+FT8OBBAgQIJAlIADLEvLvyyggACvjVNRUFwEBWF0mqQ8CNRL46/t+ELes3JDZ0YcXHR2fPGdu5joLCBAgQIAAAQIECBAgQIAAgfoLCMDqP+M6digAq+NU9VQWAQFYWSahDgIEfiGw8LMPR+MVWNY/jd8BW/XJ07OW+fcECBAgQIAAAQIECBAgQIBAAgICsASGXMMWBWA1HKqWSiMgACvNKBRCgMA+gV+/+v7YNTD4t7/eLDS5vS1+cO3Z4AgQIECAAAECBAgQIECAAAECIQBzCaooIACr4tTUXBUBAVhVJqVOAgkJeAGW0LC1SoAAAQIECBAgQIAAAQIEmiQgAGsSpG0KFRCAFcrtsMQEBGCJDVy7BKog4DfAqjAlNRIgQIAAAQIECBAgQIAAgXIJCMDKNQ/VjExAADYyJ6sIjEVAADYWNd8QIJCrQOP3v864fmX09g//ZxC7OtrioSsXReN3wPxDgAABAgQIECBAgAABAgQIEBCAuQNVFBCAVXFqaq6KgACsKpNSJ4HEBFY/uy0uvf3xIUOwRvh168UnxWnHzEhMRbsECBAgQIAAAQIECBAgQIDAcAICMHejigICsCpOTc1VERCAVWVS6iSQoEDjJdjXHvlx3PXk5ti+sz+mT+mIC46fHe879W1efiV4H7RMgAABAgQIECBAgAABAgT2JyAAcz+qKCAAq+LU1FwVAQFYVSalTgIECBAgQIAAAQIECBAgQIAAAQIEhhUQgLkcVRQQgFVxamquioAArCqTUicBAgQIECBAgAABAgQIECBAgAABAgIwd6BWAgKwWo1TMyUTEICVbCDKIUCAAAECBAgQIECgYgI9P4lY+7cR678Z0ftiRNfBEfN+L2L+hyK6D69YM8olQIAAAQLVFfACrLqzS7lyAVjK09d73gICsLyF7U+AAAECBAgQIECAQH0FNqyMWH5RRP/OwT12TIlYckfEUYvq27/OCBAgQIBAiQQEYCUahlJGLCAAGzGVhQRGLSAAGzWZDwgQIECAAAECBAgQIBARjZdfyxYMHX7tA2qEYEvXeAnmwhAgQIAAgQIEBGAFIDui6QICsKaT2pDALwQEYC4DAQIECBAgQIAAAQIExiLw0F9GrPpi9pcL/zTijGuy11lBgAABAgQIjEtAADYuPh+3SEAA1iJ4xyYhIABLYsyaJECAAAECBAgQGInAxr7+uG3TtlixdUdsH9gT09vbYvHMafGBw2bEnM6OkWxhTUoCN8yLeOkn2R0fdHjEFeuz11VsRV/f5ti48Wuxdevd0T+wIzrap8XMmefHnDnvi87O2RXrRrkECBAgUAcBAVgdppheDwKw9Gau4+IEBGDFWTuJAAECBAgQIECgxALf2fFyvH/dc7Fzz95BVU5pmxBfPe7IeOe0qSXuQGmFC1w3K2KgN/vY9q6IT23JXlehFdu3r47vr7ss9uwZ3H9bW1e847hbYvr00yrUkVIJECBAoA4CArA6TDG9HgRg6c1cx8UJCMCKs3YSAQIECBAgQIBASQUaL78WPfb0kOHXvpIbIdjKk+d6CVbSGbakrERfgDVefj265qwhw699c2iEYKcseMBLsJZcTIcSIEAgXQEBWLqzr3LnArAqT0/tZRcQgJV9QuojQIAAAQIECBDIXeDaH26Om55/IfOcPz7i0PiLo/1pt0yoVBYk+htgzz77N/Hj57+cOeW3HXFZHHPMJzLXWUCAAAECBJolIABrlqR9ihQQgBWp7azUBARgqU1cvwQIECBAgAABAoMETlz9VGzaPZApc9ik9njitGMz11mQiEDPTyKWLYjo3zl8wx1TIpauieg+vDYoq1b9j+jbvTmzn85Js2Phwn/LXGcBAQIECBBoloAArFmS9ilSQABWpLazUhMQgKU2cf0SIECAAAECBAgMEjhy5fdj197Bv/315oWTJ0yI5xa9gyCB/xbYsDJi+UVDh2CN8GvJHRFHLaqV2L98e17s3bsrs6cJEybHb79rfeY6CwgQIECAQLMEBGDNkrRPkQICsCK1nZWagAAstYnrlwABAgQIECBAYJCAF2AuxbgEGi/B1t4asf4bEb0vRnQdHDHv9yPmX1qrl1/7jLwAG9dt8TEBAgQI5CggAMsR19a5CQjAcqO1MYEQgLkEBAgQIECAAAECyQv4DbDkrwCAUQj4DbBRYFlKgAABAoUKCMAK5XZYkwQEYE2CtA2BIQQEYK4FAQIECBAgQIBA8gIb+/pj0WNPx849w/8ZxCltE2LlyXNjTmdH8l4A0hbo69scj645K/bs6R0Woq2tK05Z8EB0ds5OG0v3BAgQIFCogACsUG6HNUlAANYkSNsQEIC5AwQIECBAgAABAgSGFvjOjpfj/eueGzIEa4RfXz3uyHjntKn4CBCIiO3bV8f31102ZAjWCL/ecdwtMX36aawIECBAgEChAgKwQrkd1iQBAViTIG1DQADmDhAgQIAAAQIECBAYXqDxEuwrm7bFP23dEdsH9sT09ra4cOa0uOSwGV5+uTgE3iTQeAm2cePfx9atd0X/wI7oaJ8WM2deEHPm/KGXX24LAQIECLREQADWEnaHjlNAADZOQJ8T2I+AP4HoehAgQIAAAQIECBAgQIAAAQIECBAgUHkBAVjlR5hkAwKwJMeu6YIEBGAFQTuGAAECBAgQIECAAAECBAgQIECAAIH8BARg+dnaOT8BAVh+tnYmIABzBwgQIECAAAECBAgQIECAAAECBAgQqLyAAKzyI0yyAQFYkmPXdEECArCCoB1DgAABAgQIECBAgAABAgQIECBAgEB+AgKw/GztnJ+AACw/WzsTEIC5AwQIECBAgAABAgQIECBAgAABAgQIVF5AAFb5ESbZgAAsybFruiABAVhB0I4hQIAAAQIECBAgQIAAAQIECBAgQCA/AQFYfrZ2zk9AAJafrZ0JCMDcAQIECBAgQIAAAQIECBAgQIAAAQIEKi8gAKv8CJNsQACW5Ng1XZCAAKwgaMcQIECAAAECBAgQIECAAAECBAgQIJCfgAAsP1s75ycgAMvP1s4EBGDuAAECBAgQIECAAAECBAgQIECAAAEClRcQgFV+hEk2IABLcuyaLkhAAFYQtGMIECBAgAABAgQIECBAgAABAgQIEMhPQACWn62d8xMQgOVnLAbTlwAAIABJREFUa2cCAjB3gAABAgQIECBAgAABAgQIECBAgACBygsIwCo/wiQbEIAlOXZNFyQgACsI2jEECBAgQIAAAQIECBAgQIAAAQIECOQnIADLz9bO+QkIwPKztTMBAZg7QIAAAQIECBAgQIAAAQIECBAgQIBA5QUEYJUfYZINCMCSHLumCxIQgBUE7RgCBAgQIECAAAECBAgQIECAAAECBPITEIDlZ2vn/AQEYPnZ2pmAAMwdIECAAAECBAgQIECAAAECBAgQIECg8gICsMqPMMkGBGBJjl3TBQkIwAqCdgwBAgQIECBAgAABAgQIECBAgAABAvkJCMDys7VzfgICsPxs7UxAAOYOECBAgAABAgQIECBAgAABAgQIECBQeQEBWOVHmGQDArAkx67pggQEYAVBO4YAAQIECBAgQIAAAQIECBAgQIAAgfwEBGD52do5PwEBWH62diYgAHMHCBAgQIAAAQIECBAgQIAAAQIECBCovIAArPIjTLIBAViSY9d0QQICsIKgHUOAAAECBAgQaIXAy9v7Yt23N8Z/Pr41+l4ZiM4D2+NXT5oZx71rTkyd3tmKkpxJgAABAgQIECBAIBcBAVgurDbNWUAAljOw7ZMWEIAlPX7NEyBAgAABAnUW2Pj09rj35nUxsHvPoDbbJ7XFuR85LubMnV5nAr0RIECAAAECBAgkJCAAS2jYNWpVAFajYWqldAICsNKNREEECBAgQIAAgfELNF5+3XHNmiHDr327N0Kwiz69wEuw8XPbgQABAgQIECBAoAQCArASDEEJoxYQgI2azAcERiwgABsxlYUECBAgQIAAgeoIrP7ms/HdB5/PLPiEs46IUy88JnOdBQQIECBAgAABAgTKLiAAK/uE1DeUgADMvSCQn4AALD9bOxMgQIAAAQIEWibw1T9fFa9s3515/oHTJ8X7/2ph5joLCBAgQIAAAQIECJRdQABW9gmpTwDmDhAoVkAAVqy30wgQIECAAAEChQjccvm349X+vZlnTeyYEJfd+K7MdRYQIECAAAECBAgQKLuAAKzsE1KfAMwdIFCsgACsWG+nESBAgAABAgQKEfACrBBmhxAgQIAAAQIECJRIQABWomEoZcQC/gTiiKksJDBqAQHYqMl8QIAAAQIECBAov4DfACv/jFRIgAABAgQIECDQXAEBWHM97VaMgACsGGenpCkgAEtz7romQIAAAQIEai7w8va+uOOaNTGwe8+wnbZPaouLPr0gpk7vrLmG9ggQIECAAAECBFIQEIClMOX69SgAq99MdVQeAQFYeWahEgIECBAgQIBAUwU2Pr097r153ZAhWCP8Ovcjx8WcudObeqbNCBAgQIAAAQIECLRKQADWKnnnjkdAADYePd8S2L+AAMwNIUCAAAECBAjUWKDxEmz9yo3xH2u3Rt8rA9F5YHv82vyZMW/RHC+/ajx3rREgQIAAAQIEUhQQgKU49er3LACr/gx1UF4BAVh5Z6MyAgQIECBAgAABAgQIECBAgAABAgRGKCAAGyGUZaUSEICVahyKqZmAAKxmA9UOAQIECBAgQIAAAQIECBAgQIAAgRQFBGApTr36PQvAqj9DHZRXQABW3tmojAABAgQIECBAgAABAgQIECBAgACBEQoIwEYIZVmpBARgpRqHYmomIACr2UC1Q4AAAQIECBAgQIAAAQIECBAgQCBFAQFYilOvfs8CsOrPUAflFRCAlXc2KiNAgAABAgQIECBAgAABAgQIECBAYIQCArARQllWKgEBWKnGoZiaCQjAajZQ7RAgQIAAAQIECBAgQIAAAQIECBBIUUAAluLUq9+zAKz6M9RBeQUEYOWdjcoIECBAgAABAgQIECBAgAABAgQIEBihgABshFCWlUpAAFaqcSimZgICsJoNVDsECBAgQIAAAQIECBAgQIAAAQIEUhQQgKU49er3LACr/gx1UF4BAVh5Z6MyAgQIECBAgAABAgQIECBAgAABAgRGKCAAGyGUZaUSEICVahyKqZmAAKxmA9UOAQIECBAgQIAAAQIECBAYTuDl7X2x7tsb4z8f3xp9rwxE54Ht8asnzYzj3jUnpk7vBEeAAIFKCwjAKj2+ZIsXgCU7eo0XICAAKwDZEQQIECBAgAABAgQIECBAoNUCG5/eHvfevC4Gdu8ZVEr7pLY49yPHxZy501tdpvMJECAwZgEB2JjpfNhCAQFYC/EdXXsBAVjtR6xBAgQIECBAgAABAgQIEEhdoPHy645r1gwZfu2zaYRgF316gZdgqV8W/ROosIAArMLDS7h0AVjCw9d67gICsNyJHUCAAAECBAgQIECAAAECBForsPqbz8Z3H3w+s4gTzjoiTr3wmMx1FhAgQKCMAgKwMk5FTVkCArAsIf+ewNgFBGBjt/MlAQIECBAgQIAAAQIECBCohMBX/3xVvLJ9d2atB06fFO//q4WZ6ywgQIBAGQUEYGWcipqyBARgWUL+PYGxCwjAxm7nSwIECBAgQIAAAQIECBAgUAmBWy7/drzavzez1okdE+KyG9+Vuc4CAgQIlFFAAFbGqagpS0AAliXk3xMYu4AAbOx2viRAgAABAgQIECBAgAABApUQ8AKsEmNSJAEC4xQQgI0T0OctERCAtYTdoYkICMASGbQ2CRAgQIAAAQIECBAgQCBdAb8Blu7sdU4gJQEBWErTrk+vArD6zFIn5RMQgJVvJioiQIAAAQIECBAgQIAAAQJNFXh5e1/ccc2aGNi9Z9h92ye1xUWfXhBTp3c29WybESBAoCgBAVhR0s5ppoAArJma9iLwRgEBmBtBgACBCgn8fNsL8b0H7omnV/9r7Hr55zF56lti7mm/Fb9x1nnxlhmHVqgTpRIgQIAAAQIECBQtsPHp7XHvzeuGDMEa4de5Hzku5sydXnRZziNAgEDTBARgTaO0UYECArACsR2VnIAALLmRa5gAgaoKPL/+yVjxuWtjoK9vUAvtnZ2x+ONXxxHzjq9qe+omQIAAAQIECBAoQKDxEmz9yo3xH2u3Rt8rA9F5YHv82vyZMW/RHC+/CvB3BAEC+QoIwPL1tXs+AgKwfFztSqAhIABzDwgQIFABgcbLr69ctXTI8Gtf+Y0Q7JIvLPMSrALzVCIBAgQIECBAgAABAgQINF9AANZ8UzvmLyAAy9/YCekKCMDSnb3OCRCokMC/fv22WPvP38iseP673xO/9d5LMtdZQIAAAQIECBAgQIAAAQIE6iYgAKvbRNPoRwCWxpx12RoBAVhr3J1KgACBUQl8+aMfiJe3/Szzm6kzDok/uum2zHUWECBAgAABAgQIECBAgACBugkIwOo20TT6EYClMWddtkZAANYad6cSIEBgVAJfvPj349XduzO/mThpUvzJ7dkvxTI3soAAAQIECBAgQIAAAQIECFRMQABWsYEp978EBGAuAoH8BARg+dnamQABAk0T8AKsaZQ2IkCAAAECBAgQIECAAIGaCgjAajrYmrclAKv5gLXXUgEBWEv5HU6AAIGRCfgNsJE5WUWAAAECBAgQIECAAAEC6QoIwNKdfZU7F4BVeXpqL7uAAKzsE1IfAQIEIuLn216Ir1y1NAb6+ob1aO/sjEu+sCzeMuNQZgQIECBAgAABAgQIECBAIDkBAVhyI69FwwKwWoxREyUVEICVdDDKIkCAwJsFnl//ZKz43LVDhmCN8Gvxx6+OI+YdD44AAQIECBAgQIAAAQIECCQpIABLcuyVb1oAVvkRaqDEAgKwEg9HaQQIEHizQOMl2PcevDeeXrUydr3885g89S0xd+Gi+I0zz/Xyy3UhQIAAAQIECBAgQIAAgaQFBGBJj7+yzQvAKjs6hVdAQABWgSEpkQABAvsT2PLKlrjjmTvi/ufuj57dPdE9qTvOPvLsuOjtF8WsA2fBI0CAAAECBAgQIECAAAECSQgIwJIYc+2aFIDVbqQaKpGAAKxEw1AKAQKDBTb17IrbH/lR3P3klti+sz+mT+mI84+fFRef+itxWPfk5MnWbFkTlz98efS+2jvIomtiV9x4+o2xYNaC5J0AECBAgAABAgQIECBAgED9BQRg9Z9xHTsUgNVxqnoajcCciPhMRJwdEQdHxJaIWBER10TEjtFsNMRaAdg4AX1OgEB+Aquf3RaX3v549PbvGRzudLTFrRefFKcdMyO/Akq+c+Pl1+I7Fw8Zfu0rvRGCrXj3Ci/BSj5L5REgQIAAAQIECBAgQIDA+AUEYOM3tEPxAgKw4s2dWB6BoyNidUQcGhF3RsTTEXFyRPx2RDwTEQsj4sVxlCsAGweeTwkQyE+g8fLrjOtXDhl+/SLc6WiLh65clOxLsOufuD5uW39b5hA+OO+DccWJV2Sus4AAAQIECBAgQIAAAQIECFRZQABW5emlW7sALN3Z6zzigYg4MyIuj4gv/RLI9RHR+L9m3hIRHx4HlABsHHg+JUAgP4G/vu8HccvKDZkHfHjR0fHJc+ZmrqvjgjP/8czYsrPxKHj//8yaMisefM+DWcv8ewIECBAgQIAAAQIECBAgUGkBAVilx5ds8QKwZEeffOON11/PRsSPIqLxv+/9JZGpr/8pxMZ/Phqvw3aOUUsANkY4nxEgkK/Aws8+HI1XYFn/NH4HbNUnT89aVst/f/LXT45dr2YbTZ44OR77g8dqaaApAgQIECBAgAABAgQIECCwT0AA5i5UUUAAVsWpqbkZApdGxN9GxJcj4rIhNtz3Oux3I+JbYzxQADZGOJ8RIJCvwK9ffX/sGhj8219vPnVye1v84NrGTySm948XYOnNXMcECBAgQIAAAQIECBAgMLyAAMztqKKAAKyKU1NzMwQ+FxF/9vr/fGGIDf9XRHw0IpZGxM1jPFAANkY4nxEgkK+AF2DZvn4DLNvICgIECBAgQIAAAQIECBBIR0AAls6s69SpAKxO09TLaAQaL78+9Pr/3DrEh9dFxJ+//j9/nbHxE8P8+7knnHBC1xNPDPevR1OutQQIEGiegN8Ay7bc8sqWWHzn4uh9tXfYxV0Tu2LFu1fErANnZW9oBQECBAgQIECAAAECBAgQqLCAAKzCw0u4dAFYwsNPvHUBWOIXQPsEUhZo/P7XGdevjN7+4f8MYldHWzx05aJo/A5Yqv+s2bImLn/48iFDsEb4dePpN8aCWQtS5dE3AQIECBAgQIAAAQIECCQkIABLaNg1alUAVqNhamVUAv4E4qi4LCZAoG4Cq5/dFpfe/viQIVgj/Lr14pPitGNm1K3tUffTeAm2/Jnlcd9z90XP7p7ontQd5xx5Tix5+xIvv0at6QMCBAgQIECAAAECBAgQqKqAAKyqk0u7bgFY2vNPuftLI+JvI6LxEuyyISAeiIgzI+J3I+JbY4TyG2BjhPMZAQLFCDRegn3tkR/HXU9uju07+2P6lI644PjZ8b5T35b0y69i9J1CgAABAgQIECBAgAABAgSqIyAAq86sVPrfAgIwtyFVgaMj4tmI+FFENP73vb8EMTUitkRE4z8fh0bEzjEiCcDGCOczAgQIECBAgAABAgQIECBAgAABAgTKIyAAK88sVDJyAQHYyK2srJ/Avldel0fEl36pvesj4oqIuCUiPjyOtgVg48DzKQECBAgQIECAAAECBAgQIECAAAEC5RAQgJVjDqoYnYAAbHReVtdLoPHya/Xrr7zujIgfRMSCiPjtiPiPiDgtIl4cR8sCsHHg+ZQAAQIECBAgQIAAAQIECBAgQIAAgXIICMDKMQdVjE5AADY6L6vrJ3B4RHwmIs6OiINf/9OH/xQR10TEjnG2KwAbJ6DPCRAgQIAAAQIECBAgQIAAAQIECBBovYAArPUzUMHoBQRgozfzBYGRCgjARiplHQECBAgQIECAAAECBAgQIECAAAECpRUQgJV2NArbj4AAzPUgkJ+AACw/WzsTIECAAAECBAgQIECAAAECBAgQIFCQgACsIGjHNFVAANZUTpsReIOAAMyFIECAAAECBAgQIECAAAECBAgQIECg8gICsMqPMMkGBGBJjl3TBQkIwAqCdgwBAgQIECBAgAABAgQIECBAgAABAvkJCMDys7VzfgICsPxs7UxAAOYOECBAgAABAgQIECBAgAABAgQIECBQeQEBWOVHmGQDArAkx67pggQEYAVBO4YAAQIECBAgQIAAAQIECBAgQIAAgfwEBGD52do5PwEBWH62diYgAHMHCBAgQIAAAQIECBAgQIAAAQIECBCovIAArPIjTLIBAViSY9d0QQICsIKgHUOAAAECBAgQIECAAAECBAgQIECAQH4CArD8bO2cn4AALD9bOxMQgLkDBAgQIECAAAECBAgQIECAAAECBAhUXkAAVvkRJtmAACzJsWu6IAEBWEHQjiFAgAABAgQIECBAgACB/6+9+4C15CrvAP4XfSmmWDQBogSE1wQCcUQxCEILRpQAAkRTkOgKhF5ECWBH9A6RCM0QQgBLpgtIQokoAQQYkBJYk4KdAKIahAEZggzok86TLk/Pfnj3nnPvzPxGerK12jffOb8zZ+fe+c+cIUCAAAECBPoJCMD62dpzPwEBWD9beyYgAHMMECBAgAABAgQIECBAgAABAgQIECAweQEB2OSHcJEdEIAtcth1epCAAGwQtDIECBAgQIAAAQIECBAgQIAAAQIECPQTEID1s7XnfgICsH629kxAAOYYIECAAAECBAgQIECAAAECBAgQIEBg8gICsMkP4SI7IABb5LDr9CABAdggaGUIECBAgAABAgQIECBAgAABAgQIEOgnIADrZ2vP/QQEYP1s7ZmAAMwxQIAAAQIECBAgQIAAAQIECBAgQIDA5AUEYJMfwkV2QAC2yGHX6UECArBB0MoQIECAAAECBAgQIECAAAECBAgQINBPQADWz9ae+wkIwPrZ2jMBAZhjgAABAgQIECBAgAABAgQIECBAgACByQsIwCY/hIvsgABskcOu04MEBGCDoJUhQIAAAQIECBAgQIAAAQIECBAgQKCfgACsn6099xMQgPWztWcCAjDHAAECBAgQIECAAAECBAgQIECAAAECkxcQgE1+CBfZAQHYIoddpwcJCMAGQStDgAABAgQIECBAgAABAgQIECBAgEA/AQFYP1t77icgAOtna88EBGCOAQIECBAgQIAAAQIECBAgQIAAAQIEJi8gAJv8EC6yAwKwRQ67Tg8SEIANglaGAAECBAgQIECAAAECBAgQIECAAIF+AgKwfrb23E9AANbP1p4JnHXgwIErHDx4kAQBAgQIECBAgAABAgQIECBAgAABAgQmK3Do0KGcc845P0py9GQ7oeGLExCALW7IdXigwBlJjkpy5sCah1vqmPaLpx/uDvweAQJbLWCOb/XwaByBtQiY52thtBMCWytgjm/t0GgYgbUImONrYbQTAlstMId5fq0kZye59lZLaxyBFQEBmMOBAIESOK0xHIeDAIFZCpjjsxxWnSLwOwLmuQOCwLwFzPF5j6/eETDHHQME5i9gns9/jPVwCwUEYFs4KJpEYAMCTsIbQFeSwEABc3wgtlIENiRgnm8IXlkCgwTM8UHQyhDYkIA5viF4ZQkMFDDPB2IrRWBHQADmWCBAoASchB0HBOYtYI7Pe3z1joBzuWOAwPwFnMvnP8Z6uGwBc3zZ46/3yxAwz5cxznq5ZQICsC0bEM0hsCEBJ+ENwStLYJCAOT4IWhkCGxQwzzeIrzSBAQLm+ABkJQhsUMAc3yC+0gQGCZjng6CVIbAqIABzPBAgUAJOwo4DAvMWMMfnPb56R8C53DFAYP4CzuXzH2M9XLaAOb7s8df7ZQiY58sYZ73cMgEB2JYNiOYQ2JCAk/CG4JUlMEjAHB8ErQyBDQqY5xvEV5rAAAFzfACyEgQ2KGCObxBfaQKDBMzzQdDKEFgVEIA5HggQIECAAAECBAgQIECAAAECBAgQIECAAAECBGYlIACb1XDqDAECBAgQIECAAAECBAgQIECAAAECBAgQIECAgADMMUCAAAECBAgQIECAAAECBAgQIECAAAECBAgQIDArAQHYrIZTZwgQIECAAAECBAgQIECAAAECBAgQIECAAAECBARgjgECBAgQIECAAAECBAgQIECAAAECBAgQIECAAIFZCQjAZjWcOkOAAAECBAgQIECAAAECBAgQIECAAAECBAgQICAAcwwQIECAAAECBAgQIECAAAECBAgQIECAAAECBAjMSkAANqvh1BkCBAgQIECAAAECBAgQIECAAAECBAgQIECAAAEBmGOAwLIFrp7kpCQnJDk6yXeSvDfJiUl+vGwavScweYGa0/dMcpckN0xytST/n+Tfk7y5/fx68r3UAQIEVgUelOQf2h88PMkb8RAgMAuB2yd5TJJbJLl8krPa+fxVST40ix7qBIHlCtRn9cclOXblO/lpSV6e5LPLZdFzApMSuHeS2yS5cZI/SnKZJP+YpD6bn9d2fJJnJbl5kgNJ/ivJyUlek+TcSfVeYwlsuYAAbMsHSPMIdBT4gySfSXKlJO9LcnqSmya5bZKvJ7ll+3LdsQl2TYBAR4FHJXltC7b/Ncn/JblyknsluWySdyW5T5LfdGyDXRMgME7gGu2C+IWTXDqJAGycvUoEegq8OMlTknwryYeT/DDJFZMcl+SjSZ7as7h9EyDQVeBFbQ5XqF03otb8vm6Suye5SJK/SPK2ri2wcwIE1iHwlRZ8/aydr4/ZJwD78/Z9/BdJTknyoyR3S3L9JKe27+nraJd9ECCQRADmMCCwXIF/TvJnSR7b7jDZkag7zZ6Q5HVJ6gK6jQCBaQrcLsmlknwwyeqTXldJ8vkkdbG87lSrIMxGgMC0Beoz/UeSXDvJu5M8WQA27QHVegJNoILs1yf5+ySPaE9yr+JcNMmvaBEgMEmB+kz+7SQ/SHKjJN9f6UXdlPrxJGckuc4ke6fRBJYlUHO2blT57/YkWN2Ael5PgB3V/l7dlFo3nn+xUV2izft62vv+Sd65LEK9JdBPQADWz9aeCWyzQD39VSfmM5PU/69eHK9HtWspxPr3oZ4O+/k2d0TbCBA4LIFnJHlekr9N8leHtQe/RIDANgnU0kmvSPKnSSr8fo4AbJuGR1sIHJbAxZN8M8k5Sa63R/h1WDv1SwQIbI3AzZJ8Lsn7k9TTILu3s9t38vp+biNAYDoC9Xn8/AKwhyR5U5K3Jnnwrm7V5/iPJflkC9Km02stJbDFAgKwLR4cTSPQUeBhSd7Q7ih95B51dp4Ou0M7+XZsil0TILABgVpKqZZUemV74nMDTVCSAIE1CRxM8qUkf9fm83MFYGuStRsCmxW4a5IPtHN1nbfvlOQPk9RySfUkt3cDbXZ8VCdwpAJXaDee1tJn9b7eWv5wZ7t1kk+0ZRHrnb42AgSmI7BfAFbLmj4wyQOSvGNXt2rp058kuVhb0vyX0+m2lhLYXgEB2PaOjZYR6CnwkrY8Ui2R9LI9CtVTIY9O8pftHUI922LfBAiMFagP1V9uF9FOSFKBt40AgWkK1Hyuu8fr7vB66XY9KSIAm+ZYajWB3QInJnl2khcmqTCswq/Vre4Or6WMa/k0GwEC0xR4fJJ6BUGFX/UOsHoXWK3QUu8Aqzn+oF1LI06zl1pNYFkC+wVgX0jyJ+3ntD1o/iPJDZIcm+TQsuj0lkAfAQFYH1d7JbDtAvUugXqnQP28cY/G1tJotURa/bxg2zujfQQIXCCBlyZ5UpIPJbnLBfpNf5kAgW0TOCnJM5PcauVpEAHYto2S9hA4PIHXtvfxnpvka+3GtK+0d/3Vubze5VtPiNSFNhsBAtMVuEeSk5NcfqUL9bqCWs747dPtlpYTWKzAfgHYf7aljWt545rru7d/S3J8+/G092IPIx1fp4AAbJ2a9kVgOgICsOmMlZYSWKfAY5O8Ksnp7YW7teSKjQCBaQrUu0PqC3LdOf7UlS4IwKY5nlpNYLfA65I8Ikktf3RMe3fvzt+5ZJKvJ7m6C2QOHAKTFqjz9/OTvLq9m/e7bb7XTagVctfKLavn+El3VuMJLERAALaQgdbN6QgIwKYzVlpKYJ0ClkBcp6Z9EZiGwGOSvKbdRX77JPUF20aAwDQFaunDryapJ0Nu0i6Q7/READbNMdVqArsFXtQufNcyp7fYg6dWcXhoklpCrW5usREgMC2BnYvk70lyr11Nr5C7nhK5antS5BvT6prWEli0wH4BmCUQF3146PwmBARgm1BXk8DmBR6W5A1J6kmwR+7RnHonUN1xdockH9t8c7WAAIEjFKiLY69IUuuJV/j1/SPcn18nQGCzApdL8uPfswl1Ybz+DbARIDAtgYckeVOSf0py5z2avnND29Pbe8Km1TutJUBgZ1nyWqGhblLbvb07yT3bu/7ehYsAgckI7BeAvS3JA5M8IMk7dvWqbnL7SZKLJbn0rpvcJgOgoQS2TUAAtm0joj0ExgjUi3VrreEz20t2f71S9jJJvpOk/n24UpKfj2mSKgQIdBJ4WrswVu8NuWN7yXanUnZLgMAggQPncbGsyv9xeyrs022JtI8kOWVQu5QhQGB9AtdMckaSb7b3fq1+Xq8qH05yQpL7mePrQ7cnAgMFKvSqFRr+Jsmz96j7qfaOz7sn+cDAdilFgMCRCewXgO3c4PLWJA/eVep27Sb0Tya5zZE1w28TILAjIABzLBBYrsDOU1677zird4k8IUm9d+BRy+XRcwKzEPjrJCclOa091emdX7MYVp0gcL4ClkB0gBCYj8D7ktTF7ye2J7l3elYrNdSTYXWX+LXaf+fTaz0hsAyB+7bw+ntJjkvy7ZVu11OfH2xPf9S7/s5aBoleEpiFwH4B2FFJ/idJ/feWSb7Yen2JJB9vyx7fP8k7Z6GhEwS2QEAAtgWDoAkENiRQT4F9pj3lVV+uDyW5WZLbtvXGj/dBe0MjoyyB9QjU3WRvae8IqjtM6yLZ7q2eAq2/YyNAYD4CArD5jKWeEKgL3/V5/RpcctfkAAALnUlEQVTtjvAvt6fB7pHkN+3pL0ujOU4ITFPgQknqptR67cBPk9S7wOodvQeT3LWtyOIdf9McW61enkCdl+untqskuVOSendfPclZ2w+TPHmFpf7uqUl+0YKuulG1bni5fvvzCsjrPG8jQGANAgKwNSDaBYEJC9SX6Xo6pJZPObotfVgfvE+8AO8WmXD3NZ3ArAV2LoKfXyc/kaTuULMRIDAfAQHYfMZSTwiUwBXb8mh1YeyqSc5uF9RekOTziAgQmLTARZM8uoXZxya5ZJK6EF5z+9VJ/mXSvdN4AssR2O+79/+2J7ZXRerpr2e2J77q6a96TcnJbe6fuxw6PSXQX0AA1t9YBQIECBAgQIAAAQIECBAgQIAAAQIECBAgQIAAgYECArCB2EoRIECAAAECBAgQIECAAAECBAgQIECAAAECBAj0FxCA9TdWgQABAgQIECBAgAABAgQIECBAgAABAgQIECBAYKCAAGwgtlIECBAgQIAAAQIECBAgQIAAAQIECBAgQIAAAQL9BQRg/Y1VIECAAAECBAgQIECAAAECBAgQIECAAAECBAgQGCggABuIrRQBAgQIECBAgAABAgQIECBAgAABAgQIECBAgEB/AQFYf2MVCBAgQIAAAQIECBAgQIAAAQIECBAgQIAAAQIEBgoIwAZiK0WAAAECBAgQIECAAAECBAgQIECAAAECBAgQINBfQADW31gFAgQIECBAgAABAgQIECBAgAABAgQIECBAgACBgQICsIHYShEgQIAAAQIECBAgQIAAAQIECBAgQIAAAQIECPQXEID1N1aBAAECBAgQIECAAAECBAgQIECAAAECBAgQIEBgoIAAbCC2UgQIECBAgAABAgQIECBAgAABAgQIECBAgAABAv0FBGD9jVUgQIAAAQIECBAgQIAAAQIECBAgQIAAAQIECBAYKCAAG4itFAECBAgQIECAAAECBAgQIECAAAECBAgQIECAQH8BAVh/YxUIECBAgAABAgQIECBAgAABAgQIECBAgAABAgQGCgjABmIrRYAAAQIECBAgQIAAAQIECBAgQIAAAQIECBAg0F9AANbfWAUCBAgQIECAAAECBAgQIECAAAECBAgQIECAAIGBAgKwgdhKESBAgAABAgQIECBAgAABAgQIECBAgAABAgQI9BcQgPU3VoEAAQIECBAgQIAAAQIECBAgQIAAAQIECBAgQGCggABsILZSBAgQIECAAAECBAgQIECAAAECBAgQIECAAAEC/QUEYP2NVSBAgAABAgQIECBAgAABAgQIECBAgAABAgQIEBgoIAAbiK0UAQIECBAgQIAAAQIECBAgQIAAAQIECBAgQIBAfwEBWH9jFQgQIECAAAECBAgQIECAAAECBAgQIECAAAECBAYKCMAGYitFgAABAgQIECBAgAABAgQIECBAgAABAgQIECDQX0AA1t9YBQIECBAgQIAAAQIECBAgQIAAAQIECBAgQIAAgYECArCB2EoRIECAAAECBAgQIECAAAECBAgQIECAAAECBAj0FxCA9TdWgQABAgQIECBAgAABAgQIECBAgAABAgQIECBAYKCAAGwgtlIECBAgQIAAAQIECBAgQIAAAQIECBAgQIAAAQL9BQRg/Y1VIECAAAECBAgQIECAAAECBAgQIECAAAECBAgQGCggABuIrRQBAgQIECBAgAABAgQIECBAgAABAgQIECBAgEB/AQFYf2MVCBAgQIAAAQIECBAgQIAAAQIECBAgQIAAAQIEBgoIwAZiK0WAAAECBAgQIECAAAECBAgQIECAAAECBAgQINBfQADW31gFAgQIECBAgAABAgQIECBAgAABAgQIECBAgACBgQICsIHYShEgQIAAAQIECBAgQIAAAQIECBAgQIAAAQIECPQXEID1N1aBAAECBAgQIECAAAECBAgQIECAAAECBAgQIEBgoIAAbCC2UgQIECBAgAABAgQIECBAgAABAgQIECBAgAABAv0FBGD9jVUgQIAAAQIECBAgQIAAAQIECBAgQIAAAQIECBAYKCAAG4itFAECBAgQIECAAAECBAgQIECAAAECBAgQIECAQH8BAVh/YxUIECBAgAABAgQIECBAgAABAgQIECBAgAABAgQGCgjABmIrRYAAAQIECBAgQIAAAQIECBAgQIAAAQIECBAg0F9AANbfWAUCBAgQIECAAAECBAgQIECAAAECBAgQIECAAIGBAgKwgdhKESBAgAABAgQIECBAgAABAgQIECBAgAABAgQI9BcQgPU3VoEAAQIECBAgQIAAAQIECBAgQIAAAQIECBAgQGCggABsILZSBAgQIECAAAECBAgQIECAAAECBAgQIECAAAEC/QUEYP2NVSBAgAABAgQIECBAgAABAgQIECBAgAABAgQIEBgoIAAbiK0UAQIECBAgQIAAAQIECBAgQIAAAQIECBAgQIBAfwEBWH9jFQgQIECAAAECBAgQIECAAAECBAgQIECAAAECBAYKCMAGYitFgAABAgQIECBAgAABAgQIECBAgAABAgQIECDQX0AA1t9YBQIECBAgQIAAAQIECBAgQIAAAQIECBAgQIAAgYECArCB2EoRIECAAAECBAgQIECAAAECBAgQIECAAAECBAj0FxCA9TdWgQABAgQIECBAgAABAgQIECBAgAABAgQIECBAYKCAAGwgtlIECBAgQIAAAQIECBAgQIAAAQIECBAgQIAAAQL9BQRg/Y1VIECAAAECBAgQIECAAAECBAgQIECAAAECBAgQGCggABuIrRQBAgQIECBAgAABAgQIECBAgAABAgQIECBAgEB/AQFYf2MVCBAgQIAAAQIECBAgQIAAAQIECBAgQIAAAQIEBgoIwAZiK0WAAAECBAgQIECAAAECBAgQIECAAAECBAgQINBfQADW31gFAgQIECBAgAABAgQIECBAgAABAgQIECBAgACBgQICsIHYShEgQIAAAQIECBAgQIAAAQIECBAgQIAAAQIECPQXEID1N1aBAAECBAgQIECAAAECBAgQIECAAAECBAgQIEBgoIAAbCC2UgQIECBAgAABAgQIECBAgAABAgQIECBAgAABAv0FBGD9jVUgQIAAAQIECBAgQIAAAQIECBAgQIAAAQIECBAYKCAAG4itFAECBAgQIECAAAECBAgQIECAAAECBAgQIECAQH8BAVh/YxUIECBAgAABAgQIECBAgAABAgQIECBAgAABAgQGCgjABmIrRYAAAQIECBAgQIAAAQIECBAgQIAAAQIECBAg0F9AANbfWAUCBAgQIECAAAECBAgQIECAAAECBAgQIECAAIGBAgKwgdhKESBAgAABAgQIECBAgAABAgQIECBAgAABAgQI9BcQgPU3VoEAAQIECBAgQIAAAQIECBAgQIAAAQIECBAgQGCggABsILZSBAgQIECAAAECBAgQIECAAAECBAgQIECAAAEC/QUEYP2NVSBAgAABAgQIECBAgAABAgQIECBAgAABAgQIEBgoIAAbiK0UAQIECBAgQIAAAQIECBAgQIAAAQIECBAgQIBAfwEBWH9jFQgQIECAAAECBAgQIECAAAECBAgQIECAAAECBAYKCMAGYitFgAABAgQIECBAgAABAgQIECBAgAABAgQIECDQX0AA1t9YBQIECBAgQIAAAQIECBAgQIAAAQIECBAgQIAAgYECArCB2EoRIECAAAECBAgQIECAAAECBAgQIECAAAECBAj0FxCA9TdWgQABAgQIECBAgAABAgQIECBAgAABAgQIECBAYKCAAGwgtlIECBAgQIAAAQIECBAgQIAAAQIECBAgQIAAAQL9BQRg/Y1VIECAAAECBAgQIECAAAECBAgQIECAAAECBAgQGCggABuIrRQBAgQIECBAgAABAgQIECBAgAABAgQIECBAgEB/AQFYf2MVCBAgQIAAAQIECBAgQIAAAQIECBAgQIAAAQIEBgr8FnlFI8gxrchsAAAAAElFTkSuQmCC\" width=\"864\">"
      ],
      "text/plain": [
       "<IPython.core.display.HTML object>"
      ]
     },
     "metadata": {},
     "output_type": "display_data"
    }
   ],
   "source": [
    "# OO API\n",
    "fig = plt.figure(figsize=(12,6))\n",
    "ax = fig.add_subplot(111)\n",
    "\n",
    "ax.scatter(ref_point[0], ref_point[1], c='black', s=100)\n",
    "\n",
    "for p in neighbors:\n",
    "    ax.scatter(p[0], p[1], s=20)\n",
    "\n",
    "ax.grid(False)"
   ]
  },
  {
   "cell_type": "code",
   "execution_count": 82,
   "metadata": {},
   "outputs": [
    {
     "data": {
      "text/plain": [
       "array([ 3.11503268,  4.00184369,  1.06753691,  3.90267937,  4.27096384,\n",
       "        2.79413863,  4.73494417,  3.14879041,  3.05858987,  3.77422093,\n",
       "        5.76105293,  3.09643241,  3.54047263,  3.86042226,  4.00949729,\n",
       "        5.31527423,  5.92173939,  5.18736315,  2.90999543,  4.86644381,\n",
       "        0.89164065,  3.45335879,  1.3027984 ,  3.26376582,  5.43464787,\n",
       "        5.59249713,  2.42507384,  3.52786491,  1.99267227,  4.03877759,\n",
       "        3.83421595,  4.90548016,  5.46018719,  3.77021732,  2.43595306,\n",
       "        3.7381379 ,  3.43163642,  4.88624115,  3.98019932,  2.47861152,\n",
       "        4.55085663,  3.98690152,  0.87654713,  4.35899608,  4.08179092,\n",
       "        0.25824758,  5.36708727,  3.63757939,  4.25994215,  3.34965507])"
      ]
     },
     "execution_count": 82,
     "metadata": {},
     "output_type": "execute_result"
    }
   ],
   "source": [
    "distances = np.linalg.norm(neighbors - ref_point,axis=1)\n",
    "distances"
   ]
  },
  {
   "cell_type": "code",
   "execution_count": 83,
   "metadata": {},
   "outputs": [
    {
     "data": {
      "text/plain": [
       "array([45, 42, 20,  2, 22, 28, 26, 34, 39,  5, 18,  8, 11,  0,  7, 23, 49,\n",
       "       36, 21, 27, 12, 47, 35, 33,  9, 30, 13,  3, 38, 41,  1, 14, 29, 44,\n",
       "       48,  4, 43, 40,  6, 19, 37, 31, 17, 15, 46, 24, 32, 25, 10, 16])"
      ]
     },
     "execution_count": 83,
     "metadata": {},
     "output_type": "execute_result"
    }
   ],
   "source": [
    "inds = np.argsort(distances)\n",
    "inds"
   ]
  },
  {
   "cell_type": "code",
   "execution_count": 84,
   "metadata": {
    "scrolled": false
   },
   "outputs": [
    {
     "data": {
      "text/plain": [
       "array([[ 4.9356378 ,  4.74990138],\n",
       "       [ 5.87579019,  5.03642007],\n",
       "       [ 4.87499402,  4.11716562],\n",
       "       [ 5.10641918,  3.93778062],\n",
       "       [ 6.2799294 ,  5.24303171]])"
      ]
     },
     "execution_count": 84,
     "metadata": {},
     "output_type": "execute_result"
    }
   ],
   "source": [
    "neighbors[inds][:5]"
   ]
  },
  {
   "cell_type": "code",
   "execution_count": 85,
   "metadata": {
    "scrolled": false
   },
   "outputs": [
    {
     "data": {
      "application/javascript": [
       "/* Put everything inside the global mpl namespace */\n",
       "window.mpl = {};\n",
       "\n",
       "\n",
       "mpl.get_websocket_type = function() {\n",
       "    if (typeof(WebSocket) !== 'undefined') {\n",
       "        return WebSocket;\n",
       "    } else if (typeof(MozWebSocket) !== 'undefined') {\n",
       "        return MozWebSocket;\n",
       "    } else {\n",
       "        alert('Your browser does not have WebSocket support.' +\n",
       "              'Please try Chrome, Safari or Firefox ≥ 6. ' +\n",
       "              'Firefox 4 and 5 are also supported but you ' +\n",
       "              'have to enable WebSockets in about:config.');\n",
       "    };\n",
       "}\n",
       "\n",
       "mpl.figure = function(figure_id, websocket, ondownload, parent_element) {\n",
       "    this.id = figure_id;\n",
       "\n",
       "    this.ws = websocket;\n",
       "\n",
       "    this.supports_binary = (this.ws.binaryType != undefined);\n",
       "\n",
       "    if (!this.supports_binary) {\n",
       "        var warnings = document.getElementById(\"mpl-warnings\");\n",
       "        if (warnings) {\n",
       "            warnings.style.display = 'block';\n",
       "            warnings.textContent = (\n",
       "                \"This browser does not support binary websocket messages. \" +\n",
       "                    \"Performance may be slow.\");\n",
       "        }\n",
       "    }\n",
       "\n",
       "    this.imageObj = new Image();\n",
       "\n",
       "    this.context = undefined;\n",
       "    this.message = undefined;\n",
       "    this.canvas = undefined;\n",
       "    this.rubberband_canvas = undefined;\n",
       "    this.rubberband_context = undefined;\n",
       "    this.format_dropdown = undefined;\n",
       "\n",
       "    this.image_mode = 'full';\n",
       "\n",
       "    this.root = $('<div/>');\n",
       "    this._root_extra_style(this.root)\n",
       "    this.root.attr('style', 'display: inline-block');\n",
       "\n",
       "    $(parent_element).append(this.root);\n",
       "\n",
       "    this._init_header(this);\n",
       "    this._init_canvas(this);\n",
       "    this._init_toolbar(this);\n",
       "\n",
       "    var fig = this;\n",
       "\n",
       "    this.waiting = false;\n",
       "\n",
       "    this.ws.onopen =  function () {\n",
       "            fig.send_message(\"supports_binary\", {value: fig.supports_binary});\n",
       "            fig.send_message(\"send_image_mode\", {});\n",
       "            if (mpl.ratio != 1) {\n",
       "                fig.send_message(\"set_dpi_ratio\", {'dpi_ratio': mpl.ratio});\n",
       "            }\n",
       "            fig.send_message(\"refresh\", {});\n",
       "        }\n",
       "\n",
       "    this.imageObj.onload = function() {\n",
       "            if (fig.image_mode == 'full') {\n",
       "                // Full images could contain transparency (where diff images\n",
       "                // almost always do), so we need to clear the canvas so that\n",
       "                // there is no ghosting.\n",
       "                fig.context.clearRect(0, 0, fig.canvas.width, fig.canvas.height);\n",
       "            }\n",
       "            fig.context.drawImage(fig.imageObj, 0, 0);\n",
       "        };\n",
       "\n",
       "    this.imageObj.onunload = function() {\n",
       "        this.ws.close();\n",
       "    }\n",
       "\n",
       "    this.ws.onmessage = this._make_on_message_function(this);\n",
       "\n",
       "    this.ondownload = ondownload;\n",
       "}\n",
       "\n",
       "mpl.figure.prototype._init_header = function() {\n",
       "    var titlebar = $(\n",
       "        '<div class=\"ui-dialog-titlebar ui-widget-header ui-corner-all ' +\n",
       "        'ui-helper-clearfix\"/>');\n",
       "    var titletext = $(\n",
       "        '<div class=\"ui-dialog-title\" style=\"width: 100%; ' +\n",
       "        'text-align: center; padding: 3px;\"/>');\n",
       "    titlebar.append(titletext)\n",
       "    this.root.append(titlebar);\n",
       "    this.header = titletext[0];\n",
       "}\n",
       "\n",
       "\n",
       "\n",
       "mpl.figure.prototype._canvas_extra_style = function(canvas_div) {\n",
       "\n",
       "}\n",
       "\n",
       "\n",
       "mpl.figure.prototype._root_extra_style = function(canvas_div) {\n",
       "\n",
       "}\n",
       "\n",
       "mpl.figure.prototype._init_canvas = function() {\n",
       "    var fig = this;\n",
       "\n",
       "    var canvas_div = $('<div/>');\n",
       "\n",
       "    canvas_div.attr('style', 'position: relative; clear: both; outline: 0');\n",
       "\n",
       "    function canvas_keyboard_event(event) {\n",
       "        return fig.key_event(event, event['data']);\n",
       "    }\n",
       "\n",
       "    canvas_div.keydown('key_press', canvas_keyboard_event);\n",
       "    canvas_div.keyup('key_release', canvas_keyboard_event);\n",
       "    this.canvas_div = canvas_div\n",
       "    this._canvas_extra_style(canvas_div)\n",
       "    this.root.append(canvas_div);\n",
       "\n",
       "    var canvas = $('<canvas/>');\n",
       "    canvas.addClass('mpl-canvas');\n",
       "    canvas.attr('style', \"left: 0; top: 0; z-index: 0; outline: 0\")\n",
       "\n",
       "    this.canvas = canvas[0];\n",
       "    this.context = canvas[0].getContext(\"2d\");\n",
       "\n",
       "    var backingStore = this.context.backingStorePixelRatio ||\n",
       "\tthis.context.webkitBackingStorePixelRatio ||\n",
       "\tthis.context.mozBackingStorePixelRatio ||\n",
       "\tthis.context.msBackingStorePixelRatio ||\n",
       "\tthis.context.oBackingStorePixelRatio ||\n",
       "\tthis.context.backingStorePixelRatio || 1;\n",
       "\n",
       "    mpl.ratio = (window.devicePixelRatio || 1) / backingStore;\n",
       "\n",
       "    var rubberband = $('<canvas/>');\n",
       "    rubberband.attr('style', \"position: absolute; left: 0; top: 0; z-index: 1;\")\n",
       "\n",
       "    var pass_mouse_events = true;\n",
       "\n",
       "    canvas_div.resizable({\n",
       "        start: function(event, ui) {\n",
       "            pass_mouse_events = false;\n",
       "        },\n",
       "        resize: function(event, ui) {\n",
       "            fig.request_resize(ui.size.width, ui.size.height);\n",
       "        },\n",
       "        stop: function(event, ui) {\n",
       "            pass_mouse_events = true;\n",
       "            fig.request_resize(ui.size.width, ui.size.height);\n",
       "        },\n",
       "    });\n",
       "\n",
       "    function mouse_event_fn(event) {\n",
       "        if (pass_mouse_events)\n",
       "            return fig.mouse_event(event, event['data']);\n",
       "    }\n",
       "\n",
       "    rubberband.mousedown('button_press', mouse_event_fn);\n",
       "    rubberband.mouseup('button_release', mouse_event_fn);\n",
       "    // Throttle sequential mouse events to 1 every 20ms.\n",
       "    rubberband.mousemove('motion_notify', mouse_event_fn);\n",
       "\n",
       "    rubberband.mouseenter('figure_enter', mouse_event_fn);\n",
       "    rubberband.mouseleave('figure_leave', mouse_event_fn);\n",
       "\n",
       "    canvas_div.on(\"wheel\", function (event) {\n",
       "        event = event.originalEvent;\n",
       "        event['data'] = 'scroll'\n",
       "        if (event.deltaY < 0) {\n",
       "            event.step = 1;\n",
       "        } else {\n",
       "            event.step = -1;\n",
       "        }\n",
       "        mouse_event_fn(event);\n",
       "    });\n",
       "\n",
       "    canvas_div.append(canvas);\n",
       "    canvas_div.append(rubberband);\n",
       "\n",
       "    this.rubberband = rubberband;\n",
       "    this.rubberband_canvas = rubberband[0];\n",
       "    this.rubberband_context = rubberband[0].getContext(\"2d\");\n",
       "    this.rubberband_context.strokeStyle = \"#000000\";\n",
       "\n",
       "    this._resize_canvas = function(width, height) {\n",
       "        // Keep the size of the canvas, canvas container, and rubber band\n",
       "        // canvas in synch.\n",
       "        canvas_div.css('width', width)\n",
       "        canvas_div.css('height', height)\n",
       "\n",
       "        canvas.attr('width', width * mpl.ratio);\n",
       "        canvas.attr('height', height * mpl.ratio);\n",
       "        canvas.attr('style', 'width: ' + width + 'px; height: ' + height + 'px;');\n",
       "\n",
       "        rubberband.attr('width', width);\n",
       "        rubberband.attr('height', height);\n",
       "    }\n",
       "\n",
       "    // Set the figure to an initial 600x600px, this will subsequently be updated\n",
       "    // upon first draw.\n",
       "    this._resize_canvas(600, 600);\n",
       "\n",
       "    // Disable right mouse context menu.\n",
       "    $(this.rubberband_canvas).bind(\"contextmenu\",function(e){\n",
       "        return false;\n",
       "    });\n",
       "\n",
       "    function set_focus () {\n",
       "        canvas.focus();\n",
       "        canvas_div.focus();\n",
       "    }\n",
       "\n",
       "    window.setTimeout(set_focus, 100);\n",
       "}\n",
       "\n",
       "mpl.figure.prototype._init_toolbar = function() {\n",
       "    var fig = this;\n",
       "\n",
       "    var nav_element = $('<div/>')\n",
       "    nav_element.attr('style', 'width: 100%');\n",
       "    this.root.append(nav_element);\n",
       "\n",
       "    // Define a callback function for later on.\n",
       "    function toolbar_event(event) {\n",
       "        return fig.toolbar_button_onclick(event['data']);\n",
       "    }\n",
       "    function toolbar_mouse_event(event) {\n",
       "        return fig.toolbar_button_onmouseover(event['data']);\n",
       "    }\n",
       "\n",
       "    for(var toolbar_ind in mpl.toolbar_items) {\n",
       "        var name = mpl.toolbar_items[toolbar_ind][0];\n",
       "        var tooltip = mpl.toolbar_items[toolbar_ind][1];\n",
       "        var image = mpl.toolbar_items[toolbar_ind][2];\n",
       "        var method_name = mpl.toolbar_items[toolbar_ind][3];\n",
       "\n",
       "        if (!name) {\n",
       "            // put a spacer in here.\n",
       "            continue;\n",
       "        }\n",
       "        var button = $('<button/>');\n",
       "        button.addClass('ui-button ui-widget ui-state-default ui-corner-all ' +\n",
       "                        'ui-button-icon-only');\n",
       "        button.attr('role', 'button');\n",
       "        button.attr('aria-disabled', 'false');\n",
       "        button.click(method_name, toolbar_event);\n",
       "        button.mouseover(tooltip, toolbar_mouse_event);\n",
       "\n",
       "        var icon_img = $('<span/>');\n",
       "        icon_img.addClass('ui-button-icon-primary ui-icon');\n",
       "        icon_img.addClass(image);\n",
       "        icon_img.addClass('ui-corner-all');\n",
       "\n",
       "        var tooltip_span = $('<span/>');\n",
       "        tooltip_span.addClass('ui-button-text');\n",
       "        tooltip_span.html(tooltip);\n",
       "\n",
       "        button.append(icon_img);\n",
       "        button.append(tooltip_span);\n",
       "\n",
       "        nav_element.append(button);\n",
       "    }\n",
       "\n",
       "    var fmt_picker_span = $('<span/>');\n",
       "\n",
       "    var fmt_picker = $('<select/>');\n",
       "    fmt_picker.addClass('mpl-toolbar-option ui-widget ui-widget-content');\n",
       "    fmt_picker_span.append(fmt_picker);\n",
       "    nav_element.append(fmt_picker_span);\n",
       "    this.format_dropdown = fmt_picker[0];\n",
       "\n",
       "    for (var ind in mpl.extensions) {\n",
       "        var fmt = mpl.extensions[ind];\n",
       "        var option = $(\n",
       "            '<option/>', {selected: fmt === mpl.default_extension}).html(fmt);\n",
       "        fmt_picker.append(option)\n",
       "    }\n",
       "\n",
       "    // Add hover states to the ui-buttons\n",
       "    $( \".ui-button\" ).hover(\n",
       "        function() { $(this).addClass(\"ui-state-hover\");},\n",
       "        function() { $(this).removeClass(\"ui-state-hover\");}\n",
       "    );\n",
       "\n",
       "    var status_bar = $('<span class=\"mpl-message\"/>');\n",
       "    nav_element.append(status_bar);\n",
       "    this.message = status_bar[0];\n",
       "}\n",
       "\n",
       "mpl.figure.prototype.request_resize = function(x_pixels, y_pixels) {\n",
       "    // Request matplotlib to resize the figure. Matplotlib will then trigger a resize in the client,\n",
       "    // which will in turn request a refresh of the image.\n",
       "    this.send_message('resize', {'width': x_pixels, 'height': y_pixels});\n",
       "}\n",
       "\n",
       "mpl.figure.prototype.send_message = function(type, properties) {\n",
       "    properties['type'] = type;\n",
       "    properties['figure_id'] = this.id;\n",
       "    this.ws.send(JSON.stringify(properties));\n",
       "}\n",
       "\n",
       "mpl.figure.prototype.send_draw_message = function() {\n",
       "    if (!this.waiting) {\n",
       "        this.waiting = true;\n",
       "        this.ws.send(JSON.stringify({type: \"draw\", figure_id: this.id}));\n",
       "    }\n",
       "}\n",
       "\n",
       "\n",
       "mpl.figure.prototype.handle_save = function(fig, msg) {\n",
       "    var format_dropdown = fig.format_dropdown;\n",
       "    var format = format_dropdown.options[format_dropdown.selectedIndex].value;\n",
       "    fig.ondownload(fig, format);\n",
       "}\n",
       "\n",
       "\n",
       "mpl.figure.prototype.handle_resize = function(fig, msg) {\n",
       "    var size = msg['size'];\n",
       "    if (size[0] != fig.canvas.width || size[1] != fig.canvas.height) {\n",
       "        fig._resize_canvas(size[0], size[1]);\n",
       "        fig.send_message(\"refresh\", {});\n",
       "    };\n",
       "}\n",
       "\n",
       "mpl.figure.prototype.handle_rubberband = function(fig, msg) {\n",
       "    var x0 = msg['x0'] / mpl.ratio;\n",
       "    var y0 = (fig.canvas.height - msg['y0']) / mpl.ratio;\n",
       "    var x1 = msg['x1'] / mpl.ratio;\n",
       "    var y1 = (fig.canvas.height - msg['y1']) / mpl.ratio;\n",
       "    x0 = Math.floor(x0) + 0.5;\n",
       "    y0 = Math.floor(y0) + 0.5;\n",
       "    x1 = Math.floor(x1) + 0.5;\n",
       "    y1 = Math.floor(y1) + 0.5;\n",
       "    var min_x = Math.min(x0, x1);\n",
       "    var min_y = Math.min(y0, y1);\n",
       "    var width = Math.abs(x1 - x0);\n",
       "    var height = Math.abs(y1 - y0);\n",
       "\n",
       "    fig.rubberband_context.clearRect(\n",
       "        0, 0, fig.canvas.width, fig.canvas.height);\n",
       "\n",
       "    fig.rubberband_context.strokeRect(min_x, min_y, width, height);\n",
       "}\n",
       "\n",
       "mpl.figure.prototype.handle_figure_label = function(fig, msg) {\n",
       "    // Updates the figure title.\n",
       "    fig.header.textContent = msg['label'];\n",
       "}\n",
       "\n",
       "mpl.figure.prototype.handle_cursor = function(fig, msg) {\n",
       "    var cursor = msg['cursor'];\n",
       "    switch(cursor)\n",
       "    {\n",
       "    case 0:\n",
       "        cursor = 'pointer';\n",
       "        break;\n",
       "    case 1:\n",
       "        cursor = 'default';\n",
       "        break;\n",
       "    case 2:\n",
       "        cursor = 'crosshair';\n",
       "        break;\n",
       "    case 3:\n",
       "        cursor = 'move';\n",
       "        break;\n",
       "    }\n",
       "    fig.rubberband_canvas.style.cursor = cursor;\n",
       "}\n",
       "\n",
       "mpl.figure.prototype.handle_message = function(fig, msg) {\n",
       "    fig.message.textContent = msg['message'];\n",
       "}\n",
       "\n",
       "mpl.figure.prototype.handle_draw = function(fig, msg) {\n",
       "    // Request the server to send over a new figure.\n",
       "    fig.send_draw_message();\n",
       "}\n",
       "\n",
       "mpl.figure.prototype.handle_image_mode = function(fig, msg) {\n",
       "    fig.image_mode = msg['mode'];\n",
       "}\n",
       "\n",
       "mpl.figure.prototype.updated_canvas_event = function() {\n",
       "    // Called whenever the canvas gets updated.\n",
       "    this.send_message(\"ack\", {});\n",
       "}\n",
       "\n",
       "// A function to construct a web socket function for onmessage handling.\n",
       "// Called in the figure constructor.\n",
       "mpl.figure.prototype._make_on_message_function = function(fig) {\n",
       "    return function socket_on_message(evt) {\n",
       "        if (evt.data instanceof Blob) {\n",
       "            /* FIXME: We get \"Resource interpreted as Image but\n",
       "             * transferred with MIME type text/plain:\" errors on\n",
       "             * Chrome.  But how to set the MIME type?  It doesn't seem\n",
       "             * to be part of the websocket stream */\n",
       "            evt.data.type = \"image/png\";\n",
       "\n",
       "            /* Free the memory for the previous frames */\n",
       "            if (fig.imageObj.src) {\n",
       "                (window.URL || window.webkitURL).revokeObjectURL(\n",
       "                    fig.imageObj.src);\n",
       "            }\n",
       "\n",
       "            fig.imageObj.src = (window.URL || window.webkitURL).createObjectURL(\n",
       "                evt.data);\n",
       "            fig.updated_canvas_event();\n",
       "            fig.waiting = false;\n",
       "            return;\n",
       "        }\n",
       "        else if (typeof evt.data === 'string' && evt.data.slice(0, 21) == \"data:image/png;base64\") {\n",
       "            fig.imageObj.src = evt.data;\n",
       "            fig.updated_canvas_event();\n",
       "            fig.waiting = false;\n",
       "            return;\n",
       "        }\n",
       "\n",
       "        var msg = JSON.parse(evt.data);\n",
       "        var msg_type = msg['type'];\n",
       "\n",
       "        // Call the  \"handle_{type}\" callback, which takes\n",
       "        // the figure and JSON message as its only arguments.\n",
       "        try {\n",
       "            var callback = fig[\"handle_\" + msg_type];\n",
       "        } catch (e) {\n",
       "            console.log(\"No handler for the '\" + msg_type + \"' message type: \", msg);\n",
       "            return;\n",
       "        }\n",
       "\n",
       "        if (callback) {\n",
       "            try {\n",
       "                // console.log(\"Handling '\" + msg_type + \"' message: \", msg);\n",
       "                callback(fig, msg);\n",
       "            } catch (e) {\n",
       "                console.log(\"Exception inside the 'handler_\" + msg_type + \"' callback:\", e, e.stack, msg);\n",
       "            }\n",
       "        }\n",
       "    };\n",
       "}\n",
       "\n",
       "// from http://stackoverflow.com/questions/1114465/getting-mouse-location-in-canvas\n",
       "mpl.findpos = function(e) {\n",
       "    //this section is from http://www.quirksmode.org/js/events_properties.html\n",
       "    var targ;\n",
       "    if (!e)\n",
       "        e = window.event;\n",
       "    if (e.target)\n",
       "        targ = e.target;\n",
       "    else if (e.srcElement)\n",
       "        targ = e.srcElement;\n",
       "    if (targ.nodeType == 3) // defeat Safari bug\n",
       "        targ = targ.parentNode;\n",
       "\n",
       "    // jQuery normalizes the pageX and pageY\n",
       "    // pageX,Y are the mouse positions relative to the document\n",
       "    // offset() returns the position of the element relative to the document\n",
       "    var x = e.pageX - $(targ).offset().left;\n",
       "    var y = e.pageY - $(targ).offset().top;\n",
       "\n",
       "    return {\"x\": x, \"y\": y};\n",
       "};\n",
       "\n",
       "/*\n",
       " * return a copy of an object with only non-object keys\n",
       " * we need this to avoid circular references\n",
       " * http://stackoverflow.com/a/24161582/3208463\n",
       " */\n",
       "function simpleKeys (original) {\n",
       "  return Object.keys(original).reduce(function (obj, key) {\n",
       "    if (typeof original[key] !== 'object')\n",
       "        obj[key] = original[key]\n",
       "    return obj;\n",
       "  }, {});\n",
       "}\n",
       "\n",
       "mpl.figure.prototype.mouse_event = function(event, name) {\n",
       "    var canvas_pos = mpl.findpos(event)\n",
       "\n",
       "    if (name === 'button_press')\n",
       "    {\n",
       "        this.canvas.focus();\n",
       "        this.canvas_div.focus();\n",
       "    }\n",
       "\n",
       "    var x = canvas_pos.x * mpl.ratio;\n",
       "    var y = canvas_pos.y * mpl.ratio;\n",
       "\n",
       "    this.send_message(name, {x: x, y: y, button: event.button,\n",
       "                             step: event.step,\n",
       "                             guiEvent: simpleKeys(event)});\n",
       "\n",
       "    /* This prevents the web browser from automatically changing to\n",
       "     * the text insertion cursor when the button is pressed.  We want\n",
       "     * to control all of the cursor setting manually through the\n",
       "     * 'cursor' event from matplotlib */\n",
       "    event.preventDefault();\n",
       "    return false;\n",
       "}\n",
       "\n",
       "mpl.figure.prototype._key_event_extra = function(event, name) {\n",
       "    // Handle any extra behaviour associated with a key event\n",
       "}\n",
       "\n",
       "mpl.figure.prototype.key_event = function(event, name) {\n",
       "\n",
       "    // Prevent repeat events\n",
       "    if (name == 'key_press')\n",
       "    {\n",
       "        if (event.which === this._key)\n",
       "            return;\n",
       "        else\n",
       "            this._key = event.which;\n",
       "    }\n",
       "    if (name == 'key_release')\n",
       "        this._key = null;\n",
       "\n",
       "    var value = '';\n",
       "    if (event.ctrlKey && event.which != 17)\n",
       "        value += \"ctrl+\";\n",
       "    if (event.altKey && event.which != 18)\n",
       "        value += \"alt+\";\n",
       "    if (event.shiftKey && event.which != 16)\n",
       "        value += \"shift+\";\n",
       "\n",
       "    value += 'k';\n",
       "    value += event.which.toString();\n",
       "\n",
       "    this._key_event_extra(event, name);\n",
       "\n",
       "    this.send_message(name, {key: value,\n",
       "                             guiEvent: simpleKeys(event)});\n",
       "    return false;\n",
       "}\n",
       "\n",
       "mpl.figure.prototype.toolbar_button_onclick = function(name) {\n",
       "    if (name == 'download') {\n",
       "        this.handle_save(this, null);\n",
       "    } else {\n",
       "        this.send_message(\"toolbar_button\", {name: name});\n",
       "    }\n",
       "};\n",
       "\n",
       "mpl.figure.prototype.toolbar_button_onmouseover = function(tooltip) {\n",
       "    this.message.textContent = tooltip;\n",
       "};\n",
       "mpl.toolbar_items = [[\"Home\", \"Reset original view\", \"fa fa-home icon-home\", \"home\"], [\"Back\", \"Back to  previous view\", \"fa fa-arrow-left icon-arrow-left\", \"back\"], [\"Forward\", \"Forward to next view\", \"fa fa-arrow-right icon-arrow-right\", \"forward\"], [\"\", \"\", \"\", \"\"], [\"Pan\", \"Pan axes with left mouse, zoom with right\", \"fa fa-arrows icon-move\", \"pan\"], [\"Zoom\", \"Zoom to rectangle\", \"fa fa-square-o icon-check-empty\", \"zoom\"], [\"\", \"\", \"\", \"\"], [\"Download\", \"Download plot\", \"fa fa-floppy-o icon-save\", \"download\"]];\n",
       "\n",
       "mpl.extensions = [\"eps\", \"jpeg\", \"pdf\", \"png\", \"ps\", \"raw\", \"svg\", \"tif\"];\n",
       "\n",
       "mpl.default_extension = \"png\";var comm_websocket_adapter = function(comm) {\n",
       "    // Create a \"websocket\"-like object which calls the given IPython comm\n",
       "    // object with the appropriate methods. Currently this is a non binary\n",
       "    // socket, so there is still some room for performance tuning.\n",
       "    var ws = {};\n",
       "\n",
       "    ws.close = function() {\n",
       "        comm.close()\n",
       "    };\n",
       "    ws.send = function(m) {\n",
       "        //console.log('sending', m);\n",
       "        comm.send(m);\n",
       "    };\n",
       "    // Register the callback with on_msg.\n",
       "    comm.on_msg(function(msg) {\n",
       "        //console.log('receiving', msg['content']['data'], msg);\n",
       "        // Pass the mpl event to the overriden (by mpl) onmessage function.\n",
       "        ws.onmessage(msg['content']['data'])\n",
       "    });\n",
       "    return ws;\n",
       "}\n",
       "\n",
       "mpl.mpl_figure_comm = function(comm, msg) {\n",
       "    // This is the function which gets called when the mpl process\n",
       "    // starts-up an IPython Comm through the \"matplotlib\" channel.\n",
       "\n",
       "    var id = msg.content.data.id;\n",
       "    // Get hold of the div created by the display call when the Comm\n",
       "    // socket was opened in Python.\n",
       "    var element = $(\"#\" + id);\n",
       "    var ws_proxy = comm_websocket_adapter(comm)\n",
       "\n",
       "    function ondownload(figure, format) {\n",
       "        window.open(figure.imageObj.src);\n",
       "    }\n",
       "\n",
       "    var fig = new mpl.figure(id, ws_proxy,\n",
       "                           ondownload,\n",
       "                           element.get(0));\n",
       "\n",
       "    // Call onopen now - mpl needs it, as it is assuming we've passed it a real\n",
       "    // web socket which is closed, not our websocket->open comm proxy.\n",
       "    ws_proxy.onopen();\n",
       "\n",
       "    fig.parent_element = element.get(0);\n",
       "    fig.cell_info = mpl.find_output_cell(\"<div id='\" + id + \"'></div>\");\n",
       "    if (!fig.cell_info) {\n",
       "        console.error(\"Failed to find cell for figure\", id, fig);\n",
       "        return;\n",
       "    }\n",
       "\n",
       "    var output_index = fig.cell_info[2]\n",
       "    var cell = fig.cell_info[0];\n",
       "\n",
       "};\n",
       "\n",
       "mpl.figure.prototype.handle_close = function(fig, msg) {\n",
       "    var width = fig.canvas.width/mpl.ratio\n",
       "    fig.root.unbind('remove')\n",
       "\n",
       "    // Update the output cell to use the data from the current canvas.\n",
       "    fig.push_to_output();\n",
       "    var dataURL = fig.canvas.toDataURL();\n",
       "    // Re-enable the keyboard manager in IPython - without this line, in FF,\n",
       "    // the notebook keyboard shortcuts fail.\n",
       "    IPython.keyboard_manager.enable()\n",
       "    $(fig.parent_element).html('<img src=\"' + dataURL + '\" width=\"' + width + '\">');\n",
       "    fig.close_ws(fig, msg);\n",
       "}\n",
       "\n",
       "mpl.figure.prototype.close_ws = function(fig, msg){\n",
       "    fig.send_message('closing', msg);\n",
       "    // fig.ws.close()\n",
       "}\n",
       "\n",
       "mpl.figure.prototype.push_to_output = function(remove_interactive) {\n",
       "    // Turn the data on the canvas into data in the output cell.\n",
       "    var width = this.canvas.width/mpl.ratio\n",
       "    var dataURL = this.canvas.toDataURL();\n",
       "    this.cell_info[1]['text/html'] = '<img src=\"' + dataURL + '\" width=\"' + width + '\">';\n",
       "}\n",
       "\n",
       "mpl.figure.prototype.updated_canvas_event = function() {\n",
       "    // Tell IPython that the notebook contents must change.\n",
       "    IPython.notebook.set_dirty(true);\n",
       "    this.send_message(\"ack\", {});\n",
       "    var fig = this;\n",
       "    // Wait a second, then push the new image to the DOM so\n",
       "    // that it is saved nicely (might be nice to debounce this).\n",
       "    setTimeout(function () { fig.push_to_output() }, 1000);\n",
       "}\n",
       "\n",
       "mpl.figure.prototype._init_toolbar = function() {\n",
       "    var fig = this;\n",
       "\n",
       "    var nav_element = $('<div/>')\n",
       "    nav_element.attr('style', 'width: 100%');\n",
       "    this.root.append(nav_element);\n",
       "\n",
       "    // Define a callback function for later on.\n",
       "    function toolbar_event(event) {\n",
       "        return fig.toolbar_button_onclick(event['data']);\n",
       "    }\n",
       "    function toolbar_mouse_event(event) {\n",
       "        return fig.toolbar_button_onmouseover(event['data']);\n",
       "    }\n",
       "\n",
       "    for(var toolbar_ind in mpl.toolbar_items){\n",
       "        var name = mpl.toolbar_items[toolbar_ind][0];\n",
       "        var tooltip = mpl.toolbar_items[toolbar_ind][1];\n",
       "        var image = mpl.toolbar_items[toolbar_ind][2];\n",
       "        var method_name = mpl.toolbar_items[toolbar_ind][3];\n",
       "\n",
       "        if (!name) { continue; };\n",
       "\n",
       "        var button = $('<button class=\"btn btn-default\" href=\"#\" title=\"' + name + '\"><i class=\"fa ' + image + ' fa-lg\"></i></button>');\n",
       "        button.click(method_name, toolbar_event);\n",
       "        button.mouseover(tooltip, toolbar_mouse_event);\n",
       "        nav_element.append(button);\n",
       "    }\n",
       "\n",
       "    // Add the status bar.\n",
       "    var status_bar = $('<span class=\"mpl-message\" style=\"text-align:right; float: right;\"/>');\n",
       "    nav_element.append(status_bar);\n",
       "    this.message = status_bar[0];\n",
       "\n",
       "    // Add the close button to the window.\n",
       "    var buttongrp = $('<div class=\"btn-group inline pull-right\"></div>');\n",
       "    var button = $('<button class=\"btn btn-mini btn-primary\" href=\"#\" title=\"Stop Interaction\"><i class=\"fa fa-power-off icon-remove icon-large\"></i></button>');\n",
       "    button.click(function (evt) { fig.handle_close(fig, {}); } );\n",
       "    button.mouseover('Stop Interaction', toolbar_mouse_event);\n",
       "    buttongrp.append(button);\n",
       "    var titlebar = this.root.find($('.ui-dialog-titlebar'));\n",
       "    titlebar.prepend(buttongrp);\n",
       "}\n",
       "\n",
       "mpl.figure.prototype._root_extra_style = function(el){\n",
       "    var fig = this\n",
       "    el.on(\"remove\", function(){\n",
       "\tfig.close_ws(fig, {});\n",
       "    });\n",
       "}\n",
       "\n",
       "mpl.figure.prototype._canvas_extra_style = function(el){\n",
       "    // this is important to make the div 'focusable\n",
       "    el.attr('tabindex', 0)\n",
       "    // reach out to IPython and tell the keyboard manager to turn it's self\n",
       "    // off when our div gets focus\n",
       "\n",
       "    // location in version 3\n",
       "    if (IPython.notebook.keyboard_manager) {\n",
       "        IPython.notebook.keyboard_manager.register_events(el);\n",
       "    }\n",
       "    else {\n",
       "        // location in version 2\n",
       "        IPython.keyboard_manager.register_events(el);\n",
       "    }\n",
       "\n",
       "}\n",
       "\n",
       "mpl.figure.prototype._key_event_extra = function(event, name) {\n",
       "    var manager = IPython.notebook.keyboard_manager;\n",
       "    if (!manager)\n",
       "        manager = IPython.keyboard_manager;\n",
       "\n",
       "    // Check for shift+enter\n",
       "    if (event.shiftKey && event.which == 13) {\n",
       "        this.canvas_div.blur();\n",
       "        // select the cell after this one\n",
       "        var index = IPython.notebook.find_cell_index(this.cell_info[0]);\n",
       "        IPython.notebook.select(index + 1);\n",
       "    }\n",
       "}\n",
       "\n",
       "mpl.figure.prototype.handle_save = function(fig, msg) {\n",
       "    fig.ondownload(fig, null);\n",
       "}\n",
       "\n",
       "\n",
       "mpl.find_output_cell = function(html_output) {\n",
       "    // Return the cell and output element which can be found *uniquely* in the notebook.\n",
       "    // Note - this is a bit hacky, but it is done because the \"notebook_saving.Notebook\"\n",
       "    // IPython event is triggered only after the cells have been serialised, which for\n",
       "    // our purposes (turning an active figure into a static one), is too late.\n",
       "    var cells = IPython.notebook.get_cells();\n",
       "    var ncells = cells.length;\n",
       "    for (var i=0; i<ncells; i++) {\n",
       "        var cell = cells[i];\n",
       "        if (cell.cell_type === 'code'){\n",
       "            for (var j=0; j<cell.output_area.outputs.length; j++) {\n",
       "                var data = cell.output_area.outputs[j];\n",
       "                if (data.data) {\n",
       "                    // IPython >= 3 moved mimebundle to data attribute of output\n",
       "                    data = data.data;\n",
       "                }\n",
       "                if (data['text/html'] == html_output) {\n",
       "                    return [cell, data, j];\n",
       "                }\n",
       "            }\n",
       "        }\n",
       "    }\n",
       "}\n",
       "\n",
       "// Register the function which deals with the matplotlib target/channel.\n",
       "// The kernel may be null if the page has been refreshed.\n",
       "if (IPython.notebook.kernel != null) {\n",
       "    IPython.notebook.kernel.comm_manager.register_target('matplotlib', mpl.mpl_figure_comm);\n",
       "}\n"
      ],
      "text/plain": [
       "<IPython.core.display.Javascript object>"
      ]
     },
     "metadata": {},
     "output_type": "display_data"
    },
    {
     "data": {
      "text/html": [
       "<img src=\"data:image/png;base64,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\" width=\"864\">"
      ],
      "text/plain": [
       "<IPython.core.display.HTML object>"
      ]
     },
     "metadata": {},
     "output_type": "display_data"
    }
   ],
   "source": [
    "# OO API\n",
    "fig = plt.figure(figsize=(12,6))\n",
    "ax = fig.add_subplot(111)\n",
    "\n",
    "ax.scatter(ref_point[0], ref_point[1], c='black', s=100)\n",
    "\n",
    "for p in neighbors[inds][:5]:\n",
    "    ax.scatter(p[0], p[1], s=80)\n",
    "\n",
    "for p in neighbors[inds][5:]:\n",
    "    ax.scatter(p[0], p[1], s=10, c='gray')\n",
    "    \n",
    "ax.grid(False)"
   ]
  },
  {
   "cell_type": "code",
   "execution_count": null,
   "metadata": {
    "collapsed": true
   },
   "outputs": [],
   "source": []
  }
 ],
 "metadata": {
  "kernelspec": {
   "display_name": "Python 3",
   "language": "python",
   "name": "python3"
  },
  "language_info": {
   "codemirror_mode": {
    "name": "ipython",
    "version": 3
   },
   "file_extension": ".py",
   "mimetype": "text/x-python",
   "name": "python",
   "nbconvert_exporter": "python",
   "pygments_lexer": "ipython3",
   "version": "3.6.3"
  }
 },
 "nbformat": 4,
 "nbformat_minor": 1
}
