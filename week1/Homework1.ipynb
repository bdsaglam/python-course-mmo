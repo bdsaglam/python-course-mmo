{
 "cells": [
  {
   "cell_type": "markdown",
   "metadata": {},
   "source": [
    "# Python for engineers\n",
    "\n",
    "## Homework 1\n",
    "\n",
    "#### Topics covered: syntax, if-else, loops, list, set, tuple, list comprehension\n",
    "\n",
    "Write your solutions to the cell belove each question."
   ]
  },
  {
   "cell_type": "markdown",
   "metadata": {},
   "source": [
    "Your name: "
   ]
  },
  {
   "cell_type": "markdown",
   "metadata": {},
   "source": [
    "## Question 1\n",
    "\n",
    "Write a Python program by using list comprehension that gives all the numbers up to n that are divisible to 6, but not to 12. \n",
    "\n",
    "List comprehension kullarak verilen bir n sayısına kadar kadar 6'ya bölünüp 12'ye bölünmeyen sayıları veren bir program yazın.\n",
    "\n",
    "```\n",
    "Input: n=100\n",
    "Expected output: [6, 18, 30, 42, 54, 66, 78, 90]\n",
    "```"
   ]
  },
  {
   "cell_type": "code",
   "execution_count": null,
   "metadata": {
    "collapsed": true
   },
   "outputs": [],
   "source": []
  },
  {
   "cell_type": "markdown",
   "metadata": {},
   "source": [
    "## Question 2\n",
    "Write a Python program to find common items from two lists.\n",
    "\n",
    "Verilen iki listedeki ortak elemanları bulan bir program yazın.\n",
    "```\n",
    "Input: [\"Red\", \"Green\", \"Orange\", \"White\"] and [\"Black\", \"Green\", \"White\", \"Pink\"]\n",
    "\n",
    "Expected output: {'Green', 'White'} \n",
    "```"
   ]
  },
  {
   "cell_type": "code",
   "execution_count": null,
   "metadata": {
    "collapsed": true
   },
   "outputs": [],
   "source": []
  },
  {
   "cell_type": "markdown",
   "metadata": {},
   "source": [
    "## Question 3\n",
    "\n",
    "Write a Python program that computes factorial of a given integer.\n",
    "\n",
    "Verilen bir sayının faktöryelini hesaplayan bir program yazın.\n",
    "\n",
    "```\n",
    "Input: 0\n",
    "Expected output: 1\n",
    "\n",
    "Input: 1\n",
    "Expected output: 1 \n",
    "\n",
    "Input: 5\n",
    "Expected output: 120 \n",
    "```"
   ]
  },
  {
   "cell_type": "code",
   "execution_count": null,
   "metadata": {
    "collapsed": true
   },
   "outputs": [],
   "source": []
  },
  {
   "cell_type": "markdown",
   "metadata": {},
   "source": [
    "## Question 4\n",
    "\n",
    "Write a Python function to check whether a number is perfect or not. Use sum function already defined in Python. A perfect number is a positive integer that is equal to the sum of its proper positive divisors except itself. \n",
    "\n",
    "Verilen bir sayının mükemmel sayı olup olmadığı bulan bir program yazın. Python'un sum fonksiyonunu kullanabilirsiniz. Mükemmel sayı kendisi dışında pozitif bölenlerinin toplamı kendisine eşit olan sayıdır.\n",
    "\n",
    "```\n",
    "Input: 1\n",
    "Expected output: False \n",
    "since no divisor except itself\n",
    "\n",
    "Input: 6\n",
    "Expected output: True \n",
    "since 1+2+3 = 6\n",
    "\n",
    "Input: 28\n",
    "Expected output: True \n",
    "since 1+2+4+7+14 = 28\n",
    "\n",
    "Input: 18\n",
    "Expected output: False\n",
    "since 1+2+3+6+9 = 21\n",
    "\n",
    "```\n"
   ]
  },
  {
   "cell_type": "code",
   "execution_count": 20,
   "metadata": {
    "scrolled": true
   },
   "outputs": [
    {
     "data": {
      "text/plain": [
       "6"
      ]
     },
     "execution_count": 20,
     "metadata": {},
     "output_type": "execute_result"
    }
   ],
   "source": [
    "# Example use of sum\n",
    "sum([1,2,3])"
   ]
  },
  {
   "cell_type": "code",
   "execution_count": null,
   "metadata": {
    "collapsed": true
   },
   "outputs": [],
   "source": []
  },
  {
   "cell_type": "markdown",
   "metadata": {},
   "source": [
    "## Question 5\n",
    "Write a Python program to get next day of a given date. Do not forget to take leap years and number of days in each month into account. \n",
    "\n",
    "Kullanıcın verdiği günden bir sonrakini verecek bir program yazın. Artık yıl ve her ayın kaç gün olduğunu da hesaba katmanız gerekiyor.\n",
    "```\n",
    "Input a year: 2016    \n",
    "Input a month: 8    \n",
    "Input a day: 23    \n",
    "Expected Output: 2016-8-24    \n",
    "\n",
    "Input a year: 2016    \n",
    "Input a month: 12    \n",
    "Input a day: 31    \n",
    "Expected Output: 2017-1-1    \n",
    "\n",
    "Input a year: 2016    \n",
    "Input a month: 2    \n",
    "Input a day: 28    \n",
    "Expected Output: 2017-2-29    \n",
    "\n",
    "Input a year: 2017    \n",
    "Input a month: 2    \n",
    "Input a day: 28    \n",
    "Expected Output: 2017-3-1\n",
    "```"
   ]
  },
  {
   "cell_type": "code",
   "execution_count": null,
   "metadata": {
    "collapsed": true
   },
   "outputs": [],
   "source": []
  },
  {
   "cell_type": "markdown",
   "metadata": {},
   "source": [
    "## Question 6\n",
    "\n",
    "Take two lists, find the indices where the second is matched in the first.\n",
    "\n",
    "Verilen iki listeden ikincisinin birinci listede hangi indexlerde eşleştiğini yazan bir program yazın. Program eğer hiç eşleşme yoksa boş liste verebilir.\n",
    "\n",
    "```\n",
    "Input: [0,1,1,0,1,1,0,1,0,1] and [1,0,1]\n",
    "Expected output: [3,6,8]\n",
    "\n",
    "Input: [0,1,1,0,1,1,0,1,0,1] and [1,1,1]\n",
    "Expected output: []\n",
    "\n",
    "Input: ['t', 'a', 'n', 'z', 'a', 'n', 'i', 'a'] and ['a','n']\n",
    "Expected output: [1, 4]\n",
    "```"
   ]
  },
  {
   "cell_type": "code",
   "execution_count": null,
   "metadata": {
    "collapsed": true
   },
   "outputs": [],
   "source": []
  },
  {
   "cell_type": "markdown",
   "metadata": {},
   "source": [
    "## Question 7\n",
    "\n",
    "Takes a list and an integer n and rotates the list n places. By rotation what we mean is this:\n",
    "Verilen bir liste üzerinde n kere rotasyon yapan bir program yazın. Her rotasyonda elemanlar bir sağa kayacak ve son eleman başa geçecek.\n",
    "\n",
    "```\n",
    "[1,2,3,4] rotated 1 time is [2,3,4,1]\n",
    "\n",
    "[1,2,3,4] rotated 2 times is [3,4,1,2]\n",
    "\n",
    "[1,2,3,4] rotated 5 times is [2,3,4,1]\n",
    "\n",
    "```"
   ]
  },
  {
   "cell_type": "code",
   "execution_count": null,
   "metadata": {
    "collapsed": true
   },
   "outputs": [],
   "source": []
  },
  {
   "cell_type": "markdown",
   "metadata": {},
   "source": [
    "## Question 8\n",
    "\n",
    "Extract all consecutive repetitions in a given list.\n",
    "\n",
    "Bir listede ardışık olarak tekrar eden elemanları ayrı bir liste olarak yazan bir program yazın. \n",
    "```\n",
    "Input: [1,2,2,3,3,3,3,2,4,3,5,5,1]\n",
    "Expected output: [[2,2],[3,3,3,3],[5,5]]\n",
    "\n",
    "Input: [1,2,3,4,1,2,3]\n",
    "Expected output: []\n",
    "```"
   ]
  },
  {
   "cell_type": "code",
   "execution_count": null,
   "metadata": {
    "collapsed": true
   },
   "outputs": [],
   "source": []
  },
  {
   "cell_type": "markdown",
   "metadata": {},
   "source": [
    "## Question 9\n",
    "\n",
    "Write a Python program that computes greatest common divisor of two numbers.\n",
    "\n",
    "Verilen iki sayının en büyük ortak bölenini bulan bir program yazın.\n",
    "\n",
    "```\n",
    "Input: 0, 1\n",
    "Expected output: 1\n",
    "\n",
    "Input: 1, 2\n",
    "Expected output: 1\n",
    "\n",
    "Input: 2, 5\n",
    "Expected output: 1 \n",
    "\n",
    "Input: 2, 4\n",
    "Expected output: 2\n",
    "\n",
    "Input: 12, 18\n",
    "Expected output: 6\n",
    "\n",
    "```"
   ]
  },
  {
   "cell_type": "code",
   "execution_count": null,
   "metadata": {
    "collapsed": true
   },
   "outputs": [],
   "source": []
  },
  {
   "cell_type": "markdown",
   "metadata": {},
   "source": [
    "## Question 10\n",
    "\n",
    "Write a Python program that computest Euclidian distances of points to a reference point. A point is given as a tuple of x and y coordinates. Use sqrt function in math module.\n",
    "\n",
    "Verilen noktaların bir referans noktasına göre Öklit uzaklığını bulan bir program yazın. Bir nokta x ve y koordinatlarından oluşan bir tuple olarak verilecek. Karekök işlemi için math modülündeki sqrt fonksiyonunu kullanabilirsiniz (aşağıdaki örnekte nasıl kullanıldığını görebilirsiniz).\n",
    "\n",
    "euclidian_dist((x, y), (a, b)) = √((x - a)² + (y - b)²)\n",
    "\n",
    "\n",
    "```\n",
    "Input: ref_number = (1,1) and points = [(1,1), (2,3), (4,7)]\n",
    "\n",
    "Expected output: [0.0, 2.23606797749979, 6.708203932499369]\n",
    "```"
   ]
  },
  {
   "cell_type": "code",
   "execution_count": 23,
   "metadata": {},
   "outputs": [
    {
     "name": "stdout",
     "output_type": "stream",
     "text": [
      "1.4142135623730951\n",
      "6.0\n"
     ]
    }
   ],
   "source": [
    "# Example use of sqrt\n",
    "from math import sqrt\n",
    "\n",
    "print(sqrt(2))\n",
    "print(sqrt(36))"
   ]
  },
  {
   "cell_type": "code",
   "execution_count": null,
   "metadata": {
    "collapsed": true
   },
   "outputs": [],
   "source": []
  }
 ],
 "metadata": {
  "kernelspec": {
   "display_name": "Python 3",
   "language": "python",
   "name": "python3"
  },
  "language_info": {
   "codemirror_mode": {
    "name": "ipython",
    "version": 3
   },
   "file_extension": ".py",
   "mimetype": "text/x-python",
   "name": "python",
   "nbconvert_exporter": "python",
   "pygments_lexer": "ipython3",
   "version": "3.6.3"
  }
 },
 "nbformat": 4,
 "nbformat_minor": 2
}
