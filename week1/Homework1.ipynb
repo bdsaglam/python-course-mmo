{
 "cells": [
  {
   "cell_type": "markdown",
   "metadata": {},
   "source": [
    "## Question 1\n",
    "\n",
    "Take a random (unsorted) list of integers, return the second largest element of it. Do not sort the list."
   ]
  },
  {
   "cell_type": "code",
   "execution_count": null,
   "metadata": {
    "collapsed": true
   },
   "outputs": [],
   "source": []
  },
  {
   "cell_type": "markdown",
   "metadata": {},
   "source": [
    "## Question 2\n",
    "\n",
    "Extract all consecutive repetitions in a given list; e.g.\n",
    "```\n",
    "[1,2,2,3,3,3,3,2,4,3,5,5,1]\n",
    "\n",
    "```\n",
    "\n",
    "should yield \n",
    "\n",
    "```\n",
    "[[2,2],[3,3,3,3],[5,5]]\n",
    "\n",
    "```"
   ]
  },
  {
   "cell_type": "code",
   "execution_count": null,
   "metadata": {
    "collapsed": true
   },
   "outputs": [],
   "source": []
  },
  {
   "cell_type": "markdown",
   "metadata": {},
   "source": [
    "## Question 3\n",
    "\n",
    "Take two lists, find the indices where the second is matched in the first. e.g. \n",
    "```\n",
    "[0,1,1,0,1,1,0,1,0,1] and [1,0,1]\n",
    "\n",
    "```\n",
    "should give \n",
    "\n",
    "```\n",
    "[3,6,8]\n",
    "```\n",
    "OR\n",
    "\n",
    "```\n",
    "['t', 'a', 'n', 'z', 'a', 'n', 'i', 'a'] and ['a','n']\n",
    "\n",
    "```\n",
    "should give \n",
    "\n",
    "```\n",
    "[1, 4]\n",
    "```"
   ]
  },
  {
   "cell_type": "code",
   "execution_count": null,
   "metadata": {
    "collapsed": true
   },
   "outputs": [],
   "source": []
  },
  {
   "cell_type": "markdown",
   "metadata": {},
   "source": [
    "## Question 4\n",
    "\n",
    "Takes a list and an integer n and rotates the list n places. By rotation what we mean is this:\n",
    "\n",
    "[1,2,3,4] rotated 1 place is [2,3,4,1]\n",
    "\n",
    "[1,2,3,4] rotated 2 places is [3,4,1,2]\n",
    "\n",
    "[1,2,3,4] rotated 5 place is [2,3,4,1]\n",
    "\n",
    "and so on.\n"
   ]
  },
  {
   "cell_type": "code",
   "execution_count": null,
   "metadata": {
    "collapsed": true
   },
   "outputs": [],
   "source": []
  },
  {
   "cell_type": "markdown",
   "metadata": {},
   "source": [
    "## Question 5 \n",
    "Write a Python program to find common items from two lists.\n",
    "\n",
    "Input: [\"Red\", \"Green\", \"Orange\", \"White\"] and [\"Black\", \"Green\", \"White\", \"Pink\"]\n",
    "\n",
    "Expected output: {'Green', 'White'} "
   ]
  },
  {
   "cell_type": "code",
   "execution_count": null,
   "metadata": {
    "collapsed": true
   },
   "outputs": [],
   "source": []
  }
 ],
 "metadata": {
  "kernelspec": {
   "display_name": "Python 3",
   "language": "python",
   "name": "python3"
  },
  "language_info": {
   "codemirror_mode": {
    "name": "ipython",
    "version": 3
   },
   "file_extension": ".py",
   "mimetype": "text/x-python",
   "name": "python",
   "nbconvert_exporter": "python",
   "pygments_lexer": "ipython3",
   "version": "3.6.3"
  }
 },
 "nbformat": 4,
 "nbformat_minor": 2
}
