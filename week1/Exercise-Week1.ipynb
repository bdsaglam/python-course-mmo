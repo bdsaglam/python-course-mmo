{
 "cells": [
  {
   "cell_type": "code",
   "execution_count": 1,
   "metadata": {},
   "outputs": [
    {
     "data": {
      "text/html": [
       "\n",
       "<script>\n",
       "code_show=true; \n",
       "function code_toggle() {\n",
       " if (code_show){\n",
       " $('div.input').hide();\n",
       " } else {\n",
       " $('div.input').show();\n",
       " }\n",
       " code_show = !code_show\n",
       "}\n",
       "</script>\n",
       "<form action=\"javascript:code_toggle()\">\n",
       "<input type=\"submit\" value=\"Click here to toggle on/off the raw code.\">\n",
       "</form>\n"
      ],
      "text/plain": [
       "<IPython.core.display.HTML object>"
      ]
     },
     "execution_count": 1,
     "metadata": {},
     "output_type": "execute_result"
    }
   ],
   "source": [
    "from IPython.display import HTML\n",
    "\n",
    "HTML('''\n",
    "<script>\n",
    "code_show=true; \n",
    "function code_toggle() {\n",
    " if (code_show){\n",
    " $('div.input').hide();\n",
    " } else {\n",
    " $('div.input').show();\n",
    " }\n",
    " code_show = !code_show\n",
    "}\n",
    "</script>\n",
    "<form action=\"javascript:code_toggle()\">\n",
    "<input type=\"submit\" value=\"Click here to toggle on/off the raw code.\">\n",
    "</form>\n",
    "''')\n"
   ]
  },
  {
   "cell_type": "code",
   "execution_count": 19,
   "metadata": {
    "collapsed": true
   },
   "outputs": [],
   "source": [
    "import random\n",
    "\n",
    "def get_random_set(count):\n",
    "    s = set(random.sample(range(-10, 10), count))\n",
    "    return s\n",
    "\n",
    "def get_random_list(count):\n",
    "    s = [random.randint(-10, 10) for i in range(count)]\n",
    "    return s"
   ]
  },
  {
   "cell_type": "markdown",
   "metadata": {},
   "source": [
    "### Exercise 1 --easy\n",
    "\n",
    "Get a set of integers from the user and compute the cardinality of the set; use a counter and a for loop."
   ]
  },
  {
   "cell_type": "code",
   "execution_count": 6,
   "metadata": {},
   "outputs": [
    {
     "name": "stdout",
     "output_type": "stream",
     "text": [
      "An integer please? (\"q\" to quit)1\n",
      "An integer please? (\"q\" to quit)2\n",
      "An integer please? (\"q\" to quit)3\n",
      "An integer please? (\"q\" to quit)4\n",
      "An integer please? (\"q\" to quit)q\n",
      "The length of set is 4\n"
     ]
    }
   ],
   "source": [
    "counter = 0\n",
    "while True:\n",
    "    s = input('An integer please? (\"q\" to quit)')\n",
    "    if s=='q':\n",
    "        break\n",
    "\n",
    "    n = int(s)\n",
    "    counter +=1\n",
    "print(\"The length of set is {0}\".format(counter))"
   ]
  },
  {
   "cell_type": "markdown",
   "metadata": {},
   "source": [
    "### Exercise 2 --easy\n",
    "\n",
    "Get a set of integers from the user and compute the greatest element in the set"
   ]
  },
  {
   "cell_type": "code",
   "execution_count": 15,
   "metadata": {},
   "outputs": [
    {
     "name": "stdout",
     "output_type": "stream",
     "text": [
      "The greatest element of set is 9\n"
     ]
    }
   ],
   "source": [
    "greatest = -float('inf') # or -9999999\n",
    "seq = [1,2,3,0,5,9,8,4,6]\n",
    "for i in seq:\n",
    "    if i>greatest:\n",
    "        greatest = i\n",
    "        \n",
    "print(\"The greatest element of set is {}\".format(greatest))"
   ]
  },
  {
   "cell_type": "markdown",
   "metadata": {},
   "source": [
    "### Exercise 3 --easy\n",
    "\n",
    "Get a set of integers and an integer from the user; form two sets out of the first, in one you have elements greater than the input integer, in the other those that are less or equal."
   ]
  },
  {
   "cell_type": "code",
   "execution_count": 16,
   "metadata": {
    "collapsed": true
   },
   "outputs": [],
   "source": [
    "myset = {1, 2, 0, 3, 5, 6, 8, 7, 4}\n",
    "anchor = 4"
   ]
  },
  {
   "cell_type": "code",
   "execution_count": 17,
   "metadata": {},
   "outputs": [
    {
     "name": "stdout",
     "output_type": "stream",
     "text": [
      "greater set {8, 5, 6, 7}\n",
      "smaller set {0, 1, 2, 3, 4}\n"
     ]
    }
   ],
   "source": [
    "greater_set = set()\n",
    "smaller_set = set()\n",
    "for i in myset:\n",
    "    if i <= anchor:\n",
    "        smaller_set.add(i)\n",
    "    else:\n",
    "        greater_set.add(i)\n",
    "print('greater set', greater_set)\n",
    "print('smaller set', smaller_set)"
   ]
  },
  {
   "cell_type": "markdown",
   "metadata": {},
   "source": [
    "### Exercise 5 --moderate\n",
    "\n",
    "Get a set of integers, divide it into two in such a way that all the elements in one of the sets is less than all in the other. The difference between the cardinalities of the sets must be at most 1."
   ]
  },
  {
   "cell_type": "code",
   "execution_count": 4,
   "metadata": {},
   "outputs": [
    {
     "name": "stdout",
     "output_type": "stream",
     "text": [
      "Element  0  is greater than  0  items\n",
      "Element  1  is greater than  1  items\n",
      "Element  1  is greater than  1  items\n",
      "Element  2  is greater than  3  items\n",
      "Element  2  is greater than  3  items\n",
      "Element  3  is greater than  5  items\n",
      "Element  3  is greater than  5  items\n",
      "Element  4  is greater than  7  items\n",
      "Element  5  is greater than  8  items\n"
     ]
    }
   ],
   "source": [
    "mylist = [1,1,2,3,2,4,3,5,0]\n",
    "\n",
    "mylist.sort()\n",
    "\n",
    "for i, element in enumerate(mylist):\n",
    "    print('Element ', element, ' is greater than ', mylist.index(element), ' items')"
   ]
  },
  {
   "cell_type": "code",
   "execution_count": 20,
   "metadata": {
    "collapsed": true
   },
   "outputs": [],
   "source": [
    "myset = get_random_set(9)\n",
    "lower = set()\n",
    "upper = set()\n",
    "mid = len(myset)//2\n",
    "\n",
    "for i in myset:\n",
    "    n = 0\n",
    "    for j in myset:\n",
    "        if i>=j:\n",
    "            n += 1\n",
    "            \n",
    "    #print(i,'->',n)\n",
    "    if n > mid:\n",
    "        upper.add(i)\n",
    "    else:\n",
    "        lower.add(i)"
   ]
  },
  {
   "cell_type": "code",
   "execution_count": 21,
   "metadata": {},
   "outputs": [
    {
     "name": "stdout",
     "output_type": "stream",
     "text": [
      "{1, 2, 3, 9, -9, -8, -4, -3, -2}\n",
      "{-8, -4, -3, -9}\n",
      "{1, 2, 3, 9, -2}\n"
     ]
    }
   ],
   "source": [
    "print(myset)\n",
    "print(lower)\n",
    "print(upper)"
   ]
  },
  {
   "cell_type": "markdown",
   "metadata": {},
   "source": [
    "### Exercise 6 --easy\n",
    "\n",
    "Take a list as input, print each member to the screen, together with the information whether the member has been encountered before or not."
   ]
  },
  {
   "cell_type": "code",
   "execution_count": 24,
   "metadata": {},
   "outputs": [
    {
     "name": "stdout",
     "output_type": "stream",
     "text": [
      "[-2, 9, -6, 5, 3, 0, 7, 9, 10, -4, 0, 8, 10, 8, -6, -6, -10, -5, -8, -9]\n",
      "-2 False\n",
      "9 False\n",
      "-6 False\n",
      "5 False\n",
      "3 False\n",
      "0 False\n",
      "7 False\n",
      "9 True\n",
      "10 False\n",
      "-4 False\n",
      "0 True\n",
      "8 False\n",
      "10 True\n",
      "8 True\n",
      "-6 True\n",
      "-6 True\n",
      "-10 False\n",
      "-5 False\n",
      "-8 False\n",
      "-9 False\n"
     ]
    }
   ],
   "source": [
    "mylist = get_random_list(20)\n",
    "N = len(mylist)\n",
    "print(mylist)\n",
    "\n",
    "for i in range(N):\n",
    "    element = mylist[i]\n",
    "    encountered = element in mylist[:i]\n",
    "    print(element, encountered)\n"
   ]
  },
  {
   "cell_type": "markdown",
   "metadata": {},
   "source": [
    "### Exercise 8 --moderate\n",
    "\n",
    "Take a list of integers, return the second largest element of it."
   ]
  },
  {
   "cell_type": "code",
   "execution_count": 33,
   "metadata": {},
   "outputs": [
    {
     "name": "stdout",
     "output_type": "stream",
     "text": [
      "[3, 4, 9]\n",
      "9 4\n"
     ]
    }
   ],
   "source": [
    "mylist = get_random_list(3)\n",
    "print(sorted(mylist))\n",
    "\n",
    "x = float('-inf')\n",
    "y = float('-inf')\n",
    "\n",
    "for element in mylist:\n",
    "    if element > y:\n",
    "        if element > x:\n",
    "            x,y = element, x\n",
    "        else:\n",
    "            y = element\n",
    "\n",
    "print(x,y)"
   ]
  },
  {
   "cell_type": "markdown",
   "metadata": {},
   "source": [
    "### Exercise 10 --moderate\n",
    "\n",
    "Write a zipper function that takes two lists and returns a list formed by taking one element from the first, then one from the second, then from the first, and so on. The program should be able to handle cases where one list is shorter than the other. Example outputs would be [1, 5, 2, 6, 3, 7, 4, 8] for input lists [1,2,3,4] and [5,6,7,8], or for example [1, 5, 2, 6, 7, 8] for input lists [1,2] and [5,6,7,8]."
   ]
  },
  {
   "cell_type": "code",
   "execution_count": 45,
   "metadata": {
    "scrolled": true
   },
   "outputs": [
    {
     "name": "stdout",
     "output_type": "stream",
     "text": [
      "[-4, 3, 10]\n",
      "[9, 1, -3, 0, 8]\n",
      "[-4, 9, 3, 1, 10, -3, 0, 8]\n"
     ]
    }
   ],
   "source": [
    "mylist1 = get_random_list(3)\n",
    "mylist2 = get_random_list(5)\n",
    "mylist3 = []\n",
    "\n",
    "m = len(mylist1)\n",
    "n = len(mylist2)\n",
    "\n",
    "i = 0\n",
    "j = 0\n",
    "while  (i+j) < (m + n): \n",
    "    if i < m:\n",
    "        mylist3.append(mylist1[i])\n",
    "        i += 1\n",
    "        \n",
    "    if j < n:\n",
    "        mylist3.append(mylist2[j])\n",
    "        j += 1\n",
    "\n",
    "print(mylist1)\n",
    "print(mylist2)\n",
    "print(mylist3)"
   ]
  },
  {
   "cell_type": "code",
   "execution_count": 7,
   "metadata": {},
   "outputs": [
    {
     "name": "stdout",
     "output_type": "stream",
     "text": [
      "False\n"
     ]
    }
   ],
   "source": [
    "seq = list('nooan')\n",
    "N = len(seq)\n",
    "\n",
    "is_palindrome=True\n",
    "for i in range(len(seq)//2):\n",
    "    if seq[i]!=seq[N-i-1]:\n",
    "        is_palindrome = False\n",
    "        \n",
    "print(is_palindrome)"
   ]
  },
  {
   "cell_type": "code",
   "execution_count": null,
   "metadata": {
    "collapsed": true
   },
   "outputs": [],
   "source": []
  },
  {
   "cell_type": "markdown",
   "metadata": {},
   "source": [
    "### Exercise 12 --moderate\n",
    "\n",
    "Take a list with 3 integers, return the middle; use <=."
   ]
  },
  {
   "cell_type": "code",
   "execution_count": 75,
   "metadata": {
    "collapsed": true
   },
   "outputs": [],
   "source": [
    "def middle(alist):\n",
    "    a,b,c = alist\n",
    "    if a <= b <= c or c <= b <= a:\n",
    "        return b\n",
    "    elif b <= a <= c or c <= a <= b:\n",
    "        return a\n",
    "    else:\n",
    "        return c"
   ]
  },
  {
   "cell_type": "code",
   "execution_count": 87,
   "metadata": {},
   "outputs": [
    {
     "data": {
      "text/plain": [
       "3"
      ]
     },
     "execution_count": 87,
     "metadata": {},
     "output_type": "execute_result"
    }
   ],
   "source": [
    "middle([3,5,2])"
   ]
  },
  {
   "cell_type": "markdown",
   "metadata": {},
   "source": [
    "### Exercise 13 --hard\n",
    "\n",
    "Extract all consecutive repetitions in a given list; e.g. [1,2,2,3,3,3,3,4,5,5] should yield [[2,2],[3,3,3,3],[5,5]]"
   ]
  },
  {
   "cell_type": "code",
   "execution_count": 10,
   "metadata": {
    "collapsed": true
   },
   "outputs": [],
   "source": [
    "def repeaters(alist):\n",
    "    final = []\n",
    "    repeated = [alist[0]]\n",
    "    for i in alist[1:]:\n",
    "        if i==repeated[0]:\n",
    "            repeated.append(i)\n",
    "        else:\n",
    "            if len(repeated)>1:\n",
    "                final.append(repeated)\n",
    "            repeated = [i]\n",
    "\n",
    "    if len(repeated)>1:\n",
    "        final.append(repeated)\n",
    "\n",
    "    return final"
   ]
  },
  {
   "cell_type": "code",
   "execution_count": 11,
   "metadata": {
    "collapsed": true
   },
   "outputs": [],
   "source": [
    "mylist = [1,2,2,3,3,3,3,4,5,5,6]"
   ]
  },
  {
   "cell_type": "code",
   "execution_count": 12,
   "metadata": {},
   "outputs": [
    {
     "data": {
      "text/plain": [
       "[[2, 2], [3, 3, 3, 3], [5, 5]]"
      ]
     },
     "execution_count": 12,
     "metadata": {},
     "output_type": "execute_result"
    }
   ],
   "source": [
    "repeaters(mylist)"
   ]
  },
  {
   "cell_type": "markdown",
   "metadata": {},
   "source": [
    "### Exercise 14 --moderate\n",
    "\n",
    "Take two lists, find the indices where the second is matched in the first. E.g. [0,1,1,0,1,1,0,1,0,1] and [1,0,1] should give [3,6,8]."
   ]
  },
  {
   "cell_type": "code",
   "execution_count": 24,
   "metadata": {
    "collapsed": true
   },
   "outputs": [],
   "source": [
    "def match(a,b):\n",
    "    m = len(a)\n",
    "    n = len(b)\n",
    "    matches = []\n",
    "    for i in range(0, m - n + 1):\n",
    "        if a[i:n+i]==b:\n",
    "            matches.append(i)\n",
    "            \n",
    "    return matches"
   ]
  },
  {
   "cell_type": "code",
   "execution_count": 31,
   "metadata": {},
   "outputs": [
    {
     "data": {
      "text/plain": [
       "[2, 5, 7]"
      ]
     },
     "execution_count": 31,
     "metadata": {},
     "output_type": "execute_result"
    }
   ],
   "source": [
    "mylist1 = [0,1,1,0,1,1,0,1,0,1]\n",
    "mylist2 = [1,0,1]\n",
    "\n",
    "match(mylist1, mylist2)"
   ]
  },
  {
   "cell_type": "code",
   "execution_count": 32,
   "metadata": {},
   "outputs": [
    {
     "data": {
      "text/plain": [
       "[3]"
      ]
     },
     "execution_count": 32,
     "metadata": {},
     "output_type": "execute_result"
    }
   ],
   "source": [
    "match('anaconda', 'conda')"
   ]
  },
  {
   "cell_type": "markdown",
   "metadata": {},
   "source": [
    "### Exercise 15 --hard\n",
    "\n",
    "Summarize the elements in a given list; e.g. [1,2,2,3,3,3,3,4,5,5] should yield [[1,1],[2,2],[4,3],[1,4],[2,5]], where the first component of each ordered pair is the count and the second is the element. Order is not important."
   ]
  },
  {
   "cell_type": "code",
   "execution_count": 151,
   "metadata": {
    "collapsed": true
   },
   "outputs": [],
   "source": [
    "from collections import Counter"
   ]
  },
  {
   "cell_type": "code",
   "execution_count": 152,
   "metadata": {},
   "outputs": [
    {
     "data": {
      "text/plain": [
       "Counter({1: 1, 2: 2, 3: 4, 4: 1, 5: 2})"
      ]
     },
     "execution_count": 152,
     "metadata": {},
     "output_type": "execute_result"
    }
   ],
   "source": [
    "Counter([1,2,2,3,3,3,3,4,5,5])"
   ]
  },
  {
   "cell_type": "code",
   "execution_count": 170,
   "metadata": {
    "collapsed": true
   },
   "outputs": [],
   "source": [
    "def group(alist):\n",
    "    final = []\n",
    "    repeated = [alist[0]]\n",
    "    for i in alist[1:]:\n",
    "        if i==repeated[0]:\n",
    "            repeated.append(i)\n",
    "        else:\n",
    "            final.append(repeated)\n",
    "            repeated = [i]\n",
    "\n",
    "    final.append(repeated)\n",
    "\n",
    "    return final\n",
    "\n",
    "def count(nested_list):\n",
    "    for g in nested_list:\n",
    "        yield (g[0], len(g))"
   ]
  },
  {
   "cell_type": "code",
   "execution_count": 171,
   "metadata": {},
   "outputs": [
    {
     "data": {
      "text/plain": [
       "[(1, 1), (2, 2), (3, 4), (4, 1), (5, 2)]"
      ]
     },
     "execution_count": 171,
     "metadata": {},
     "output_type": "execute_result"
    }
   ],
   "source": [
    "list(count(group([1,2,2,3,3,3,3,4,5,5])))"
   ]
  },
  {
   "cell_type": "markdown",
   "metadata": {},
   "source": [
    "### Exercise 16 --hard\n",
    "\n",
    "Implement Bubble Sort."
   ]
  },
  {
   "cell_type": "code",
   "execution_count": 180,
   "metadata": {
    "collapsed": true
   },
   "outputs": [],
   "source": [
    "def bubble(alist):\n",
    "    n = len(alist)\n",
    "    for j in range(n-1):\n",
    "        for i in range(n-j-1):\n",
    "            if alist[i] > alist[i+1]:\n",
    "                alist[i], alist[i+1] = alist[i+1], alist[i]\n"
   ]
  },
  {
   "cell_type": "code",
   "execution_count": 181,
   "metadata": {},
   "outputs": [
    {
     "name": "stdout",
     "output_type": "stream",
     "text": [
      "[6, -9, 4, -3, 6, -4, 1, 1, 1, 4]\n"
     ]
    }
   ],
   "source": [
    "mylist = get_random_list(10)\n",
    "print(mylist)"
   ]
  },
  {
   "cell_type": "code",
   "execution_count": 182,
   "metadata": {},
   "outputs": [
    {
     "data": {
      "text/plain": [
       "[-9, -4, -3, 1, 1, 1, 4, 4, 6, 6]"
      ]
     },
     "execution_count": 182,
     "metadata": {},
     "output_type": "execute_result"
    }
   ],
   "source": [
    "bubble(mylist)\n",
    "mylist"
   ]
  },
  {
   "cell_type": "code",
   "execution_count": null,
   "metadata": {
    "collapsed": true
   },
   "outputs": [],
   "source": [
    "sorted(mylist)"
   ]
  },
  {
   "cell_type": "markdown",
   "metadata": {},
   "source": [
    "### Exercise 18 --hardest\n",
    "\n",
    "Write a function that gives in a list all the permutations -- distinct orderings -- of a given list of integers."
   ]
  },
  {
   "cell_type": "code",
   "execution_count": 185,
   "metadata": {
    "collapsed": true
   },
   "outputs": [],
   "source": [
    "# permutation algorithm\n",
    "def permute(elements):\n",
    "    if len(elements) <=1:\n",
    "        yield elements\n",
    "    else:\n",
    "        for perm in permute(elements[1:]):\n",
    "            for i in range(len(perm)+1):\n",
    "                yield perm[:i] + elements[0:1] + perm[i:]"
   ]
  },
  {
   "cell_type": "code",
   "execution_count": 189,
   "metadata": {},
   "outputs": [
    {
     "data": {
      "text/plain": [
       "[[1, 2, 3, 4],\n",
       " [2, 1, 3, 4],\n",
       " [2, 3, 1, 4],\n",
       " [2, 3, 4, 1],\n",
       " [1, 3, 2, 4],\n",
       " [3, 1, 2, 4],\n",
       " [3, 2, 1, 4],\n",
       " [3, 2, 4, 1],\n",
       " [1, 3, 4, 2],\n",
       " [3, 1, 4, 2],\n",
       " [3, 4, 1, 2],\n",
       " [3, 4, 2, 1],\n",
       " [1, 2, 4, 3],\n",
       " [2, 1, 4, 3],\n",
       " [2, 4, 1, 3],\n",
       " [2, 4, 3, 1],\n",
       " [1, 4, 2, 3],\n",
       " [4, 1, 2, 3],\n",
       " [4, 2, 1, 3],\n",
       " [4, 2, 3, 1],\n",
       " [1, 4, 3, 2],\n",
       " [4, 1, 3, 2],\n",
       " [4, 3, 1, 2],\n",
       " [4, 3, 2, 1]]"
      ]
     },
     "execution_count": 189,
     "metadata": {},
     "output_type": "execute_result"
    }
   ],
   "source": [
    "list(permute([1,2,3,4]))"
   ]
  },
  {
   "cell_type": "markdown",
   "metadata": {},
   "source": [
    "### Exercise 19 --hardest\n",
    "\n",
    "Write a function that gives all the n element subsets of a given set; use lists to represent sets. This problem is equivalent to computing combinations."
   ]
  },
  {
   "cell_type": "code",
   "execution_count": 190,
   "metadata": {
    "collapsed": true
   },
   "outputs": [],
   "source": [
    "# subsets algorithm\n",
    "def subsets(s):\n",
    "    \"\"\"Find all possible subsets of a list.\"\"\"\n",
    "    if not s:\n",
    "        yield []\n",
    "    else:\n",
    "        for sub in subsets(s[1:]):\n",
    "            yield sub\n",
    "            yield [s[0]]+sub"
   ]
  },
  {
   "cell_type": "code",
   "execution_count": 191,
   "metadata": {},
   "outputs": [
    {
     "data": {
      "text/plain": [
       "[[],\n",
       " [1],\n",
       " [2],\n",
       " [1, 2],\n",
       " [3],\n",
       " [1, 3],\n",
       " [2, 3],\n",
       " [1, 2, 3],\n",
       " [4],\n",
       " [1, 4],\n",
       " [2, 4],\n",
       " [1, 2, 4],\n",
       " [3, 4],\n",
       " [1, 3, 4],\n",
       " [2, 3, 4],\n",
       " [1, 2, 3, 4]]"
      ]
     },
     "execution_count": 191,
     "metadata": {},
     "output_type": "execute_result"
    }
   ],
   "source": [
    "list(subsets([1,2,3,4]))"
   ]
  },
  {
   "cell_type": "markdown",
   "metadata": {
    "collapsed": true
   },
   "source": [
    "### Exercise 20 --moderate\n",
    "\n",
    "Remove the last occurrence of an item from a list; do NOT reverse the list or traverse it from backwards."
   ]
  },
  {
   "cell_type": "code",
   "execution_count": 19,
   "metadata": {
    "collapsed": true
   },
   "outputs": [],
   "source": [
    "def get_indices(seq, item):\n",
    "    for i,element in enumerate(seq):\n",
    "        if element==item:\n",
    "            yield i\n",
    "            \n",
    "def get_last_index(seq, item):\n",
    "    indices = list(get_indices(seq, item))\n",
    "    if indices:\n",
    "        return indices[-1]"
   ]
  },
  {
   "cell_type": "code",
   "execution_count": 29,
   "metadata": {},
   "outputs": [
    {
     "name": "stdout",
     "output_type": "stream",
     "text": [
      "[0, 9, 2, -3, 10, -3, 7, 0, -5, 1]\n"
     ]
    }
   ],
   "source": [
    "seq = get_random_list(10)\n",
    "print(seq)"
   ]
  },
  {
   "cell_type": "code",
   "execution_count": 30,
   "metadata": {},
   "outputs": [
    {
     "name": "stdout",
     "output_type": "stream",
     "text": [
      "7\n"
     ]
    }
   ],
   "source": [
    "print(get_last_index(seq, 0))"
   ]
  },
  {
   "cell_type": "markdown",
   "metadata": {
    "collapsed": true
   },
   "source": [
    "### Exercise 21 --hard\n",
    "\n",
    "Given a list of integers, ensure that every element occurs an odd number of times; you can only add items to the list."
   ]
  },
  {
   "cell_type": "code",
   "execution_count": 44,
   "metadata": {
    "collapsed": true
   },
   "outputs": [],
   "source": [
    "def group(seq):\n",
    "    final = []\n",
    "    repeated = [seq[0]]\n",
    "    for i in seq[1:]:\n",
    "        if i==repeated[0]:\n",
    "            repeated.append(i)\n",
    "        else:\n",
    "            final.append(repeated)\n",
    "            repeated = [i]\n",
    "\n",
    "    final.append(repeated)\n",
    "\n",
    "    return final\n",
    "\n",
    "def count(nested_list):\n",
    "    for g in nested_list:\n",
    "        yield (g[0], len(g))\n",
    "        \n",
    "def is_even(i):\n",
    "    if (i%2)==0:\n",
    "        return True\n",
    "    return False\n",
    "\n",
    "def oddify(seq):\n",
    "    seq2 = seq.copy()\n",
    "\n",
    "    for i, n in count(group(seq)):\n",
    "        if is_even(n):\n",
    "            seq2.append(i)\n",
    "    return seq2"
   ]
  },
  {
   "cell_type": "code",
   "execution_count": 45,
   "metadata": {},
   "outputs": [
    {
     "data": {
      "text/plain": [
       "[(1, 1), (2, 2), (3, 4), (4, 1), (5, 2)]"
      ]
     },
     "execution_count": 45,
     "metadata": {},
     "output_type": "execute_result"
    }
   ],
   "source": [
    "seq = [1,2,2,3,3,3,3,4,5,5]\n",
    "list(count(group(seq)))"
   ]
  },
  {
   "cell_type": "code",
   "execution_count": 46,
   "metadata": {},
   "outputs": [
    {
     "data": {
      "text/plain": [
       "[1, 2, 2, 3, 3, 3, 3, 4, 5, 5, 2, 3, 5]"
      ]
     },
     "execution_count": 46,
     "metadata": {},
     "output_type": "execute_result"
    }
   ],
   "source": [
    "oddify(seq)"
   ]
  },
  {
   "cell_type": "markdown",
   "metadata": {
    "collapsed": true
   },
   "source": [
    "### Exercise 22 --easy\n",
    "\n",
    "Write a two argument function rotate that takes a list s and an integer n and rotates the list s n places. By rotation what we mean is this:\n",
    "[1,2,3,4] rotated 1 place is [2,3,4,1]\n",
    "[1,2,3,4] rotated 2 places is [3,4,1,2]\n",
    "[1,2,3,4] rotated 5 place is [2,3,4,1]\n",
    "and so on.\n",
    "Write a two argument function rotate that takes a list s and an integer n and rotates the list s n places. By rotation what we mean is this:\n",
    "[1,2,3,4] rotated 1 place is [2,3,4,1]\n",
    "[1,2,3,4] rotated 2 places is [3,4,1,2]\n",
    "[1,2,3,4] rotated 5 place is [2,3,4,1]\n",
    "and so on."
   ]
  },
  {
   "cell_type": "code",
   "execution_count": 47,
   "metadata": {
    "collapsed": true
   },
   "outputs": [],
   "source": [
    "def rotate(seq, n):\n",
    "    for i in range(n):\n",
    "        seq.append(seq.pop(0))\n",
    "        \n",
    "    return seq"
   ]
  },
  {
   "cell_type": "code",
   "execution_count": 51,
   "metadata": {},
   "outputs": [
    {
     "name": "stdout",
     "output_type": "stream",
     "text": [
      "[2, 3, 4, 1]\n",
      "[1, 2, 3, 4]\n",
      "[1, 2, 3, 4]\n"
     ]
    }
   ],
   "source": [
    "print(rotate([1,2,3,4],1))\n",
    "print(rotate([1,2,3,4],0))\n",
    "print(rotate([1,2,3,4],4))"
   ]
  },
  {
   "cell_type": "markdown",
   "metadata": {
    "collapsed": true
   },
   "source": [
    "### Exercise 23 --moderate\n",
    "\n",
    "Write a program that takes a string as input and prints a string such that all the 'a's after an occurrence of a 'c' are turned to 'x'. For instance, \"abcd\" yields \"abcd\", \"acbcdada\" yields \"acbcdxdx\", \"axax\" yields \"axax\", and so on."
   ]
  },
  {
   "cell_type": "code",
   "execution_count": 59,
   "metadata": {
    "collapsed": true
   },
   "outputs": [],
   "source": [
    "def xify(s):\n",
    "    seq = list(s)\n",
    "    flag = False\n",
    "    for i,element in enumerate(seq):\n",
    "        if element=='c':\n",
    "            flag = True\n",
    "            continue\n",
    "        if element=='a' and flag:\n",
    "            seq[i]='x'\n",
    "    \n",
    "    return ''.join(seq)"
   ]
  },
  {
   "cell_type": "code",
   "execution_count": 60,
   "metadata": {},
   "outputs": [
    {
     "data": {
      "text/plain": [
       "'acbcdxdx'"
      ]
     },
     "execution_count": 60,
     "metadata": {},
     "output_type": "execute_result"
    }
   ],
   "source": [
    "xify('acbcdada')"
   ]
  },
  {
   "cell_type": "markdown",
   "metadata": {
    "collapsed": true
   },
   "source": [
    "### Exercise 24 --moderate\n",
    "\n",
    "Take two strings s1 and s2. If s2 is a substring of s1, return the index of its first occurrence, if not return -1."
   ]
  },
  {
   "cell_type": "code",
   "execution_count": 87,
   "metadata": {
    "collapsed": true
   },
   "outputs": [],
   "source": [
    "def is_substring(s, sub):\n",
    "    n = len(s)\n",
    "    m = len(sub)\n",
    "    \n",
    "    for i in range(n-m+1):\n",
    "        if s[i:i+m]==sub:\n",
    "            return i\n",
    "    return -1"
   ]
  },
  {
   "cell_type": "code",
   "execution_count": 93,
   "metadata": {},
   "outputs": [
    {
     "data": {
      "text/plain": [
       "-1"
      ]
     },
     "execution_count": 93,
     "metadata": {},
     "output_type": "execute_result"
    }
   ],
   "source": [
    "is_substring('asdasx','y')"
   ]
  },
  {
   "cell_type": "markdown",
   "metadata": {
    "collapsed": true
   },
   "source": [
    "### Exercise 25 --moderate\n",
    "\n",
    "Write a program that takes a string as input and prints a horizontal histogram of the characters like below, for instance for the input \"abracadabra\"\n",
    "\n",
    "``\n",
    "a *****\n",
    "b **\n",
    "c *\n",
    "d *\n",
    "r **``\n"
   ]
  },
  {
   "cell_type": "code",
   "execution_count": 142,
   "metadata": {
    "collapsed": true
   },
   "outputs": [],
   "source": [
    "def counter(seq):\n",
    "    d = dict()\n",
    "    for element in seq:\n",
    "        if element in d:\n",
    "            d[element] +=  1\n",
    "        else:\n",
    "            d[element] = 1\n",
    "    return d\n",
    "        \n",
    "def hhistogram(seq):\n",
    "    for element, n in counter(seq).items():\n",
    "        print(element, ' ', '*'*n)\n",
    "        \n"
   ]
  },
  {
   "cell_type": "code",
   "execution_count": 173,
   "metadata": {},
   "outputs": [
    {
     "name": "stdout",
     "output_type": "stream",
     "text": [
      "a   *****\n",
      "b   **\n",
      "r   **\n",
      "c   *\n",
      "d   *\n"
     ]
    }
   ],
   "source": [
    "hhistogram('abracadabra')"
   ]
  },
  {
   "cell_type": "markdown",
   "metadata": {},
   "source": [
    "### Exercise 26  --hard\n",
    "\n",
    "Make a vertical histogram."
   ]
  },
  {
   "cell_type": "code",
   "execution_count": 176,
   "metadata": {
    "collapsed": true
   },
   "outputs": [],
   "source": [
    "def vhistogram(seq):\n",
    "    d = counter('abracadabra')\n",
    "    keys, values = zip(*d.items())\n",
    "    \n",
    "    # compute lines\n",
    "    N = max(values)\n",
    "    blocks = []\n",
    "    for v in values:\n",
    "        blocks.append(['*']*v + [' ']*(N-v))\n",
    "    lines = list(zip(*blocks))\n",
    "\n",
    "    # write\n",
    "    for t in reversed(lines):\n",
    "        print('  '.join(t))\n",
    "    print('  '.join(keys))"
   ]
  },
  {
   "cell_type": "code",
   "execution_count": 179,
   "metadata": {},
   "outputs": [
    {
     "data": {
      "text/plain": [
       "[('*', '*'), ('*', '*'), ('*', ' '), ('*', ' '), ('*', ' ')]"
      ]
     },
     "execution_count": 179,
     "metadata": {},
     "output_type": "execute_result"
    }
   ],
   "source": [
    "list(zip('*****', '**    '))"
   ]
  },
  {
   "cell_type": "code",
   "execution_count": 177,
   "metadata": {
    "scrolled": true
   },
   "outputs": [
    {
     "name": "stdout",
     "output_type": "stream",
     "text": [
      "*            \n",
      "*            \n",
      "*            \n",
      "*  *  *      \n",
      "*  *  *  *  *\n",
      "a  b  r  c  d\n"
     ]
    }
   ],
   "source": [
    "vhistogram('abracadabra')"
   ]
  },
  {
   "cell_type": "code",
   "execution_count": null,
   "metadata": {
    "collapsed": true
   },
   "outputs": [],
   "source": []
  }
 ],
 "metadata": {
  "kernelspec": {
   "display_name": "Python 3",
   "language": "python",
   "name": "python3"
  },
  "language_info": {
   "codemirror_mode": {
    "name": "ipython",
    "version": 3
   },
   "file_extension": ".py",
   "mimetype": "text/x-python",
   "name": "python",
   "nbconvert_exporter": "python",
   "pygments_lexer": "ipython3",
   "version": "3.6.3"
  }
 },
 "nbformat": 4,
 "nbformat_minor": 1
}
