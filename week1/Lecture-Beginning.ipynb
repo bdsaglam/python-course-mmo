{
 "cells": [
  {
   "cell_type": "markdown",
   "metadata": {},
   "source": [
    "# Basics"
   ]
  },
  {
   "cell_type": "code",
   "execution_count": 38,
   "metadata": {},
   "outputs": [
    {
     "name": "stdout",
     "output_type": "stream",
     "text": [
      "Hello, world\n"
     ]
    }
   ],
   "source": [
    "print(\"Hello, world\")"
   ]
  },
  {
   "cell_type": "code",
   "execution_count": 39,
   "metadata": {},
   "outputs": [
    {
     "name": "stdout",
     "output_type": "stream",
     "text": [
      "Hello world\n"
     ]
    }
   ],
   "source": [
    "print('Hello', 'world')"
   ]
  },
  {
   "cell_type": "markdown",
   "metadata": {},
   "source": [
    "## Expressions"
   ]
  },
  {
   "cell_type": "code",
   "execution_count": 3,
   "metadata": {},
   "outputs": [
    {
     "data": {
      "text/plain": [
       "4"
      ]
     },
     "execution_count": 3,
     "metadata": {},
     "output_type": "execute_result"
    }
   ],
   "source": [
    "2 + 2"
   ]
  },
  {
   "cell_type": "code",
   "execution_count": 4,
   "metadata": {},
   "outputs": [
    {
     "data": {
      "text/plain": [
       "288925"
      ]
     },
     "execution_count": 4,
     "metadata": {},
     "output_type": "execute_result"
    }
   ],
   "source": [
    "53672 + 235253"
   ]
  },
  {
   "cell_type": "code",
   "execution_count": 5,
   "metadata": {},
   "outputs": [
    {
     "data": {
      "text/plain": [
       "1.5"
      ]
     },
     "execution_count": 5,
     "metadata": {},
     "output_type": "execute_result"
    }
   ],
   "source": [
    "3/2"
   ]
  },
  {
   "cell_type": "code",
   "execution_count": 6,
   "metadata": {},
   "outputs": [
    {
     "data": {
      "text/plain": [
       "1"
      ]
     },
     "execution_count": 6,
     "metadata": {},
     "output_type": "execute_result"
    }
   ],
   "source": [
    "3//2"
   ]
  },
  {
   "cell_type": "code",
   "execution_count": 7,
   "metadata": {},
   "outputs": [
    {
     "data": {
      "text/plain": [
       "1.0"
      ]
     },
     "execution_count": 7,
     "metadata": {},
     "output_type": "execute_result"
    }
   ],
   "source": [
    "3.0//2.0"
   ]
  },
  {
   "cell_type": "code",
   "execution_count": 8,
   "metadata": {},
   "outputs": [
    {
     "data": {
      "text/plain": [
       "'0b10001'"
      ]
     },
     "execution_count": 8,
     "metadata": {},
     "output_type": "execute_result"
    }
   ],
   "source": [
    "# Base 2\n",
    "bin(17)"
   ]
  },
  {
   "cell_type": "code",
   "execution_count": 9,
   "metadata": {},
   "outputs": [
    {
     "data": {
      "text/plain": [
       "17"
      ]
     },
     "execution_count": 9,
     "metadata": {},
     "output_type": "execute_result"
    }
   ],
   "source": [
    "0b10001"
   ]
  },
  {
   "cell_type": "code",
   "execution_count": 10,
   "metadata": {},
   "outputs": [
    {
     "data": {
      "text/plain": [
       "'0o21'"
      ]
     },
     "execution_count": 10,
     "metadata": {},
     "output_type": "execute_result"
    }
   ],
   "source": [
    "# Base 8\n",
    "oct(17)"
   ]
  },
  {
   "cell_type": "code",
   "execution_count": 11,
   "metadata": {},
   "outputs": [
    {
     "data": {
      "text/plain": [
       "17"
      ]
     },
     "execution_count": 11,
     "metadata": {},
     "output_type": "execute_result"
    }
   ],
   "source": [
    "0o21"
   ]
  },
  {
   "cell_type": "code",
   "execution_count": 12,
   "metadata": {},
   "outputs": [
    {
     "data": {
      "text/plain": [
       "'0x11'"
      ]
     },
     "execution_count": 12,
     "metadata": {},
     "output_type": "execute_result"
    }
   ],
   "source": [
    "# Base 16\n",
    "hex(17)"
   ]
  },
  {
   "cell_type": "code",
   "execution_count": 13,
   "metadata": {},
   "outputs": [
    {
     "data": {
      "text/plain": [
       "17"
      ]
     },
     "execution_count": 13,
     "metadata": {},
     "output_type": "execute_result"
    }
   ],
   "source": [
    "0x11"
   ]
  },
  {
   "cell_type": "code",
   "execution_count": 14,
   "metadata": {},
   "outputs": [
    {
     "data": {
      "text/plain": [
       "2"
      ]
     },
     "execution_count": 14,
     "metadata": {},
     "output_type": "execute_result"
    }
   ],
   "source": [
    "17 % 3"
   ]
  },
  {
   "cell_type": "code",
   "execution_count": 15,
   "metadata": {},
   "outputs": [
    {
     "data": {
      "text/plain": [
       "0"
      ]
     },
     "execution_count": 15,
     "metadata": {},
     "output_type": "execute_result"
    }
   ],
   "source": [
    "3 % 3"
   ]
  },
  {
   "cell_type": "code",
   "execution_count": 16,
   "metadata": {},
   "outputs": [
    {
     "data": {
      "text/plain": [
       "27"
      ]
     },
     "execution_count": 16,
     "metadata": {},
     "output_type": "execute_result"
    }
   ],
   "source": [
    "2**3 + 3*5 + 4"
   ]
  },
  {
   "cell_type": "code",
   "execution_count": 45,
   "metadata": {},
   "outputs": [
    {
     "data": {
      "text/plain": [
       "'Hello World'"
      ]
     },
     "execution_count": 45,
     "metadata": {},
     "output_type": "execute_result"
    }
   ],
   "source": [
    "\"Hello\" + \" \" + \"World\""
   ]
  },
  {
   "cell_type": "code",
   "execution_count": 46,
   "metadata": {
    "collapsed": true
   },
   "outputs": [],
   "source": [
    "city = \"\"\"\n",
    " Toronto is the largest city in Canada \n",
    " and the provincial capital of Ontario. \n",
    " It is located in Southern Ontario on the \n",
    " northwestern shore of Lake Ontario.\n",
    "\"\"\""
   ]
  },
  {
   "cell_type": "code",
   "execution_count": null,
   "metadata": {
    "collapsed": true
   },
   "outputs": [],
   "source": [
    "alist = [\"A\", 42,\n",
    "         78, \"Just a String\"\n",
    "        ]"
   ]
  },
  {
   "cell_type": "markdown",
   "metadata": {},
   "source": [
    "## Variables"
   ]
  },
  {
   "cell_type": "code",
   "execution_count": 17,
   "metadata": {
    "scrolled": true
   },
   "outputs": [
    {
     "name": "stdout",
     "output_type": "stream",
     "text": [
      "3\n"
     ]
    }
   ],
   "source": [
    "x = 3\n",
    "print(x)"
   ]
  },
  {
   "cell_type": "code",
   "execution_count": 18,
   "metadata": {
    "collapsed": true
   },
   "outputs": [],
   "source": [
    "x = x + 1"
   ]
  },
  {
   "cell_type": "code",
   "execution_count": 19,
   "metadata": {
    "scrolled": true
   },
   "outputs": [
    {
     "name": "stdout",
     "output_type": "stream",
     "text": [
      "5\n"
     ]
    }
   ],
   "source": [
    "x += 1\n",
    "print(x)"
   ]
  },
  {
   "cell_type": "code",
   "execution_count": 20,
   "metadata": {},
   "outputs": [
    {
     "name": "stdout",
     "output_type": "stream",
     "text": [
      "25\n"
     ]
    }
   ],
   "source": [
    "x *= 5\n",
    "print(x)"
   ]
  },
  {
   "cell_type": "code",
   "execution_count": 21,
   "metadata": {
    "collapsed": true
   },
   "outputs": [],
   "source": [
    "a,b = 5,6"
   ]
  },
  {
   "cell_type": "code",
   "execution_count": 22,
   "metadata": {},
   "outputs": [
    {
     "name": "stdout",
     "output_type": "stream",
     "text": [
      "5 6\n"
     ]
    }
   ],
   "source": [
    "print(a,b)"
   ]
  },
  {
   "cell_type": "code",
   "execution_count": 23,
   "metadata": {
    "collapsed": true
   },
   "outputs": [],
   "source": [
    "a,b = b,a"
   ]
  },
  {
   "cell_type": "code",
   "execution_count": 24,
   "metadata": {},
   "outputs": [
    {
     "name": "stdout",
     "output_type": "stream",
     "text": [
      "6 5\n"
     ]
    }
   ],
   "source": [
    "print(a,b)"
   ]
  },
  {
   "cell_type": "code",
   "execution_count": 25,
   "metadata": {
    "collapsed": true
   },
   "outputs": [],
   "source": [
    "y = 3\n",
    "\n",
    "z = y\n",
    "\n",
    "y = 5"
   ]
  },
  {
   "cell_type": "code",
   "execution_count": 26,
   "metadata": {},
   "outputs": [
    {
     "data": {
      "text/plain": [
       "5"
      ]
     },
     "execution_count": 26,
     "metadata": {},
     "output_type": "execute_result"
    }
   ],
   "source": [
    "y"
   ]
  },
  {
   "cell_type": "code",
   "execution_count": 27,
   "metadata": {},
   "outputs": [
    {
     "data": {
      "text/plain": [
       "3"
      ]
     },
     "execution_count": 27,
     "metadata": {},
     "output_type": "execute_result"
    }
   ],
   "source": [
    "z"
   ]
  },
  {
   "cell_type": "code",
   "execution_count": 58,
   "metadata": {},
   "outputs": [
    {
     "data": {
      "text/plain": [
       "False"
      ]
     },
     "execution_count": 58,
     "metadata": {},
     "output_type": "execute_result"
    }
   ],
   "source": []
  },
  {
   "cell_type": "markdown",
   "metadata": {},
   "source": [
    "## Types"
   ]
  },
  {
   "cell_type": "markdown",
   "metadata": {},
   "source": [
    "https://en.wikibooks.org/wiki/Python_Programming/Data_Types"
   ]
  },
  {
   "cell_type": "markdown",
   "metadata": {},
   "source": [
    "### Immutable types\n",
    "\n",
    "int, float, complex   \n",
    "str   \n",
    "bytes   \n",
    "tuple   \n",
    "frozenset   \n",
    "bool   \n",
    "None   "
   ]
  },
  {
   "cell_type": "markdown",
   "metadata": {},
   "source": [
    "### Mutable types\n",
    "\n",
    "array    \n",
    "bytearray    \n",
    "list   \n",
    "set   \n",
    "dict   "
   ]
  },
  {
   "cell_type": "code",
   "execution_count": null,
   "metadata": {
    "collapsed": true
   },
   "outputs": [],
   "source": []
  },
  {
   "cell_type": "markdown",
   "metadata": {},
   "source": [
    "## Getting input from the user"
   ]
  },
  {
   "cell_type": "code",
   "execution_count": 28,
   "metadata": {},
   "outputs": [
    {
     "name": "stdout",
     "output_type": "stream",
     "text": [
      "Please write your email address:\n"
     ]
    }
   ],
   "source": [
    "email_address = input(\"Please write your email address:\")"
   ]
  },
  {
   "cell_type": "code",
   "execution_count": 29,
   "metadata": {},
   "outputs": [
    {
     "data": {
      "text/plain": [
       "''"
      ]
     },
     "execution_count": 29,
     "metadata": {},
     "output_type": "execute_result"
    }
   ],
   "source": [
    "email_address"
   ]
  },
  {
   "cell_type": "code",
   "execution_count": 30,
   "metadata": {},
   "outputs": [
    {
     "data": {
      "text/plain": [
       "str"
      ]
     },
     "execution_count": 30,
     "metadata": {},
     "output_type": "execute_result"
    }
   ],
   "source": [
    "type(email_address)"
   ]
  },
  {
   "cell_type": "code",
   "execution_count": 31,
   "metadata": {
    "scrolled": true
   },
   "outputs": [
    {
     "name": "stdout",
     "output_type": "stream",
     "text": [
      "What is your age: \n"
     ]
    }
   ],
   "source": [
    "age = input(\"What is your age: \")"
   ]
  },
  {
   "cell_type": "code",
   "execution_count": 32,
   "metadata": {},
   "outputs": [
    {
     "data": {
      "text/plain": [
       "''"
      ]
     },
     "execution_count": 32,
     "metadata": {},
     "output_type": "execute_result"
    }
   ],
   "source": [
    "age"
   ]
  },
  {
   "cell_type": "code",
   "execution_count": 33,
   "metadata": {},
   "outputs": [
    {
     "data": {
      "text/plain": [
       "str"
      ]
     },
     "execution_count": 33,
     "metadata": {},
     "output_type": "execute_result"
    }
   ],
   "source": [
    "type(age)"
   ]
  },
  {
   "cell_type": "code",
   "execution_count": 34,
   "metadata": {},
   "outputs": [
    {
     "ename": "ValueError",
     "evalue": "invalid literal for int() with base 10: ''",
     "output_type": "error",
     "traceback": [
      "\u001b[0;31m---------------------------------------------------------------------------\u001b[0m",
      "\u001b[0;31mValueError\u001b[0m                                Traceback (most recent call last)",
      "\u001b[0;32m<ipython-input-34-c4e473ca53c7>\u001b[0m in \u001b[0;36m<module>\u001b[0;34m()\u001b[0m\n\u001b[0;32m----> 1\u001b[0;31m \u001b[0mage\u001b[0m \u001b[0;34m=\u001b[0m \u001b[0mint\u001b[0m\u001b[0;34m(\u001b[0m\u001b[0mage\u001b[0m\u001b[0;34m)\u001b[0m\u001b[0;34m\u001b[0m\u001b[0m\n\u001b[0m",
      "\u001b[0;31mValueError\u001b[0m: invalid literal for int() with base 10: ''"
     ]
    }
   ],
   "source": [
    "age = int(age)"
   ]
  },
  {
   "cell_type": "code",
   "execution_count": null,
   "metadata": {
    "collapsed": true
   },
   "outputs": [],
   "source": [
    "age"
   ]
  },
  {
   "cell_type": "code",
   "execution_count": 47,
   "metadata": {
    "collapsed": true
   },
   "outputs": [],
   "source": [
    "# Exercise\n",
    "# Kullanıcıdan doğum yılını alıp yaşını hesaplayan bir program yazın."
   ]
  },
  {
   "cell_type": "code",
   "execution_count": null,
   "metadata": {
    "collapsed": true
   },
   "outputs": [],
   "source": []
  },
  {
   "cell_type": "code",
   "execution_count": 54,
   "metadata": {},
   "outputs": [
    {
     "name": "stdout",
     "output_type": "stream",
     "text": [
      "\n",
      "Welcome to Python 3.6's help utility!\n",
      "\n",
      "If this is your first time using Python, you should definitely check out\n",
      "the tutorial on the Internet at http://docs.python.org/3.6/tutorial/.\n",
      "\n",
      "Enter the name of any module, keyword, or topic to get help on writing\n",
      "Python programs and using Python modules.  To quit this help utility and\n",
      "return to the interpreter, just type \"quit\".\n",
      "\n",
      "To get a list of available modules, keywords, symbols, or topics, type\n",
      "\"modules\", \"keywords\", \"symbols\", or \"topics\".  Each module also comes\n",
      "with a one-line summary of what it does; to list the modules whose name\n",
      "or summary contain a given string such as \"spam\", type \"modules spam\".\n",
      "\n",
      "help> modules str\n",
      "\n",
      "Here is a list of modules whose name or summary contains 'str'.\n",
      "If there are any, enter a module name to get more help.\n",
      "\n",
      "_collections - High performance data structures.\n",
      "_io - The io module provides the Python interfaces to stream handling. The\n",
      "_string - string helper module\n",
      "sphinxify - Process docstrings with Sphinx\n",
      "_collections_abc - Abstract Base Classes (ABCs) for collections, according to PEP 3119.\n",
      "_strptime - Strptime-related classes and functions.\n",
      "abc - Abstract Base Classes (ABCs) according to PEP 3119.\n",
      "asyncio.protocols - Abstract Protocol class.\n",
      "asyncio.streams - Stream-related things.\n",
      "asyncio.transports - Abstract Transport class.\n",
      "asyncore - Basic infrastructure for asynchronous socket service clients and servers.\n",
      "codecs - codecs -- Python Codec Registry, API and helpers.\n",
      "distutils.versionpredicate - Module for parsing and testing package version predicate strings.\n",
      "doctest - Module doctest -- a framework for running examples in docstrings.\n",
      "email.headerregistry - Representing and manipulating email headers via custom objects.\n",
      "idlelib.idle_test.test_rstrip \n",
      "idlelib.rstrip \n",
      "importlib._bootstrap - Core implementation of import.\n",
      "importlib._bootstrap_external - Core implementation of path-based import.\n",
      "importlib.abc - Abstract base classes related to import.\n",
      "importlib.util - Utility code for constructing importers, etc.\n",
      "io - The io module provides the Python interfaces to stream handling. The\n",
      "lib2to3.fixer_util - Utility functions, node construction macros, etc.\n",
      "lib2to3.fixes.fix_basestring - Fixer for basestring -> str.\n",
      "lib2to3.pgen2.grammar - This module defines the data structures used to represent a grammar.\n",
      "lib2to3.pgen2.literals - Safely evaluate Python string literals without using eval().\n",
      "lib2to3.tests.pytree_idempotency - Main program for testing the infrastructure.\n",
      "lib2to3.tests.test_all_fixers - Tests that run all fixer modules over an input stream.\n",
      "numbers - Abstract Base Classes (ABCs) for numbers, according to PEP 3141.\n",
      "secrets - Generate cryptographically strong pseudo-random numbers suitable for\n",
      "string - A collection of string constants.\n",
      "stringprep - Library that exposes various tables found in the StringPrep RFC 3454.\n",
      "struct \n",
      "subprocess - Subprocesses with accessible I/O streams\n",
      "xml.dom.domreg - Registration facilities for DOM. This module should not be used\n",
      "_struct \n",
      "Crypto.Random.random - A cryptographically strong version of Python's standard \"random\" module.\n",
      "Crypto.Util.py3compat - Compatibility code for handling string/bytes changes from Python 2.x to Py3k\n",
      "Crypto.Util.strxor \n",
      "Cython.Build.Tests.TestStripLiterals \n",
      "Cython.Compiler.StringEncoding \n",
      "Cython.Compiler.TreeFragment - Support for parsing strings into code trees.\n",
      "Cython.StringIOTree \n",
      "Cython.Tests.TestStringIOTree \n",
      "Cython.Tests.xmlrunner - unittest-xml-reporting is a PyUnit-based TestRunner that can export test\n",
      "IPython.core.events - Infrastructure for registering and firing callbacks on application events.\n",
      "IPython.utils.data - Utilities for working with data structures like lists, dicts and tuples.\n",
      "IPython.utils.importstring - A simple utility to import something by its string name.\n",
      "IPython.utils.ipstruct - A dict subclass that supports attribute style access.\n",
      "IPython.utils.strdispatch - String dispatch class to match regexps and dispatch commands.\n",
      "IPython.utils.tests.test_importstring - Tests for IPython.utils.importstring.\n",
      "IPython.utils.text - Utilities for working with strings and text.\n",
      "PyQt5.uic.port_v2.as_string \n",
      "PyQt5.uic.port_v2.string_io \n",
      "PyQt5.uic.port_v3.as_string \n",
      "PyQt5.uic.port_v3.string_io \n",
      "anaconda_project.conda_manager - Abstract high-level interface to Conda.\n",
      "anaconda_project.internal.default_conda_manager - Abstract high-level interface to Conda.\n",
      "anaconda_project.internal.keyring - OS keychain/keyring abstraction.\n",
      "anaconda_project.internal.streaming_popen \n",
      "anaconda_project.requirements_registry - API needed by requirement and provider plugins.\n",
      "anaconda_project.requirements_registry.network_util - Network utilities for use by plugins.\n",
      "anaconda_project.requirements_registry.provider - Types related to project requirement providers.\n",
      "anaconda_project.requirements_registry.providers - Plugins that define providers (ways to provide requirements) are in this package.\n",
      "anaconda_project.requirements_registry.providers.conda_env - Conda environment providers.\n",
      "anaconda_project.requirements_registry.providers.download - Download related providers.\n",
      "anaconda_project.requirements_registry.providers.redis - Redis-related providers.\n",
      "anaconda_project.requirements_registry.registry - The plugin registry (used to locate plugins).\n",
      "anaconda_project.requirements_registry.requirement - Types related to project requirements.\n",
      "anaconda_project.requirements_registry.requirements - Plugins that define requirements are in this package.\n",
      "anaconda_project.requirements_registry.requirements.conda_env - Conda-env-related requirements.\n",
      "anaconda_project.requirements_registry.requirements.download - File download requirements.\n",
      "anaconda_project.requirements_registry.requirements.redis - Redis-related requirements.\n",
      "anaconda_project.requirements_registry.requirements.service - A requirement for a service.\n",
      "asn1crypto._iri - Functions to convert unicode IRIs into ASCII byte string URIs and back. Exports\n",
      "asn1crypto.cms - ASN.1 type classes for cryptographic message syntax (CMS). Structures are also\n",
      "asn1crypto.pdf - ASN.1 type classes for PDF signature structures. Adds extra oid mapping and\n",
      "astroid - Python Abstract Syntax Tree New Generation\n",
      "astroid.__pkginfo__ - astroid packaging information\n",
      "astroid.arguments \n",
      "astroid.as_string - This module renders Astroid nodes as string:\n",
      "astroid.astpeephole - Small AST optimizations.\n",
      "astroid.bases - This module contains base classes and functions for the nodes and some\n",
      "astroid.builder - The AstroidBuilder makes astroid from living object and / or from _ast\n",
      "astroid.context - Various context related utilities, including inference and call contexts.\n",
      "astroid.decorators - A few useful function/method decorators.\n",
      "astroid.exceptions - this module contains exceptions used in the astroid library\n",
      "astroid.helpers - Various helper utilities.\n",
      "astroid.inference - this module contains a set of functions to handle inference on astroid trees\n",
      "astroid.interpreter \n",
      "astroid.interpreter._import \n",
      "astroid.interpreter._import.spec \n",
      "astroid.interpreter._import.util \n",
      "astroid.interpreter.dunder_lookup - Contains logic for retrieving special methods.\n",
      "astroid.interpreter.objectmodel - Data object model, as per https://docs.python.org/3/reference/datamodel.html.\n",
      "astroid.manager - astroid manager: avoid multiple astroid build of a same module when\n",
      "astroid.mixins - This module contains some mixins for the different nodes.\n",
      "astroid.modutils - Python modules manipulation utility functions.\n",
      "astroid.node_classes - Module for some node classes. More nodes in scoped_nodes.py\n",
      "astroid.nodes - on all nodes :\n",
      "astroid.objects - Inference objects are a way to represent composite AST nodes,\n",
      "astroid.protocols - this module contains a set of functions to handle python protocols for nodes\n",
      "astroid.raw_building - this module contains a set of functions to create astroid trees from scratch\n",
      "astroid.rebuilder - this module contains utilities for rebuilding a _ast tree in\n",
      "astroid.scoped_nodes - This module contains the classes for \"scoped\" node, i.e. which are opening a\n",
      "astroid.test_utils - Utility functions for test code that uses astroid ASTs as input.\n",
      "astroid.tests \n",
      "astroid.tests.resources \n",
      "astroid.tests.unittest_brain - Tests for basic functionality in astroid.brain.\n",
      "astroid.tests.unittest_builder - tests for the astroid builder and rebuilder module\n",
      "astroid.tests.unittest_helpers \n",
      "astroid.tests.unittest_inference - tests for the astroid inference capabilities\n",
      "astroid.tests.unittest_lookup - tests for the astroid variable lookup capabilities\n",
      "astroid.tests.unittest_manager \n",
      "astroid.tests.unittest_modutils - unit tests for module modutils (module manipulation utilities)\n",
      "astroid.tests.unittest_nodes - tests for specific behaviour of astroid nodes\n",
      "astroid.tests.unittest_object_model \n",
      "astroid.tests.unittest_objects \n",
      "astroid.tests.unittest_peephole - Tests for the astroid AST peephole optimizer.\n",
      "astroid.tests.unittest_protocols \n",
      "astroid.tests.unittest_python3 \n",
      "astroid.tests.unittest_raw_building \n",
      "astroid.tests.unittest_regrtest \n",
      "astroid.tests.unittest_scoped_nodes - tests for specific behaviour of astroid scoped nodes (i.e. module, class and\n",
      "astroid.tests.unittest_transforms \n",
      "astroid.tests.unittest_utils \n",
      "astroid.transforms \n",
      "astroid.util \n",
      "astropy - Astropy is a package intended to contain core functionality and some\n",
      "astropy._compiler \n",
      "astropy._erfa \n",
      "astropy._erfa._core \n",
      "astropy._erfa.core - This module uses the Python/C API to wrap the ERFA library in\n",
      "astropy._erfa.erfa_generator - This module's main purpose is to act as a script to create new versions\n",
      "astropy._erfa.setup_package \n",
      "astropy._erfa.tests \n",
      "astropy._erfa.tests.test_erfa \n",
      "astropy.analytic_functions - This package contains analytic functions useful for astronomy.\n",
      "astropy.analytic_functions.blackbody - Functions related to blackbody radiation.\n",
      "astropy.analytic_functions.tests \n",
      "astropy.analytic_functions.tests.test_blackbody - Tests for blackbody functions.\n",
      "astropy.config - This module contains configuration and setup utilities for the\n",
      "astropy.config.affiliated - This module contains functions and classes for finding information about\n",
      "astropy.config.configuration - This module contains classes and functions to standardize access to\n",
      "astropy.config.paths - This module contains functions to determine where configuration and\n",
      "astropy.config.setup_package \n",
      "astropy.config.tests \n",
      "astropy.config.tests.test_configs \n",
      "astropy.conftest \n",
      "astropy.constants - Contains astronomical and physical constants for use in Astropy or other\n",
      "astropy.constants.astropyconst13 - Astronomical and physics constants for Astropy v1.3 and earlier.\n",
      "astropy.constants.astropyconst20 - Astronomical and physics constants for Astropy v2.0.  See :mod:`astropy.constants`\n",
      "astropy.constants.cgs - Astronomical and physics constants in cgs units.  See :mod:`astropy.constants`\n",
      "astropy.constants.codata2010 - Astronomical and physics constants in SI units.  See :mod:`astropy.constants`\n",
      "astropy.constants.codata2014 - Astronomical and physics constants in SI units.  See :mod:`astropy.constants`\n",
      "astropy.constants.constant \n",
      "astropy.constants.iau2012 - Astronomical and physics constants in SI units.  See :mod:`astropy.constants`\n",
      "astropy.constants.iau2015 - Astronomical and physics constants in SI units.  See :mod:`astropy.constants`\n",
      "astropy.constants.setup_package \n",
      "astropy.constants.si - Astronomical and physics constants in SI units.  See :mod:`astropy.constants`\n",
      "astropy.constants.tests \n",
      "astropy.constants.tests.test_constant \n",
      "astropy.constants.tests.test_pickle \n",
      "astropy.constants.tests.test_prior_version \n",
      "astropy.convolution \n",
      "astropy.convolution.boundary_extend \n",
      "astropy.convolution.boundary_fill \n",
      "astropy.convolution.boundary_none \n",
      "astropy.convolution.boundary_wrap \n",
      "astropy.convolution.convolve \n",
      "astropy.convolution.core - This module contains the convolution and filter functionalities of astropy.\n",
      "astropy.convolution.kernels \n",
      "astropy.convolution.setup_package \n",
      "astropy.convolution.tests \n",
      "astropy.convolution.tests.test_convolve \n",
      "astropy.convolution.tests.test_convolve_fft \n",
      "astropy.convolution.tests.test_convolve_kernels \n",
      "astropy.convolution.tests.test_convolve_models \n",
      "astropy.convolution.tests.test_convolve_nddata \n",
      "astropy.convolution.tests.test_convolve_speeds \n",
      "astropy.convolution.tests.test_discretize \n",
      "astropy.convolution.tests.test_kernel_class \n",
      "astropy.convolution.tests.test_pickle \n",
      "astropy.convolution.utils \n",
      "astropy.coordinates - This subpackage contains classes and functions for celestial coordinates\n",
      "astropy.coordinates.angle_lextab \n",
      "astropy.coordinates.angle_parsetab \n",
      "astropy.coordinates.angle_utilities - This module contains utility functions that are for internal use in\n",
      "astropy.coordinates.angles - This module contains the fundamental classes used for representing\n",
      "astropy.coordinates.attributes \n",
      "astropy.coordinates.baseframe - Framework and base classes for coordinate frames/\"low-level\" coordinate\n",
      "astropy.coordinates.builtin_frames - This package contains the coordinate frames actually implemented by astropy.\n",
      "astropy.coordinates.builtin_frames.altaz \n",
      "astropy.coordinates.builtin_frames.baseradec \n",
      "astropy.coordinates.builtin_frames.cirs \n",
      "astropy.coordinates.builtin_frames.cirs_observed_transforms - Contains the transformation functions for getting to \"observed\" systems from CIRS.\n",
      "astropy.coordinates.builtin_frames.ecliptic \n",
      "astropy.coordinates.builtin_frames.ecliptic_transforms - Contains the transformation functions for getting to/from ecliptic systems.\n",
      "astropy.coordinates.builtin_frames.fk4 \n",
      "astropy.coordinates.builtin_frames.fk4_fk5_transforms \n",
      "astropy.coordinates.builtin_frames.fk5 \n",
      "astropy.coordinates.builtin_frames.galactic \n",
      "astropy.coordinates.builtin_frames.galactic_transforms \n",
      "astropy.coordinates.builtin_frames.galactocentric \n",
      "astropy.coordinates.builtin_frames.gcrs \n",
      "astropy.coordinates.builtin_frames.hcrs \n",
      "astropy.coordinates.builtin_frames.icrs \n",
      "astropy.coordinates.builtin_frames.icrs_cirs_transforms - Contains the transformation functions for getting from ICRS/HCRS to CIRS and\n",
      "astropy.coordinates.builtin_frames.icrs_fk5_transforms \n",
      "astropy.coordinates.builtin_frames.intermediate_rotation_transforms - Contains the transformation functions for getting to/from ITRS, GCRS, and CIRS.\n",
      "astropy.coordinates.builtin_frames.itrs \n",
      "astropy.coordinates.builtin_frames.lsr \n",
      "astropy.coordinates.builtin_frames.skyoffset \n",
      "astropy.coordinates.builtin_frames.supergalactic \n",
      "astropy.coordinates.builtin_frames.supergalactic_transforms \n",
      "astropy.coordinates.builtin_frames.utils - This module contains functions/values used repeatedly in different modules of\n",
      "astropy.coordinates.calculation \n",
      "astropy.coordinates.distances - This module contains the classes and utility functions for distance and\n"
     ]
    },
    {
     "name": "stdout",
     "output_type": "stream",
     "text": [
      "astropy.coordinates.earth \n",
      "astropy.coordinates.earth_orientation - This module contains standard functions for earth orientation, such as\n",
      "astropy.coordinates.errors \n",
      "astropy.coordinates.funcs - This module contains convenience functions for coordinate-related functionality.\n",
      "astropy.coordinates.matching - This module contains functions for matching coordinate catalogs.\n",
      "astropy.coordinates.matrix_utilities - This module contains utililies used for constructing rotation matrices.\n",
      "astropy.coordinates.name_resolve - This module contains convenience functions for getting a coordinate object\n",
      "astropy.coordinates.orbital_elements - This module contains convenience functions implementing some of the\n",
      "astropy.coordinates.representation - In this module, we define the coordinate representation classes, which are\n",
      "astropy.coordinates.setup_package \n",
      "astropy.coordinates.sites - Currently the only site accessible without internet access is the Royal\n",
      "astropy.coordinates.sky_coordinate \n",
      "astropy.coordinates.solar_system - This module contains convenience functions for retrieving solar system\n",
      "astropy.coordinates.tests \n",
      "astropy.coordinates.tests.accuracy \n",
      "astropy.coordinates.tests.accuracy.generate_ref_ast - This series of functions are used to generate the reference CSV files\n",
      "astropy.coordinates.tests.accuracy.test_altaz_icrs - Accuracy tests for AltAz to ICRS coordinate transformations.\n",
      "astropy.coordinates.tests.accuracy.test_ecliptic - Accuracy tests for Ecliptic coordinate systems.\n",
      "astropy.coordinates.tests.accuracy.test_fk4_no_e_fk4 \n",
      "astropy.coordinates.tests.accuracy.test_fk4_no_e_fk5 \n",
      "astropy.coordinates.tests.accuracy.test_galactic_fk4 \n",
      "astropy.coordinates.tests.accuracy.test_icrs_fk5 \n",
      "astropy.coordinates.tests.test_angles \n",
      "astropy.coordinates.tests.test_angular_separation \n",
      "astropy.coordinates.tests.test_api_ape5 \n",
      "astropy.coordinates.tests.test_arrays \n",
      "astropy.coordinates.tests.test_atc_replacements \n",
      "astropy.coordinates.tests.test_celestial_transformations \n",
      "astropy.coordinates.tests.test_distance \n",
      "astropy.coordinates.tests.test_earth \n",
      "astropy.coordinates.tests.test_finite_difference_velocities \n",
      "astropy.coordinates.tests.test_formatting - Tests the Angle string formatting capabilities.  SkyCoord formatting is in\n",
      "astropy.coordinates.tests.test_frames \n",
      "astropy.coordinates.tests.test_frames_with_velocity \n",
      "astropy.coordinates.tests.test_funcs - Tests for miscellaneous functionality in the `funcs` module\n",
      "astropy.coordinates.tests.test_iau_fullstack \n",
      "astropy.coordinates.tests.test_intermediate_transformations - Accuracy tests for GCRS coordinate transformations, primarily to/from AltAz.\n",
      "astropy.coordinates.tests.test_matching \n",
      "astropy.coordinates.tests.test_matrix_utilities \n",
      "astropy.coordinates.tests.test_name_resolve - This module contains tests for the name resolve convenience module.\n",
      "astropy.coordinates.tests.test_pickle \n",
      "astropy.coordinates.tests.test_regression - Regression tests for coordinates-related bugs that don't have an obvious other\n",
      "astropy.coordinates.tests.test_representation \n",
      "astropy.coordinates.tests.test_representation_arithmetic \n",
      "astropy.coordinates.tests.test_representation_methods \n",
      "astropy.coordinates.tests.test_shape_manipulation \n",
      "astropy.coordinates.tests.test_sites \n",
      "astropy.coordinates.tests.test_sky_coord - Tests for the SkyCoord class.  Note that there are also SkyCoord tests in\n",
      "astropy.coordinates.tests.test_skyoffset_transformations \n",
      "astropy.coordinates.tests.test_solar_system \n",
      "astropy.coordinates.tests.test_transformations \n",
      "astropy.coordinates.tests.test_unit_representation - This file tests the behaviour of subclasses of Representation and Frames\n",
      "astropy.coordinates.tests.test_velocity_corrs \n",
      "astropy.coordinates.tests.utils \n",
      "astropy.coordinates.transformations - This module contains a general framework for defining graphs of transformations\n",
      "astropy.cosmology - astropy.cosmology contains classes and functions for cosmological\n",
      "astropy.cosmology.core \n",
      "astropy.cosmology.funcs - Convenience functions for `astropy.cosmology`.\n",
      "astropy.cosmology.parameters - This module contains dictionaries with sets of parameters for a\n",
      "astropy.cosmology.scalar_inv_efuncs \n",
      "astropy.cosmology.setup_package \n",
      "astropy.cosmology.tests \n",
      "astropy.cosmology.tests.test_cosmology \n",
      "astropy.cosmology.tests.test_pickle \n",
      "astropy.cython_version \n",
      "astropy.extern - This packages contains python packages that are bundled with Astropy but are\n",
      "astropy.extern.bundled \n",
      "astropy.extern.bundled.six - Utilities for writing code that runs on Python 2 and 3\n",
      "astropy.extern.configobj \n",
      "astropy.extern.configobj.configobj \n",
      "astropy.extern.configobj.validate - The Validator object is used to check that supplied values\n",
      "astropy.extern.ply \n",
      "astropy.extern.ply.cpp \n",
      "astropy.extern.ply.ctokens \n",
      "astropy.extern.ply.lex \n",
      "astropy.extern.ply.yacc \n",
      "astropy.extern.setup_package \n",
      "astropy.extern.six - Handle loading six package from system or from the bundled copy\n",
      "astropy.io - This subpackage contains modules and packages for interpreting data storage\n",
      "astropy.io.ascii - An extensible ASCII table reader and writer.\n",
      "astropy.io.ascii.basic - An extensible ASCII table reader and writer.\n",
      "astropy.io.ascii.cds - An extensible ASCII table reader and writer.\n",
      "astropy.io.ascii.connect \n",
      "astropy.io.ascii.core - An extensible ASCII table reader and writer.\n",
      "astropy.io.ascii.cparser \n",
      "astropy.io.ascii.daophot - An extensible ASCII table reader and writer.\n",
      "astropy.io.ascii.ecsv - Define the Enhanced Character-Separated-Values (ECSV) which allows for reading and\n",
      "astropy.io.ascii.fastbasic \n",
      "astropy.io.ascii.fixedwidth - An extensible ASCII table reader and writer.\n",
      "astropy.io.ascii.html - An extensible HTML table reader and writer.\n",
      "astropy.io.ascii.ipac - An extensible ASCII table reader and writer.\n",
      "astropy.io.ascii.latex - An extensible ASCII table reader and writer.\n",
      "astropy.io.ascii.misc - A Collection of useful miscellaneous functions.\n",
      "astropy.io.ascii.rst - :Author: Simon Gibbons (simongibbons@gmail.com)\n",
      "astropy.io.ascii.setup_package \n",
      "astropy.io.ascii.sextractor - sextractor.py:\n",
      "astropy.io.ascii.tests \n",
      "astropy.io.ascii.tests.common \n",
      "astropy.io.ascii.tests.test_c_reader \n",
      "astropy.io.ascii.tests.test_cds_header_from_readme \n",
      "astropy.io.ascii.tests.test_compressed \n",
      "astropy.io.ascii.tests.test_connect \n",
      "astropy.io.ascii.tests.test_ecsv - This module tests some of the methods related to the ``ECSV``\n",
      "astropy.io.ascii.tests.test_fixedwidth \n",
      "astropy.io.ascii.tests.test_html - This module tests some of the methods related to the ``HTML``\n",
      "astropy.io.ascii.tests.test_ipac_definitions \n",
      "astropy.io.ascii.tests.test_read \n",
      "astropy.io.ascii.tests.test_rst \n",
      "astropy.io.ascii.tests.test_types \n",
      "astropy.io.ascii.tests.test_write \n",
      "astropy.io.ascii.ui - An extensible ASCII table reader and writer.\n",
      "astropy.io.fits - A package for reading and writing FITS files and manipulating their\n",
      "astropy.io.fits._numpy_hacks - This module is for functions that do tricky things with Numpy arrays and dtypes\n",
      "astropy.io.fits.card \n",
      "astropy.io.fits.column \n",
      "astropy.io.fits.compression \n",
      "astropy.io.fits.connect \n",
      "astropy.io.fits.convenience - Convenience functions\n",
      "astropy.io.fits.diff - Facilities for diffing two FITS files.  Includes objects for diffing entire\n",
      "astropy.io.fits.file \n",
      "astropy.io.fits.fitsrec \n",
      "astropy.io.fits.hdu \n",
      "astropy.io.fits.hdu.base \n",
      "astropy.io.fits.hdu.compressed \n",
      "astropy.io.fits.hdu.groups \n",
      "astropy.io.fits.hdu.hdulist \n",
      "astropy.io.fits.hdu.image \n",
      "astropy.io.fits.hdu.nonstandard \n",
      "astropy.io.fits.hdu.streaming \n",
      "astropy.io.fits.hdu.table \n",
      "astropy.io.fits.header \n",
      "astropy.io.fits.py3compat \n",
      "astropy.io.fits.scripts - This subpackage contains implementations of command-line scripts that are\n",
      "astropy.io.fits.scripts.fitscheck - ``fitscheck`` is a command line script based on astropy.io.fits for verifying\n",
      "astropy.io.fits.scripts.fitsdiff \n",
      "astropy.io.fits.scripts.fitsheader - ``fitsheader`` is a command line script based on astropy.io.fits for printing\n",
      "astropy.io.fits.scripts.fitsinfo - ``fitsinfo`` is a command-line script based on astropy.io.fits for\n",
      "astropy.io.fits.setup_package \n",
      "astropy.io.fits.tests \n",
      "astropy.io.fits.tests.test_checksum \n",
      "astropy.io.fits.tests.test_connect \n",
      "astropy.io.fits.tests.test_convenience \n",
      "astropy.io.fits.tests.test_core \n",
      "astropy.io.fits.tests.test_diff \n",
      "astropy.io.fits.tests.test_division \n",
      "astropy.io.fits.tests.test_fitsdiff \n",
      "astropy.io.fits.tests.test_groups \n",
      "astropy.io.fits.tests.test_hdulist \n",
      "astropy.io.fits.tests.test_header \n",
      "astropy.io.fits.tests.test_image \n",
      "astropy.io.fits.tests.test_nonstandard \n",
      "astropy.io.fits.tests.test_structured \n",
      "astropy.io.fits.tests.test_table \n",
      "astropy.io.fits.tests.test_uint \n",
      "astropy.io.fits.tests.test_util \n",
      "astropy.io.fits.util \n",
      "astropy.io.fits.verify \n",
      "astropy.io.misc - This package contains miscellaneous utility functions for data\n",
      "astropy.io.misc.connect \n",
      "astropy.io.misc.hdf5 - This package contains functions for reading and writing HDF5 tables that are\n",
      "astropy.io.misc.pickle_helpers - This module contains simple input/output related functionality that is not\n",
      "astropy.io.misc.tests \n",
      "astropy.io.misc.tests.test_hdf5 \n",
      "astropy.io.misc.tests.test_pickle_helpers \n",
      "astropy.io.misc.tests.test_yaml - This module tests some of the methods related to YAML serialization.\n",
      "astropy.io.misc.yaml - This module contains functions for serializing core astropy objects via the\n",
      "astropy.io.registry \n",
      "astropy.io.setup_package \n",
      "astropy.io.tests \n",
      "astropy.io.tests.test_registry \n",
      "astropy.io.votable - This package reads and writes data formats used by the Virtual\n",
      "astropy.io.votable.connect \n",
      "astropy.io.votable.converters - This module handles the conversion of various VOTABLE datatypes\n",
      "astropy.io.votable.exceptions - .. _warnings:\n",
      "astropy.io.votable.setup_package \n",
      "astropy.io.votable.table - This file contains a contains the high-level functions to read a\n",
      "astropy.io.votable.tablewriter \n",
      "astropy.io.votable.tests \n",
      "astropy.io.votable.tests.converter_test \n",
      "astropy.io.votable.tests.exception_test \n",
      "astropy.io.votable.tests.table_test - Test the conversion to/from astropy.table\n",
      "astropy.io.votable.tests.tree_test \n",
      "astropy.io.votable.tests.ucd_test \n",
      "astropy.io.votable.tests.util_test - A set of tests for the util.py module\n",
      "astropy.io.votable.tests.vo_test - This is a set of regression tests for vo.\n",
      "astropy.io.votable.tree \n",
      "astropy.io.votable.ucd - This file contains routines to verify the correctness of UCD strings.\n",
      "astropy.io.votable.util - Various utilities and cookbook-like things.\n",
      "astropy.io.votable.validator \n",
      "astropy.io.votable.validator.html \n",
      "astropy.io.votable.validator.main - Validates a large collection of web-accessible VOTable files,\n",
      "astropy.io.votable.validator.result - Contains a class to handle a validation result for a single VOTable\n",
      "astropy.io.votable.volint - Script support for validating a VO file.\n",
      "astropy.io.votable.xmlutil - Various XML-related utilities\n",
      "astropy.logger - This module defines a logging class based on the built-in logging module\n",
      "astropy.modeling - This subpackage provides a framework for representing models and\n",
      "astropy.modeling._projections \n",
      "astropy.modeling.blackbody - Model and functions related to blackbody radiation.\n",
      "astropy.modeling.core - This module defines base classes for all models.  The base class of all\n",
      "astropy.modeling.fitting - This module implements classes (called Fitters) which combine optimization\n",
      "astropy.modeling.functional_models - Mathematical models.\n",
      "astropy.modeling.mappings - Special models useful for complex compound models where control is needed over\n",
      "astropy.modeling.models - Creates a common namespace for all pre-defined models.\n",
      "astropy.modeling.optimizers - Optimization algorithms used in `~astropy.modeling.fitting`.\n",
      "astropy.modeling.parameters - This module defines two classes that deal with parameters.\n",
      "astropy.modeling.polynomial - This module contains models representing polynomials and polynomial series.\n",
      "astropy.modeling.powerlaws - Power law model variants\n",
      "astropy.modeling.projections - Implements projections--particularly sky projections defined in WCS Paper II\n"
     ]
    },
    {
     "name": "stdout",
     "output_type": "stream",
     "text": [
      "astropy.modeling.rotations - Implements rotations, including spherical rotations as defined in WCS Paper II\n",
      "astropy.modeling.setup_package \n",
      "astropy.modeling.statistic - Statistic functions used in `~astropy.modeling.fitting`.\n",
      "astropy.modeling.tabular - Tabular models.\n",
      "astropy.modeling.tests \n",
      "astropy.modeling.tests.data \n",
      "astropy.modeling.tests.example_models - Here are all the test parameters and values for the each\n",
      "astropy.modeling.tests.irafutil - This module provides functions to help with testing against iraf tasks\n",
      "astropy.modeling.tests.test_blackbody - Tests for blackbody model and functions.\n",
      "astropy.modeling.tests.test_compound \n",
      "astropy.modeling.tests.test_constraints \n",
      "astropy.modeling.tests.test_core \n",
      "astropy.modeling.tests.test_fitters - Module to test fitting routines\n",
      "astropy.modeling.tests.test_functional_models \n",
      "astropy.modeling.tests.test_input - This module tests fitting and model evaluation with various inputs\n",
      "astropy.modeling.tests.test_mappings \n",
      "astropy.modeling.tests.test_models - Tests for model evaluation.\n",
      "astropy.modeling.tests.test_models_quantities \n",
      "astropy.modeling.tests.test_parameters - Tests models.parameters\n",
      "astropy.modeling.tests.test_polynomial - Tests for polynomial models.\n",
      "astropy.modeling.tests.test_projections - Test sky projections defined in WCS Paper II\n",
      "astropy.modeling.tests.test_quantities_evaluation - Tests that relate to evaluating models with quantity parameters\n",
      "astropy.modeling.tests.test_quantities_fitting - Tests that relate to fitting models with quantity parameters\n",
      "astropy.modeling.tests.test_quantities_model \n",
      "astropy.modeling.tests.test_quantities_parameters - Tests that relate to using quantities/units on parameters of models.\n",
      "astropy.modeling.tests.test_quantities_rotations \n",
      "astropy.modeling.tests.test_rotations \n",
      "astropy.modeling.tests.test_utils \n",
      "astropy.modeling.tests.utils \n",
      "astropy.modeling.utils - This module provides utility functions for the models package\n",
      "astropy.nddata - The `astropy.nddata` subpackage provides the `~astropy.nddata.NDData`\n",
      "astropy.nddata.ccddata - This module implements the base CCDData class.\n",
      "astropy.nddata.compat \n",
      "astropy.nddata.decorators \n",
      "astropy.nddata.flag_collection \n",
      "astropy.nddata.mixins \n",
      "astropy.nddata.mixins.ndarithmetic \n",
      "astropy.nddata.mixins.ndio \n",
      "astropy.nddata.mixins.ndslicing \n",
      "astropy.nddata.mixins.tests \n",
      "astropy.nddata.mixins.tests.test_ndarithmetic \n",
      "astropy.nddata.mixins.tests.test_ndio \n",
      "astropy.nddata.mixins.tests.test_ndslicing \n",
      "astropy.nddata.nddata \n",
      "astropy.nddata.nddata_base \n",
      "astropy.nddata.nddata_withmixins - This module implements a class based on NDData with all Mixins.\n",
      "astropy.nddata.nduncertainty \n",
      "astropy.nddata.setup_package \n",
      "astropy.nddata.tests \n",
      "astropy.nddata.tests.test_ccddata \n",
      "astropy.nddata.tests.test_compat \n",
      "astropy.nddata.tests.test_decorators \n",
      "astropy.nddata.tests.test_flag_collection \n",
      "astropy.nddata.tests.test_nddata \n",
      "astropy.nddata.tests.test_nddata_base \n",
      "astropy.nddata.tests.test_nduncertainty \n",
      "astropy.nddata.tests.test_utils \n",
      "astropy.nddata.utils - This module includes helper functions for array operations.\n",
      "astropy.samp - This subpackage provides classes to communicate with other applications via the\n",
      "astropy.samp.client \n",
      "astropy.samp.constants - Defines constants used in `astropy.samp`.\n",
      "astropy.samp.errors - Defines custom errors and exceptions used in `astropy.samp`.\n",
      "astropy.samp.hub \n",
      "astropy.samp.hub_proxy \n",
      "astropy.samp.hub_script \n",
      "astropy.samp.integrated_client \n",
      "astropy.samp.lockfile_helpers \n",
      "astropy.samp.setup_package \n",
      "astropy.samp.standard_profile \n",
      "astropy.samp.tests \n",
      "astropy.samp.tests.test_client \n",
      "astropy.samp.tests.test_errors \n",
      "astropy.samp.tests.test_helpers \n",
      "astropy.samp.tests.test_hub \n",
      "astropy.samp.tests.test_hub_proxy \n",
      "astropy.samp.tests.test_hub_script \n",
      "astropy.samp.tests.test_standard_profile \n",
      "astropy.samp.tests.test_web_profile - Test the web profile using Python classes that have been adapted to act like a\n",
      "astropy.samp.tests.web_profile_test_helpers \n",
      "astropy.samp.utils - Utility functions and classes\n",
      "astropy.samp.web_profile \n",
      "astropy.setup_package \n",
      "astropy.stats - This subpackage contains statistical tools provided for or used by Astropy.\n",
      "astropy.stats.bayesian_blocks - Bayesian Blocks for Time Series Analysis\n",
      "astropy.stats.biweight - This module contains functions for computing robust statistics using\n",
      "astropy.stats.circstats - This module contains simple functions for dealing with circular statistics, for\n",
      "astropy.stats.funcs - This module contains simple statistical algorithms that are\n",
      "astropy.stats.histogram - Methods for selecting the bin width of histograms\n",
      "astropy.stats.info_theory - This module contains simple functions for model selection.\n",
      "astropy.stats.jackknife \n",
      "astropy.stats.lombscargle - lombscargle\n",
      "astropy.stats.lombscargle.core - Main Lomb-Scargle Implementation\n",
      "astropy.stats.lombscargle.implementations - Various implementations of the Lomb-Scargle Periodogram\n",
      "astropy.stats.lombscargle.implementations.chi2_impl \n",
      "astropy.stats.lombscargle.implementations.cython_impl \n",
      "astropy.stats.lombscargle.implementations.fast_impl \n",
      "astropy.stats.lombscargle.implementations.fastchi2_impl \n",
      "astropy.stats.lombscargle.implementations.main - Main Lomb-Scargle Implementation\n",
      "astropy.stats.lombscargle.implementations.mle \n",
      "astropy.stats.lombscargle.implementations.scipy_impl \n",
      "astropy.stats.lombscargle.implementations.slow_impl \n",
      "astropy.stats.lombscargle.implementations.tests \n",
      "astropy.stats.lombscargle.implementations.tests.test_mle \n",
      "astropy.stats.lombscargle.implementations.tests.test_utils \n",
      "astropy.stats.lombscargle.implementations.utils \n",
      "astropy.stats.lombscargle.tests \n",
      "astropy.stats.lombscargle.tests.test_lombscargle \n",
      "astropy.stats.setup_package \n",
      "astropy.stats.sigma_clipping \n",
      "astropy.stats.spatial - This module implements functions and classes for spatial statistics.\n",
      "astropy.stats.tests \n",
      "astropy.stats.tests.test_bayesian_blocks \n",
      "astropy.stats.tests.test_biweight \n",
      "astropy.stats.tests.test_circstats \n",
      "astropy.stats.tests.test_funcs \n",
      "astropy.stats.tests.test_histogram \n",
      "astropy.stats.tests.test_info_theory \n",
      "astropy.stats.tests.test_jackknife \n",
      "astropy.stats.tests.test_sigma_clipping \n",
      "astropy.stats.tests.test_spatial \n",
      "astropy.table \n",
      "astropy.table._column_mixins \n",
      "astropy.table._np_utils \n",
      "astropy.table.bst \n",
      "astropy.table.column \n",
      "astropy.table.groups \n",
      "astropy.table.index - The Index class can use several implementations as its\n",
      "astropy.table.info - Table property for providing information about table.\n",
      "astropy.table.jsviewer \n",
      "astropy.table.meta \n",
      "astropy.table.np_utils - High-level operations for numpy structured arrays.\n",
      "astropy.table.operations - High-level table operations:\n",
      "astropy.table.pprint \n",
      "astropy.table.row \n",
      "astropy.table.serialize \n",
      "astropy.table.setup_package \n",
      "astropy.table.sorted_array \n",
      "astropy.table.table \n",
      "astropy.table.table_helpers - Helper functions for table development, mostly creating useful\n",
      "astropy.table.tests \n",
      "astropy.table.tests.conftest - All of the py.test fixtures used by astropy.table are defined here.\n",
      "astropy.table.tests.test_array \n",
      "astropy.table.tests.test_bst \n",
      "astropy.table.tests.test_column \n",
      "astropy.table.tests.test_groups \n",
      "astropy.table.tests.test_index \n",
      "astropy.table.tests.test_info \n",
      "astropy.table.tests.test_init_table \n",
      "astropy.table.tests.test_item_access - Verify item access API in:\n",
      "astropy.table.tests.test_jsviewer \n",
      "astropy.table.tests.test_masked - Test behavior related to masked tables\n",
      "astropy.table.tests.test_mixin \n",
      "astropy.table.tests.test_np_utils \n",
      "astropy.table.tests.test_operations \n",
      "astropy.table.tests.test_pickle \n",
      "astropy.table.tests.test_pprint \n",
      "astropy.table.tests.test_row \n",
      "astropy.table.tests.test_subclass \n",
      "astropy.table.tests.test_table \n",
      "astropy.tests - This package contains utilities to run the astropy test suite, tools\n",
      "astropy.tests.command - Implements the wrapper for the Astropy test runner in the form of the\n",
      "astropy.tests.disable_internet \n",
      "astropy.tests.helper - This module provides the tools used to internally run the astropy test suite\n",
      "astropy.tests.image_tests \n",
      "astropy.tests.output_checker - Implements a replacement for `doctest.OutputChecker` that handles certain\n",
      "astropy.tests.pytest_plugins - These plugins modify the behavior of py.test and are meant to be imported\n",
      "astropy.tests.runner - Implements the Astropy TestRunner which is a thin wrapper around py.test.\n",
      "astropy.tests.setup_package \n",
      "astropy.tests.test_logger \n",
      "astropy.tests.tests \n",
      "astropy.tests.tests.test_imports \n",
      "astropy.tests.tests.test_open_file_detection \n",
      "astropy.tests.tests.test_quantity_helpers \n",
      "astropy.tests.tests.test_run_tests \n",
      "astropy.tests.tests.test_runner \n",
      "astropy.tests.tests.test_skip_remote_data \n",
      "astropy.tests.tests.test_socketblocker \n",
      "astropy.time \n",
      "astropy.time.core - The astropy.time package provides functionality for manipulating times and\n",
      "astropy.time.formats \n",
      "astropy.time.setup_package \n",
      "astropy.time.tests \n",
      "astropy.time.tests.test_basic \n",
      "astropy.time.tests.test_comparisons \n",
      "astropy.time.tests.test_corrs \n",
      "astropy.time.tests.test_delta \n",
      "astropy.time.tests.test_guess \n",
      "astropy.time.tests.test_methods \n",
      "astropy.time.tests.test_pickle \n",
      "astropy.time.tests.test_precision \n",
      "astropy.time.tests.test_quantity_interaction \n",
      "astropy.time.tests.test_sidereal \n",
      "astropy.time.tests.test_ut1 \n",
      "astropy.time.utils - Time utilities.\n",
      "astropy.units - This subpackage contains classes and functions for defining and converting\n",
      "astropy.units.astrophys - This package defines the astrophysics-specific units.  They are also\n",
      "astropy.units.cds - This package defines units used in the CDS format, both the units\n",
      "astropy.units.cgs - This package defines the CGS units.  They are also available in the\n",
      "astropy.units.core - Core units classes and functions\n",
      "astropy.units.decorators \n",
      "astropy.units.deprecated - This package defines deprecated units.\n",
      "astropy.units.equivalencies - A set of standard astronomical equivalencies.\n",
      "astropy.units.format - A collection of different unit formats.\n",
      "astropy.units.format.base \n",
      "astropy.units.format.cds - Handles the CDS string format for units\n",
      "astropy.units.format.cds_lextab \n",
      "astropy.units.format.cds_parsetab \n",
      "astropy.units.format.console - Handles the \"Console\" unit format.\n",
      "astropy.units.format.fits - Handles the \"FITS\" unit format.\n",
      "astropy.units.format.generic - Handles a \"generic\" string format for units\n",
      "astropy.units.format.generic_lextab \n",
      "astropy.units.format.generic_parsetab \n",
      "astropy.units.format.latex - Handles the \"LaTeX\" unit format.\n",
      "astropy.units.format.ogip - Handles units in `Office of Guest Investigator Programs (OGIP)\n",
      "astropy.units.format.ogip_lextab \n",
      "astropy.units.format.ogip_parsetab \n",
      "astropy.units.format.unicode_format - Handles the \"Unicode\" unit format.\n",
      "astropy.units.format.utils - Utilities shared by the different formats.\n",
      "astropy.units.format.vounit - Handles the \"VOUnit\" unit format.\n",
      "astropy.units.function - This subpackage contains classes and functions for defining and converting\n",
      "astropy.units.function.core - Function Units and Quantities.\n",
      "astropy.units.function.logarithmic \n",
      "astropy.units.function.magnitude_zero_points - This package defines magnitude zero points.  By default, they are used to\n",
      "astropy.units.function.mixin \n",
      "astropy.units.function.units - This package defines units that can also be used as functions of other units.\n",
      "astropy.units.imperial - This package defines colloquially used Imperial units.  They are\n",
      "astropy.units.physical - Defines physical unit names.\n",
      "astropy.units.quantity - This module defines the `Quantity` object, which represents a number with some\n",
      "astropy.units.quantity_helper \n",
      "astropy.units.required_by_vounit - This package defines SI prefixed units that are required by the VOUnit standard\n",
      "astropy.units.setup_package \n",
      "astropy.units.si - This package defines the SI units.  They are also available in the\n",
      "astropy.units.tests \n",
      "astropy.units.tests.py3_test_quantity_annotations \n",
      "astropy.units.tests.test_deprecated - Regression tests for deprecated units or those that are \"soft\" deprecated\n",
      "astropy.units.tests.test_equivalencies - Separate tests specifically for equivalencies.\n"
     ]
    },
    {
     "name": "stdout",
     "output_type": "stream",
     "text": [
      "astropy.units.tests.test_format - Regression tests for the units.format package\n",
      "astropy.units.tests.test_logarithmic - Test the Logarithmic Units and Quantities\n",
      "astropy.units.tests.test_physical - Regression tests for the physical_type support in the units package\n",
      "astropy.units.tests.test_quantity - Test the Quantity class and related.\n",
      "astropy.units.tests.test_quantity_array_methods \n",
      "astropy.units.tests.test_quantity_decorator \n",
      "astropy.units.tests.test_quantity_non_ufuncs \n",
      "astropy.units.tests.test_quantity_ufuncs \n",
      "astropy.units.tests.test_units - Regression tests for the units package\n",
      "astropy.units.utils - Miscellaneous utilities for `astropy.units`.\n",
      "astropy.utils - This subpackage contains developer-oriented utilities used by Astropy.\n",
      "astropy.utils._compiler \n",
      "astropy.utils.argparse - Utilities and extensions for use with `argparse`.\n",
      "astropy.utils.codegen - Utilities for generating new Python code at runtime.\n",
      "astropy.utils.collections - A module containing specialized collection classes.\n",
      "astropy.utils.compat - This subpackage contains utility modules for compatibility with older/newer\n",
      "astropy.utils.compat._funcsigs - Function signature objects for callables\n",
      "astropy.utils.compat.funcsigs \n",
      "astropy.utils.compat.futures - Execute computations asynchronously using threads or processes.\n",
      "astropy.utils.compat.futures._base \n",
      "astropy.utils.compat.futures.process - Implements ProcessPoolExecutor.\n",
      "astropy.utils.compat.futures.thread - Implements ThreadPoolExecutor.\n",
      "astropy.utils.compat.misc - Simple utility functions and bug fixes for compatibility with all supported\n",
      "astropy.utils.compat.numpy - NumPy functions and classes needed for astropy but not available\n",
      "astropy.utils.compat.numpy.core \n",
      "astropy.utils.compat.numpy.core.multiarray - Replacement for matmul in 'numpy.core.multiarray'.\n",
      "astropy.utils.compat.numpy.lib \n",
      "astropy.utils.compat.numpy.lib.stride_tricks - Utilities that manipulate strides to achieve desirable effects.\n",
      "astropy.utils.compat.numpy.tests \n",
      "astropy.utils.compat.numpy.tests.test_broadcast_arrays - Test broadcast_arrays replacement on Quantity class.\n",
      "astropy.utils.compat.numpy.tests.test_matmul - Test matmul replacement.\n",
      "astropy.utils.compat.numpycompat - This is a collection of monkey patches and workarounds for bugs in\n",
      "astropy.utils.console - Utilities for console input and output.\n",
      "astropy.utils.data - This module contains helper functions for accessing, downloading, and\n",
      "astropy.utils.data_info - This module contains functions and methods that relate to the DataInfo class\n",
      "astropy.utils.decorators - Sundry function and class decorators.\n",
      "astropy.utils.exceptions - This module contains errors/exceptions and warnings of general use for\n",
      "astropy.utils.iers \n",
      "astropy.utils.iers.iers - The astropy.utils.iers package provides access to the tables provided by\n",
      "astropy.utils.iers.tests \n",
      "astropy.utils.iers.tests.test_iers \n",
      "astropy.utils.introspection - Functions related to Python runtime introspection.\n",
      "astropy.utils.metadata - This module contains helper functions and classes for handling metadata.\n",
      "astropy.utils.misc - A \"grab bag\" of relatively small general-purpose utilities that don't have\n",
      "astropy.utils.setup_package \n",
      "astropy.utils.state - A simple class to manage a piece of global science state.  See\n",
      "astropy.utils.tests \n",
      "astropy.utils.tests.test_codegen \n",
      "astropy.utils.tests.test_collections \n",
      "astropy.utils.tests.test_console \n",
      "astropy.utils.tests.test_data \n",
      "astropy.utils.tests.test_data_info \n",
      "astropy.utils.tests.test_decorators \n",
      "astropy.utils.tests.test_introspection \n",
      "astropy.utils.tests.test_metadata \n",
      "astropy.utils.tests.test_misc \n",
      "astropy.utils.tests.test_timer - Test `astropy.utils.timer`.\n",
      "astropy.utils.tests.test_xml \n",
      "astropy.utils.timer - General purpose timer related functions.\n",
      "astropy.utils.xml \n",
      "astropy.utils.xml._iterparser \n",
      "astropy.utils.xml.check - A collection of functions for checking various XML-related strings for\n",
      "astropy.utils.xml.iterparser - This module includes a fast iterator-based XML parser.\n",
      "astropy.utils.xml.setup_package \n",
      "astropy.utils.xml.tests \n",
      "astropy.utils.xml.tests.test_iterparse \n",
      "astropy.utils.xml.unescaper - URL unescaper functions.\n",
      "astropy.utils.xml.validate - Functions to do XML schema and DTD validation.  At the moment, this\n",
      "astropy.utils.xml.writer - Contains a class that makes it simple to stream out well-formed and\n",
      "astropy.version \n",
      "astropy.visualization \n",
      "astropy.visualization.hist \n",
      "astropy.visualization.interval - Classes that deal with computing intervals from arrays of values based on\n",
      "astropy.visualization.lupton_rgb - Combine 3 images to produce a properly-scaled RGB image following Lupton et al. (2004).\n",
      "astropy.visualization.mpl_normalize - Normalization class for Matplotlib that can be used to produce\n",
      "astropy.visualization.mpl_style - This module contains dictionaries that can be used to set a matplotlib\n",
      "astropy.visualization.scripts \n",
      "astropy.visualization.scripts.fits2bitmap \n",
      "astropy.visualization.scripts.tests \n",
      "astropy.visualization.scripts.tests.test_fits2bitmap \n",
      "astropy.visualization.stretch - Classes that deal with stretching, i.e. mapping a range of [0:1] values onto\n",
      "astropy.visualization.tests \n",
      "astropy.visualization.tests.test_histogram \n",
      "astropy.visualization.tests.test_interval \n",
      "astropy.visualization.tests.test_lupton_rgb - Tests for RGB Images\n",
      "astropy.visualization.tests.test_norm \n",
      "astropy.visualization.tests.test_stretch \n",
      "astropy.visualization.tests.test_units \n",
      "astropy.visualization.transform \n",
      "astropy.visualization.units \n",
      "astropy.visualization.wcsaxes \n",
      "astropy.visualization.wcsaxes.axislabels \n",
      "astropy.visualization.wcsaxes.coordinate_helpers \n",
      "astropy.visualization.wcsaxes.coordinate_range \n",
      "astropy.visualization.wcsaxes.coordinates_map \n",
      "astropy.visualization.wcsaxes.core \n",
      "astropy.visualization.wcsaxes.formatter_locator \n",
      "astropy.visualization.wcsaxes.frame \n",
      "astropy.visualization.wcsaxes.grid_paths \n",
      "astropy.visualization.wcsaxes.patches \n",
      "astropy.visualization.wcsaxes.tests \n",
      "astropy.visualization.wcsaxes.tests.datasets - Downloads the FITS files that are used in image testing and for building documentation.\n",
      "astropy.visualization.wcsaxes.tests.setup_package \n",
      "astropy.visualization.wcsaxes.tests.test_coordinate_helpers \n",
      "astropy.visualization.wcsaxes.tests.test_display_world_coordinates \n",
      "astropy.visualization.wcsaxes.tests.test_formatter_locator \n",
      "astropy.visualization.wcsaxes.tests.test_frame \n",
      "astropy.visualization.wcsaxes.tests.test_images \n",
      "astropy.visualization.wcsaxes.tests.test_misc \n",
      "astropy.visualization.wcsaxes.tests.test_transform_coord_meta \n",
      "astropy.visualization.wcsaxes.tests.test_transforms \n",
      "astropy.visualization.wcsaxes.tests.test_utils \n",
      "astropy.visualization.wcsaxes.ticklabels \n",
      "astropy.visualization.wcsaxes.ticks \n",
      "astropy.visualization.wcsaxes.transforms \n",
      "astropy.visualization.wcsaxes.utils \n",
      "astropy.vo - The `~astropy.vo` subpackage provides virtual observatory (VO) related\n",
      "astropy.vo.client \n",
      "astropy.vo.client.async - Asynchronous VO service requests.\n",
      "astropy.vo.client.conesearch - Support VO Simple Cone Search capabilities.\n",
      "astropy.vo.client.exceptions - Exceptions related to Virtual Observatory (VO).\n",
      "astropy.vo.client.setup_package \n",
      "astropy.vo.client.tests \n",
      "astropy.vo.client.tests.test_conesearch - Tests for `astropy.vo.client.conesearch` and `astropy.vo.client.async`.\n",
      "astropy.vo.client.tests.test_vos_catalog - Tests for `astropy.vo.client.vos_catalog`.\n",
      "astropy.vo.client.vos_catalog - Common utilities for accessing VO simple services.\n",
      "astropy.vo.samp \n",
      "astropy.vo.validator \n",
      "astropy.vo.validator.exceptions - Exceptions related to Virtual Observatory (VO) validation.\n",
      "astropy.vo.validator.inspect - Inspect results from `astropy.vo.validator.validate`.\n",
      "astropy.vo.validator.setup_package \n",
      "astropy.vo.validator.tests \n",
      "astropy.vo.validator.tests.test_inpect - Tests for `astropy.vo.validator.inspect`.\n",
      "astropy.vo.validator.tests.test_validate - Tests for `astropy.vo.validator.validate`.\n",
      "astropy.vo.validator.tstquery - Temporary solution until `astropy.vo.validator.Conf.conesearch_master_list`\n",
      "astropy.vo.validator.validate - Validate VO Services.\n",
      "astropy.wcs - .. _wcslib: http://www.atnf.csiro.au/people/mcalabre/WCS/wcslib/index.html\n",
      "astropy.wcs._docutil - astropy.wcs-specific utilities for generating boilerplate in docstrings.\n",
      "astropy.wcs._wcs \n"
     ]
    },
    {
     "name": "stdout",
     "output_type": "stream",
     "text": [
      "astropy.wcs.docstrings \n",
      "astropy.wcs.setup_package \n",
      "astropy.wcs.tests \n",
      "astropy.wcs.tests.extension \n",
      "astropy.wcs.tests.extension.setup \n",
      "astropy.wcs.tests.extension.test_extension \n",
      "astropy.wcs.tests.test_pickle \n",
      "astropy.wcs.tests.test_profiling \n",
      "astropy.wcs.tests.test_utils \n",
      "astropy.wcs.tests.test_wcs \n",
      "astropy.wcs.tests.test_wcsprm \n",
      "astropy.wcs.utils \n",
      "astropy.wcs.wcs - Under the hood, there are 3 separate classes that perform different\n",
      "astropy.wcs.wcslint - Script support for validating the WCS keywords in a FITS file.\n",
      "audioread.gstdec - Use Gstreamer to decode audio files.\n",
      "blaze.expr.strings \n",
      "blaze.partition - Abstraction around partitionable data\n",
      "bokeh.command.bootstrap \n",
      "bokeh.command.tests.test_bootstrap \n",
      "bokeh.util.string \n",
      "bokeh.util.tests.test_string \n",
      "boto.beanstalk.response - Classify responses from layer1 and strict type values.\n",
      "boto.cloudfront.distribution \n",
      "boto.emr.bootstrap_action \n",
      "boto.gs.bucketlistresultset \n",
      "boto.manage.server - High-level abstraction of an EC2 server\n",
      "boto.mashups.order - High-level abstraction of an EC2 order for servers\n",
      "boto.mashups.server - High-level abstraction of an EC2 server\n",
      "boto.pyami.bootstrap \n",
      "boto.s3.bucketlistresultset \n",
      "bs4.tests.test_builder_registry - Tests of the builder registry.\n",
      "chardet.chardistribution \n",
      "conda.base.constants - This file should hold most string literals and magic numbers used throughout the code base.\n",
      "conda.core - Code in ``conda.core`` is the core logic.  It is strictly forbidden from having side effects.\n",
      "conda.instructions \n",
      "conda_build.skeletons._example_skeleton - This file is an example of the structure that any add-on module for a new language should have.\n",
      "dask.distributed \n",
      "dask.tests.test_distributed \n",
      "datashape.tests.test_str \n",
      "dateutil.parser - This module offers a generic date/time string parser which is able to parse\n",
      "dateutil.tz.tz - This module offers timezone implementations subclassing the abstract\n",
      "distributed \n",
      "distributed._concurrent_futures_thread - Implements ThreadPoolExecutor.\n",
      "distributed._ipython_utils - Utilities for integrating with IPython\n",
      "distributed._version \n",
      "distributed.asyncio - Experimental interface for asyncio, may disappear without warning\n",
      "distributed.batched \n",
      "distributed.bokeh \n",
      "distributed.bokeh.background \n",
      "distributed.bokeh.background.main \n",
      "distributed.bokeh.background.server_lifecycle \n",
      "distributed.bokeh.components \n",
      "distributed.bokeh.core \n",
      "distributed.bokeh.export_tool \n",
      "distributed.bokeh.memory-usage \n",
      "distributed.bokeh.processing-stacks \n",
      "distributed.bokeh.resource-profiles \n",
      "distributed.bokeh.scheduler \n",
      "distributed.bokeh.task-progress \n",
      "distributed.bokeh.task-stream \n",
      "distributed.bokeh.task_stream \n",
      "distributed.bokeh.utils \n",
      "distributed.bokeh.worker-table \n",
      "distributed.bokeh.worker \n",
      "distributed.bokeh.worker_monitor \n",
      "distributed.cfexecutor \n",
      "distributed.cli \n",
      "distributed.cli.dask_mpi \n",
      "distributed.cli.dask_remote \n",
      "distributed.cli.dask_scheduler \n",
      "distributed.cli.dask_ssh \n",
      "distributed.cli.dask_submit \n",
      "distributed.cli.dask_worker \n",
      "distributed.cli.dcluster \n",
      "distributed.cli.dscheduler \n",
      "distributed.cli.dworker \n",
      "distributed.cli.utils \n",
      "distributed.client \n",
      "distributed.comm \n",
      "distributed.comm.addressing \n",
      "distributed.comm.core \n",
      "distributed.comm.inproc \n",
      "distributed.comm.registry \n",
      "distributed.comm.tcp \n",
      "distributed.comm.utils \n",
      "distributed.compatibility \n",
      "distributed.config \n",
      "distributed.core \n",
      "distributed.counter \n",
      "distributed.deploy \n",
      "distributed.deploy.adaptive \n",
      "distributed.deploy.local \n",
      "distributed.deploy.ssh \n",
      "distributed.deploy.utils_test \n",
      "distributed.diagnostics \n",
      "distributed.diagnostics.eventstream \n",
      "distributed.diagnostics.plugin \n",
      "distributed.diagnostics.progress \n",
      "distributed.diagnostics.progress_stream \n",
      "distributed.diagnostics.progressbar \n",
      "distributed.diagnostics.scheduler \n",
      "distributed.hdfs - This file is experimental and may disappear without warning\n",
      "distributed.http \n",
      "distributed.http.core \n",
      "distributed.http.scheduler \n",
      "distributed.http.worker \n",
      "distributed.joblib \n",
      "distributed.metrics \n",
      "distributed.nanny \n",
      "distributed.node \n",
      "distributed.preloading \n",
      "distributed.process \n",
      "distributed.profile - This module contains utility functions to construct and manipulate counting\n",
      "distributed.protocol \n",
      "distributed.protocol.compression - Record known compressors\n",
      "distributed.protocol.core \n",
      "distributed.protocol.h5py \n",
      "distributed.protocol.keras \n",
      "distributed.protocol.netcdf4 \n",
      "distributed.protocol.numpy \n",
      "distributed.protocol.pickle \n",
      "distributed.protocol.serialize \n",
      "distributed.protocol.sparse \n",
      "distributed.protocol.utils \n",
      "distributed.publish \n",
      "distributed.queues \n",
      "distributed.recreate_exceptions \n",
      "distributed.scheduler \n",
      "distributed.security \n",
      "distributed.sizeof \n",
      "distributed.stealing \n",
      "distributed.submit \n",
      "distributed.system_monitor \n",
      "distributed.threadpoolexecutor - Modified ThreadPoolExecutor to support threads leaving the thread pool\n",
      "distributed.utils \n",
      "distributed.utils_comm \n",
      "distributed.utils_test \n",
      "distributed.variable \n",
      "distributed.versions - utilities for package version introspection\n",
      "distributed.worker \n",
      "distributed.worker_client \n",
      "docutils.parsers.rst.directives.html - Directives for typically HTML-specific constructs.\n",
      "docutils.parsers.rst.languages.sv - Swedish language mappings for language-dependent features of reStructuredText.\n",
      "docutils.parsers.rst.roles - This module defines standard interpreted text role functions, a registry for\n",
      "docutils.readers.standalone - Standalone file Reader for the reStructuredText markup syntax.\n",
      "docutils.writers.manpage - Simple man page writer for reStructuredText.\n",
      "falcon.util.structures - Data structures.\n",
      "html5lib._inputstream \n",
      "ipykernel.iostream - Wrappers for forwarding stdout/stderr over zmq\n",
      "ipython_genutils.importstring - A simple utility to import something by its string name.\n",
      "ipython_genutils.ipstruct - A dict subclass that supports attribute style access.\n",
      "ipython_genutils.tests.test_importstring - Tests for IPython.utils.importstring.\n",
      "ipython_genutils.text - Utilities for working with strings and text.\n",
      "ipywidgets.widgets.widget_string - String class.\n",
      "jedi.evaluate.docstrings - Docstrings are another source of information for functions and classes.\n",
      "jedi.parser.pgen2.grammar - This module defines the data structures used to represent a grammar.\n",
      "jinja2._stringdefs - jinja2._stringdefs\n",
      "jsonschema._reflect - Standardized versions of various cool and/or strange things that you can do\n",
      "jupyter_client.channelsabc - Abstract base classes for kernel client channels\n",
      "jupyter_client.clientabc - Abstract base class for kernel clients\n",
      "jupyter_client.managerabc - Abstract base class for kernel managers.\n",
      "llvmlite.ir.instructions - Implementation of LLVM IR instructions.\n",
      "llvmlite.tests.test_ir - IR Construction Tests\n",
      "matplotlib.backend_bases - Abstract base classes define the primitives that renderers and\n",
      "matplotlib.backend_tools - Abstract base classes define the primitives for Tools.\n",
      "matplotlib.docstring \n",
      "matplotlib.streamplot - Streamline plotting for 2D vector fields.\n",
      "matplotlib.testing.jpl_units.StrConverter - StrConverter module containing class StrConverter.\n",
      "matplotlib.tri - Unstructured triangular grid functions.\n",
      "mpmath.function_docs - Extended docstrings for functions.py\n",
      "mpmath.tests.test_str \n",
      "nbconvert.exporters.rst - reStructuredText Exporter class\n",
      "nbconvert.filters.strings - String filters.\n",
      "nbconvert.filters.tests.test_strings - Module with tests for Strings\n",
      "nbconvert.preprocessors.coalescestreams - Preprocessor for merging consecutive stream outputs for easier handling.\n",
      "nbconvert.preprocessors.tests.test_coalescestreams - Tests for the coalescestreams preprocessor\n",
      "networkx.algorithms.approximation.kcomponents - Fast approximation for k-component structure\n",
      "networkx.algorithms.coloring.greedy_coloring - Greedy graph coloring using various strategies.\n",
      "networkx.algorithms.community - Functions for computing and measuring community structure.\n",
      "networkx.algorithms.community.community_generators - Functions for generating graphs with community structure.\n",
      "networkx.algorithms.components.strongly_connected - Strongly connected components.\n",
      "networkx.algorithms.link_analysis.hits_alg - Hubs and authorities analysis of graph structure.\n",
      "networkx.algorithms.link_analysis.pagerank_alg - PageRank analysis of graph structure.\n",
      "networkx.algorithms.structuralholes - Functions for computing measures of structural holes.\n"
     ]
    },
    {
     "name": "stdout",
     "output_type": "stream",
     "text": [
      "networkx.generators.expanders - Provides explicit constructions of expander graphs.\n",
      "networkx.linalg.attrmatrix - Functions for constructing matrix-like objects from graph attributes.\n",
      "networkx.utils.union_find - Union-find data structure.\n",
      "nltk.ccg.chart - The lexicon is constructed by calling\n",
      "nltk.corpus.reader.categorized_sents - CorpusReader structured for corpora that contain one instance on each row.\n",
      "nltk.corpus.reader.panlex_lite - CorpusReader for PanLex Lite, a stripped down version of PanLex distributed\n",
      "nltk.corpus.reader.string_category - Read tuples from a corpus consisting of categorized strings.\n",
      "nltk.featstruct - Basic data classes for representing feature structures, and for\n",
      "nltk.help - Provide structured access to documentation.\n",
      "nltk.inference.nonmonotonic - A module to perform nonmonotonic reasoning.  The ideas and demonstrations in\n",
      "nltk.test.unit.test_seekable_unicode_stream_reader - The following test performs a random series of reads, seeks, and\n",
      "nltk.tree - Class for representing hierarchical language structures, such as\n",
      "nose.ext.dtcompat - Module doctest -- a framework for running examples in docstrings.\n",
      "numba.cuda.tests.cudapy.test_const_string \n",
      "numba.datamodel.registry \n",
      "numba.rewrites.registry \n",
      "numba.targets.registry \n",
      "numba.types.abstract \n",
      "numpy._distributor_init - Distributor init file\n",
      "numpy.compat._inspect - Subset of inspect module from upstream python\n",
      "numpy.core.defchararray - This module contains a set of functions for vectorized string\n",
      "numpy.core.struct_ufunc_test \n",
      "numpy.distutils.numpy_distribution \n",
      "numpy.doc.structured_arrays - =================\n",
      "numpy.lib._version - Utility to compare (NumPy) version strings.\n",
      "numpy.lib.recfunctions - Collection of utilities to manipulate structured arrays.\n",
      "numpy.lib.stride_tricks - Utilities that manipulate strides to achieve desirable effects.\n",
      "numpy.polynomial._polybase - Abstract base class for the various polynomial Classes.\n",
      "openpyxl.compat.strings \n",
      "openpyxl.reader.strings \n",
      "openpyxl.writer.strings \n",
      "packaging._structures \n",
      "pandas.core.common - Misc tools for implementing data structures\n",
      "pandas.core.indexes.frozen - frozen (immutable) data structures to support MultiIndexing\n",
      "pandas.core.panel - Contains data structures designed for manipulating panel (3-dimensional) data\n",
      "pandas.core.series - Data structure for 1-dimensional cross-sectional and time series data\n",
      "pandas.core.sparse.array - SparseArray data structure\n",
      "pandas.core.sparse.frame - Data structures for sparse float data. Life is made simpler by dealing only\n",
      "pandas.core.sparse.series - Data structures for sparse float data. Life is made simpler by dealing only\n",
      "pandas.core.strings \n",
      "pandas.core.window - provide a generic structure to support window functions,\n",
      "pandas.io.packers - Msgpack serializer support for reading and writing pandas data structures\n",
      "pandas.io.pytables - High level interface to PyTables for reading and writing pandas data structures\n",
      "pandas.io.sql - Collection of query wrappers / abstractions to both facilitate data\n",
      "pandas.tests.frame.test_constructors \n",
      "pandas.tests.indexes.datetimes.test_construction \n",
      "pandas.tests.indexes.period.test_construction \n",
      "pandas.tests.indexes.timedeltas.test_construction \n",
      "pandas.tests.io.formats.test_format - Test output formatting for Series/DataFrame, including to_string & reprs\n",
      "pandas.tests.series.test_constructors \n",
      "pandas.tests.test_downstream - Testing that we work in the downstream packages\n",
      "pandas.tests.test_strings \n",
      "patsy.constraint \n",
      "pip._vendor.distlib.manifest - Class representing the list of files in a distribution.\n",
      "pip._vendor.distro - The ``distro`` package (``distro`` stands for Linux Distribution) provides\n",
      "pip._vendor.html5lib._inputstream \n",
      "pip._vendor.packaging._structures \n",
      "pip._vendor.requests.packages.chardet.chardistribution \n",
      "pip._vendor.requests.packages.urllib3.contrib.ntlmpool - NTLM authenticating pool, contributed by erikcederstran\n",
      "pip._vendor.requests.structures - requests.structures\n",
      "pkg_resources._vendor.packaging._structures \n",
      "pkginfo.commandline - Print the metadata for one or more Python package distributions.\n",
      "pkginfo.distribution \n",
      "pkginfo.tests.test_distribution \n",
      "prompt_toolkit.buffer - Data structures for the Buffer.\n",
      "prompt_toolkit.input - Abstraction of CLI Input.\n",
      "prompt_toolkit.key_binding.input_processor - An :class:`~.InputProcessor` receives callbacks for the keystrokes parsed from\n",
      "prompt_toolkit.key_binding.registry - Key bindings registry.\n",
      "prompt_toolkit.selection - Data structures for the selection.\n",
      "prompt_toolkit.terminal.vt100_input - Parser for VT100 input stream.\n",
      "py._xmlgen - module for generating and serializing xml and html structures\n",
      "pygments.unistring - pygments.unistring\n",
      "pylint.checkers.spelling - Checker for spelling errors in comments and docstrings.\n",
      "pylint.checkers.strings - Checker for string formatting operations.\n",
      "pylint.checkers.typecheck - try to find more bugs in the code using astroid inference capabilities\n",
      "pylint.extensions._check_docs_utils - Utility methods for docstring checking.\n",
      "pylint.extensions.comparetozero - Looks for  comparisons to empty string.\n",
      "pylint.extensions.docparams - Pylint plugin for checking in Sphinx, Google, or Numpy style docstrings\n",
      "pylint.extensions.emptystring - Looks for  comparisons to empty string.\n",
      "pylint.pyreverse.inspector - Visitor doing some postprocessing on the astroid tree.\n",
      "qtconsole.console_widget - An abstract base class for console-type widgets.\n",
      "requests.structures - requests.structures\n",
      "rope.base.oi.type_hinting.providers.docstrings - Hinting the type using docstring of class/function.\n",
      "rope.base.oi.type_hinting.providers.numpydocstrings - Some code extracted (or based on code) from:\n",
      "rope.base.utils.datastructures \n",
      "rope.refactor.restructure \n",
      "ruamel_yaml.constructor \n",
      "ruamel_yaml.scalarstring \n",
      "scipy._lib._version - Utility to compare (Numpy) version strings.\n",
      "scipy.io.matlab.miobase - Base classes for MATLAB file stream reading.\n",
      "scipy.io.matlab.streams \n",
      "scipy.optimize._lsq.lsq_linear - Linear least squares with bound constraints on independent variables.\n",
      "scipy.optimize._trustregion - Trust-region optimization.\n",
      "scipy.optimize._trustregion_dogleg - Dog-leg trust-region optimization.\n",
      "scipy.optimize._trustregion_ncg - Newton-CG trust-region optimization.\n",
      "scipy.optimize.cobyla - Interface to Constrained Optimization By Linear Approximation\n",
      "scipy.sparse.construct - Functions to construct sparse matrices\n",
      "scipy.sparse.linalg.interface - Abstract linear algebra library.\n",
      "scipy.stats._distn_infrastructure \n",
      "scipy.stats._distr_params - Sane parameters for stats.distributions.\n",
      "scipy.stats.distributions \n",
      "seaborn.distributions - Plotting functions for visualizing distributions.\n",
      "seaborn.regression - Plotting functions for linear models (broadly construed).\n",
      "seaborn.tests.test_distributions \n",
      "setuptools - Extensions to the 'distutils' for large or complex distributions\n",
      "skimage.io.collection - Data structures to hold collections of images, with optional caching.\n",
      "skimage.measure._structural_similarity \n",
      "skimage.measure.tests.test_structural_similarity \n",
      "skimage.morphology._greyreconstruct \n",
      "skimage.morphology.greyreconstruct - This morphological reconstruction routine was adapted from CellProfiler, code\n",
      "skimage.morphology.tests.test_reconstruction - These tests are originally part of CellProfiler, code licensed under both GPL and BSD licenses.\n",
      "skimage.morphology.tests.test_selem - Tests for Morphological structuring elements\n",
      "sklearn.datasets.species_distributions - =============================\n",
      "sklearn.multiclass - Multiclass and multilabel classification strategies\n",
      "sklearn.neural_network.rbm - Restricted Boltzmann Machine\n",
      "sklearn.tests.test_docstring_parameters \n",
      "sphinx.ext.napoleon.docstring - sphinx.ext.napoleon.docstring\n",
      "sphinx.pycode.pgen2.grammar - This module defines the data structures used to represent a grammar.\n",
      "sphinx.pycode.pgen2.literals - Safely evaluate Python string literals without using eval().\n",
      "sphinx.registry - sphinx.registry\n",
      "sphinx.util.docstrings - sphinx.util.docstrings\n",
      "spyder.utils.help.sphinxify - Process docstrings with Sphinx\n",
      "spyder.utils.introspection.numpy_docstr \n",
      "spyder.utils.stringmatching - String search and match utilities usefull when filtering a list of texts.\n",
      "spyder.utils.tests.test_stringmatching - Tests for stringmatching.py\n"
     ]
    },
    {
     "name": "stdout",
     "output_type": "stream",
     "text": [
      "sqlalchemy.engine.reflection - Provides an abstraction for obtaining database schema information.\n",
      "sqlalchemy.engine.result - Define result set constructs including :class:`.ResultProxy`\n",
      "sqlalchemy.engine.strategies - Strategies for creating new instances of Engine types.\n",
      "sqlalchemy.event.registry - Provides managed registration services on behalf of :func:`.listen`\n",
      "sqlalchemy.ext.declarative.clsregistry - Routines to handle the string class registry used by declarative.\n",
      "sqlalchemy.ext.instrumentation - Extensible class instrumentation.\n",
      "sqlalchemy.ext.serializer - Serializer/Deserializer objects for usage with SQLAlchemy query structures,\n",
      "sqlalchemy.orm - Functional constructs for ORM configuration.\n",
      "sqlalchemy.orm.attributes - Defines instrumentation for class attributes and their interaction\n",
      "sqlalchemy.orm.instrumentation - Defines SQLAlchemy's system of class instrumentation.\n",
      "sqlalchemy.orm.path_registry - Path tracking utilities, representing mapper graph traversals.\n",
      "sqlalchemy.orm.state - Defines instrumentation of instances.\n",
      "sqlalchemy.orm.strategies - sqlalchemy.orm.interfaces.LoaderStrategy\n",
      "sqlalchemy.orm.strategy_options \n",
      "sqlalchemy.sql.expression - Defines the public namespace for SQL expression constructs.\n",
      "sqlalchemy.sql.naming - Establish constraint and index naming conventions.\n",
      "sqlalchemy.testing.plugin.bootstrap - Bootstrapper for nose/pytest plugins.\n",
      "statsmodels.base._constraints - Created on Thu May 15 16:36:05 2014\n",
      "statsmodels.base.data - Base tools for handling various kinds of data structures, attaching metadata to\n",
      "statsmodels.datasets.strikes \n",
      "statsmodels.datasets.strikes.data - U.S. Strike Duration Data\n",
      "statsmodels.discrete.tests.results.results_glm_logit_constrained \n",
      "statsmodels.discrete.tests.results.results_poisson_constrained \n",
      "statsmodels.discrete.tests.test_constrained - Created on Fri May 30 16:22:29 2014\n",
      "statsmodels.distributions \n",
      "statsmodels.distributions.edgeworth \n",
      "statsmodels.distributions.empirical_distribution - Empirical CDF Functions\n",
      "statsmodels.distributions.mixture_rvs \n",
      "statsmodels.distributions.tests \n",
      "statsmodels.distributions.tests.test_ecdf \n",
      "statsmodels.distributions.tests.test_edgeworth \n",
      "statsmodels.distributions.tests.test_mixture \n",
      "statsmodels.genmod.cov_struct \n",
      "statsmodels.miscmodels.tmodel - Linear Model with Student-t distributed errors\n",
      "statsmodels.sandbox.distributions \n",
      "statsmodels.sandbox.distributions.copula \n",
      "statsmodels.sandbox.distributions.estimators \n",
      "statsmodels.sandbox.distributions.examples \n",
      "statsmodels.sandbox.distributions.examples.ex_extras - Created on Wed Feb 19 12:39:49 2014\n",
      "statsmodels.sandbox.distributions.examples.ex_fitfr \n",
      "statsmodels.sandbox.distributions.examples.ex_gof \n",
      "statsmodels.sandbox.distributions.examples.ex_mvelliptical - examples for multivariate normal and t distributions\n",
      "statsmodels.sandbox.distributions.examples.ex_transf2 - Created on Sun May 09 22:23:22 2010\n",
      "statsmodels.sandbox.distributions.examples.matchdist \n",
      "statsmodels.sandbox.distributions.extras \n",
      "statsmodels.sandbox.distributions.genpareto - Created on Thu Aug 12 14:59:03 2010\n",
      "statsmodels.sandbox.distributions.gof_new \n",
      "statsmodels.sandbox.distributions.multivariate \n",
      "statsmodels.sandbox.distributions.mv_measures \n",
      "statsmodels.sandbox.distributions.mv_normal - Multivariate Normal and t distributions\n",
      "statsmodels.sandbox.distributions.otherdist \n",
      "statsmodels.sandbox.distributions.quantize \n",
      "statsmodels.sandbox.distributions.sppatch \n",
      "statsmodels.sandbox.distributions.tests \n",
      "statsmodels.sandbox.distributions.tests._est_fit \n",
      "statsmodels.sandbox.distributions.tests.check_moments \n",
      "statsmodels.sandbox.distributions.tests.distparams \n",
      "statsmodels.sandbox.distributions.tests.test_extras - Created on Sun Apr 17 22:13:36 2011\n",
      "statsmodels.sandbox.distributions.tests.test_multivariate - Created on Sat Apr 16 15:02:13 2011\n",
      "statsmodels.sandbox.distributions.tests.test_norm_expan - Unit tests for Gram-Charlier exansion\n",
      "statsmodels.sandbox.distributions.tests.testtransf - Created on Sun May 09 22:35:21 2010\n",
      "statsmodels.sandbox.distributions.transform_functions - Nonlinear Transformation classes\n",
      "statsmodels.sandbox.distributions.transformed \n",
      "statsmodels.sandbox.distributions.try_max \n",
      "statsmodels.sandbox.distributions.try_pot - Created on Wed May 04 06:09:18 2011\n",
      "statsmodels.sandbox.panel.correlation_structures - Correlation and Covariance Structures\n",
      "statsmodels.sandbox.panel.random_panel - Generate a random process with panel structure\n",
      "statsmodels.sandbox.regression.penalized - linear model with Theil prior probabilistic restrictions, generalized Ridge\n",
      "statsmodels.sandbox.rls - Restricted least squares\n",
      "statsmodels.tools.data - Compatibility tools for various data structure inputs\n",
      "statsmodels.tsa.statespace.structural - Univariate structural time series models\n",
      "statsmodels.tsa.statespace.tests.results.results_structural - Results for SARIMAX tests\n",
      "statsmodels.tsa.statespace.tests.test_structural - Tests for structural time series models\n",
      "sympy.codegen.ast - Types used to represent a full function/module as an Abstract Syntax Tree.\n",
      "sympy.combinatorics.group_constructs \n",
      "sympy.combinatorics.tests.test_group_constructs \n",
      "sympy.core.compatibility - Reimplementations of constructs introduced in later versions of Python than\n",
      "sympy.core.tests.test_constructor_postprocessor \n",
      "sympy.deprecated.class_registry \n",
      "sympy.deprecated.tests.test_class_registry \n",
      "sympy.diffgeom.tests.test_class_structure \n",
      "sympy.integrals.meijerint_doc - This module cooks up a docstring when imported. Its only purpose is to\n",
      "sympy.parsing - Used for translating a string into a SymPy expression.\n",
      "sympy.parsing.sympy_parser - Transform a string with Python-like source code into SymPy expression.\n",
      "sympy.physics.quantum.tensorproduct - Abstract tensor product.\n",
      "sympy.polys.constructor - Tools for constructing domains for expressions.\n",
      "sympy.polys.distributedmodules - Sparse distributed elements of free modules over multivariate (generalized)\n",
      "sympy.polys.monomials - Tools and arithmetics for monomials of distributed polynomials.\n",
      "sympy.polys.tests.test_constructor - Tests for tools for constructing domains for expressions.\n",
      "sympy.polys.tests.test_distributedmodules - Tests for sparse distributed modules.\n",
      "sympy.polys.tests.test_monomials - Tests for tools and arithmetics for monomials of distributed polynomials.\n",
      "sympy.printing.pretty.pretty_symbology - Symbolic primitives + unicode/ASCII abstraction for pretty.py\n",
      "sympy.printing.pretty.stringpict - Prettyprinter by Jurjen Bos.\n",
      "sympy.printing.str - A Printer for generating readable representation of most sympy classes.\n",
      "sympy.printing.tests.test_str \n",
      "sympy.simplify.hyperexpand_doc - This module cooks up a docstring when imported. Its only purpose is to\n",
      "sympy.strategies - Rewrite Rules\n",
      "sympy.strategies.branch \n",
      "sympy.strategies.branch.core - Generic SymPy-Independent Strategies\n",
      "sympy.strategies.branch.tests \n",
      "sympy.strategies.branch.tests.test_core \n",
      "sympy.strategies.branch.tests.test_tools \n",
      "sympy.strategies.branch.tests.test_traverse \n",
      "sympy.strategies.branch.tools \n",
      "sympy.strategies.branch.traverse - Branching Strategies to Traverse a Tree\n",
      "sympy.strategies.core - Generic SymPy-Independent Strategies\n",
      "sympy.strategies.rl - Generic Rules for SymPy\n",
      "sympy.strategies.tests \n",
      "sympy.strategies.tests.test_core \n",
      "sympy.strategies.tests.test_rl \n",
      "sympy.strategies.tests.test_strat \n",
      "sympy.strategies.tests.test_tools \n",
      "sympy.strategies.tests.test_traverse \n",
      "sympy.strategies.tests.test_tree \n",
      "sympy.strategies.tools \n",
      "sympy.strategies.traverse - Strategies to Traverse a Tree.\n",
      "sympy.strategies.tree \n",
      "sympy.strategies.util \n",
      "sympy.tensor.tensor - This module defines tensors with abstract index notation.\n",
      "tables.registry - Miscellaneous mappings used to avoid circular imports.\n",
      "tornado.iostream - Utility classes to write to and read from non-blocking files and sockets.\n",
      "tornado.locale - Translation methods for generating localized strings.\n",
      "tornado.test.iostream_test \n",
      "traitlets.utils.importstring - A simple utility to import something by its string name.\n",
      "traitlets.utils.tests.test_importstring - Tests for traitlets.utils.importstring.\n",
      "urllib3.contrib.ntlmpool - NTLM authenticating pool, contributed by erikcederstran\n",
      "urllib3.contrib.pyopenssl - SSL with SNI_-support for Python 2. Follow these instructions if you would\n",
      "werkzeug.datastructures - werkzeug.datastructures\n",
      "wheel.bdist_wheel - Create a wheel (.whl) distribution.\n"
     ]
    },
    {
     "name": "stdout",
     "output_type": "stream",
     "text": [
      "xlsxwriter.sharedstrings \n",
      "yaml.constructor \n",
      "zmq.eventloop.zmqstream - A utility class to send to and recv from a non-blocking socket.\n",
      "zmq.green.eventloop.zmqstream \n",
      "zmq.tests.test_zmqstream \n",
      "zmq.utils.strtypes - Declare basic string types unambiguously for various Python versions.\n",
      "aem.aemconnect - connect - Creates Apple event descriptor records of typeProcessSerialNumber and typeApplicationURL, used to specify the target application in send.Event() constructor.\n",
      "aem.aemreference - aemreference -- An object-oriented API for constructing object specifiers.\n",
      "aem.aemsend - send -- Construct and send Apple events.\n",
      "appscript.genericreference - genericreference -- allows user to construct relative (con- and its- based) references without immediate access to application terminology.\n",
      "appscript.referencerenderer - referencerenderer -- Generates string representations of appscript references from aem object specifiers.\n",
      "appscript.terminologyparser - terminologyparser -- Basic aete parser to construct name-code terminology tables from an application's class, enumerator, property, element and command definitions.\n",
      "brain_builtin_inference - Astroid hooks for various builtins.\n",
      "brain_dateutil - Astroid hooks for dateutil\n",
      "brain_fstrings \n",
      "brain_functools - Astroid hooks for understanding functools library module.\n",
      "brain_gi - Astroid hooks for the Python 2 GObject introspection bindings.\n",
      "brain_namedtuple_enum - Astroid hooks for the Python standard library.\n",
      "brain_numpy - Astroid hooks for numpy.\n",
      "brain_pytest - Astroid hooks for pytest.\n",
      "brain_qt - Astroid hooks for the PyQT library.\n",
      "brain_six - Astroid hooks for six module.\n",
      "brain_ssl - Astroid hooks for the ssl library.\n",
      "brain_typing - Astroid hooks for typing.py support.\n",
      "\n",
      "\n",
      "You are now leaving help and returning to the Python interpreter.\n",
      "If you want to ask for help on a particular object directly from the\n",
      "interpreter, you can type \"help(object)\".  Executing \"help('string')\"\n",
      "has the same effect as typing a particular string at the help> prompt.\n"
     ]
    }
   ],
   "source": [
    "help()"
   ]
  },
  {
   "cell_type": "code",
   "execution_count": 49,
   "metadata": {},
   "outputs": [
    {
     "name": "stdout",
     "output_type": "stream",
     "text": [
      "\n",
      "Here is a list of the Python keywords.  Enter any keyword to get more help.\n",
      "\n",
      "False               def                 if                  raise\n",
      "None                del                 import              return\n",
      "True                elif                in                  try\n",
      "and                 else                is                  while\n",
      "as                  except              lambda              with\n",
      "assert              finally             nonlocal            yield\n",
      "break               for                 not                 \n",
      "class               from                or                  \n",
      "continue            global              pass                \n",
      "\n"
     ]
    }
   ],
   "source": [
    "help('keywords')"
   ]
  },
  {
   "cell_type": "code",
   "execution_count": 50,
   "metadata": {},
   "outputs": [
    {
     "name": "stdout",
     "output_type": "stream",
     "text": [
      "\n",
      "Please wait a moment while I gather a list of all available modules...\n",
      "\n",
      "Crypto              brain_multiprocessing json                ruamel_yaml\n",
      "Cython              brain_namedtuple_enum jsonschema          runpy\n",
      "IPython             brain_nose          jupyter             sched\n",
      "OleFileIO_PL        brain_numpy         jupyter_client      scipy\n",
      "OpenSSL             brain_pkg_resources jupyter_console     scripts\n",
      "PIL                 brain_pytest        jupyter_core        seaborn\n",
      "PyQt5               brain_qt            jupyterlab          secrets\n",
      "__future__          brain_re            jupyterlab_launcher select\n",
      "_ast                brain_six           jupyterthemes       selectors\n",
      "_asyncio            brain_ssl           keyword             setuptools\n",
      "_bisect             brain_subprocess    lazy_object_proxy   shelve\n",
      "_blake2             brain_threading     lesscpy             shlex\n",
      "_bootlocale         brain_typing        lib2to3             shutil\n",
      "_bz2                bs4                 librosa             signal\n",
      "_cffi_backend       builtins            linecache           simplegeneric\n",
      "_codecs             bz2                 llvmlite            singledispatch\n",
      "_codecs_cn          cProfile            locale              singledispatch_helpers\n",
      "_codecs_hk          calendar            locket              sip\n",
      "_codecs_iso2022     certifi             logging             sipconfig\n",
      "_codecs_jp          cffi                lxml                sipdistutils\n",
      "_codecs_kr          cgi                 lzma                site\n",
      "_codecs_tw          cgitb               macpath             six\n",
      "_collections        chardet             mactypes            skimage\n",
      "_collections_abc    chunk               macurl2path         sklearn\n",
      "_compat_pickle      click               mailbox             smtpd\n",
      "_compression        cloudpickle         mailcap             smtplib\n",
      "_crypt              clyent              markupsafe          sndhdr\n",
      "_csv                cmath               marshal             snowballstemmer\n",
      "_ctypes             cmd                 math                socket\n",
      "_ctypes_test        code                matplotlib          socketserver\n",
      "_curses             codecs              mccabe              socks\n",
      "_curses_panel       codeop              mimeparse           sockshandler\n",
      "_datetime           collections         mimetypes           sortedcollections\n",
      "_dbm                colorama            mistune             sortedcontainers\n",
      "_decimal            colorsys            mkl                 sphinx\n",
      "_dummy_thread       compileall          mmap                sphinxcontrib\n",
      "_elementtree        concurrent          modulefinder        sphinxify\n",
      "_functools          conda               mpmath              spyder\n",
      "_hashlib            conda_build         msgpack             spyder_breakpoints\n",
      "_heapq              conda_env           multipledispatch    spyder_io_dcm\n",
      "_imp                conda_verify        multiprocessing     spyder_io_hdf5\n",
      "_io                 conf                navigator_updater   spyder_profiler\n",
      "_json               configparser        nbconvert           spyder_pylint\n",
      "_locale             contextlib          nbformat            sqlalchemy\n",
      "_lsprof             contextlib2         netrc               sqlite3\n",
      "_lzma               copy                networkx            sre_compile\n",
      "_markupbase         copyreg             nis                 sre_constants\n",
      "_md5                crypt               nltk                sre_parse\n",
      "_multibytecodec     cryptography        nntplib             ssl\n",
      "_multiprocessing    csv                 nose                stat\n",
      "_opcode             ctypes              notebook            statistics\n",
      "_operator           curl                ntpath              statsmodels\n",
      "_osx_support        curses              nturl2path          storemagic\n",
      "_pickle             cycler              numba               string\n",
      "_posixsubprocess    cython              numbers             stringprep\n",
      "_pydecimal          cythonmagic         numexpr             struct\n",
      "_pyio               cytoolz             numpy               subprocess\n",
      "_pytest             dask                numpydoc            sunau\n",
      "_random             datashape           odo                 symbol\n",
      "_scproxy            datetime            olefile             sympy\n",
      "_sha1               dateutil            opcode              sympyprinting\n",
      "_sha256             dbm                 openpyxl            symtable\n",
      "_sha3               decimal             operator            sys\n",
      "_sha512             decorator           optparse            sysconfig\n",
      "_signal             difflib             os                  syslog\n",
      "_sitebuiltins       dis                 osax                tables\n",
      "_socket             distributed         packaging           tabnanny\n",
      "_sqlite3            distutils           pandas              tarfile\n",
      "_sre                doctest             pandocfilters       tblib\n",
      "_ssl                docutils            parser              telnetlib\n",
      "_stat               dummy_threading     partd               tempfile\n",
      "_string             easy_install        path                terminado\n",
      "_strptime           email               pathlib             termios\n",
      "_struct             encodings           pathlib2            test\n",
      "_symtable           entrypoints         patsy               test_path\n",
      "_sysconfigdata_m_darwin_darwin enum                pdb                 test_pycosat\n",
      "_sysconfigdata_x86_64_apple_darwin13_4_0 errno               pep8                testpath\n",
      "_testbuffer         et_xmlfile          pexpect             tests\n",
      "_testcapi           falcon              pickle              textwrap\n",
      "_testimportmultiple fastcache           pickleshare         this\n",
      "_testmultiphase     faulthandler        pickletools         threading\n",
      "_thread             fcntl               pip                 time\n",
      "_threading_local    filecmp             pipes               timeit\n",
      "_tkinter            fileinput           pkg_resources       tkinter\n",
      "_tracemalloc        filelock            pkginfo             tlz\n",
      "_warnings           flask               pkgutil             token\n",
      "_weakref            flask_cors          platform            tokenize\n",
      "_weakrefset         fnmatch             plistlib            toolz\n",
      "_yaml               formatter           ply                 tornado\n",
      "abc                 fractions           poplib              tqdm\n",
      "aem                 ftplib              posix               trace\n",
      "aifc                functools           posixpath           traceback\n",
      "alabaster           gc                  pprint              tracemalloc\n",
      "anaconda_navigator  genericpath         profile             traitlets\n",
      "anaconda_project    getopt              prompt_toolkit      tty\n",
      "antigravity         getpass             pstats              turtle\n",
      "appnope             gettext             psutil              turtledemo\n",
      "appscript           gevent              pty                 types\n",
      "argparse            glob                ptyprocess          typing\n",
      "array               glob2               pwd                 unicodecsv\n",
      "asn1crypto          gmpy2               py                  unicodedata\n",
      "ast                 greenlet            py_compile          unidecode\n",
      "astroid             grp                 pyclbr              unittest\n",
      "astropy             gzip                pycodestyle         urllib\n",
      "asynchat            h5py                pycosat             urllib3\n",
      "asyncio             hashlib             pycparser           uu\n",
      "asyncore            heapdict            pycurl              uuid\n",
      "atexit              heapq               pydoc               venv\n",
      "audioop             hmac                pydoc_data          warnings\n",
      "audioread           html                pyexpat             wave\n",
      "autoreload          html5lib            pyflakes            wcwidth\n",
      "babel               http                pygments            weakref\n",
      "backports           idlelib             pylab               webbrowser\n",
      "base64              idna                pylint              webencodings\n",
      "bdb                 imageio             pyodbc              werkzeug\n",
      "binascii            imagesize           pyparsing           wheel\n",
      "binhex              imaplib             pytest              widgetsnbextension\n",
      "binstar_client      imghdr              pytz                wrapt\n",
      "bisect              imp                 pywt                wsgiref\n",
      "bitarray            importlib           pyximport           xdrlib\n",
      "bkcharts            inflect             qtawesome           xlrd\n",
      "blaze               inspect             qtconsole           xlsxwriter\n",
      "bleach              io                  qtpy                xlwings\n",
      "bokeh               ipaddress           queue               xlwt\n",
      "boto                ipykernel           quopri              xml\n",
      "bottleneck          ipykernel_launcher  random              xmlrpc\n",
      "brain_builtin_inference ipython_genutils    re                  xxlimited\n",
      "brain_collections   ipywidgets          readline            xxsubtype\n",
      "brain_dateutil      isort               reprlib             yaml\n",
      "brain_fstrings      itertools           requests            zict\n",
      "brain_functools     itsdangerous        resampy             zipapp\n",
      "brain_gi            jdcal               resource            zipfile\n",
      "brain_hashlib       jedi                rlcompleter         zipimport\n",
      "brain_io            jinja2              rmagic              zlib\n",
      "brain_mechanize     joblib              rope                zmq\n",
      "\n",
      "Enter any module name to get more help.  Or, type \"modules spam\" to search\n",
      "for modules whose name or summary contain the string \"spam\".\n",
      "\n"
     ]
    }
   ],
   "source": [
    "help('modules')"
   ]
  },
  {
   "cell_type": "code",
   "execution_count": 51,
   "metadata": {},
   "outputs": [
    {
     "name": "stdout",
     "output_type": "stream",
     "text": [
      "\n",
      "Here is a list of the punctuation symbols which Python assigns special meaning\n",
      "to. Enter any symbol to get more help.\n",
      "\n",
      "!=                  *=                  <<                  ^\n",
      "\"                   +                   <<=                 ^=\n",
      "\"\"\"                 +=                  <=                  _\n",
      "%                   ,                   <>                  __\n",
      "%=                  -                   ==                  `\n",
      "&                   -=                  >                   b\"\n",
      "&=                  .                   >=                  b'\n",
      "'                   ...                 >>                  j\n",
      "'''                 /                   >>=                 r\"\n",
      "(                   //                  @                   r'\n",
      ")                   //=                 J                   |\n",
      "*                   /=                  [                   |=\n",
      "**                  :                   \\                   ~\n",
      "**=                 <                   ]                   \n",
      "\n"
     ]
    }
   ],
   "source": [
    "help('symbols')"
   ]
  },
  {
   "cell_type": "code",
   "execution_count": 40,
   "metadata": {},
   "outputs": [
    {
     "data": {
      "text/html": [
       "<iframe src=https://docs.python.org/3/library/functions.html width=1000 height=750></iframe>"
      ],
      "text/plain": [
       "<IPython.core.display.HTML object>"
      ]
     },
     "execution_count": 40,
     "metadata": {},
     "output_type": "execute_result"
    }
   ],
   "source": [
    "import IPython\n",
    "url = 'https://docs.python.org/3/library/functions.html'\n",
    "iframe = '<iframe src=' + url + ' width=1000 height=750></iframe>'\n",
    "IPython.display.HTML(iframe)"
   ]
  },
  {
   "cell_type": "code",
   "execution_count": null,
   "metadata": {
    "collapsed": true
   },
   "outputs": [],
   "source": []
  }
 ],
 "metadata": {
  "kernelspec": {
   "display_name": "Python 3",
   "language": "python",
   "name": "python3"
  },
  "language_info": {
   "codemirror_mode": {
    "name": "ipython",
    "version": 3
   },
   "file_extension": ".py",
   "mimetype": "text/x-python",
   "name": "python",
   "nbconvert_exporter": "python",
   "pygments_lexer": "ipython3",
   "version": "3.6.5"
  }
 },
 "nbformat": 4,
 "nbformat_minor": 2
}
