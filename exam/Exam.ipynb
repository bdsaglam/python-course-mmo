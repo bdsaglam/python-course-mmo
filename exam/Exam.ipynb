{
 "cells": [
  {
   "cell_type": "markdown",
   "metadata": {},
   "source": [
    "# Exam"
   ]
  },
  {
   "cell_type": "markdown",
   "metadata": {},
   "source": [
    "## Question 1\n",
    "\n",
    "Take two sequences, find the indices where the second is matched in the first.\n",
    "\n",
    "Verilen iki diziden ikincisinin birinci dizide hangi indexlerde eşleştiğini yazan bir program yazın. Program eğer hiç eşleşme yoksa boş liste verebilir.\n",
    "\n",
    "```\n",
    "Input: [0,0,1,1,0,1,1,0,1,0,1] and [1,0,1]\n",
    "Expected output: [3,6,8]\n",
    "\n",
    "Input: [0,1,1,0,1,1,0,1,0,1] and [1,1,1]\n",
    "Expected output: []\n",
    "\n",
    "Input: 'tanzania' and 'an'\n",
    "Expected output: [1, 4]\n",
    "```"
   ]
  },
  {
   "cell_type": "code",
   "execution_count": null,
   "metadata": {
    "collapsed": true
   },
   "outputs": [],
   "source": []
  },
  {
   "cell_type": "markdown",
   "metadata": {},
   "source": [
    "## Question 2\n",
    "\n",
    "Write a Python program that computes greatest common divisor of two numbers.\n",
    "\n",
    "Verilen iki sayının en büyük ortak bölenini bulan bir program yazın.\n",
    "\n",
    "```\n",
    "Input: 0, 1\n",
    "Expected output: 1\n",
    "\n",
    "Input: 1, 2\n",
    "Expected output: 1\n",
    "\n",
    "Input: 2, 5\n",
    "Expected output: 1 \n",
    "\n",
    "Input: 2, 4\n",
    "Expected output: 2\n",
    "\n",
    "Input: 12, 18\n",
    "Expected output: 6\n",
    "\n",
    "```"
   ]
  },
  {
   "cell_type": "code",
   "execution_count": null,
   "metadata": {
    "collapsed": true
   },
   "outputs": [],
   "source": []
  },
  {
   "cell_type": "markdown",
   "metadata": {},
   "source": [
    "## Question 3\n",
    "\n",
    "Remove all characters repeating.\n",
    "\n",
    "Bir stringdeki ardışık olarak tekrar eden karakterlerden tekrar edenleri silen bir program yazın.\n",
    "\n",
    "```\n",
    "Input: \"aaabccddd\"\n",
    "Expected result: \"abcd\"\n",
    "\n",
    "Input: \"aaabccbddad\"\n",
    "Expected result: \"abcbdad\"\n",
    "```"
   ]
  },
  {
   "cell_type": "code",
   "execution_count": null,
   "metadata": {
    "collapsed": true
   },
   "outputs": [],
   "source": []
  },
  {
   "cell_type": "markdown",
   "metadata": {},
   "source": [
    "## Question 4\n",
    "Write a Python program to count the number of characters (character frequency) in a string.\n",
    "\n",
    "Bir stringteki karakterlerin sayısını dictionary olarak veren bir program yazın.\n",
    "\n",
    "Input: \"google\"\n",
    "\n",
    "Expected Output: {'g': 2, 'o': 2, 'l': 1, 'e': 1}"
   ]
  },
  {
   "cell_type": "code",
   "execution_count": null,
   "metadata": {
    "collapsed": true
   },
   "outputs": [],
   "source": []
  },
  {
   "cell_type": "markdown",
   "metadata": {},
   "source": [
    "## Question 5\n",
    "\n",
    "Write a function that takes a string with a name, phone number and email; extract phone number and email as a tuple.\n",
    "\n",
    "Verilen örnek metinlerden telefon numarası ve emaili tuple olarak çıkaran bir fonksiyon yazın.\n",
    "\n",
    "Input: \"Name: Guido van Rossum Phone:0 532 123 45 67 guido@python.org\"   \n",
    "Expected Result: ('05321234567', 'guido@python.org')\n",
    "\n",
    "Input: \"name: Hedy Lamarr phone: +01 (222) 123 45 67 hedy@lamarr.com\"   \n",
    "Expected Result: ('012221234567', 'hedy@lamarr.com')\n",
    "\n",
    "Input: \"İsim: Masal Hattı Tel: 0800 314 11 66 masal@turkiye.gov.tr\"   \n",
    "Expected Result: ('08003141166', 'masal@turkiye.gov.tr')"
   ]
  },
  {
   "cell_type": "code",
   "execution_count": null,
   "metadata": {
    "collapsed": true
   },
   "outputs": [],
   "source": []
  },
  {
   "cell_type": "markdown",
   "metadata": {},
   "source": [
    "## Question 6\n",
    "\n",
    "Write a function that flattens a nested list. Use isinstance(element, list) to check whether an element of the given list is list or not.\n",
    "\n",
    "İç içe bir listeyi düzleştiren bir fonksiyon yazın. Elemanların liste olup olmadığını isinstance(element, list) ile kontrol edebilirsiniz. Örneğin,\n",
    "\n",
    "```\n",
    "isinstance(1, list)\n",
    ">>> False\n",
    "\n",
    "isinstance([1,2,3], list)\n",
    ">>> True\n",
    "\n",
    "isinstance([], list)\n",
    ">>> True\n",
    "\n",
    "```\n",
    "\n",
    "Example usage:\n",
    "\n",
    "```\n",
    "Input:\n",
    "seq = [1,2,3,[3,2,1,[0,-1,-2]]]\n",
    "list(flatten(seq))\n",
    "\n",
    "Output: \n",
    "[1, 2, 3, 3, 2, 1, 0, -1, -2]\n",
    "\n",
    "```"
   ]
  },
  {
   "cell_type": "code",
   "execution_count": null,
   "metadata": {
    "collapsed": true
   },
   "outputs": [],
   "source": []
  },
  {
   "cell_type": "markdown",
   "metadata": {
    "collapsed": true
   },
   "source": [
    "## Question 7\n",
    "\n",
    "From io folder, read all comma-separated files including 'sales-' in filename. Those files are monthly sales record for books. The fields represent respectively title, units sold and price. Calculate total sales revenue in three months for each book, sort them in descending order and write into a file named \"total_book_sales.txt\" in specified format below:\n",
    "\n",
    "\n",
    "io klasöründeki isminde 'sales-\" geçen tüm dosyaları okuyun. Bu dosyalar aylık kitap satışlarına tekabül etmektedir. Kolonlar sırasıyla kitabın ismi, satış adedi ve fiyatıdır. Dosyaların tamamını okuyup her kitap için toplam satış gelirini hesaplayın. Daha sonra kitapları satış gelirine göre büyükten küçüğe sıralayıp alttaki format ile \"total_book_sales.txt\" dosyasına yazdırın.\n",
    "\n",
    "```\n",
    "header-width: 48, 8\n",
    "header-alignment: center, center\n",
    "entry-width:48,8\n",
    "entry-alignment: left, right\n",
    "float-precision: 1\n",
    "\n",
    "                     Title                      Revenue \n",
    "--------------------------------------------------------\n",
    "Pining for the Fisheries of Yore                   420.5\n",
    "The Duck Goes Here                                 125.5\n",
    "The Bricklayer's Bible                             110.3\n",
    "The Tower Commission Report                         64.0\n",
    "Swimrand                                            18.9\n",
    "```"
   ]
  },
  {
   "cell_type": "code",
   "execution_count": null,
   "metadata": {
    "collapsed": true
   },
   "outputs": [],
   "source": []
  },
  {
   "cell_type": "markdown",
   "metadata": {},
   "source": [
    "## Question 8\n",
    "\n",
    "From io folder, read 'forbes500.csv' file. Find the companies which have at least 100,000 employees, profitted over 10 billion and have a positive growth rate.\n",
    "\n",
    "io klasöründeki 'forbes500.csv' dosyasını okuyun. En az 100,000 çalışanı olan, 10 milyardan fazla kar etmiş ve pozitif büyüme oranına sahip şirketleri bulun. Daha sonra bu şirketleri çalışan başına edilen kara göre sıralayın.\n"
   ]
  },
  {
   "cell_type": "code",
   "execution_count": null,
   "metadata": {
    "collapsed": true
   },
   "outputs": [],
   "source": []
  },
  {
   "cell_type": "markdown",
   "metadata": {},
   "source": [
    "## Question 9\n",
    "\n",
    "Solve the differential equation below for three different w values (1,3,5) from t=0 to t=50. Plot y results for three solutions in separate subplots.\n",
    "\n",
    "Aşağıdaki differensiyel denklemi üç farklı w değeri (1,3,5) ile t=(0,50) zaman aralığı için çözün. Sonuçları üç farklı subplotta çizdirin."
   ]
  },
  {
   "cell_type": "code",
   "execution_count": 264,
   "metadata": {},
   "outputs": [
    {
     "data": {
      "text/latex": [
       "\\begin{align}\n",
       "\\omega_n = 3 \\newline\n",
       "\\zeta = 0.05 \\newline\n",
       "\\omega = 1,3,5 \\newline\n",
       "\\newline\n",
       "\\quad y'' + 2 \\zeta \\omega_n y' + \\omega_n^2 y = 10\\sin(\\omega t) \\newline\n",
       "initial conditions = (0,0)\n",
       "\\end{align}"
      ],
      "text/plain": [
       "<IPython.core.display.Latex object>"
      ]
     },
     "metadata": {},
     "output_type": "display_data"
    }
   ],
   "source": [
    "%%latex\n",
    "\\begin{align}\n",
    "\\omega_n = 3 \\newline\n",
    "\\zeta = 0.05 \\newline\n",
    "\\omega = 1,3,5 \\newline\n",
    "\\newline\n",
    "\\quad y'' + 2 \\zeta \\omega_n y' + \\omega_n^2 y = 10\\sin(\\omega t) \\newline\n",
    "initial conditions = (0,0)\n",
    "\\end{align}"
   ]
  },
  {
   "cell_type": "code",
   "execution_count": null,
   "metadata": {
    "collapsed": true
   },
   "outputs": [],
   "source": []
  }
 ],
 "metadata": {
  "kernelspec": {
   "display_name": "Python 3",
   "language": "python",
   "name": "python3"
  },
  "language_info": {
   "codemirror_mode": {
    "name": "ipython",
    "version": 3
   },
   "file_extension": ".py",
   "mimetype": "text/x-python",
   "name": "python",
   "nbconvert_exporter": "python",
   "pygments_lexer": "ipython3",
   "version": "3.6.5"
  }
 },
 "nbformat": 4,
 "nbformat_minor": 2
}
